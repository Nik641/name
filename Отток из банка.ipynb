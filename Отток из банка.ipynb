{
 "cells": [
  {
   "cell_type": "markdown",
   "metadata": {},
   "source": [
    "# Презентация\n",
    "\n",
    "[Презентация](https://disk.yandex.ru/i/t2ow73NaY0jYTQ)\n",
    "\n",
    "# Дашборды\n",
    "\n",
    "[Дашборд 1](https://public.tableau.com/app/profile/.57531851/viz/Final_project_16909985140720/Dashboard1?publish=yes)\n",
    "\n",
    "[Дашборд 2](https://public.tableau.com/app/profile/.57531851/viz/Final_project_salary/Dashboard1?publish=yes)\n",
    "\n",
    "\n",
    "# Банк \"Метанпром\" — Анализ оттока клиентов\n",
    "\n",
    "Маркетинговый отдел обратился за помощью, чтобы определить причины оттока клиентов банков, с целью их удержания, так как удержать клиентов дешевле, чем привлекать новых\n",
    "\n",
    "**План**:\n",
    "- загрузить данные и ознакомиться с ними\n",
    "- исследовательский анализ данных\n",
    "- анализ распределения признаков, в тч в разрезе оттока (непрерывные - ищем отточные интервалы, категориальные/дискретные - ищем значения признака с оттоком выше, чем по банку);\n",
    "- анализ портретов клиентов в разрезе оттока;\n",
    "- корреляционный анализ\n",
    "- формулировка и проверка гипотез\n",
    "- сформулировать промежуточные выводы\n",
    "- сегментация клиентов\n",
    "- расставить приоритеты по сегментам клиентов, на возможное ограничение ресурсов компании\n",
    "- общий вывод + рекомендации\n",
    "- создание дашборда и презентации\n",
    "\n",
    "**Информация о данных**\n",
    "\n",
    "Датасет содержит данные о клиентах банка «Метанпром». Банк располагается в Ярославле и областных городах: Ростов Великий и Рыбинск.\n",
    "Колонки:\n",
    "\n",
    "userid — идентификатор пользователя,\n",
    "\n",
    "score — баллы кредитного скоринга,\n",
    "\n",
    "City — город,\n",
    "\n",
    "Gender — пол,\n",
    "\n",
    "Age — возраст,\n",
    "\n",
    "Objects — количество объектов в собственности\n",
    "\n",
    "equity — количество баллов собственности\n",
    "\n",
    "Balance — баланс на счёте,\n",
    "\n",
    "Products — количество продуктов, которыми пользуется клиент,\n",
    "\n",
    "CreditCard — есть ли кредитная карта,\n",
    "\n",
    "Loyalty / last_activity — активный клиент,\n",
    "\n",
    "estimated_salary — заработная плата клиента,\n",
    "\n",
    "Churn — ушёл или нет.\n",
    "\n",
    "**Цель** - проанализировать клиентов регионального банка и выделите сегменты клиентов, которые склонны уходить из банка.\n",
    "\n",
    "**Задачи:**\n",
    "- проверка в данных пропусков, типы, аномалии, дубликаты, наименования колонок\n",
    "- изучить средние значения и стандартные отклонения, выбросы\n",
    "- построю графики и распределения признаков для тех, кто ушёл и тех, кто остался;\n",
    "- построю матрицу корреляций и опишем портерет клиента;\n",
    "- проверка гипотезы различия дохода между теми клиентами, которые ушли и теми, которые остались;\n",
    "- сформулировать промежуточные выводы по исследовательскому анализу данных\n",
    "- сделаю кластеризацию пользователей для того, чтобы просегментировать клиентов как сегменты\n",
    "- расставить приоритеты сегментов;\n",
    "- общий вывод + рекомендации для отдела маркетинга\n",
    "- создание дашборда и презентации с короткими выводами и визуализацией"
   ]
  },
  {
   "cell_type": "markdown",
   "metadata": {},
   "source": [
    "## Загрузить данные, ознакомиться с ними"
   ]
  },
  {
   "cell_type": "code",
   "execution_count": 1,
   "metadata": {},
   "outputs": [
    {
     "name": "stdout",
     "output_type": "stream",
     "text": [
      "Requirement already satisfied: phik in /opt/conda/lib/python3.9/site-packages (0.12.3)\n",
      "Requirement already satisfied: joblib>=0.14.1 in /opt/conda/lib/python3.9/site-packages (from phik) (1.1.0)\n",
      "Requirement already satisfied: matplotlib>=2.2.3 in /opt/conda/lib/python3.9/site-packages (from phik) (3.3.4)\n",
      "Requirement already satisfied: numpy>=1.18.0 in /opt/conda/lib/python3.9/site-packages (from phik) (1.21.1)\n",
      "Requirement already satisfied: pandas>=0.25.1 in /opt/conda/lib/python3.9/site-packages (from phik) (1.2.4)\n",
      "Requirement already satisfied: scipy>=1.5.2 in /opt/conda/lib/python3.9/site-packages (from phik) (1.9.1)\n",
      "Requirement already satisfied: python-dateutil>=2.1 in /opt/conda/lib/python3.9/site-packages (from matplotlib>=2.2.3->phik) (2.8.1)\n",
      "Requirement already satisfied: kiwisolver>=1.0.1 in /opt/conda/lib/python3.9/site-packages (from matplotlib>=2.2.3->phik) (1.4.4)\n",
      "Requirement already satisfied: cycler>=0.10 in /opt/conda/lib/python3.9/site-packages (from matplotlib>=2.2.3->phik) (0.11.0)\n",
      "Requirement already satisfied: pyparsing!=2.0.4,!=2.1.2,!=2.1.6,>=2.0.3 in /opt/conda/lib/python3.9/site-packages (from matplotlib>=2.2.3->phik) (2.4.7)\n",
      "Requirement already satisfied: pillow>=6.2.0 in /opt/conda/lib/python3.9/site-packages (from matplotlib>=2.2.3->phik) (8.4.0)\n",
      "Requirement already satisfied: pytz>=2017.3 in /opt/conda/lib/python3.9/site-packages (from pandas>=0.25.1->phik) (2021.1)\n",
      "Requirement already satisfied: six>=1.5 in /opt/conda/lib/python3.9/site-packages (from python-dateutil>=2.1->matplotlib>=2.2.3->phik) (1.16.0)\n"
     ]
    }
   ],
   "source": [
    "!pip install phik"
   ]
  },
  {
   "cell_type": "code",
   "execution_count": 2,
   "metadata": {},
   "outputs": [],
   "source": [
    "import pandas as pd\n",
    "import seaborn as sns\n",
    "import matplotlib.pyplot as plt\n",
    "from scipy import stats as st\n",
    "import phik\n",
    "import numpy as np\n",
    "import statistics\n",
    "import warnings\n",
    "warnings.filterwarnings('ignore')\n",
    "\n",
    "from sklearn.cluster import KMeans\n",
    "from sklearn.preprocessing import StandardScaler\n",
    "from scipy.spatial.distance import cdist\n",
    "import os"
   ]
  },
  {
   "cell_type": "code",
   "execution_count": 3,
   "metadata": {},
   "outputs": [
    {
     "data": {
      "text/html": [
       "<div>\n",
       "<style scoped>\n",
       "    .dataframe tbody tr th:only-of-type {\n",
       "        vertical-align: middle;\n",
       "    }\n",
       "\n",
       "    .dataframe tbody tr th {\n",
       "        vertical-align: top;\n",
       "    }\n",
       "\n",
       "    .dataframe thead th {\n",
       "        text-align: right;\n",
       "    }\n",
       "</style>\n",
       "<table border=\"1\" class=\"dataframe\">\n",
       "  <thead>\n",
       "    <tr style=\"text-align: right;\">\n",
       "      <th></th>\n",
       "      <th>USERID</th>\n",
       "      <th>score</th>\n",
       "      <th>city</th>\n",
       "      <th>gender</th>\n",
       "      <th>age</th>\n",
       "      <th>equity</th>\n",
       "      <th>balance</th>\n",
       "      <th>products</th>\n",
       "      <th>credit_card</th>\n",
       "      <th>last_activity</th>\n",
       "      <th>EST_SALARY</th>\n",
       "      <th>churn</th>\n",
       "    </tr>\n",
       "  </thead>\n",
       "  <tbody>\n",
       "    <tr>\n",
       "      <th>9875</th>\n",
       "      <td>139799</td>\n",
       "      <td>785.0</td>\n",
       "      <td>Рыбинск</td>\n",
       "      <td>М</td>\n",
       "      <td>25.0</td>\n",
       "      <td>0</td>\n",
       "      <td>NaN</td>\n",
       "      <td>1</td>\n",
       "      <td>0</td>\n",
       "      <td>0</td>\n",
       "      <td>56599.92</td>\n",
       "      <td>0</td>\n",
       "    </tr>\n",
       "    <tr>\n",
       "      <th>8763</th>\n",
       "      <td>134893</td>\n",
       "      <td>809.0</td>\n",
       "      <td>Ярославль</td>\n",
       "      <td>М</td>\n",
       "      <td>40.0</td>\n",
       "      <td>0</td>\n",
       "      <td>44089.48</td>\n",
       "      <td>1</td>\n",
       "      <td>1</td>\n",
       "      <td>0</td>\n",
       "      <td>217586.39</td>\n",
       "      <td>1</td>\n",
       "    </tr>\n",
       "    <tr>\n",
       "      <th>4779</th>\n",
       "      <td>116171</td>\n",
       "      <td>906.0</td>\n",
       "      <td>Ярославль</td>\n",
       "      <td>М</td>\n",
       "      <td>25.0</td>\n",
       "      <td>0</td>\n",
       "      <td>NaN</td>\n",
       "      <td>1</td>\n",
       "      <td>1</td>\n",
       "      <td>1</td>\n",
       "      <td>178076.10</td>\n",
       "      <td>0</td>\n",
       "    </tr>\n",
       "    <tr>\n",
       "      <th>3682</th>\n",
       "      <td>219785</td>\n",
       "      <td>887.0</td>\n",
       "      <td>Рыбинск</td>\n",
       "      <td>Ж</td>\n",
       "      <td>29.0</td>\n",
       "      <td>4</td>\n",
       "      <td>385088.94</td>\n",
       "      <td>1</td>\n",
       "      <td>0</td>\n",
       "      <td>1</td>\n",
       "      <td>150811.70</td>\n",
       "      <td>0</td>\n",
       "    </tr>\n",
       "    <tr>\n",
       "      <th>8076</th>\n",
       "      <td>163175</td>\n",
       "      <td>882.0</td>\n",
       "      <td>Ярославль</td>\n",
       "      <td>М</td>\n",
       "      <td>43.0</td>\n",
       "      <td>0</td>\n",
       "      <td>NaN</td>\n",
       "      <td>2</td>\n",
       "      <td>1</td>\n",
       "      <td>0</td>\n",
       "      <td>53662.85</td>\n",
       "      <td>0</td>\n",
       "    </tr>\n",
       "    <tr>\n",
       "      <th>8280</th>\n",
       "      <td>158308</td>\n",
       "      <td>787.0</td>\n",
       "      <td>Ярославль</td>\n",
       "      <td>М</td>\n",
       "      <td>37.0</td>\n",
       "      <td>4</td>\n",
       "      <td>1189781.18</td>\n",
       "      <td>3</td>\n",
       "      <td>1</td>\n",
       "      <td>0</td>\n",
       "      <td>239710.49</td>\n",
       "      <td>0</td>\n",
       "    </tr>\n",
       "    <tr>\n",
       "      <th>8061</th>\n",
       "      <td>154869</td>\n",
       "      <td>869.0</td>\n",
       "      <td>Рыбинск</td>\n",
       "      <td>Ж</td>\n",
       "      <td>37.0</td>\n",
       "      <td>4</td>\n",
       "      <td>925384.79</td>\n",
       "      <td>2</td>\n",
       "      <td>1</td>\n",
       "      <td>0</td>\n",
       "      <td>115765.41</td>\n",
       "      <td>0</td>\n",
       "    </tr>\n",
       "  </tbody>\n",
       "</table>\n",
       "</div>"
      ],
      "text/plain": [
       "      USERID  score       city gender   age  equity     balance  products  \\\n",
       "9875  139799  785.0    Рыбинск      М  25.0       0         NaN         1   \n",
       "8763  134893  809.0  Ярославль      М  40.0       0    44089.48         1   \n",
       "4779  116171  906.0  Ярославль      М  25.0       0         NaN         1   \n",
       "3682  219785  887.0    Рыбинск      Ж  29.0       4   385088.94         1   \n",
       "8076  163175  882.0  Ярославль      М  43.0       0         NaN         2   \n",
       "8280  158308  787.0  Ярославль      М  37.0       4  1189781.18         3   \n",
       "8061  154869  869.0    Рыбинск      Ж  37.0       4   925384.79         2   \n",
       "\n",
       "      credit_card  last_activity  EST_SALARY  churn  \n",
       "9875            0              0    56599.92      0  \n",
       "8763            1              0   217586.39      1  \n",
       "4779            1              1   178076.10      0  \n",
       "3682            0              1   150811.70      0  \n",
       "8076            1              0    53662.85      0  \n",
       "8280            1              0   239710.49      0  \n",
       "8061            1              0   115765.41      0  "
      ]
     },
     "execution_count": 3,
     "metadata": {},
     "output_type": "execute_result"
    }
   ],
   "source": [
    "pth1 = 'C:\\загрузки\\bank_scrooge.csv'\n",
    "pth2 = '/datasets/bank_scrooge.csv'\n",
    "try:\n",
    "    df = pd.read_csv(pth2) # на сервере открыть\n",
    "except:\n",
    "    if os.path.exists(pth1): \n",
    "        df = pd.read_csv(pth1) # локально открыть\n",
    "    else:\n",
    "        print('Какая-то ошибка')\n",
    "df.sample(7)"
   ]
  },
  {
   "cell_type": "code",
   "execution_count": 4,
   "metadata": {},
   "outputs": [],
   "source": [
    "# приведу все колонки к нижнему регистру\n",
    "df.columns = map(str.lower, df.columns)"
   ]
  },
  {
   "cell_type": "markdown",
   "metadata": {},
   "source": [
    "Гендерное и городское различия лучше будет анализировать в цифровом виде."
   ]
  },
  {
   "cell_type": "code",
   "execution_count": 5,
   "metadata": {},
   "outputs": [
    {
     "data": {
      "text/html": [
       "<div>\n",
       "<style scoped>\n",
       "    .dataframe tbody tr th:only-of-type {\n",
       "        vertical-align: middle;\n",
       "    }\n",
       "\n",
       "    .dataframe tbody tr th {\n",
       "        vertical-align: top;\n",
       "    }\n",
       "\n",
       "    .dataframe thead th {\n",
       "        text-align: right;\n",
       "    }\n",
       "</style>\n",
       "<table border=\"1\" class=\"dataframe\">\n",
       "  <thead>\n",
       "    <tr style=\"text-align: right;\">\n",
       "      <th></th>\n",
       "      <th>userid</th>\n",
       "      <th>score</th>\n",
       "      <th>city</th>\n",
       "      <th>gender</th>\n",
       "      <th>age</th>\n",
       "      <th>equity</th>\n",
       "      <th>balance</th>\n",
       "      <th>products</th>\n",
       "      <th>credit_card</th>\n",
       "      <th>last_activity</th>\n",
       "      <th>est_salary</th>\n",
       "      <th>churn</th>\n",
       "      <th>город_Ростов</th>\n",
       "      <th>город_Рыбинск</th>\n",
       "      <th>город_Ярославль</th>\n",
       "      <th>пол_Ж</th>\n",
       "      <th>пол_М</th>\n",
       "    </tr>\n",
       "  </thead>\n",
       "  <tbody>\n",
       "    <tr>\n",
       "      <th>0</th>\n",
       "      <td>183012</td>\n",
       "      <td>850.0</td>\n",
       "      <td>Рыбинск</td>\n",
       "      <td>Ж</td>\n",
       "      <td>25.0</td>\n",
       "      <td>1</td>\n",
       "      <td>59214.82</td>\n",
       "      <td>2</td>\n",
       "      <td>0</td>\n",
       "      <td>1</td>\n",
       "      <td>75719.14</td>\n",
       "      <td>1</td>\n",
       "      <td>0</td>\n",
       "      <td>1</td>\n",
       "      <td>0</td>\n",
       "      <td>1</td>\n",
       "      <td>0</td>\n",
       "    </tr>\n",
       "    <tr>\n",
       "      <th>1</th>\n",
       "      <td>146556</td>\n",
       "      <td>861.0</td>\n",
       "      <td>Рыбинск</td>\n",
       "      <td>Ж</td>\n",
       "      <td>37.0</td>\n",
       "      <td>5</td>\n",
       "      <td>850594.33</td>\n",
       "      <td>3</td>\n",
       "      <td>1</td>\n",
       "      <td>0</td>\n",
       "      <td>86621.77</td>\n",
       "      <td>0</td>\n",
       "      <td>0</td>\n",
       "      <td>1</td>\n",
       "      <td>0</td>\n",
       "      <td>1</td>\n",
       "      <td>0</td>\n",
       "    </tr>\n",
       "    <tr>\n",
       "      <th>2</th>\n",
       "      <td>120722</td>\n",
       "      <td>892.0</td>\n",
       "      <td>Рыбинск</td>\n",
       "      <td>Ж</td>\n",
       "      <td>30.0</td>\n",
       "      <td>0</td>\n",
       "      <td>NaN</td>\n",
       "      <td>1</td>\n",
       "      <td>1</td>\n",
       "      <td>1</td>\n",
       "      <td>107683.34</td>\n",
       "      <td>0</td>\n",
       "      <td>0</td>\n",
       "      <td>1</td>\n",
       "      <td>0</td>\n",
       "      <td>1</td>\n",
       "      <td>0</td>\n",
       "    </tr>\n",
       "    <tr>\n",
       "      <th>3</th>\n",
       "      <td>225363</td>\n",
       "      <td>866.0</td>\n",
       "      <td>Ярославль</td>\n",
       "      <td>Ж</td>\n",
       "      <td>51.0</td>\n",
       "      <td>5</td>\n",
       "      <td>1524746.26</td>\n",
       "      <td>2</td>\n",
       "      <td>0</td>\n",
       "      <td>1</td>\n",
       "      <td>174423.53</td>\n",
       "      <td>1</td>\n",
       "      <td>0</td>\n",
       "      <td>0</td>\n",
       "      <td>1</td>\n",
       "      <td>1</td>\n",
       "      <td>0</td>\n",
       "    </tr>\n",
       "    <tr>\n",
       "      <th>4</th>\n",
       "      <td>157978</td>\n",
       "      <td>730.0</td>\n",
       "      <td>Ярославль</td>\n",
       "      <td>М</td>\n",
       "      <td>34.0</td>\n",
       "      <td>5</td>\n",
       "      <td>174.00</td>\n",
       "      <td>1</td>\n",
       "      <td>1</td>\n",
       "      <td>0</td>\n",
       "      <td>67353.16</td>\n",
       "      <td>1</td>\n",
       "      <td>0</td>\n",
       "      <td>0</td>\n",
       "      <td>1</td>\n",
       "      <td>0</td>\n",
       "      <td>1</td>\n",
       "    </tr>\n",
       "  </tbody>\n",
       "</table>\n",
       "</div>"
      ],
      "text/plain": [
       "   userid  score       city gender   age  equity     balance  products  \\\n",
       "0  183012  850.0    Рыбинск      Ж  25.0       1    59214.82         2   \n",
       "1  146556  861.0    Рыбинск      Ж  37.0       5   850594.33         3   \n",
       "2  120722  892.0    Рыбинск      Ж  30.0       0         NaN         1   \n",
       "3  225363  866.0  Ярославль      Ж  51.0       5  1524746.26         2   \n",
       "4  157978  730.0  Ярославль      М  34.0       5      174.00         1   \n",
       "\n",
       "   credit_card  last_activity  est_salary  churn  город_Ростов  город_Рыбинск  \\\n",
       "0            0              1    75719.14      1             0              1   \n",
       "1            1              0    86621.77      0             0              1   \n",
       "2            1              1   107683.34      0             0              1   \n",
       "3            0              1   174423.53      1             0              0   \n",
       "4            1              0    67353.16      1             0              0   \n",
       "\n",
       "   город_Ярославль  пол_Ж  пол_М  \n",
       "0                0      1      0  \n",
       "1                0      1      0  \n",
       "2                0      1      0  \n",
       "3                1      1      0  \n",
       "4                1      0      1  "
      ]
     },
     "execution_count": 5,
     "metadata": {},
     "output_type": "execute_result"
    }
   ],
   "source": [
    "df['город'] = df.loc[:, 'city']\n",
    "df['пол'] = df.loc[:, 'gender']\n",
    "\n",
    "df = pd.get_dummies(df, columns = ['город', 'пол'])\n",
    "df.head()"
   ]
  },
  {
   "cell_type": "markdown",
   "metadata": {},
   "source": [
    "Теперь 1 - женский пол, 0 - мужской пол"
   ]
  },
  {
   "cell_type": "code",
   "execution_count": 6,
   "metadata": {},
   "outputs": [
    {
     "name": "stdout",
     "output_type": "stream",
     "text": [
      "<class 'pandas.core.frame.DataFrame'>\n",
      "RangeIndex: 10000 entries, 0 to 9999\n",
      "Data columns (total 17 columns):\n",
      " #   Column           Non-Null Count  Dtype  \n",
      "---  ------           --------------  -----  \n",
      " 0   userid           10000 non-null  int64  \n",
      " 1   score            10000 non-null  float64\n",
      " 2   city             10000 non-null  object \n",
      " 3   gender           10000 non-null  object \n",
      " 4   age              9974 non-null   float64\n",
      " 5   equity           10000 non-null  int64  \n",
      " 6   balance          7705 non-null   float64\n",
      " 7   products         10000 non-null  int64  \n",
      " 8   credit_card      10000 non-null  int64  \n",
      " 9   last_activity    10000 non-null  int64  \n",
      " 10  est_salary       10000 non-null  float64\n",
      " 11  churn            10000 non-null  int64  \n",
      " 12  город_Ростов     10000 non-null  uint8  \n",
      " 13  город_Рыбинск    10000 non-null  uint8  \n",
      " 14  город_Ярославль  10000 non-null  uint8  \n",
      " 15  пол_Ж            10000 non-null  uint8  \n",
      " 16  пол_М            10000 non-null  uint8  \n",
      "dtypes: float64(4), int64(6), object(2), uint8(5)\n",
      "memory usage: 986.5+ KB\n"
     ]
    }
   ],
   "source": [
    "df.info()"
   ]
  },
  {
   "cell_type": "code",
   "execution_count": 7,
   "metadata": {},
   "outputs": [
    {
     "data": {
      "text/html": [
       "<div>\n",
       "<style scoped>\n",
       "    .dataframe tbody tr th:only-of-type {\n",
       "        vertical-align: middle;\n",
       "    }\n",
       "\n",
       "    .dataframe tbody tr th {\n",
       "        vertical-align: top;\n",
       "    }\n",
       "\n",
       "    .dataframe thead th {\n",
       "        text-align: right;\n",
       "    }\n",
       "</style>\n",
       "<table border=\"1\" class=\"dataframe\">\n",
       "  <thead>\n",
       "    <tr style=\"text-align: right;\">\n",
       "      <th></th>\n",
       "      <th>userid</th>\n",
       "      <th>score</th>\n",
       "      <th>city</th>\n",
       "      <th>gender</th>\n",
       "      <th>age</th>\n",
       "      <th>equity</th>\n",
       "      <th>balance</th>\n",
       "      <th>products</th>\n",
       "      <th>credit_card</th>\n",
       "      <th>last_activity</th>\n",
       "      <th>est_salary</th>\n",
       "      <th>churn</th>\n",
       "      <th>город_Ростов</th>\n",
       "      <th>город_Рыбинск</th>\n",
       "      <th>город_Ярославль</th>\n",
       "      <th>пол_Ж</th>\n",
       "      <th>пол_М</th>\n",
       "    </tr>\n",
       "  </thead>\n",
       "  <tbody>\n",
       "    <tr>\n",
       "      <th>0</th>\n",
       "      <td>183012</td>\n",
       "      <td>850</td>\n",
       "      <td>Рыбинск</td>\n",
       "      <td>Ж</td>\n",
       "      <td>25.0</td>\n",
       "      <td>1</td>\n",
       "      <td>59214.82</td>\n",
       "      <td>2</td>\n",
       "      <td>0</td>\n",
       "      <td>1</td>\n",
       "      <td>75719</td>\n",
       "      <td>1</td>\n",
       "      <td>0</td>\n",
       "      <td>1</td>\n",
       "      <td>0</td>\n",
       "      <td>1</td>\n",
       "      <td>0</td>\n",
       "    </tr>\n",
       "    <tr>\n",
       "      <th>1</th>\n",
       "      <td>146556</td>\n",
       "      <td>861</td>\n",
       "      <td>Рыбинск</td>\n",
       "      <td>Ж</td>\n",
       "      <td>37.0</td>\n",
       "      <td>5</td>\n",
       "      <td>850594.33</td>\n",
       "      <td>3</td>\n",
       "      <td>1</td>\n",
       "      <td>0</td>\n",
       "      <td>86621</td>\n",
       "      <td>0</td>\n",
       "      <td>0</td>\n",
       "      <td>1</td>\n",
       "      <td>0</td>\n",
       "      <td>1</td>\n",
       "      <td>0</td>\n",
       "    </tr>\n",
       "    <tr>\n",
       "      <th>2</th>\n",
       "      <td>120722</td>\n",
       "      <td>892</td>\n",
       "      <td>Рыбинск</td>\n",
       "      <td>Ж</td>\n",
       "      <td>30.0</td>\n",
       "      <td>0</td>\n",
       "      <td>NaN</td>\n",
       "      <td>1</td>\n",
       "      <td>1</td>\n",
       "      <td>1</td>\n",
       "      <td>107683</td>\n",
       "      <td>0</td>\n",
       "      <td>0</td>\n",
       "      <td>1</td>\n",
       "      <td>0</td>\n",
       "      <td>1</td>\n",
       "      <td>0</td>\n",
       "    </tr>\n",
       "    <tr>\n",
       "      <th>3</th>\n",
       "      <td>225363</td>\n",
       "      <td>866</td>\n",
       "      <td>Ярославль</td>\n",
       "      <td>Ж</td>\n",
       "      <td>51.0</td>\n",
       "      <td>5</td>\n",
       "      <td>1524746.26</td>\n",
       "      <td>2</td>\n",
       "      <td>0</td>\n",
       "      <td>1</td>\n",
       "      <td>174423</td>\n",
       "      <td>1</td>\n",
       "      <td>0</td>\n",
       "      <td>0</td>\n",
       "      <td>1</td>\n",
       "      <td>1</td>\n",
       "      <td>0</td>\n",
       "    </tr>\n",
       "    <tr>\n",
       "      <th>4</th>\n",
       "      <td>157978</td>\n",
       "      <td>730</td>\n",
       "      <td>Ярославль</td>\n",
       "      <td>М</td>\n",
       "      <td>34.0</td>\n",
       "      <td>5</td>\n",
       "      <td>174.00</td>\n",
       "      <td>1</td>\n",
       "      <td>1</td>\n",
       "      <td>0</td>\n",
       "      <td>67353</td>\n",
       "      <td>1</td>\n",
       "      <td>0</td>\n",
       "      <td>0</td>\n",
       "      <td>1</td>\n",
       "      <td>0</td>\n",
       "      <td>1</td>\n",
       "    </tr>\n",
       "  </tbody>\n",
       "</table>\n",
       "</div>"
      ],
      "text/plain": [
       "   userid  score       city gender   age  equity     balance  products  \\\n",
       "0  183012    850    Рыбинск      Ж  25.0       1    59214.82         2   \n",
       "1  146556    861    Рыбинск      Ж  37.0       5   850594.33         3   \n",
       "2  120722    892    Рыбинск      Ж  30.0       0         NaN         1   \n",
       "3  225363    866  Ярославль      Ж  51.0       5  1524746.26         2   \n",
       "4  157978    730  Ярославль      М  34.0       5      174.00         1   \n",
       "\n",
       "   credit_card  last_activity  est_salary  churn  город_Ростов  город_Рыбинск  \\\n",
       "0            0              1       75719      1             0              1   \n",
       "1            1              0       86621      0             0              1   \n",
       "2            1              1      107683      0             0              1   \n",
       "3            0              1      174423      1             0              0   \n",
       "4            1              0       67353      1             0              0   \n",
       "\n",
       "   город_Ярославль  пол_Ж  пол_М  \n",
       "0                0      1      0  \n",
       "1                0      1      0  \n",
       "2                0      1      0  \n",
       "3                1      1      0  \n",
       "4                1      0      1  "
      ]
     },
     "execution_count": 7,
     "metadata": {},
     "output_type": "execute_result"
    }
   ],
   "source": [
    "# приведу к необходимому типу данных колонки\n",
    "df['score'] = df['score'].astype(int)\n",
    "df['est_salary'] = df['est_salary'].astype(int)\n",
    "df.head()"
   ]
  },
  {
   "cell_type": "markdown",
   "metadata": {},
   "source": [
    "Привел колонки со скор баллом и возрастом к целочисленному типу данных, затем проведу работу с пропусками\n",
    "\n",
    "Пропуски присутствуют в колонках age и balance"
   ]
  },
  {
   "cell_type": "code",
   "execution_count": 8,
   "metadata": {
    "scrolled": true
   },
   "outputs": [
    {
     "data": {
      "text/plain": [
       "0.26"
      ]
     },
     "execution_count": 8,
     "metadata": {},
     "output_type": "execute_result"
    }
   ],
   "source": [
    "# посчитаю долю возраста от общего количества\n",
    "share_age_of_total = (df.score.count() - df.age.count()) / df.score.count() * 100 \n",
    "share_age_of_total"
   ]
  },
  {
   "cell_type": "markdown",
   "metadata": {},
   "source": [
    "Доля меньше 1 %, поэтому удалю пропуски в колонке с возрастом, так как невозможно их заменить на какой-либо возраст либо на 0, данный пропуск относится к совершенно случайным, а именно MCAR, поэтому их можно убрать"
   ]
  },
  {
   "cell_type": "code",
   "execution_count": 9,
   "metadata": {},
   "outputs": [
    {
     "data": {
      "text/plain": [
       "0"
      ]
     },
     "execution_count": 9,
     "metadata": {},
     "output_type": "execute_result"
    }
   ],
   "source": [
    "df = df.dropna(subset=['age']) \n",
    "df.age.isna().sum()"
   ]
  },
  {
   "cell_type": "markdown",
   "metadata": {},
   "source": [
    "Удалил и проверил на наличие пропусков в колонке с возрастом, пропуски отсутствуют\n",
    "\n"
   ]
  },
  {
   "cell_type": "markdown",
   "metadata": {},
   "source": [
    "Теперь перейдем к колонке с балансом"
   ]
  },
  {
   "cell_type": "code",
   "execution_count": 10,
   "metadata": {},
   "outputs": [
    {
     "data": {
      "text/plain": [
       "22.849408462001204"
      ]
     },
     "execution_count": 10,
     "metadata": {},
     "output_type": "execute_result"
    }
   ],
   "source": [
    "# посчитаю долю баланса от общего количества\n",
    "share_balance_of_total = (df.score.count() - df.balance.count()) / df.score.count() * 100 \n",
    "share_balance_of_total"
   ]
  },
  {
   "cell_type": "markdown",
   "metadata": {},
   "source": [
    "Слишком весомая доля, чтобы удалять такие пропуски зависят от данных, без дополнительного обоснования их нельзя отбрасывать или заполнять одним значением, т.к. это приведёт к заметным искажениям, поэтому просто оставлю как есть"
   ]
  },
  {
   "cell_type": "code",
   "execution_count": 11,
   "metadata": {},
   "outputs": [
    {
     "data": {
      "text/html": [
       "<div>\n",
       "<style scoped>\n",
       "    .dataframe tbody tr th:only-of-type {\n",
       "        vertical-align: middle;\n",
       "    }\n",
       "\n",
       "    .dataframe tbody tr th {\n",
       "        vertical-align: top;\n",
       "    }\n",
       "\n",
       "    .dataframe thead th {\n",
       "        text-align: right;\n",
       "    }\n",
       "</style>\n",
       "<table border=\"1\" class=\"dataframe\">\n",
       "  <thead>\n",
       "    <tr style=\"text-align: right;\">\n",
       "      <th></th>\n",
       "      <th>0</th>\n",
       "      <th>1</th>\n",
       "    </tr>\n",
       "  </thead>\n",
       "  <tbody>\n",
       "    <tr>\n",
       "      <th>Пропуски в балансе</th>\n",
       "      <td>0.00</td>\n",
       "      <td>1.00</td>\n",
       "    </tr>\n",
       "    <tr>\n",
       "      <th>churn</th>\n",
       "      <td>0.23</td>\n",
       "      <td>0.01</td>\n",
       "    </tr>\n",
       "    <tr>\n",
       "      <th>age</th>\n",
       "      <td>42.92</td>\n",
       "      <td>42.09</td>\n",
       "    </tr>\n",
       "    <tr>\n",
       "      <th>balance</th>\n",
       "      <td>827245.59</td>\n",
       "      <td>NaN</td>\n",
       "    </tr>\n",
       "    <tr>\n",
       "      <th>est_salary</th>\n",
       "      <td>124519.90</td>\n",
       "      <td>226344.92</td>\n",
       "    </tr>\n",
       "    <tr>\n",
       "      <th>score</th>\n",
       "      <td>843.74</td>\n",
       "      <td>865.36</td>\n",
       "    </tr>\n",
       "    <tr>\n",
       "      <th>products</th>\n",
       "      <td>2.00</td>\n",
       "      <td>1.00</td>\n",
       "    </tr>\n",
       "    <tr>\n",
       "      <th>credit_card</th>\n",
       "      <td>1.00</td>\n",
       "      <td>1.00</td>\n",
       "    </tr>\n",
       "    <tr>\n",
       "      <th>last_activity</th>\n",
       "      <td>1.00</td>\n",
       "      <td>1.00</td>\n",
       "    </tr>\n",
       "    <tr>\n",
       "      <th>equity</th>\n",
       "      <td>4.00</td>\n",
       "      <td>0.00</td>\n",
       "    </tr>\n",
       "    <tr>\n",
       "      <th>пол_Ж</th>\n",
       "      <td>0.52</td>\n",
       "      <td>0.44</td>\n",
       "    </tr>\n",
       "    <tr>\n",
       "      <th>пол_М</th>\n",
       "      <td>0.48</td>\n",
       "      <td>0.56</td>\n",
       "    </tr>\n",
       "    <tr>\n",
       "      <th>город_Ростов</th>\n",
       "      <td>0.15</td>\n",
       "      <td>0.10</td>\n",
       "    </tr>\n",
       "    <tr>\n",
       "      <th>город_Рыбинск</th>\n",
       "      <td>0.27</td>\n",
       "      <td>0.26</td>\n",
       "    </tr>\n",
       "    <tr>\n",
       "      <th>город_Ярославль</th>\n",
       "      <td>0.57</td>\n",
       "      <td>0.64</td>\n",
       "    </tr>\n",
       "  </tbody>\n",
       "</table>\n",
       "</div>"
      ],
      "text/plain": [
       "                            0          1\n",
       "Пропуски в балансе       0.00       1.00\n",
       "churn                    0.23       0.01\n",
       "age                     42.92      42.09\n",
       "balance             827245.59        NaN\n",
       "est_salary          124519.90  226344.92\n",
       "score                  843.74     865.36\n",
       "products                 2.00       1.00\n",
       "credit_card              1.00       1.00\n",
       "last_activity            1.00       1.00\n",
       "equity                   4.00       0.00\n",
       "пол_Ж                    0.52       0.44\n",
       "пол_М                    0.48       0.56\n",
       "город_Ростов             0.15       0.10\n",
       "город_Рыбинск            0.27       0.26\n",
       "город_Ярославль          0.57       0.64"
      ]
     },
     "execution_count": 11,
     "metadata": {},
     "output_type": "execute_result"
    }
   ],
   "source": [
    "mnar = df.copy()\n",
    "mnar['Пропуски в балансе'] = mnar['balance'].isna()\n",
    "mnar['Пропуски в балансе'] = mnar['Пропуски в балансе'].astype(bool).replace(False, 0).replace(True, 1)\n",
    "MNAR = mnar.loc[mnar['Пропуски в балансе'] == 1]\n",
    "\n",
    "round(mnar.groupby('Пропуски в балансе', as_index=False)\n",
    "      .agg({'churn':'mean', 'age':'mean',\n",
    "          'balance':'mean', 'est_salary':'mean',\n",
    "          'score':'mean', 'products':'median', 'credit_card':'median',\n",
    "          'last_activity':'median', 'equity':'median', 'пол_Ж':'mean',\n",
    "          'пол_М':'mean', 'город_Ростов':'mean', 'город_Рыбинск':'mean',\n",
    "          'город_Ярославль':'mean'}), 2).T"
   ]
  },
  {
   "cell_type": "markdown",
   "metadata": {},
   "source": [
    "Пропуски в балансе в основном сосредоточены у тех, кто уходит, составляет 1 % от данных, в возрасте 42 года, средней зарплатой 226 000, скор баллом 865, **с нулевым баллом собственности**, пользующихся 1 продуктом, а именно кредитной картой, мужского пола,  из Ярославля"
   ]
  },
  {
   "cell_type": "markdown",
   "metadata": {},
   "source": [
    "Проверим дубликаты"
   ]
  },
  {
   "cell_type": "code",
   "execution_count": 12,
   "metadata": {},
   "outputs": [
    {
     "data": {
      "text/plain": [
       "0"
      ]
     },
     "execution_count": 12,
     "metadata": {},
     "output_type": "execute_result"
    }
   ],
   "source": [
    "df.duplicated().sum()"
   ]
  },
  {
   "cell_type": "markdown",
   "metadata": {},
   "source": [
    "Явные дубликаты отсутствуют\n",
    "\n",
    "Теперь проверим неявные дубликаты в колонке userid\n",
    "\n",
    "Посчитаем соотношение в % уникальных значений userid и общего количества"
   ]
  },
  {
   "cell_type": "code",
   "execution_count": 13,
   "metadata": {},
   "outputs": [
    {
     "data": {
      "text/plain": [
       "0.5"
      ]
     },
     "execution_count": 13,
     "metadata": {},
     "output_type": "execute_result"
    }
   ],
   "source": [
    "unique_userid_total = df['userid'].nunique()\n",
    "total_userid = df['userid'].count()\n",
    "round((1 - unique_userid_total / total_userid ) * 100, 2)"
   ]
  },
  {
   "cell_type": "markdown",
   "metadata": {},
   "source": [
    "Получилось 0.5 %, что является несущественной долей\n",
    "\n",
    "Посмотрим на этих клиентов"
   ]
  },
  {
   "cell_type": "code",
   "execution_count": 14,
   "metadata": {},
   "outputs": [
    {
     "data": {
      "text/html": [
       "<div>\n",
       "<style scoped>\n",
       "    .dataframe tbody tr th:only-of-type {\n",
       "        vertical-align: middle;\n",
       "    }\n",
       "\n",
       "    .dataframe tbody tr th {\n",
       "        vertical-align: top;\n",
       "    }\n",
       "\n",
       "    .dataframe thead th {\n",
       "        text-align: right;\n",
       "    }\n",
       "</style>\n",
       "<table border=\"1\" class=\"dataframe\">\n",
       "  <thead>\n",
       "    <tr style=\"text-align: right;\">\n",
       "      <th></th>\n",
       "      <th>userid</th>\n",
       "      <th>score</th>\n",
       "      <th>city</th>\n",
       "      <th>gender</th>\n",
       "      <th>age</th>\n",
       "      <th>equity</th>\n",
       "      <th>balance</th>\n",
       "      <th>products</th>\n",
       "      <th>credit_card</th>\n",
       "      <th>last_activity</th>\n",
       "      <th>est_salary</th>\n",
       "      <th>churn</th>\n",
       "      <th>город_Ростов</th>\n",
       "      <th>город_Рыбинск</th>\n",
       "      <th>город_Ярославль</th>\n",
       "      <th>пол_Ж</th>\n",
       "      <th>пол_М</th>\n",
       "    </tr>\n",
       "  </thead>\n",
       "  <tbody>\n",
       "    <tr>\n",
       "      <th>1893</th>\n",
       "      <td>116540</td>\n",
       "      <td>883</td>\n",
       "      <td>Рыбинск</td>\n",
       "      <td>Ж</td>\n",
       "      <td>55.0</td>\n",
       "      <td>1</td>\n",
       "      <td>362756.49</td>\n",
       "      <td>3</td>\n",
       "      <td>0</td>\n",
       "      <td>1</td>\n",
       "      <td>175920</td>\n",
       "      <td>1</td>\n",
       "      <td>0</td>\n",
       "      <td>1</td>\n",
       "      <td>0</td>\n",
       "      <td>1</td>\n",
       "      <td>0</td>\n",
       "    </tr>\n",
       "    <tr>\n",
       "      <th>7694</th>\n",
       "      <td>116540</td>\n",
       "      <td>887</td>\n",
       "      <td>Ярославль</td>\n",
       "      <td>Ж</td>\n",
       "      <td>38.0</td>\n",
       "      <td>0</td>\n",
       "      <td>NaN</td>\n",
       "      <td>1</td>\n",
       "      <td>0</td>\n",
       "      <td>1</td>\n",
       "      <td>119247</td>\n",
       "      <td>0</td>\n",
       "      <td>0</td>\n",
       "      <td>0</td>\n",
       "      <td>1</td>\n",
       "      <td>1</td>\n",
       "      <td>0</td>\n",
       "    </tr>\n",
       "    <tr>\n",
       "      <th>4866</th>\n",
       "      <td>117943</td>\n",
       "      <td>855</td>\n",
       "      <td>Рыбинск</td>\n",
       "      <td>Ж</td>\n",
       "      <td>32.0</td>\n",
       "      <td>6</td>\n",
       "      <td>1036832.93</td>\n",
       "      <td>4</td>\n",
       "      <td>1</td>\n",
       "      <td>1</td>\n",
       "      <td>107792</td>\n",
       "      <td>1</td>\n",
       "      <td>0</td>\n",
       "      <td>1</td>\n",
       "      <td>0</td>\n",
       "      <td>1</td>\n",
       "      <td>0</td>\n",
       "    </tr>\n",
       "    <tr>\n",
       "      <th>7542</th>\n",
       "      <td>117943</td>\n",
       "      <td>880</td>\n",
       "      <td>Ярославль</td>\n",
       "      <td>Ж</td>\n",
       "      <td>40.0</td>\n",
       "      <td>0</td>\n",
       "      <td>NaN</td>\n",
       "      <td>1</td>\n",
       "      <td>1</td>\n",
       "      <td>0</td>\n",
       "      <td>137718</td>\n",
       "      <td>0</td>\n",
       "      <td>0</td>\n",
       "      <td>0</td>\n",
       "      <td>1</td>\n",
       "      <td>1</td>\n",
       "      <td>0</td>\n",
       "    </tr>\n",
       "    <tr>\n",
       "      <th>5863</th>\n",
       "      <td>120258</td>\n",
       "      <td>908</td>\n",
       "      <td>Рыбинск</td>\n",
       "      <td>Ж</td>\n",
       "      <td>38.0</td>\n",
       "      <td>4</td>\n",
       "      <td>2213581.63</td>\n",
       "      <td>2</td>\n",
       "      <td>0</td>\n",
       "      <td>1</td>\n",
       "      <td>160327</td>\n",
       "      <td>1</td>\n",
       "      <td>0</td>\n",
       "      <td>1</td>\n",
       "      <td>0</td>\n",
       "      <td>1</td>\n",
       "      <td>0</td>\n",
       "    </tr>\n",
       "    <tr>\n",
       "      <th>5896</th>\n",
       "      <td>120258</td>\n",
       "      <td>905</td>\n",
       "      <td>Ярославль</td>\n",
       "      <td>М</td>\n",
       "      <td>30.0</td>\n",
       "      <td>0</td>\n",
       "      <td>NaN</td>\n",
       "      <td>1</td>\n",
       "      <td>1</td>\n",
       "      <td>1</td>\n",
       "      <td>146427</td>\n",
       "      <td>0</td>\n",
       "      <td>0</td>\n",
       "      <td>0</td>\n",
       "      <td>1</td>\n",
       "      <td>0</td>\n",
       "      <td>1</td>\n",
       "    </tr>\n",
       "    <tr>\n",
       "      <th>1411</th>\n",
       "      <td>123461</td>\n",
       "      <td>829</td>\n",
       "      <td>Ярославль</td>\n",
       "      <td>Ж</td>\n",
       "      <td>59.0</td>\n",
       "      <td>0</td>\n",
       "      <td>96222.44</td>\n",
       "      <td>2</td>\n",
       "      <td>0</td>\n",
       "      <td>1</td>\n",
       "      <td>102771</td>\n",
       "      <td>1</td>\n",
       "      <td>0</td>\n",
       "      <td>0</td>\n",
       "      <td>1</td>\n",
       "      <td>1</td>\n",
       "      <td>0</td>\n",
       "    </tr>\n",
       "    <tr>\n",
       "      <th>8638</th>\n",
       "      <td>123461</td>\n",
       "      <td>934</td>\n",
       "      <td>Рыбинск</td>\n",
       "      <td>М</td>\n",
       "      <td>34.0</td>\n",
       "      <td>0</td>\n",
       "      <td>NaN</td>\n",
       "      <td>2</td>\n",
       "      <td>1</td>\n",
       "      <td>0</td>\n",
       "      <td>291619</td>\n",
       "      <td>0</td>\n",
       "      <td>0</td>\n",
       "      <td>1</td>\n",
       "      <td>0</td>\n",
       "      <td>0</td>\n",
       "      <td>1</td>\n",
       "    </tr>\n",
       "    <tr>\n",
       "      <th>9775</th>\n",
       "      <td>124450</td>\n",
       "      <td>758</td>\n",
       "      <td>Рыбинск</td>\n",
       "      <td>Ж</td>\n",
       "      <td>36.0</td>\n",
       "      <td>0</td>\n",
       "      <td>73574.07</td>\n",
       "      <td>2</td>\n",
       "      <td>0</td>\n",
       "      <td>1</td>\n",
       "      <td>79963</td>\n",
       "      <td>0</td>\n",
       "      <td>0</td>\n",
       "      <td>1</td>\n",
       "      <td>0</td>\n",
       "      <td>1</td>\n",
       "      <td>0</td>\n",
       "    </tr>\n",
       "    <tr>\n",
       "      <th>8164</th>\n",
       "      <td>124450</td>\n",
       "      <td>859</td>\n",
       "      <td>Ярославль</td>\n",
       "      <td>Ж</td>\n",
       "      <td>38.0</td>\n",
       "      <td>6</td>\n",
       "      <td>516811.20</td>\n",
       "      <td>1</td>\n",
       "      <td>1</td>\n",
       "      <td>1</td>\n",
       "      <td>95144</td>\n",
       "      <td>1</td>\n",
       "      <td>0</td>\n",
       "      <td>0</td>\n",
       "      <td>1</td>\n",
       "      <td>1</td>\n",
       "      <td>0</td>\n",
       "    </tr>\n",
       "  </tbody>\n",
       "</table>\n",
       "</div>"
      ],
      "text/plain": [
       "      userid  score       city gender   age  equity     balance  products  \\\n",
       "1893  116540    883    Рыбинск      Ж  55.0       1   362756.49         3   \n",
       "7694  116540    887  Ярославль      Ж  38.0       0         NaN         1   \n",
       "4866  117943    855    Рыбинск      Ж  32.0       6  1036832.93         4   \n",
       "7542  117943    880  Ярославль      Ж  40.0       0         NaN         1   \n",
       "5863  120258    908    Рыбинск      Ж  38.0       4  2213581.63         2   \n",
       "5896  120258    905  Ярославль      М  30.0       0         NaN         1   \n",
       "1411  123461    829  Ярославль      Ж  59.0       0    96222.44         2   \n",
       "8638  123461    934    Рыбинск      М  34.0       0         NaN         2   \n",
       "9775  124450    758    Рыбинск      Ж  36.0       0    73574.07         2   \n",
       "8164  124450    859  Ярославль      Ж  38.0       6   516811.20         1   \n",
       "\n",
       "      credit_card  last_activity  est_salary  churn  город_Ростов  \\\n",
       "1893            0              1      175920      1             0   \n",
       "7694            0              1      119247      0             0   \n",
       "4866            1              1      107792      1             0   \n",
       "7542            1              0      137718      0             0   \n",
       "5863            0              1      160327      1             0   \n",
       "5896            1              1      146427      0             0   \n",
       "1411            0              1      102771      1             0   \n",
       "8638            1              0      291619      0             0   \n",
       "9775            0              1       79963      0             0   \n",
       "8164            1              1       95144      1             0   \n",
       "\n",
       "      город_Рыбинск  город_Ярославль  пол_Ж  пол_М  \n",
       "1893              1                0      1      0  \n",
       "7694              0                1      1      0  \n",
       "4866              1                0      1      0  \n",
       "7542              0                1      1      0  \n",
       "5863              1                0      1      0  \n",
       "5896              0                1      0      1  \n",
       "1411              0                1      1      0  \n",
       "8638              1                0      0      1  \n",
       "9775              1                0      1      0  \n",
       "8164              0                1      1      0  "
      ]
     },
     "execution_count": 14,
     "metadata": {},
     "output_type": "execute_result"
    }
   ],
   "source": [
    "df_duble = df[df.duplicated(subset=['userid'], keep=False)]\n",
    "df_duble.sort_values(by='userid').head(10)"
   ]
  },
  {
   "cell_type": "markdown",
   "metadata": {},
   "source": [
    "Клиенты продублировались в городах Рыбинск и Ярославль, сгруппирую и посмотрю, действительно ли так"
   ]
  },
  {
   "cell_type": "code",
   "execution_count": 15,
   "metadata": {},
   "outputs": [
    {
     "data": {
      "text/html": [
       "<div>\n",
       "<style scoped>\n",
       "    .dataframe tbody tr th:only-of-type {\n",
       "        vertical-align: middle;\n",
       "    }\n",
       "\n",
       "    .dataframe tbody tr th {\n",
       "        vertical-align: top;\n",
       "    }\n",
       "\n",
       "    .dataframe thead th {\n",
       "        text-align: right;\n",
       "    }\n",
       "</style>\n",
       "<table border=\"1\" class=\"dataframe\">\n",
       "  <thead>\n",
       "    <tr style=\"text-align: right;\">\n",
       "      <th></th>\n",
       "      <th>churn</th>\n",
       "      <th>age</th>\n",
       "      <th>balance</th>\n",
       "      <th>est_salary</th>\n",
       "      <th>score</th>\n",
       "      <th>products</th>\n",
       "      <th>credit_card</th>\n",
       "      <th>last_activity</th>\n",
       "      <th>equity</th>\n",
       "      <th>пол_Ж</th>\n",
       "      <th>пол_М</th>\n",
       "      <th>город_Ростов</th>\n",
       "      <th>город_Рыбинск</th>\n",
       "      <th>город_Ярославль</th>\n",
       "    </tr>\n",
       "  </thead>\n",
       "  <tbody>\n",
       "    <tr>\n",
       "      <th>0</th>\n",
       "      <td>0</td>\n",
       "      <td>43.84</td>\n",
       "      <td>589740.24</td>\n",
       "      <td>129254.60</td>\n",
       "      <td>839.00</td>\n",
       "      <td>2</td>\n",
       "      <td>1</td>\n",
       "      <td>0</td>\n",
       "      <td>2</td>\n",
       "      <td>0.6</td>\n",
       "      <td>0.4</td>\n",
       "      <td>0</td>\n",
       "      <td>0.58</td>\n",
       "      <td>0.42</td>\n",
       "    </tr>\n",
       "    <tr>\n",
       "      <th>1</th>\n",
       "      <td>1</td>\n",
       "      <td>38.44</td>\n",
       "      <td>1355366.39</td>\n",
       "      <td>184665.88</td>\n",
       "      <td>877.14</td>\n",
       "      <td>2</td>\n",
       "      <td>1</td>\n",
       "      <td>1</td>\n",
       "      <td>4</td>\n",
       "      <td>0.4</td>\n",
       "      <td>0.6</td>\n",
       "      <td>0</td>\n",
       "      <td>0.42</td>\n",
       "      <td>0.58</td>\n",
       "    </tr>\n",
       "  </tbody>\n",
       "</table>\n",
       "</div>"
      ],
      "text/plain": [
       "   churn    age     balance  est_salary   score  products  credit_card  \\\n",
       "0      0  43.84   589740.24   129254.60  839.00         2            1   \n",
       "1      1  38.44  1355366.39   184665.88  877.14         2            1   \n",
       "\n",
       "   last_activity  equity  пол_Ж  пол_М  город_Ростов  город_Рыбинск  \\\n",
       "0              0       2    0.6    0.4             0           0.58   \n",
       "1              1       4    0.4    0.6             0           0.42   \n",
       "\n",
       "   город_Ярославль  \n",
       "0             0.42  \n",
       "1             0.58  "
      ]
     },
     "execution_count": 15,
     "metadata": {},
     "output_type": "execute_result"
    }
   ],
   "source": [
    "round(df_duble.groupby('churn', as_index=False).agg({'churn':'mean', 'age':'mean',\n",
    "          'balance':'mean', 'est_salary':'mean',\n",
    "          'score':'mean', 'products':'median', 'credit_card':'median',\n",
    "          'last_activity':'median', 'equity':'median', 'пол_Ж':'mean',\n",
    "          'пол_М':'mean', 'город_Ростов':'mean', 'город_Рыбинск':'mean',\n",
    "          'город_Ярославль':'mean'}), 2)"
   ]
  },
  {
   "cell_type": "markdown",
   "metadata": {},
   "source": [
    "Да, действительно дубли только в городах Рыбинск и Ярославль по одним и тем же клиентам, они зафиксированы в городах Рыбинск и Ярославль, они продублированы и, возможно, это связано с каким-либо техническим сбоем, либо они являются клиентами и там и там"
   ]
  },
  {
   "cell_type": "markdown",
   "metadata": {},
   "source": [
    "Проверю численные значения на распределение"
   ]
  },
  {
   "cell_type": "code",
   "execution_count": 16,
   "metadata": {},
   "outputs": [
    {
     "data": {
      "image/png": "[encoded data removed]",
      "text/plain": [
       "<Figure size 1656x720 with 16 Axes>"
      ]
     },
     "metadata": {
      "needs_background": "light"
     },
     "output_type": "display_data"
    }
   ],
   "source": [
    "df.hist(figsize=(23,10));"
   ]
  },
  {
   "cell_type": "markdown",
   "metadata": {},
   "source": [
    "Скор балл в основном от 800 до 900, количество баллов в собственности очень большое количество 0, а если без них смотреть, то сосредоточены от 3 до 4, количество продуктов банковских в основном 1 или 2, чаще всего клиенты имеют кредитные карты, активность примерно одинаковая"
   ]
  },
  {
   "cell_type": "code",
   "execution_count": 17,
   "metadata": {},
   "outputs": [
    {
     "data": {
      "text/html": [
       "<div>\n",
       "<style scoped>\n",
       "    .dataframe tbody tr th:only-of-type {\n",
       "        vertical-align: middle;\n",
       "    }\n",
       "\n",
       "    .dataframe tbody tr th {\n",
       "        vertical-align: top;\n",
       "    }\n",
       "\n",
       "    .dataframe thead th {\n",
       "        text-align: right;\n",
       "    }\n",
       "</style>\n",
       "<table border=\"1\" class=\"dataframe\">\n",
       "  <thead>\n",
       "    <tr style=\"text-align: right;\">\n",
       "      <th></th>\n",
       "      <th>userid</th>\n",
       "      <th>score</th>\n",
       "      <th>age</th>\n",
       "      <th>equity</th>\n",
       "      <th>balance</th>\n",
       "      <th>products</th>\n",
       "      <th>credit_card</th>\n",
       "      <th>last_activity</th>\n",
       "      <th>est_salary</th>\n",
       "      <th>churn</th>\n",
       "      <th>город_Ростов</th>\n",
       "      <th>город_Рыбинск</th>\n",
       "      <th>город_Ярославль</th>\n",
       "      <th>пол_Ж</th>\n",
       "      <th>пол_М</th>\n",
       "    </tr>\n",
       "  </thead>\n",
       "  <tbody>\n",
       "    <tr>\n",
       "      <th>count</th>\n",
       "      <td>9974.00</td>\n",
       "      <td>9974.00</td>\n",
       "      <td>9974.00</td>\n",
       "      <td>9974.00</td>\n",
       "      <td>7.695000e+03</td>\n",
       "      <td>9974.00</td>\n",
       "      <td>9974.00</td>\n",
       "      <td>9974.00</td>\n",
       "      <td>9974.00</td>\n",
       "      <td>9974.00</td>\n",
       "      <td>9974.00</td>\n",
       "      <td>9974.00</td>\n",
       "      <td>9974.00</td>\n",
       "      <td>9974.0</td>\n",
       "      <td>9974.0</td>\n",
       "    </tr>\n",
       "    <tr>\n",
       "      <th>mean</th>\n",
       "      <td>171755.22</td>\n",
       "      <td>848.68</td>\n",
       "      <td>42.73</td>\n",
       "      <td>2.63</td>\n",
       "      <td>8.272456e+05</td>\n",
       "      <td>1.87</td>\n",
       "      <td>0.68</td>\n",
       "      <td>0.52</td>\n",
       "      <td>147786.32</td>\n",
       "      <td>0.18</td>\n",
       "      <td>0.14</td>\n",
       "      <td>0.27</td>\n",
       "      <td>0.59</td>\n",
       "      <td>0.5</td>\n",
       "      <td>0.5</td>\n",
       "    </tr>\n",
       "    <tr>\n",
       "      <th>std</th>\n",
       "      <td>33695.53</td>\n",
       "      <td>65.40</td>\n",
       "      <td>12.18</td>\n",
       "      <td>1.98</td>\n",
       "      <td>1.980327e+06</td>\n",
       "      <td>0.79</td>\n",
       "      <td>0.47</td>\n",
       "      <td>0.50</td>\n",
       "      <td>139285.51</td>\n",
       "      <td>0.39</td>\n",
       "      <td>0.35</td>\n",
       "      <td>0.44</td>\n",
       "      <td>0.49</td>\n",
       "      <td>0.5</td>\n",
       "      <td>0.5</td>\n",
       "    </tr>\n",
       "    <tr>\n",
       "      <th>min</th>\n",
       "      <td>94561.00</td>\n",
       "      <td>642.00</td>\n",
       "      <td>18.00</td>\n",
       "      <td>0.00</td>\n",
       "      <td>0.000000e+00</td>\n",
       "      <td>0.00</td>\n",
       "      <td>0.00</td>\n",
       "      <td>0.00</td>\n",
       "      <td>2546.00</td>\n",
       "      <td>0.00</td>\n",
       "      <td>0.00</td>\n",
       "      <td>0.00</td>\n",
       "      <td>0.00</td>\n",
       "      <td>0.0</td>\n",
       "      <td>0.0</td>\n",
       "    </tr>\n",
       "    <tr>\n",
       "      <th>25%</th>\n",
       "      <td>142760.00</td>\n",
       "      <td>802.00</td>\n",
       "      <td>33.00</td>\n",
       "      <td>0.00</td>\n",
       "      <td>2.956987e+05</td>\n",
       "      <td>1.00</td>\n",
       "      <td>0.00</td>\n",
       "      <td>0.00</td>\n",
       "      <td>75251.25</td>\n",
       "      <td>0.00</td>\n",
       "      <td>0.00</td>\n",
       "      <td>0.00</td>\n",
       "      <td>0.00</td>\n",
       "      <td>0.0</td>\n",
       "      <td>0.0</td>\n",
       "    </tr>\n",
       "    <tr>\n",
       "      <th>50%</th>\n",
       "      <td>172643.00</td>\n",
       "      <td>853.00</td>\n",
       "      <td>40.00</td>\n",
       "      <td>3.00</td>\n",
       "      <td>5.242953e+05</td>\n",
       "      <td>2.00</td>\n",
       "      <td>1.00</td>\n",
       "      <td>1.00</td>\n",
       "      <td>119626.50</td>\n",
       "      <td>0.00</td>\n",
       "      <td>0.00</td>\n",
       "      <td>0.00</td>\n",
       "      <td>1.00</td>\n",
       "      <td>0.0</td>\n",
       "      <td>1.0</td>\n",
       "    </tr>\n",
       "    <tr>\n",
       "      <th>75%</th>\n",
       "      <td>201163.75</td>\n",
       "      <td>900.00</td>\n",
       "      <td>51.00</td>\n",
       "      <td>4.00</td>\n",
       "      <td>9.800512e+05</td>\n",
       "      <td>2.00</td>\n",
       "      <td>1.00</td>\n",
       "      <td>1.00</td>\n",
       "      <td>174499.00</td>\n",
       "      <td>0.00</td>\n",
       "      <td>0.00</td>\n",
       "      <td>1.00</td>\n",
       "      <td>1.00</td>\n",
       "      <td>1.0</td>\n",
       "      <td>1.0</td>\n",
       "    </tr>\n",
       "    <tr>\n",
       "      <th>max</th>\n",
       "      <td>229145.00</td>\n",
       "      <td>1000.00</td>\n",
       "      <td>86.00</td>\n",
       "      <td>9.00</td>\n",
       "      <td>1.191136e+08</td>\n",
       "      <td>5.00</td>\n",
       "      <td>1.00</td>\n",
       "      <td>1.00</td>\n",
       "      <td>1395064.00</td>\n",
       "      <td>1.00</td>\n",
       "      <td>1.00</td>\n",
       "      <td>1.00</td>\n",
       "      <td>1.00</td>\n",
       "      <td>1.0</td>\n",
       "      <td>1.0</td>\n",
       "    </tr>\n",
       "  </tbody>\n",
       "</table>\n",
       "</div>"
      ],
      "text/plain": [
       "          userid    score      age   equity       balance  products  \\\n",
       "count    9974.00  9974.00  9974.00  9974.00  7.695000e+03   9974.00   \n",
       "mean   171755.22   848.68    42.73     2.63  8.272456e+05      1.87   \n",
       "std     33695.53    65.40    12.18     1.98  1.980327e+06      0.79   \n",
       "min     94561.00   642.00    18.00     0.00  0.000000e+00      0.00   \n",
       "25%    142760.00   802.00    33.00     0.00  2.956987e+05      1.00   \n",
       "50%    172643.00   853.00    40.00     3.00  5.242953e+05      2.00   \n",
       "75%    201163.75   900.00    51.00     4.00  9.800512e+05      2.00   \n",
       "max    229145.00  1000.00    86.00     9.00  1.191136e+08      5.00   \n",
       "\n",
       "       credit_card  last_activity  est_salary    churn  город_Ростов  \\\n",
       "count      9974.00        9974.00     9974.00  9974.00       9974.00   \n",
       "mean          0.68           0.52   147786.32     0.18          0.14   \n",
       "std           0.47           0.50   139285.51     0.39          0.35   \n",
       "min           0.00           0.00     2546.00     0.00          0.00   \n",
       "25%           0.00           0.00    75251.25     0.00          0.00   \n",
       "50%           1.00           1.00   119626.50     0.00          0.00   \n",
       "75%           1.00           1.00   174499.00     0.00          0.00   \n",
       "max           1.00           1.00  1395064.00     1.00          1.00   \n",
       "\n",
       "       город_Рыбинск  город_Ярославль   пол_Ж   пол_М  \n",
       "count        9974.00          9974.00  9974.0  9974.0  \n",
       "mean            0.27             0.59     0.5     0.5  \n",
       "std             0.44             0.49     0.5     0.5  \n",
       "min             0.00             0.00     0.0     0.0  \n",
       "25%             0.00             0.00     0.0     0.0  \n",
       "50%             0.00             1.00     0.0     1.0  \n",
       "75%             1.00             1.00     1.0     1.0  \n",
       "max             1.00             1.00     1.0     1.0  "
      ]
     },
     "execution_count": 17,
     "metadata": {},
     "output_type": "execute_result"
    }
   ],
   "source": [
    "round(df.describe(), 2)"
   ]
  },
  {
   "cell_type": "markdown",
   "metadata": {},
   "source": [
    "Баланс в основном сосредоточен 295 000 - 980 000, зарплата в основном сосредоточена от 75 000 до 174 500\n",
    "\n",
    "Таким образом, открыл файл и изучил данные. Привел наименования колонок к нижнему регистру, привел колонки к соответствующему типу данных, провел работу с пропусками и дубликатами, ознакомился с аномалиями и основной концентрацией численных значений данных, в которых выявил:\n",
    "\n",
    "скор балл в основном от 800 до 900, количество баллов в собственности очень большое количество 0, а если без них смотреть, то сосредоточены от 3 до 4, количество продуктов банковских в основном 1 или 2, чаще всего клиенты имеют кредитные карты, активность примерно одинаковая, баланс в основном сосредоточен 295 000 - 980 000, зарплата в основном сосредоточена от 75 000 до 174 500, возраст от 33 до 51, мужчин и женщин одинаковое количество\n",
    "\n",
    "В основном клиенты находятся в Ярославле около 59 %, в Рыбинске около 27 % и в Ростове 14 %\n",
    "\n",
    "Отток клиентов из банка составляет 18.24 %"
   ]
  },
  {
   "cell_type": "markdown",
   "metadata": {},
   "source": [
    "## Исследовательский анализ данных"
   ]
  },
  {
   "cell_type": "markdown",
   "metadata": {},
   "source": [
    "Посмотрим на средние значения признаков в двух группах — тех, кто ушел в отток и тех, кто остался и сделаю визуализацию через гистограмму"
   ]
  },
  {
   "cell_type": "code",
   "execution_count": 18,
   "metadata": {},
   "outputs": [],
   "source": [
    "moda = pd.Series(data=df['city']).mode()"
   ]
  },
  {
   "cell_type": "code",
   "execution_count": 19,
   "metadata": {},
   "outputs": [
    {
     "data": {
      "text/html": [
       "<div>\n",
       "<style scoped>\n",
       "    .dataframe tbody tr th:only-of-type {\n",
       "        vertical-align: middle;\n",
       "    }\n",
       "\n",
       "    .dataframe tbody tr th {\n",
       "        vertical-align: top;\n",
       "    }\n",
       "\n",
       "    .dataframe thead th {\n",
       "        text-align: right;\n",
       "    }\n",
       "</style>\n",
       "<table border=\"1\" class=\"dataframe\">\n",
       "  <thead>\n",
       "    <tr style=\"text-align: right;\">\n",
       "      <th></th>\n",
       "      <th>0</th>\n",
       "      <th>1</th>\n",
       "    </tr>\n",
       "  </thead>\n",
       "  <tbody>\n",
       "    <tr>\n",
       "      <th>churn</th>\n",
       "      <td>0</td>\n",
       "      <td>1</td>\n",
       "    </tr>\n",
       "    <tr>\n",
       "      <th>age</th>\n",
       "      <td>43.02</td>\n",
       "      <td>41.45</td>\n",
       "    </tr>\n",
       "    <tr>\n",
       "      <th>balance</th>\n",
       "      <td>733031.63</td>\n",
       "      <td>1134458.21</td>\n",
       "    </tr>\n",
       "    <tr>\n",
       "      <th>est_salary</th>\n",
       "      <td>147674.15</td>\n",
       "      <td>148289.2</td>\n",
       "    </tr>\n",
       "    <tr>\n",
       "      <th>score</th>\n",
       "      <td>845.4</td>\n",
       "      <td>863.42</td>\n",
       "    </tr>\n",
       "    <tr>\n",
       "      <th>products</th>\n",
       "      <td>2</td>\n",
       "      <td>2</td>\n",
       "    </tr>\n",
       "    <tr>\n",
       "      <th>credit_card</th>\n",
       "      <td>1</td>\n",
       "      <td>1</td>\n",
       "    </tr>\n",
       "    <tr>\n",
       "      <th>last_activity</th>\n",
       "      <td>0</td>\n",
       "      <td>1</td>\n",
       "    </tr>\n",
       "    <tr>\n",
       "      <th>equity</th>\n",
       "      <td>3</td>\n",
       "      <td>4</td>\n",
       "    </tr>\n",
       "    <tr>\n",
       "      <th>gender</th>\n",
       "      <td>Ж</td>\n",
       "      <td>М</td>\n",
       "    </tr>\n",
       "    <tr>\n",
       "      <th>city</th>\n",
       "      <td>Ярославль</td>\n",
       "      <td>Ярославль</td>\n",
       "    </tr>\n",
       "  </tbody>\n",
       "</table>\n",
       "</div>"
      ],
      "text/plain": [
       "                       0           1\n",
       "churn                  0           1\n",
       "age                43.02       41.45\n",
       "balance        733031.63  1134458.21\n",
       "est_salary     147674.15    148289.2\n",
       "score              845.4      863.42\n",
       "products               2           2\n",
       "credit_card            1           1\n",
       "last_activity          0           1\n",
       "equity                 3           4\n",
       "gender                 Ж           М\n",
       "city           Ярославль   Ярославль"
      ]
     },
     "execution_count": 19,
     "metadata": {},
     "output_type": "execute_result"
    }
   ],
   "source": [
    "a = round(\n",
    "    df.groupby(['churn'], as_index=False)\n",
    "    .agg({'churn':'mean', 'age':'mean',\n",
    "          'balance':'mean', 'est_salary':'mean',\n",
    "          'score':'mean', 'products':'median', 'credit_card':'median',\n",
    "          'last_activity':'median', 'equity':'median', 'gender':pd.Series.mode,  'city':pd.Series.mode}), 2)\n",
    "a.T"
   ]
  },
  {
   "cell_type": "code",
   "execution_count": 20,
   "metadata": {},
   "outputs": [
    {
     "data": {
      "text/plain": [
       "0    Ярославль\n",
       "dtype: object"
      ]
     },
     "execution_count": 20,
     "metadata": {},
     "output_type": "execute_result"
    }
   ],
   "source": [
    "moda = pd.Series(data=df['city']).mode()\n",
    "moda"
   ]
  },
  {
   "cell_type": "code",
   "execution_count": 21,
   "metadata": {},
   "outputs": [
    {
     "data": {
      "text/plain": [
       "119113552.01"
      ]
     },
     "execution_count": 21,
     "metadata": {},
     "output_type": "execute_result"
    }
   ],
   "source": [
    "df.balance.max()"
   ]
  },
  {
   "cell_type": "code",
   "execution_count": 22,
   "metadata": {},
   "outputs": [
    {
     "data": {
      "image/png": "[encoded data removed]",
      "text/plain": [
       "<Figure size 864x504 with 1 Axes>"
      ]
     },
     "metadata": {
      "needs_background": "light"
     },
     "output_type": "display_data"
    },
    {
     "data": {
      "image/png": "[encoded data removed]",
      "text/plain": [
       "<Figure size 864x504 with 1 Axes>"
      ]
     },
     "metadata": {
      "needs_background": "light"
     },
     "output_type": "display_data"
    }
   ],
   "source": [
    "# создал список с наименованием колонок\n",
    "list_name_columns = ['score', 'age']\n",
    "\n",
    "# прошелся циклом для построения графиков с целью визуализации и выявления наиболее слабых сторон\n",
    "for name_column in list_name_columns:\n",
    "    plt.figure(figsize=(12, 7))\n",
    "    sns.histplot(data=df, x=name_column, hue='churn', \n",
    "                 stat='density', common_norm=False, binwidth=1)\n",
    "    plt.title('Общее распределение')\n",
    "    plt.ylabel('Плотность распределения')\n",
    "    plt.xlabel(name_column)\n",
    "plt.show()"
   ]
  },
  {
   "cell_type": "code",
   "execution_count": 23,
   "metadata": {
    "scrolled": false
   },
   "outputs": [
    {
     "data": {
      "image/png": "[encoded data removed]",
      "text/plain": [
       "<Figure size 864x504 with 1 Axes>"
      ]
     },
     "metadata": {
      "needs_background": "light"
     },
     "output_type": "display_data"
    }
   ],
   "source": [
    "plt.figure(figsize=(12, 7))\n",
    "sns.histplot(data=round(df, 2), x='est_salary', hue='churn', \n",
    "             stat='density', common_norm=False,  palette='pastel', bins=40)\n",
    "plt.title('Общее распределение')\n",
    "plt.ylabel('Плотность распределения')\n",
    "plt.xlim(0, 400000)\n",
    "plt.xlabel('est_salary')\n",
    "plt.show()"
   ]
  },
  {
   "cell_type": "code",
   "execution_count": 24,
   "metadata": {
    "scrolled": false
   },
   "outputs": [
    {
     "data": {
      "image/png": "[encoded data removed]",
      "text/plain": [
       "<Figure size 864x504 with 1 Axes>"
      ]
     },
     "metadata": {
      "needs_background": "light"
     },
     "output_type": "display_data"
    }
   ],
   "source": [
    "plt.figure(figsize=(12, 7))\n",
    "sns.histplot(data=round(df, 2), x='balance', hue='churn', \n",
    "             stat='density', common_norm=False,  palette='pastel', bins=500)\n",
    "plt.title('Распределение баланса клиентов')\n",
    "plt.ylabel('Плотность распределения')\n",
    "plt.xlabel('Баланс')\n",
    "plt.xlim(right=4000000)\n",
    "plt.xlim(left=0)\n",
    "plt.xlabel('balance');"
   ]
  },
  {
   "cell_type": "markdown",
   "metadata": {},
   "source": [
    "Создам список наименования колонок и сделаю цикл, в котором посчитаю количество ушедших и не ушедших клиентов, вычислю долю в процентах, затем построю графики долей и общего количества"
   ]
  },
  {
   "cell_type": "code",
   "execution_count": 25,
   "metadata": {
    "scrolled": false
   },
   "outputs": [
    {
     "name": "stdout",
     "output_type": "stream",
     "text": [
      "\n",
      "\n",
      "\n",
      "\n",
      "\n",
      "\n"
     ]
    },
    {
     "data": {
      "image/png": "[encoded data removed]",
      "text/plain": [
       "<Figure size 864x432 with 1 Axes>"
      ]
     },
     "metadata": {
      "needs_background": "light"
     },
     "output_type": "display_data"
    },
    {
     "data": {
      "image/png": "[encoded data removed]",
      "text/plain": [
       "<Figure size 864x432 with 1 Axes>"
      ]
     },
     "metadata": {
      "needs_background": "light"
     },
     "output_type": "display_data"
    },
    {
     "data": {
      "image/png": "[encoded data removed]",
      "text/plain": [
       "<Figure size 864x432 with 1 Axes>"
      ]
     },
     "metadata": {
      "needs_background": "light"
     },
     "output_type": "display_data"
    },
    {
     "data": {
      "image/png": "[encoded data removed]",
      "text/plain": [
       "<Figure size 864x432 with 1 Axes>"
      ]
     },
     "metadata": {
      "needs_background": "light"
     },
     "output_type": "display_data"
    },
    {
     "data": {
      "image/png": "[encoded data removed]",
      "text/plain": [
       "<Figure size 864x432 with 1 Axes>"
      ]
     },
     "metadata": {
      "needs_background": "light"
     },
     "output_type": "display_data"
    },
    {
     "data": {
      "image/png": "[encoded data removed]",
      "text/plain": [
       "<Figure size 864x432 with 1 Axes>"
      ]
     },
     "metadata": {
      "needs_background": "light"
     },
     "output_type": "display_data"
    }
   ],
   "source": [
    "list_name_columns_2 = ['city', 'gender', 'products', 'credit_card', 'equity', 'last_activity']\n",
    "for name_column in list_name_columns_2:\n",
    "    plt.figure(figsize=(12,6))\n",
    "    sns.barplot(\n",
    "        data=df, \n",
    "        x=name_column, y='churn', palette='pastel', errwidth=0\n",
    "    )\n",
    "    plt.title('Относительная доля ушедших и не ушедщих клиентов в %')\n",
    "    plt.axhline(y = 0.182, color = 'r', linestyle ='--') \n",
    "    plt.ylabel('Доля в %')\n",
    "    plt.xlabel(name_column)\n",
    "    print('')\n",
    "plt.show()"
   ]
  },
  {
   "cell_type": "markdown",
   "metadata": {},
   "source": [
    "В продуктах, где клиенты не пользуются вовсе продуктами банка 100 % отток, нужно посмотреть с чем это связано"
   ]
  },
  {
   "cell_type": "code",
   "execution_count": 26,
   "metadata": {},
   "outputs": [
    {
     "data": {
      "text/html": [
       "<div>\n",
       "<style scoped>\n",
       "    .dataframe tbody tr th:only-of-type {\n",
       "        vertical-align: middle;\n",
       "    }\n",
       "\n",
       "    .dataframe tbody tr th {\n",
       "        vertical-align: top;\n",
       "    }\n",
       "\n",
       "    .dataframe thead th {\n",
       "        text-align: right;\n",
       "    }\n",
       "</style>\n",
       "<table border=\"1\" class=\"dataframe\">\n",
       "  <thead>\n",
       "    <tr style=\"text-align: right;\">\n",
       "      <th></th>\n",
       "      <th>userid</th>\n",
       "      <th>score</th>\n",
       "      <th>city</th>\n",
       "      <th>gender</th>\n",
       "      <th>age</th>\n",
       "      <th>equity</th>\n",
       "      <th>balance</th>\n",
       "      <th>products</th>\n",
       "      <th>credit_card</th>\n",
       "      <th>last_activity</th>\n",
       "      <th>est_salary</th>\n",
       "      <th>churn</th>\n",
       "      <th>город_Ростов</th>\n",
       "      <th>город_Рыбинск</th>\n",
       "      <th>город_Ярославль</th>\n",
       "      <th>пол_Ж</th>\n",
       "      <th>пол_М</th>\n",
       "    </tr>\n",
       "  </thead>\n",
       "  <tbody>\n",
       "    <tr>\n",
       "      <th>8957</th>\n",
       "      <td>147837</td>\n",
       "      <td>962</td>\n",
       "      <td>Рыбинск</td>\n",
       "      <td>Ж</td>\n",
       "      <td>79.0</td>\n",
       "      <td>3</td>\n",
       "      <td>NaN</td>\n",
       "      <td>0</td>\n",
       "      <td>0</td>\n",
       "      <td>0</td>\n",
       "      <td>25063</td>\n",
       "      <td>1</td>\n",
       "      <td>0</td>\n",
       "      <td>1</td>\n",
       "      <td>0</td>\n",
       "      <td>1</td>\n",
       "      <td>0</td>\n",
       "    </tr>\n",
       "  </tbody>\n",
       "</table>\n",
       "</div>"
      ],
      "text/plain": [
       "      userid  score     city gender   age  equity  balance  products  \\\n",
       "8957  147837    962  Рыбинск      Ж  79.0       3      NaN         0   \n",
       "\n",
       "      credit_card  last_activity  est_salary  churn  город_Ростов  \\\n",
       "8957            0              0       25063      1             0   \n",
       "\n",
       "      город_Рыбинск  город_Ярославль  пол_Ж  пол_М  \n",
       "8957              1                0      1      0  "
      ]
     },
     "execution_count": 26,
     "metadata": {},
     "output_type": "execute_result"
    }
   ],
   "source": [
    "product_0 = df.loc[df['products'] == 0]\n",
    "product_0.head(10)"
   ]
  },
  {
   "cell_type": "markdown",
   "metadata": {},
   "source": [
    "Это всего лишь один клиент, который ушел, больше клиентов, которые не пользуются совсем продуктами банка нет, скорее всего это ошибка, иначе как клиент взаимодействовал с банком, уберем его"
   ]
  },
  {
   "cell_type": "markdown",
   "metadata": {},
   "source": [
    "По скор баллу в основном уходят те, кто имеют скор балл в диапазоне 830 - 900\n",
    "\n",
    "По городу оттока явного не выявлено, везде примерно одинаково, чуть лучше ситуация смотрится в Рыбинске.\n",
    "\n",
    "По гендерному признаку уходит больше лиц мужского пола.\n",
    "\n",
    "По возрасту уходят в основном лица 25-35 лет, а также клиенты, в возрасте от 50 до 60 лет\n",
    "\n",
    "Количество продуктов, которыми пользуются клиенты, от 2 и выше чаще всего уходят, есть те, кто не пользуется вовсе, она пустая, но в % соотношении есть те, кто не пользовался ни 1 продуктом банка и ушел\n",
    "\n",
    "Чаще всего уходят те, кто не пользуется кредитными картами\n",
    "\n",
    "По количеству баллов собственности уходят в основном те, у кого ее много, от 3 и выше, и чем выше этот балл, тем больше отток\n",
    "\n",
    "По балансу в среднем у уходящих 1 134 458 и зарплата в среднем около 150 000\n",
    "\n",
    "Уходят в основном наиболее активные клиенты\n",
    "\n",
    "В продуктах, где клиенты не пользуются вовсе продуктами банка 100 % отток, это связано с тем, что это всего лишь один клиент, который ушел, больше клиентов, которые не пользуются совсем продуктами банка, нет"
   ]
  },
  {
   "cell_type": "markdown",
   "metadata": {},
   "source": [
    "Построим матрицы корреляций, необходимо выявить взаимосвязи наиболее выраженные"
   ]
  },
  {
   "cell_type": "code",
   "execution_count": 27,
   "metadata": {},
   "outputs": [],
   "source": [
    "without_churn = df.loc[df['churn'] == 0]\n",
    "with_churn = df.loc[df['churn'] == 1]"
   ]
  },
  {
   "cell_type": "code",
   "execution_count": 28,
   "metadata": {},
   "outputs": [
    {
     "data": {
      "image/png": "[encoded data removed]",
      "text/plain": [
       "<Figure size 720x576 with 2 Axes>"
      ]
     },
     "metadata": {
      "needs_background": "light"
     },
     "output_type": "display_data"
    }
   ],
   "source": [
    "matrix_corr = df.drop(columns=('userid')).phik_matrix(interval_cols=['score', 'balance', 'age', 'est_salary'])\n",
    "\n",
    "mask = np.tril(matrix_corr.corr())\n",
    "plt.figure(figsize=(10, 8))\n",
    "sns.heatmap(matrix_corr, cmap='coolwarm', annot = True, fmt='.2f', center=0, mask=mask) \n",
    "plt.title('Матрица корреляций признаков');"
   ]
  },
  {
   "cell_type": "code",
   "execution_count": 29,
   "metadata": {},
   "outputs": [
    {
     "data": {
      "image/png": "[encoded data removed]",
      "text/plain": [
       "<Figure size 720x576 with 2 Axes>"
      ]
     },
     "metadata": {
      "needs_background": "light"
     },
     "output_type": "display_data"
    }
   ],
   "source": [
    "plt.figure(figsize=(10, 8))\n",
    "sns.heatmap(matrix_corr[['churn']], cmap='coolwarm', annot = True, fmt='.2f', center=0) \n",
    "plt.title('Матрица корреляций признаков');"
   ]
  },
  {
   "cell_type": "markdown",
   "metadata": {},
   "source": [
    "По шкале Чеддока имеют прямую слабую связь с оттоком (от 0.1 до 0.3): \n",
    "- скор балл\n",
    "- гендерный признак\n",
    "- возраст\n",
    "- использование кредитной карты\n",
    "- активность\n",
    "\n",
    "Умеренную прямую связь с оттоком имеют (от 0.3 до 0.5):\n",
    "- количество используемых продуктов\n",
    "- количество баллов в собственности\n",
    "\n",
    "Получается, что те, кто с высокой активностью, высоким скор баллом, пользующихся большим количеством продуктов банка, в том числе кредитными картами, большим количеством баллов собственности наиболее склонны к оттоку из банка"
   ]
  },
  {
   "cell_type": "markdown",
   "metadata": {},
   "source": [
    "**ПРОМЕЖУТОЧНЫЙ ВЫВОД**:\n",
    "\n",
    "По скор баллу в основном уходят те, кто имеют скор балл в диапазоне 830 - 900\n",
    "\n",
    "По городу оттока явного не выявлено, везде примерно одинаково, чуть лучше ситуация смотрится в Рыбинске.\n",
    "\n",
    "По гендерному признаку уходит больше лиц мужского пола.\n",
    "\n",
    "По возрасту уходят в основном лица от 25-35 лет, а также клиенты, в возрасте от 50 до 60 лет\n",
    "\n",
    "Количество продуктов, которыми пользуются клиенты, от 2 и выше чаще всего уходят, есть те, кто не пользуется вовсе, она пустая, но в % соотношении есть те, кто не пользовался ни 1 продуктом банка и ушел\n",
    "\n",
    "Чаще всего уходят те, кто не пользуется кредитными картами\n",
    "\n",
    "По количеству баллов собственности уходят в основном те, у кого ее много, от 3 и выше, и чем выше этот балл, тем больше отток\n",
    "\n",
    "По балансу в среднем у уходящих 1 134 458 и зарплата в среднем около 150 000\n",
    "\n",
    "Уходят в основном наиболее активные клиенты\n",
    "\n",
    "В продуктах, где клиенты не пользуются вовсе продуктами банка 100 % отток, это связано с тем, что это всего лишь один клиент, который ушел, больше клиентов, которые не пользуются совсем продуктами банка, нет\n",
    "\n",
    "По шкале Чеддока имеют прямую слабую связь с оттоком (от 0.1 до 0.3): \n",
    "- скор балл\n",
    "- гендерный признак\n",
    "- возраст\n",
    "- использование кредитной карты\n",
    "- активность\n",
    "\n",
    "Умеренную прямую связь с оттоком имеют (от 0.3 до 0.5):\n",
    "- количество используемых продуктов\n",
    "- количество баллов в собственности\n",
    "\n",
    "Получается, что те, кто с высокой активностью, высоким скор баллом, пользующихся большим количеством продуктов банка, в том числе кредитными картами, большим количеством баллов собственности наиболее склонны к оттоку из банка"
   ]
  },
  {
   "cell_type": "markdown",
   "metadata": {},
   "source": [
    "## Проверка гипотез\n",
    "\n",
    "Проверка гипотезы различия дохода между теми клиентами, которые ушли и теми, которые остались.\n",
    "\n",
    "Н0: разницы между зарплатами нет\n",
    "\n",
    "Н1: разница между зарплатами есть"
   ]
  },
  {
   "cell_type": "code",
   "execution_count": 30,
   "metadata": {},
   "outputs": [
    {
     "data": {
      "image/png": "[encoded data removed]",
      "text/plain": [
       "<Figure size 402.375x360 with 1 Axes>"
      ]
     },
     "metadata": {
      "needs_background": "light"
     },
     "output_type": "display_data"
    }
   ],
   "source": [
    "sns.displot(df, x='est_salary', hue='churn', stat='density', common_norm=False, bins=25);"
   ]
  },
  {
   "cell_type": "markdown",
   "metadata": {},
   "source": [
    "На первый взгляд, по графику видно, что зарплаты одинаковые, проверим через тест Стъюдента\n",
    "\n",
    "Прежде чем его запустить, проверю дисперсии, разные они или нет"
   ]
  },
  {
   "cell_type": "code",
   "execution_count": 31,
   "metadata": {},
   "outputs": [
    {
     "data": {
      "text/plain": [
       "20356343170.08858"
      ]
     },
     "execution_count": 31,
     "metadata": {},
     "output_type": "execute_result"
    }
   ],
   "source": [
    "np.var(without_churn.est_salary)"
   ]
  },
  {
   "cell_type": "code",
   "execution_count": 32,
   "metadata": {},
   "outputs": [
    {
     "data": {
      "text/plain": [
       "15104005176.193928"
      ]
     },
     "execution_count": 32,
     "metadata": {},
     "output_type": "execute_result"
    }
   ],
   "source": [
    "np.var(with_churn.est_salary)"
   ]
  },
  {
   "cell_type": "markdown",
   "metadata": {},
   "source": [
    "Дисперсии разные, значит нужно добавить equal_var = False, задам статистический критерий 5 % для всех последующих проверок гипотез он будет одинаковым"
   ]
  },
  {
   "cell_type": "code",
   "execution_count": 33,
   "metadata": {},
   "outputs": [],
   "source": [
    "alpha = .05"
   ]
  },
  {
   "cell_type": "code",
   "execution_count": 34,
   "metadata": {},
   "outputs": [
    {
     "name": "stdout",
     "output_type": "stream",
     "text": [
      "Статистики=-0.187m p_value=0.852\n",
      "Одинаковые зарплаты\n"
     ]
    }
   ],
   "source": [
    "t_val, p_val = st.ttest_ind(without_churn['est_salary'], with_churn['est_salary'], equal_var = False)\n",
    "\n",
    "print('Статистики=%.3fm p_value=%.3f' % (t_val, p_val))\n",
    "\n",
    "if p_val > alpha:\n",
    "    print('Одинаковые зарплаты')\n",
    "else:\n",
    "    print('Разные зарплаты')"
   ]
  },
  {
   "cell_type": "markdown",
   "metadata": {},
   "source": [
    "График показывал, что нет разницы в зарплатах и на самом деле ее нет, что подтвердил тест Стъюдента"
   ]
  },
  {
   "cell_type": "code",
   "execution_count": 35,
   "metadata": {},
   "outputs": [
    {
     "data": {
      "image/png": "[encoded data removed]",
      "text/plain": [
       "<Figure size 360x360 with 1 Axes>"
      ]
     },
     "metadata": {
      "needs_background": "light"
     },
     "output_type": "display_data"
    },
    {
     "data": {
      "image/png": "[encoded data removed]",
      "text/plain": [
       "<Figure size 360x360 with 1 Axes>"
      ]
     },
     "metadata": {
      "needs_background": "light"
     },
     "output_type": "display_data"
    }
   ],
   "source": [
    "truncated_0 = without_churn.loc[without_churn['est_salary'] < 300000]\n",
    "truncated_1 = with_churn.loc[with_churn['est_salary'] < 300000]\n",
    "\n",
    "sns.displot(truncated_0, x='est_salary', stat='density', common_norm=False, bins=25)\n",
    "sns.displot(truncated_1, x='est_salary', stat='density', common_norm=False, bins=25);"
   ]
  },
  {
   "cell_type": "code",
   "execution_count": 36,
   "metadata": {},
   "outputs": [
    {
     "data": {
      "text/plain": [
       "4011135540.793037"
      ]
     },
     "execution_count": 36,
     "metadata": {},
     "output_type": "execute_result"
    }
   ],
   "source": [
    "np.var(truncated_0.est_salary)"
   ]
  },
  {
   "cell_type": "code",
   "execution_count": 37,
   "metadata": {},
   "outputs": [
    {
     "data": {
      "text/plain": [
       "3680004672.7248254"
      ]
     },
     "execution_count": 37,
     "metadata": {},
     "output_type": "execute_result"
    }
   ],
   "source": [
    "np.var(truncated_1.est_salary)"
   ]
  },
  {
   "cell_type": "code",
   "execution_count": 38,
   "metadata": {},
   "outputs": [
    {
     "name": "stdout",
     "output_type": "stream",
     "text": [
      "Статистики=-3.978m p_value=0.000\n",
      "Разные зарплаты\n"
     ]
    }
   ],
   "source": [
    "t_val, p_val = st.ttest_ind(truncated_0['est_salary'], truncated_1['est_salary'], equal_var = False)\n",
    "\n",
    "print('Статистики=%.3fm p_value=%.3f' % (t_val, p_val))\n",
    "\n",
    "if p_val > alpha:\n",
    "    print('Одинаковые зарплаты')\n",
    "else:\n",
    "    print('Разные зарплаты')"
   ]
  },
  {
   "cell_type": "markdown",
   "metadata": {},
   "source": [
    "Если отсечь зарплаты до 300 000, то зарплаты получаются разные"
   ]
  },
  {
   "cell_type": "markdown",
   "metadata": {},
   "source": [
    "Проверим также разницу возрастов\n",
    "\n",
    "Н0: разницы в возрасте нет\n",
    "\n",
    "Н1: разница в возрасте есть\n",
    "\n",
    "Проверим дисперсии"
   ]
  },
  {
   "cell_type": "code",
   "execution_count": 39,
   "metadata": {},
   "outputs": [
    {
     "data": {
      "text/plain": [
       "153.12697193891648"
      ]
     },
     "execution_count": 39,
     "metadata": {},
     "output_type": "execute_result"
    }
   ],
   "source": [
    "np.var(without_churn.age)"
   ]
  },
  {
   "cell_type": "code",
   "execution_count": 40,
   "metadata": {},
   "outputs": [
    {
     "data": {
      "text/plain": [
       "124.84455601356521"
      ]
     },
     "execution_count": 40,
     "metadata": {},
     "output_type": "execute_result"
    }
   ],
   "source": [
    "np.var(with_churn.age)"
   ]
  },
  {
   "cell_type": "markdown",
   "metadata": {},
   "source": [
    "Дисперсии разные, следует добавить equal_var = False"
   ]
  },
  {
   "cell_type": "code",
   "execution_count": 41,
   "metadata": {},
   "outputs": [
    {
     "data": {
      "image/png": "[encoded data removed]",
      "text/plain": [
       "<Figure size 402.375x360 with 1 Axes>"
      ]
     },
     "metadata": {
      "needs_background": "light"
     },
     "output_type": "display_data"
    }
   ],
   "source": [
    "sns.displot(df, x='age', hue='churn', stat='density', common_norm=False, binwidth=1, bins=20);"
   ]
  },
  {
   "cell_type": "markdown",
   "metadata": {},
   "source": [
    "График показывает разный возраст на первый взгляд, проверим через тест Стъюдента"
   ]
  },
  {
   "cell_type": "code",
   "execution_count": 42,
   "metadata": {},
   "outputs": [
    {
     "name": "stdout",
     "output_type": "stream",
     "text": [
      "Статистики=5.311m p_value=0.000\n",
      "Разный возраст\n"
     ]
    }
   ],
   "source": [
    "t_val, p_val = st.ttest_ind(without_churn['age'], with_churn['age'], equal_var = False)\n",
    "\n",
    "print('Статистики=%.3fm p_value=%.3f' % (t_val, p_val))\n",
    "\n",
    "if p_val > alpha:\n",
    "    print('Одинаковый возраст')\n",
    "else:\n",
    "    print('Разный возраст')"
   ]
  },
  {
   "cell_type": "markdown",
   "metadata": {},
   "source": [
    "Возраст на самом деле разный, график это подтверждает"
   ]
  },
  {
   "cell_type": "markdown",
   "metadata": {},
   "source": [
    "Проверим разницу скор баллов\n",
    "\n",
    "Н0: разницы в скор баллах нет\n",
    "\n",
    "Н1: разница в скор баллах есть\n",
    "\n",
    "Проверим дисперсии"
   ]
  },
  {
   "cell_type": "code",
   "execution_count": 43,
   "metadata": {},
   "outputs": [
    {
     "data": {
      "text/plain": [
       "4622.495755016333"
      ]
     },
     "execution_count": 43,
     "metadata": {},
     "output_type": "execute_result"
    }
   ],
   "source": [
    "np.var(without_churn.score)"
   ]
  },
  {
   "cell_type": "code",
   "execution_count": 44,
   "metadata": {},
   "outputs": [
    {
     "data": {
      "text/plain": [
       "2460.888380877313"
      ]
     },
     "execution_count": 44,
     "metadata": {},
     "output_type": "execute_result"
    }
   ],
   "source": [
    "np.var(with_churn.score)"
   ]
  },
  {
   "cell_type": "markdown",
   "metadata": {},
   "source": [
    "Дисперсии разные, следует добавить equal_var = False"
   ]
  },
  {
   "cell_type": "code",
   "execution_count": 45,
   "metadata": {},
   "outputs": [
    {
     "data": {
      "image/png": "[encoded data removed]",
      "text/plain": [
       "<Figure size 402.375x360 with 1 Axes>"
      ]
     },
     "metadata": {
      "needs_background": "light"
     },
     "output_type": "display_data"
    }
   ],
   "source": [
    "sns.displot(df, x='score', hue='churn', stat='density', common_norm=False);"
   ]
  },
  {
   "cell_type": "markdown",
   "metadata": {},
   "source": [
    "График показывает различие в скор баллах, проверим"
   ]
  },
  {
   "cell_type": "code",
   "execution_count": 46,
   "metadata": {},
   "outputs": [
    {
     "name": "stdout",
     "output_type": "stream",
     "text": [
      "Статистики=-13.003m p_value=0.000\n",
      "Разные скор баллы\n"
     ]
    }
   ],
   "source": [
    "t_val, p_val = st.ttest_ind(without_churn['score'], with_churn['score'], equal_var = False)\n",
    "\n",
    "print('Статистики=%.3fm p_value=%.3f' % (t_val, p_val))\n",
    "\n",
    "if p_val > alpha:\n",
    "    print('Одинаковые скор баллы')\n",
    "else:\n",
    "    print('Разные скор баллы')"
   ]
  },
  {
   "cell_type": "markdown",
   "metadata": {},
   "source": [
    "Разница в скор баллах действительно присутствует"
   ]
  },
  {
   "cell_type": "markdown",
   "metadata": {},
   "source": [
    "Проверим также разницу баллов собственности\n",
    "\n",
    "Н0: разницы в баллах собственности нет\n",
    "\n",
    "Н1: разница в баллах собственности есть\n",
    "\n",
    "Проверим дисперсии"
   ]
  },
  {
   "cell_type": "code",
   "execution_count": 47,
   "metadata": {},
   "outputs": [
    {
     "data": {
      "text/plain": [
       "3.8837471867304267"
      ]
     },
     "execution_count": 47,
     "metadata": {},
     "output_type": "execute_result"
    }
   ],
   "source": [
    "np.var(without_churn.equity)"
   ]
  },
  {
   "cell_type": "code",
   "execution_count": 48,
   "metadata": {},
   "outputs": [
    {
     "data": {
      "text/plain": [
       "2.513951294759579"
      ]
     },
     "execution_count": 48,
     "metadata": {},
     "output_type": "execute_result"
    }
   ],
   "source": [
    "np.var(with_churn.equity)"
   ]
  },
  {
   "cell_type": "markdown",
   "metadata": {},
   "source": [
    "Дисперсии разные, следует добавить equal_var = False"
   ]
  },
  {
   "cell_type": "code",
   "execution_count": 49,
   "metadata": {},
   "outputs": [
    {
     "data": {
      "image/png": "[encoded data removed]",
      "text/plain": [
       "<Figure size 402.375x360 with 1 Axes>"
      ]
     },
     "metadata": {
      "needs_background": "light"
     },
     "output_type": "display_data"
    }
   ],
   "source": [
    "sns.displot(df, x='equity', hue='churn', stat='density', common_norm=False);"
   ]
  },
  {
   "cell_type": "markdown",
   "metadata": {},
   "source": [
    "График показывает разницу в баллах собственности, проверим"
   ]
  },
  {
   "cell_type": "code",
   "execution_count": 50,
   "metadata": {},
   "outputs": [
    {
     "name": "stdout",
     "output_type": "stream",
     "text": [
      "p_value=0.000\n",
      "Разные баллы собственности\n"
     ]
    }
   ],
   "source": [
    "results = st.ttest_ind(without_churn['equity'], with_churn['equity'], equal_var = False)\n",
    "\n",
    "print('p_value=%.3f' % results.pvalue)\n",
    "\n",
    "if results.pvalue > alpha:\n",
    "    print('Одинаковые баллы собственности')\n",
    "else:\n",
    "    print('Разные баллы собственности')"
   ]
  },
  {
   "cell_type": "markdown",
   "metadata": {},
   "source": [
    "Действительно, разница в баллах собственности присутствует"
   ]
  },
  {
   "cell_type": "markdown",
   "metadata": {},
   "source": [
    "Сформулировал ряд гипотез и проверил их через тест Стъюдента, получил следующие результаты:\n",
    "- зарплаты одинаковые между теми, кто уходит и кто не уходит из банка\n",
    "- возраст уходящих и не уходящих клиентов разный\n",
    "- разница в скор баллах присутствует\n",
    "- также есть разница по баллам собственности"
   ]
  },
  {
   "cell_type": "markdown",
   "metadata": {},
   "source": [
    "**ПРОМЕЖУТОЧНЫЙ ВЫВОД ПО ИССЛЕДОВАТЕЛЬСКОМУ АНАЛИЗУ**\n",
    "\n",
    "По скор баллу в основном уходят те, кто имеют скор балл в диапазоне 830 - 900\n",
    "\n",
    "По городу оттока явного не выявлено, везде примерно одинаково, чуть лучше ситуация смотрится в Рыбинске.\n",
    "\n",
    "По гендерному признаку уходит больше лиц мужского пола.\n",
    "\n",
    "По возрасту уходят в основном лица от 25-35 лет, а также клиенты, в возрасте от 50 до 60 лет\n",
    "\n",
    "Количество продуктов, которыми пользуются клиенты, от 2 и выше чаще всего уходят, есть те, кто не пользуется вовсе, она пустая, но в % соотношении есть те, кто не пользовался ни 1 продуктом банка и ушел\n",
    "\n",
    "Чаще всего уходят те, кто не пользуется кредитными картами\n",
    "\n",
    "По количеству баллов собственности уходят в основном те, у кого ее много, от 3 и выше, и чем выше этот балл, тем больше отток\n",
    "\n",
    "По балансу в среднем у уходящих 1 134 458 и зарплата в среднем около 150 000\n",
    "\n",
    "Уходят в основном наиболее активные клиенты\n",
    "\n",
    "По шкале Чеддока имеют прямую слабую связь с оттоком (от 0.1 до 0.3): \n",
    "- скор балл\n",
    "- гендерный признак\n",
    "- возраст\n",
    "- использование кредитной карты\n",
    "- активность\n",
    "\n",
    "Умеренную прямую связь с оттоком имеют (от 0.3 до 0.5):\n",
    "- количество используемых продуктов\n",
    "- количество баллов в собственности\n",
    "\n",
    "Получается, что те, кто с высокой активностью, высоким скор баллом, пользующихся большим количеством продуктов банка, в том числе кредитными картами, большим количеством баллов собственности наиболее склонны к оттоку из банка\n",
    "\n",
    "Сформулировал ряд гипотез и проверил их через тест Стъюдента, получил следующие результаты:\n",
    "- зарплаты одинаковые между теми, кто уходит и кто не уходит из банка, но в разрезе наиболее встречающихся зарплат до 300 000 разница все таки есть\n",
    "- возраст уходящих и не уходящих клиентов разный\n",
    "- разница в скор баллах присутствует\n",
    "- также есть разница по баллам собственности"
   ]
  },
  {
   "cell_type": "markdown",
   "metadata": {},
   "source": [
    "## Сегментация клиентов\n",
    "\n",
    "Сделаю кластеры клиентов\n",
    "\n",
    "Для этого, сначала подберу количество кластеров с помощью метода локтя"
   ]
  },
  {
   "cell_type": "code",
   "execution_count": 51,
   "metadata": {},
   "outputs": [
    {
     "data": {
      "image/png": "[encoded data removed]",
      "text/plain": [
       "<Figure size 1080x432 with 1 Axes>"
      ]
     },
     "metadata": {
      "needs_background": "light"
     },
     "output_type": "display_data"
    }
   ],
   "source": [
    "# исключаю признаки из датафрейма\n",
    "X = df.drop([ 'city', 'gender', 'userid', \n",
    "                   'credit_card', 'score', 'balance', 'est_salary', 'город_Ростов',\n",
    "                  'город_Рыбинск', 'город_Ярославль', 'пол_Ж', 'пол_М'], axis = 1)\n",
    "\n",
    "# kmeans определить количество кластеров с помощью цикла\n",
    "distortions = []\n",
    "K = range(1,11)\n",
    "for k in K:\n",
    "    kmeanModel = KMeans(n_clusters=k).fit(X)\n",
    "    kmeanModel.fit(X)\n",
    "    distortions.append(sum(np.min(cdist(X, kmeanModel.cluster_centers_, 'euclidean'), axis=1)) / X.shape[0])\n",
    "\n",
    "# построение графика\n",
    "plt.figure(figsize=(15,6))\n",
    "plt.plot(K, distortions, 'bx-')\n",
    "plt.xlabel('Количество кластеров')\n",
    "plt.ylabel('Искажение')\n",
    "plt.title('Метод локтя определения оптимального количества кластеров')\n",
    "plt.show()"
   ]
  },
  {
   "cell_type": "markdown",
   "metadata": {},
   "source": [
    "Оптимальное количество кластеров находится в диапазоне от 5 до 6, выберу 6 кластеров"
   ]
  },
  {
   "cell_type": "code",
   "execution_count": 52,
   "metadata": {},
   "outputs": [],
   "source": [
    "scaler = StandardScaler() # создаём объект класса scaler (нормализатор)\n",
    "x_sc = scaler.fit_transform(df.drop(columns = ['churn', 'city', 'gender', 'userid', \n",
    "                   'credit_card', 'score', 'balance', 'est_salary', 'город_Ростов',\n",
    "                  'город_Рыбинск', 'город_Ярославль', 'пол_Ж'])) # обучаем нормализатор и преобразуем набор данных \n",
    "\n",
    "# задаём модель k_means \n",
    "km = KMeans(n_clusters = 6, random_state = 0) "
   ]
  },
  {
   "cell_type": "code",
   "execution_count": 53,
   "metadata": {},
   "outputs": [],
   "source": [
    "# прогнозируем кластеры для наблюдений\n",
    "labels = km.fit_predict(x_sc)\n",
    "\n",
    "# сохраняем метки кластера в поле нашего датасета\n",
    "df['cluster_km'] = labels"
   ]
  },
  {
   "cell_type": "code",
   "execution_count": 54,
   "metadata": {},
   "outputs": [],
   "source": [
    "# переименую кластеры в группы с номером\n",
    "df.loc[df['cluster_km'] == 0, 'cluster_km'] = 'группа_1'\n",
    "df.loc[df['cluster_km'] == 1, 'cluster_km'] = 'группа_2'\n",
    "df.loc[df['cluster_km'] == 2, 'cluster_km'] = 'группа_3'\n",
    "df.loc[df['cluster_km'] == 3, 'cluster_km'] = 'группа_4'\n",
    "df.loc[df['cluster_km'] == 4, 'cluster_km'] = 'группа_5'\n",
    "df.loc[df['cluster_km'] == 5, 'cluster_km'] = 'группа_6'"
   ]
  },
  {
   "cell_type": "code",
   "execution_count": 55,
   "metadata": {},
   "outputs": [
    {
     "data": {
      "text/html": [
       "<div>\n",
       "<style scoped>\n",
       "    .dataframe tbody tr th:only-of-type {\n",
       "        vertical-align: middle;\n",
       "    }\n",
       "\n",
       "    .dataframe tbody tr th {\n",
       "        vertical-align: top;\n",
       "    }\n",
       "\n",
       "    .dataframe thead th {\n",
       "        text-align: right;\n",
       "    }\n",
       "</style>\n",
       "<table border=\"1\" class=\"dataframe\">\n",
       "  <thead>\n",
       "    <tr style=\"text-align: right;\">\n",
       "      <th></th>\n",
       "      <th>cluster_km</th>\n",
       "      <th>churn</th>\n",
       "      <th>age</th>\n",
       "      <th>balance</th>\n",
       "      <th>est_salary</th>\n",
       "      <th>score</th>\n",
       "      <th>products</th>\n",
       "      <th>credit_card</th>\n",
       "      <th>last_activity</th>\n",
       "      <th>equity</th>\n",
       "      <th>gender</th>\n",
       "      <th>city</th>\n",
       "    </tr>\n",
       "  </thead>\n",
       "  <tbody>\n",
       "    <tr>\n",
       "      <th>0</th>\n",
       "      <td>группа_1</td>\n",
       "      <td>0.45</td>\n",
       "      <td>40.19</td>\n",
       "      <td>1187224.70</td>\n",
       "      <td>141261.40</td>\n",
       "      <td>847.52</td>\n",
       "      <td>2</td>\n",
       "      <td>1</td>\n",
       "      <td>1</td>\n",
       "      <td>4</td>\n",
       "      <td>М</td>\n",
       "      <td>Ярославль</td>\n",
       "    </tr>\n",
       "    <tr>\n",
       "      <th>3</th>\n",
       "      <td>группа_4</td>\n",
       "      <td>0.25</td>\n",
       "      <td>46.18</td>\n",
       "      <td>789917.76</td>\n",
       "      <td>116045.73</td>\n",
       "      <td>844.91</td>\n",
       "      <td>2</td>\n",
       "      <td>1</td>\n",
       "      <td>1</td>\n",
       "      <td>4</td>\n",
       "      <td>Ж</td>\n",
       "      <td>Ярославль</td>\n",
       "    </tr>\n",
       "    <tr>\n",
       "      <th>2</th>\n",
       "      <td>группа_3</td>\n",
       "      <td>0.23</td>\n",
       "      <td>40.77</td>\n",
       "      <td>941282.26</td>\n",
       "      <td>137317.63</td>\n",
       "      <td>850.54</td>\n",
       "      <td>2</td>\n",
       "      <td>1</td>\n",
       "      <td>0</td>\n",
       "      <td>4</td>\n",
       "      <td>М</td>\n",
       "      <td>Ярославль</td>\n",
       "    </tr>\n",
       "    <tr>\n",
       "      <th>1</th>\n",
       "      <td>группа_2</td>\n",
       "      <td>0.07</td>\n",
       "      <td>45.78</td>\n",
       "      <td>764660.12</td>\n",
       "      <td>119461.25</td>\n",
       "      <td>847.79</td>\n",
       "      <td>2</td>\n",
       "      <td>1</td>\n",
       "      <td>0</td>\n",
       "      <td>4</td>\n",
       "      <td>Ж</td>\n",
       "      <td>Ярославль</td>\n",
       "    </tr>\n",
       "    <tr>\n",
       "      <th>5</th>\n",
       "      <td>группа_6</td>\n",
       "      <td>0.06</td>\n",
       "      <td>40.99</td>\n",
       "      <td>291623.43</td>\n",
       "      <td>188423.21</td>\n",
       "      <td>848.15</td>\n",
       "      <td>1</td>\n",
       "      <td>1</td>\n",
       "      <td>1</td>\n",
       "      <td>0</td>\n",
       "      <td>М</td>\n",
       "      <td>Ярославль</td>\n",
       "    </tr>\n",
       "    <tr>\n",
       "      <th>4</th>\n",
       "      <td>группа_5</td>\n",
       "      <td>0.05</td>\n",
       "      <td>41.45</td>\n",
       "      <td>224896.89</td>\n",
       "      <td>193656.13</td>\n",
       "      <td>854.74</td>\n",
       "      <td>1</td>\n",
       "      <td>1</td>\n",
       "      <td>0</td>\n",
       "      <td>0</td>\n",
       "      <td>М</td>\n",
       "      <td>Ярославль</td>\n",
       "    </tr>\n",
       "  </tbody>\n",
       "</table>\n",
       "</div>"
      ],
      "text/plain": [
       "  cluster_km  churn    age     balance  est_salary   score  products  \\\n",
       "0   группа_1   0.45  40.19  1187224.70   141261.40  847.52         2   \n",
       "3   группа_4   0.25  46.18   789917.76   116045.73  844.91         2   \n",
       "2   группа_3   0.23  40.77   941282.26   137317.63  850.54         2   \n",
       "1   группа_2   0.07  45.78   764660.12   119461.25  847.79         2   \n",
       "5   группа_6   0.06  40.99   291623.43   188423.21  848.15         1   \n",
       "4   группа_5   0.05  41.45   224896.89   193656.13  854.74         1   \n",
       "\n",
       "   credit_card  last_activity  equity gender       city  \n",
       "0            1              1       4      М  Ярославль  \n",
       "3            1              1       4      Ж  Ярославль  \n",
       "2            1              0       4      М  Ярославль  \n",
       "1            1              0       4      Ж  Ярославль  \n",
       "5            1              1       0      М  Ярославль  \n",
       "4            1              0       0      М  Ярославль  "
      ]
     },
     "execution_count": 55,
     "metadata": {},
     "output_type": "execute_result"
    }
   ],
   "source": [
    "b = round(df.groupby(['cluster_km'], as_index=False).agg({'churn':'mean', 'age':'mean',\n",
    "          'balance':'mean', 'est_salary':'mean',\n",
    "          'score':'mean', 'products':'median', 'credit_card':'median',\n",
    "          'last_activity':'median', 'equity':'median', 'gender':pd.Series.mode,  'city':pd.Series.mode}), 2)\n",
    "\n",
    "b.sort_values(by='churn', ascending=False)"
   ]
  },
  {
   "cell_type": "code",
   "execution_count": 56,
   "metadata": {
    "scrolled": true
   },
   "outputs": [
    {
     "data": {
      "text/html": [
       "<div>\n",
       "<style scoped>\n",
       "    .dataframe tbody tr th:only-of-type {\n",
       "        vertical-align: middle;\n",
       "    }\n",
       "\n",
       "    .dataframe tbody tr th {\n",
       "        vertical-align: top;\n",
       "    }\n",
       "\n",
       "    .dataframe thead th {\n",
       "        text-align: right;\n",
       "    }\n",
       "</style>\n",
       "<table border=\"1\" class=\"dataframe\">\n",
       "  <thead>\n",
       "    <tr style=\"text-align: right;\">\n",
       "      <th></th>\n",
       "      <th>cluster_km</th>\n",
       "      <th>churn</th>\n",
       "      <th>age</th>\n",
       "      <th>products</th>\n",
       "      <th>last_activity</th>\n",
       "      <th>equity</th>\n",
       "      <th>пол_М</th>\n",
       "    </tr>\n",
       "  </thead>\n",
       "  <tbody>\n",
       "    <tr>\n",
       "      <th>0</th>\n",
       "      <td>группа_1</td>\n",
       "      <td>0.448119</td>\n",
       "      <td>38.0</td>\n",
       "      <td>2</td>\n",
       "      <td>1</td>\n",
       "      <td>4</td>\n",
       "      <td>1.000000</td>\n",
       "    </tr>\n",
       "    <tr>\n",
       "      <th>1</th>\n",
       "      <td>группа_4</td>\n",
       "      <td>0.252770</td>\n",
       "      <td>43.0</td>\n",
       "      <td>2</td>\n",
       "      <td>1</td>\n",
       "      <td>4</td>\n",
       "      <td>0.000000</td>\n",
       "    </tr>\n",
       "    <tr>\n",
       "      <th>2</th>\n",
       "      <td>группа_3</td>\n",
       "      <td>0.226523</td>\n",
       "      <td>39.0</td>\n",
       "      <td>2</td>\n",
       "      <td>0</td>\n",
       "      <td>4</td>\n",
       "      <td>1.000000</td>\n",
       "    </tr>\n",
       "    <tr>\n",
       "      <th>3</th>\n",
       "      <td>группа_2</td>\n",
       "      <td>0.065426</td>\n",
       "      <td>43.0</td>\n",
       "      <td>2</td>\n",
       "      <td>0</td>\n",
       "      <td>4</td>\n",
       "      <td>0.000000</td>\n",
       "    </tr>\n",
       "    <tr>\n",
       "      <th>4</th>\n",
       "      <td>группа_6</td>\n",
       "      <td>0.060180</td>\n",
       "      <td>39.0</td>\n",
       "      <td>1</td>\n",
       "      <td>1</td>\n",
       "      <td>0</td>\n",
       "      <td>0.582115</td>\n",
       "    </tr>\n",
       "    <tr>\n",
       "      <th>5</th>\n",
       "      <td>группа_5</td>\n",
       "      <td>0.048936</td>\n",
       "      <td>39.0</td>\n",
       "      <td>1</td>\n",
       "      <td>0</td>\n",
       "      <td>0</td>\n",
       "      <td>0.594326</td>\n",
       "    </tr>\n",
       "  </tbody>\n",
       "</table>\n",
       "</div>"
      ],
      "text/plain": [
       "  cluster_km     churn   age  products  last_activity  equity     пол_М\n",
       "0   группа_1  0.448119  38.0         2              1       4  1.000000\n",
       "1   группа_4  0.252770  43.0         2              1       4  0.000000\n",
       "2   группа_3  0.226523  39.0         2              0       4  1.000000\n",
       "3   группа_2  0.065426  43.0         2              0       4  0.000000\n",
       "4   группа_6  0.060180  39.0         1              1       0  0.582115\n",
       "5   группа_5  0.048936  39.0         1              0       0  0.594326"
      ]
     },
     "execution_count": 56,
     "metadata": {},
     "output_type": "execute_result"
    }
   ],
   "source": [
    "# выводим статистику наших признаков по кластеру\n",
    "klust = (\n",
    "    df.groupby(['cluster_km'])\n",
    "    .agg({'churn':'mean', 'age':'median', 'products':'median','last_activity':'median',\n",
    "          'equity':'median', 'пол_М':'mean'})\n",
    "    .sort_values(by='churn', ascending=False)\n",
    "    .reset_index()\n",
    ")\n",
    "klust"
   ]
  },
  {
   "cell_type": "code",
   "execution_count": 57,
   "metadata": {},
   "outputs": [
    {
     "data": {
      "text/html": [
       "<div>\n",
       "<style scoped>\n",
       "    .dataframe tbody tr th:only-of-type {\n",
       "        vertical-align: middle;\n",
       "    }\n",
       "\n",
       "    .dataframe tbody tr th {\n",
       "        vertical-align: top;\n",
       "    }\n",
       "\n",
       "    .dataframe thead th {\n",
       "        text-align: right;\n",
       "    }\n",
       "</style>\n",
       "<table border=\"1\" class=\"dataframe\">\n",
       "  <thead>\n",
       "    <tr style=\"text-align: right;\">\n",
       "      <th></th>\n",
       "      <th>cluster_km</th>\n",
       "      <th>prod_mean</th>\n",
       "      <th>equity_mean</th>\n",
       "    </tr>\n",
       "  </thead>\n",
       "  <tbody>\n",
       "    <tr>\n",
       "      <th>0</th>\n",
       "      <td>группа_1</td>\n",
       "      <td>2.327497</td>\n",
       "      <td>3.985733</td>\n",
       "    </tr>\n",
       "    <tr>\n",
       "      <th>1</th>\n",
       "      <td>группа_2</td>\n",
       "      <td>2.088550</td>\n",
       "      <td>3.472645</td>\n",
       "    </tr>\n",
       "    <tr>\n",
       "      <th>2</th>\n",
       "      <td>группа_3</td>\n",
       "      <td>2.105330</td>\n",
       "      <td>3.798223</td>\n",
       "    </tr>\n",
       "    <tr>\n",
       "      <th>3</th>\n",
       "      <td>группа_4</td>\n",
       "      <td>2.187863</td>\n",
       "      <td>3.618997</td>\n",
       "    </tr>\n",
       "    <tr>\n",
       "      <th>4</th>\n",
       "      <td>группа_5</td>\n",
       "      <td>1.231915</td>\n",
       "      <td>0.281560</td>\n",
       "    </tr>\n",
       "    <tr>\n",
       "      <th>5</th>\n",
       "      <td>группа_6</td>\n",
       "      <td>1.222160</td>\n",
       "      <td>0.391451</td>\n",
       "    </tr>\n",
       "  </tbody>\n",
       "</table>\n",
       "</div>"
      ],
      "text/plain": [
       "  cluster_km  prod_mean  equity_mean\n",
       "0   группа_1   2.327497     3.985733\n",
       "1   группа_2   2.088550     3.472645\n",
       "2   группа_3   2.105330     3.798223\n",
       "3   группа_4   2.187863     3.618997\n",
       "4   группа_5   1.231915     0.281560\n",
       "5   группа_6   1.222160     0.391451"
      ]
     },
     "execution_count": 57,
     "metadata": {},
     "output_type": "execute_result"
    }
   ],
   "source": [
    "klust_means = df.groupby('cluster_km', as_index=False).agg({'products':'mean',\n",
    "          'equity':'mean'})\n",
    "klust_means.columns = ['cluster_km', 'prod_mean', 'equity_mean']\n",
    "klust_means"
   ]
  },
  {
   "cell_type": "code",
   "execution_count": 58,
   "metadata": {},
   "outputs": [
    {
     "data": {
      "text/html": [
       "<div>\n",
       "<style scoped>\n",
       "    .dataframe tbody tr th:only-of-type {\n",
       "        vertical-align: middle;\n",
       "    }\n",
       "\n",
       "    .dataframe tbody tr th {\n",
       "        vertical-align: top;\n",
       "    }\n",
       "\n",
       "    .dataframe thead th {\n",
       "        text-align: right;\n",
       "    }\n",
       "</style>\n",
       "<table border=\"1\" class=\"dataframe\">\n",
       "  <thead>\n",
       "    <tr style=\"text-align: right;\">\n",
       "      <th></th>\n",
       "      <th>cluster_km</th>\n",
       "      <th>churn</th>\n",
       "      <th>age</th>\n",
       "      <th>products</th>\n",
       "      <th>last_activity</th>\n",
       "      <th>equity</th>\n",
       "      <th>пол_М</th>\n",
       "      <th>prod_mean</th>\n",
       "      <th>equity_mean</th>\n",
       "    </tr>\n",
       "  </thead>\n",
       "  <tbody>\n",
       "    <tr>\n",
       "      <th>0</th>\n",
       "      <td>группа_1</td>\n",
       "      <td>0.448119</td>\n",
       "      <td>38.0</td>\n",
       "      <td>2</td>\n",
       "      <td>1</td>\n",
       "      <td>4</td>\n",
       "      <td>1.000000</td>\n",
       "      <td>2.327497</td>\n",
       "      <td>3.985733</td>\n",
       "    </tr>\n",
       "    <tr>\n",
       "      <th>1</th>\n",
       "      <td>группа_4</td>\n",
       "      <td>0.252770</td>\n",
       "      <td>43.0</td>\n",
       "      <td>2</td>\n",
       "      <td>1</td>\n",
       "      <td>4</td>\n",
       "      <td>0.000000</td>\n",
       "      <td>2.187863</td>\n",
       "      <td>3.618997</td>\n",
       "    </tr>\n",
       "    <tr>\n",
       "      <th>2</th>\n",
       "      <td>группа_3</td>\n",
       "      <td>0.226523</td>\n",
       "      <td>39.0</td>\n",
       "      <td>2</td>\n",
       "      <td>0</td>\n",
       "      <td>4</td>\n",
       "      <td>1.000000</td>\n",
       "      <td>2.105330</td>\n",
       "      <td>3.798223</td>\n",
       "    </tr>\n",
       "    <tr>\n",
       "      <th>3</th>\n",
       "      <td>группа_2</td>\n",
       "      <td>0.065426</td>\n",
       "      <td>43.0</td>\n",
       "      <td>2</td>\n",
       "      <td>0</td>\n",
       "      <td>4</td>\n",
       "      <td>0.000000</td>\n",
       "      <td>2.088550</td>\n",
       "      <td>3.472645</td>\n",
       "    </tr>\n",
       "    <tr>\n",
       "      <th>4</th>\n",
       "      <td>группа_6</td>\n",
       "      <td>0.060180</td>\n",
       "      <td>39.0</td>\n",
       "      <td>1</td>\n",
       "      <td>1</td>\n",
       "      <td>0</td>\n",
       "      <td>0.582115</td>\n",
       "      <td>1.222160</td>\n",
       "      <td>0.391451</td>\n",
       "    </tr>\n",
       "    <tr>\n",
       "      <th>5</th>\n",
       "      <td>группа_5</td>\n",
       "      <td>0.048936</td>\n",
       "      <td>39.0</td>\n",
       "      <td>1</td>\n",
       "      <td>0</td>\n",
       "      <td>0</td>\n",
       "      <td>0.594326</td>\n",
       "      <td>1.231915</td>\n",
       "      <td>0.281560</td>\n",
       "    </tr>\n",
       "  </tbody>\n",
       "</table>\n",
       "</div>"
      ],
      "text/plain": [
       "  cluster_km     churn   age  products  last_activity  equity     пол_М  \\\n",
       "0   группа_1  0.448119  38.0         2              1       4  1.000000   \n",
       "1   группа_4  0.252770  43.0         2              1       4  0.000000   \n",
       "2   группа_3  0.226523  39.0         2              0       4  1.000000   \n",
       "3   группа_2  0.065426  43.0         2              0       4  0.000000   \n",
       "4   группа_6  0.060180  39.0         1              1       0  0.582115   \n",
       "5   группа_5  0.048936  39.0         1              0       0  0.594326   \n",
       "\n",
       "   prod_mean  equity_mean  \n",
       "0   2.327497     3.985733  \n",
       "1   2.187863     3.618997  \n",
       "2   2.105330     3.798223  \n",
       "3   2.088550     3.472645  \n",
       "4   1.222160     0.391451  \n",
       "5   1.231915     0.281560  "
      ]
     },
     "execution_count": 58,
     "metadata": {},
     "output_type": "execute_result"
    }
   ],
   "source": [
    "klust = klust.merge(klust_means, on='cluster_km', how='inner')\n",
    "klust"
   ]
  },
  {
   "cell_type": "code",
   "execution_count": 62,
   "metadata": {},
   "outputs": [
    {
     "data": {
      "text/html": [
       "<div>\n",
       "<style scoped>\n",
       "    .dataframe tbody tr th:only-of-type {\n",
       "        vertical-align: middle;\n",
       "    }\n",
       "\n",
       "    .dataframe tbody tr th {\n",
       "        vertical-align: top;\n",
       "    }\n",
       "\n",
       "    .dataframe thead th {\n",
       "        text-align: right;\n",
       "    }\n",
       "</style>\n",
       "<table border=\"1\" class=\"dataframe\">\n",
       "  <thead>\n",
       "    <tr style=\"text-align: right;\">\n",
       "      <th></th>\n",
       "      <th>cluster_km</th>\n",
       "      <th>churn</th>\n",
       "      <th>age</th>\n",
       "      <th>balance</th>\n",
       "      <th>est_salary</th>\n",
       "      <th>score</th>\n",
       "      <th>products</th>\n",
       "      <th>credit_card</th>\n",
       "      <th>last_activity</th>\n",
       "      <th>equity</th>\n",
       "      <th>gender</th>\n",
       "      <th>city</th>\n",
       "      <th>prod_mean</th>\n",
       "      <th>equity_mean</th>\n",
       "    </tr>\n",
       "  </thead>\n",
       "  <tbody>\n",
       "    <tr>\n",
       "      <th>0</th>\n",
       "      <td>группа_1</td>\n",
       "      <td>0.45</td>\n",
       "      <td>40.19</td>\n",
       "      <td>1187224.70</td>\n",
       "      <td>141261.40</td>\n",
       "      <td>847.52</td>\n",
       "      <td>2</td>\n",
       "      <td>1</td>\n",
       "      <td>1</td>\n",
       "      <td>4</td>\n",
       "      <td>М</td>\n",
       "      <td>Ярославль</td>\n",
       "      <td>2.327497</td>\n",
       "      <td>3.985733</td>\n",
       "    </tr>\n",
       "    <tr>\n",
       "      <th>1</th>\n",
       "      <td>группа_2</td>\n",
       "      <td>0.07</td>\n",
       "      <td>45.78</td>\n",
       "      <td>764660.12</td>\n",
       "      <td>119461.25</td>\n",
       "      <td>847.79</td>\n",
       "      <td>2</td>\n",
       "      <td>1</td>\n",
       "      <td>0</td>\n",
       "      <td>4</td>\n",
       "      <td>Ж</td>\n",
       "      <td>Ярославль</td>\n",
       "      <td>2.088550</td>\n",
       "      <td>3.472645</td>\n",
       "    </tr>\n",
       "    <tr>\n",
       "      <th>2</th>\n",
       "      <td>группа_3</td>\n",
       "      <td>0.23</td>\n",
       "      <td>40.77</td>\n",
       "      <td>941282.26</td>\n",
       "      <td>137317.63</td>\n",
       "      <td>850.54</td>\n",
       "      <td>2</td>\n",
       "      <td>1</td>\n",
       "      <td>0</td>\n",
       "      <td>4</td>\n",
       "      <td>М</td>\n",
       "      <td>Ярославль</td>\n",
       "      <td>2.105330</td>\n",
       "      <td>3.798223</td>\n",
       "    </tr>\n",
       "    <tr>\n",
       "      <th>3</th>\n",
       "      <td>группа_4</td>\n",
       "      <td>0.25</td>\n",
       "      <td>46.18</td>\n",
       "      <td>789917.76</td>\n",
       "      <td>116045.73</td>\n",
       "      <td>844.91</td>\n",
       "      <td>2</td>\n",
       "      <td>1</td>\n",
       "      <td>1</td>\n",
       "      <td>4</td>\n",
       "      <td>Ж</td>\n",
       "      <td>Ярославль</td>\n",
       "      <td>2.187863</td>\n",
       "      <td>3.618997</td>\n",
       "    </tr>\n",
       "    <tr>\n",
       "      <th>4</th>\n",
       "      <td>группа_5</td>\n",
       "      <td>0.05</td>\n",
       "      <td>41.45</td>\n",
       "      <td>224896.89</td>\n",
       "      <td>193656.13</td>\n",
       "      <td>854.74</td>\n",
       "      <td>1</td>\n",
       "      <td>1</td>\n",
       "      <td>0</td>\n",
       "      <td>0</td>\n",
       "      <td>М</td>\n",
       "      <td>Ярославль</td>\n",
       "      <td>1.231915</td>\n",
       "      <td>0.281560</td>\n",
       "    </tr>\n",
       "    <tr>\n",
       "      <th>5</th>\n",
       "      <td>группа_6</td>\n",
       "      <td>0.06</td>\n",
       "      <td>40.99</td>\n",
       "      <td>291623.43</td>\n",
       "      <td>188423.21</td>\n",
       "      <td>848.15</td>\n",
       "      <td>1</td>\n",
       "      <td>1</td>\n",
       "      <td>1</td>\n",
       "      <td>0</td>\n",
       "      <td>М</td>\n",
       "      <td>Ярославль</td>\n",
       "      <td>1.222160</td>\n",
       "      <td>0.391451</td>\n",
       "    </tr>\n",
       "  </tbody>\n",
       "</table>\n",
       "</div>"
      ],
      "text/plain": [
       "  cluster_km  churn    age     balance  est_salary   score  products  \\\n",
       "0   группа_1   0.45  40.19  1187224.70   141261.40  847.52         2   \n",
       "1   группа_2   0.07  45.78   764660.12   119461.25  847.79         2   \n",
       "2   группа_3   0.23  40.77   941282.26   137317.63  850.54         2   \n",
       "3   группа_4   0.25  46.18   789917.76   116045.73  844.91         2   \n",
       "4   группа_5   0.05  41.45   224896.89   193656.13  854.74         1   \n",
       "5   группа_6   0.06  40.99   291623.43   188423.21  848.15         1   \n",
       "\n",
       "   credit_card  last_activity  equity gender       city  prod_mean  \\\n",
       "0            1              1       4      М  Ярославль   2.327497   \n",
       "1            1              0       4      Ж  Ярославль   2.088550   \n",
       "2            1              0       4      М  Ярославль   2.105330   \n",
       "3            1              1       4      Ж  Ярославль   2.187863   \n",
       "4            1              0       0      М  Ярославль   1.231915   \n",
       "5            1              1       0      М  Ярославль   1.222160   \n",
       "\n",
       "   equity_mean  \n",
       "0     3.985733  \n",
       "1     3.472645  \n",
       "2     3.798223  \n",
       "3     3.618997  \n",
       "4     0.281560  \n",
       "5     0.391451  "
      ]
     },
     "execution_count": 62,
     "metadata": {},
     "output_type": "execute_result"
    }
   ],
   "source": [
    "klust = b.merge(klust_means, on='cluster_km', how='inner')\n",
    "klust"
   ]
  },
  {
   "cell_type": "code",
   "execution_count": 64,
   "metadata": {},
   "outputs": [
    {
     "data": {
      "text/html": [
       "<div>\n",
       "<style scoped>\n",
       "    .dataframe tbody tr th:only-of-type {\n",
       "        vertical-align: middle;\n",
       "    }\n",
       "\n",
       "    .dataframe tbody tr th {\n",
       "        vertical-align: top;\n",
       "    }\n",
       "\n",
       "    .dataframe thead th {\n",
       "        text-align: right;\n",
       "    }\n",
       "</style>\n",
       "<table border=\"1\" class=\"dataframe\">\n",
       "  <thead>\n",
       "    <tr style=\"text-align: right;\">\n",
       "      <th></th>\n",
       "      <th>Группы</th>\n",
       "      <th>Отток</th>\n",
       "      <th>Возраст</th>\n",
       "      <th>Баланс</th>\n",
       "      <th>Зарплата</th>\n",
       "      <th>Скор балл</th>\n",
       "      <th>Продукты банка</th>\n",
       "      <th>Кредитная карта</th>\n",
       "      <th>Активность</th>\n",
       "      <th>Баллы собственности</th>\n",
       "      <th>Пол</th>\n",
       "      <th>Город</th>\n",
       "      <th>Ср продукты</th>\n",
       "      <th>Ср баллы собств-ти</th>\n",
       "    </tr>\n",
       "  </thead>\n",
       "  <tbody>\n",
       "    <tr>\n",
       "      <th>0</th>\n",
       "      <td>группа_1</td>\n",
       "      <td>0.45</td>\n",
       "      <td>40.19</td>\n",
       "      <td>1187224.70</td>\n",
       "      <td>141261.40</td>\n",
       "      <td>847.52</td>\n",
       "      <td>2</td>\n",
       "      <td>1</td>\n",
       "      <td>1</td>\n",
       "      <td>4</td>\n",
       "      <td>М</td>\n",
       "      <td>Ярославль</td>\n",
       "      <td>2.327497</td>\n",
       "      <td>3.985733</td>\n",
       "    </tr>\n",
       "    <tr>\n",
       "      <th>3</th>\n",
       "      <td>группа_4</td>\n",
       "      <td>0.25</td>\n",
       "      <td>46.18</td>\n",
       "      <td>789917.76</td>\n",
       "      <td>116045.73</td>\n",
       "      <td>844.91</td>\n",
       "      <td>2</td>\n",
       "      <td>1</td>\n",
       "      <td>1</td>\n",
       "      <td>4</td>\n",
       "      <td>Ж</td>\n",
       "      <td>Ярославль</td>\n",
       "      <td>2.187863</td>\n",
       "      <td>3.618997</td>\n",
       "    </tr>\n",
       "    <tr>\n",
       "      <th>2</th>\n",
       "      <td>группа_3</td>\n",
       "      <td>0.23</td>\n",
       "      <td>40.77</td>\n",
       "      <td>941282.26</td>\n",
       "      <td>137317.63</td>\n",
       "      <td>850.54</td>\n",
       "      <td>2</td>\n",
       "      <td>1</td>\n",
       "      <td>0</td>\n",
       "      <td>4</td>\n",
       "      <td>М</td>\n",
       "      <td>Ярославль</td>\n",
       "      <td>2.105330</td>\n",
       "      <td>3.798223</td>\n",
       "    </tr>\n",
       "    <tr>\n",
       "      <th>1</th>\n",
       "      <td>группа_2</td>\n",
       "      <td>0.07</td>\n",
       "      <td>45.78</td>\n",
       "      <td>764660.12</td>\n",
       "      <td>119461.25</td>\n",
       "      <td>847.79</td>\n",
       "      <td>2</td>\n",
       "      <td>1</td>\n",
       "      <td>0</td>\n",
       "      <td>4</td>\n",
       "      <td>Ж</td>\n",
       "      <td>Ярославль</td>\n",
       "      <td>2.088550</td>\n",
       "      <td>3.472645</td>\n",
       "    </tr>\n",
       "    <tr>\n",
       "      <th>5</th>\n",
       "      <td>группа_6</td>\n",
       "      <td>0.06</td>\n",
       "      <td>40.99</td>\n",
       "      <td>291623.43</td>\n",
       "      <td>188423.21</td>\n",
       "      <td>848.15</td>\n",
       "      <td>1</td>\n",
       "      <td>1</td>\n",
       "      <td>1</td>\n",
       "      <td>0</td>\n",
       "      <td>М</td>\n",
       "      <td>Ярославль</td>\n",
       "      <td>1.222160</td>\n",
       "      <td>0.391451</td>\n",
       "    </tr>\n",
       "    <tr>\n",
       "      <th>4</th>\n",
       "      <td>группа_5</td>\n",
       "      <td>0.05</td>\n",
       "      <td>41.45</td>\n",
       "      <td>224896.89</td>\n",
       "      <td>193656.13</td>\n",
       "      <td>854.74</td>\n",
       "      <td>1</td>\n",
       "      <td>1</td>\n",
       "      <td>0</td>\n",
       "      <td>0</td>\n",
       "      <td>М</td>\n",
       "      <td>Ярославль</td>\n",
       "      <td>1.231915</td>\n",
       "      <td>0.281560</td>\n",
       "    </tr>\n",
       "  </tbody>\n",
       "</table>\n",
       "</div>"
      ],
      "text/plain": [
       "     Группы  Отток  Возраст      Баланс   Зарплата  Скор балл  Продукты банка  \\\n",
       "0  группа_1   0.45    40.19  1187224.70  141261.40     847.52               2   \n",
       "3  группа_4   0.25    46.18   789917.76  116045.73     844.91               2   \n",
       "2  группа_3   0.23    40.77   941282.26  137317.63     850.54               2   \n",
       "1  группа_2   0.07    45.78   764660.12  119461.25     847.79               2   \n",
       "5  группа_6   0.06    40.99   291623.43  188423.21     848.15               1   \n",
       "4  группа_5   0.05    41.45   224896.89  193656.13     854.74               1   \n",
       "\n",
       "   Кредитная карта  Активность  Баллы собственности Пол      Город  \\\n",
       "0                1           1                    4   М  Ярославль   \n",
       "3                1           1                    4   Ж  Ярославль   \n",
       "2                1           0                    4   М  Ярославль   \n",
       "1                1           0                    4   Ж  Ярославль   \n",
       "5                1           1                    0   М  Ярославль   \n",
       "4                1           0                    0   М  Ярославль   \n",
       "\n",
       "   Ср продукты  Ср баллы собств-ти  \n",
       "0     2.327497            3.985733  \n",
       "3     2.187863            3.618997  \n",
       "2     2.105330            3.798223  \n",
       "1     2.088550            3.472645  \n",
       "5     1.222160            0.391451  \n",
       "4     1.231915            0.281560  "
      ]
     },
     "execution_count": 64,
     "metadata": {},
     "output_type": "execute_result"
    }
   ],
   "source": [
    "klust.columns = ['Группы', 'Отток', 'Возраст', 'Баланс', 'Зарплата', 'Скор балл', 'Продукты банка', 'Кредитная карта',\n",
    "                 'Активность', 'Баллы собственности', 'Пол', 'Город', 'Ср продукты', 'Ср баллы собств-ти']\n",
    "klust.sort_values(by='Отток', ascending=False)"
   ]
  },
  {
   "cell_type": "code",
   "execution_count": 60,
   "metadata": {},
   "outputs": [
    {
     "data": {
      "image/png": "[encoded data removed]",
      "text/plain": [
       "<Figure size 1080x504 with 1 Axes>"
      ]
     },
     "metadata": {
      "needs_background": "light"
     },
     "output_type": "display_data"
    }
   ],
   "source": [
    "plt.figure(figsize=(15,7))\n",
    "sns.barplot(\n",
    "        data=klust, \n",
    "        x='Группы', y='Отток', palette='pastel', errwidth=0\n",
    "    )\n",
    "plt.title('Отток клиентов по группам в процентах')\n",
    "plt.axhline(y = 0.182, color = 'r', linestyle ='--') \n",
    "plt.ylabel('Доля в %')\n",
    "plt.xlabel('Группы');"
   ]
  },
  {
   "cell_type": "code",
   "execution_count": 61,
   "metadata": {
    "scrolled": true
   },
   "outputs": [
    {
     "data": {
      "text/plain": [
       "cluster_km\n",
       "группа_1    1542\n",
       "группа_2    1773\n",
       "группа_3    1576\n",
       "группа_4    1895\n",
       "группа_5    1410\n",
       "группа_6    1778\n",
       "Name: userid, dtype: int64"
      ]
     },
     "execution_count": 61,
     "metadata": {},
     "output_type": "execute_result"
    }
   ],
   "source": [
    "# проверю по количеству клиентов в каждой группе, должно получиться не менее 500 в группе\n",
    "df.groupby(['cluster_km'])['userid'].count()"
   ]
  },
  {
   "cell_type": "markdown",
   "metadata": {},
   "source": [
    "Подобрал оптимальное количество групп, а именно 6, в каждой из которых не менее 500 клиентов, и не менее 3-х групп, которые хуже по оттоку клиентов, чем по всем данным, а именно выше 18.2 %\n",
    "\n",
    "Стоит обратить внимание на группу 4, 3 и 6, остальные намного лучше по лояльности к банку. \n",
    "\n",
    "Группа 1 характеризуется:\n",
    "- высоким оттоком в размере 45 %\n",
    "- лица мужского пола в возрасте 38 лет\n",
    "- активно пользующиеся сервисами банка (в среднем 2 продукта)\n",
    "- имеют в осносном по 4 балла собственности\n",
    "\n",
    "Группа 4 характеризуется:\n",
    "- высоким оттоком в размере 25 %\n",
    "- лица женского пола в возрасте 43 лет\n",
    "- активно пользующиеся сервисами банка (в среднем 2 продукта)\n",
    "- имеют в осносном по 4 балла собственности\n",
    "\n",
    "Группа 3 характеризуется:\n",
    "- высоким оттоком в размере 22 %\n",
    "- лица мужского пола в возрасте 39 лет\n",
    "- активно пользующиеся сервисами банка\n",
    "- имеют в осносном по 4 балла собственности"
   ]
  },
  {
   "cell_type": "markdown",
   "metadata": {},
   "source": [
    "Подобрал оптимальное количество групп, а именно 6, в каждой из которых не менее 500 клиентов, и не менее 3-х групп, которые хуже по оттоку клиентов, чем по всем данным, а именно выше 18.2 %\n",
    "\n",
    "Стоит обратить внимание на группу 4, 3 и 6, остальные намного лучше по лояльности к банку. \n",
    "\n",
    "Группа 1 характеризуется:\n",
    "- высоким оттоком в размере 45 %\n",
    "- лица мужского пола в возрасте 38 лет\n",
    "- активно пользующиеся сервисами банка (в среднем 2 продукта)\n",
    "- имеют в осносном по 4 балла собственности\n",
    "\n",
    "Группа 4 характеризуется:\n",
    "- высоким оттоком в размере 25 %\n",
    "- лица женского пола в возрасте 43 лет\n",
    "- активно пользующиеся сервисами банка (в среднем 2 продукта)\n",
    "- имеют в осносном по 4 балла собственности\n",
    "\n",
    "Группа 3 характеризуется:\n",
    "- высоким оттоком в размере 22 %\n",
    "- лица мужского пола в возрасте 39 лет\n",
    "- активно пользующиеся сервисами банка\n",
    "- имеют в осносном по 4 балла собственности\n",
    "\n",
    "Расставлю приоритеты в порядке убывания на какую группу стоит обратить внимание в первую очередь:\n",
    "- группа 1\n",
    "- группа 4\n",
    "- группа 3\n",
    "- группа 2\n",
    "- группа 6\n",
    "- группа 5"
   ]
  },
  {
   "cell_type": "markdown",
   "metadata": {},
   "source": [
    "## Общий вывод и рекомендации\n",
    "\n",
    "Открыл файл и изучил данные. Привел наименования колонок к нижнему регистру, привел колонки к соответствующему типу данных, провел работу с пропусками и дубликатами, ознакомился с аномалиями и основной концентрацией численных значений данных, в которых выявил:\n",
    "\n",
    "Портрет уходящего клиента получился следующий:\n",
    "\n",
    "По скор баллу в основном уходят те, кто имеют скор балл в диапазоне 830 - 900\n",
    "\n",
    "По городу оттока явного не выявлено, везде примерно одинаково, чуть лучше ситуация смотрится в Рыбинске.\n",
    "\n",
    "По гендерному признаку уходит больше лиц мужского пола.\n",
    "\n",
    "По возрасту уходят в основном лица от 25-35 лет, а также клиенты, в возрасте от 50 до 60 лет\n",
    "\n",
    "Количество продуктов, которыми пользуются клиенты, от 2 и выше чаще всего уходят, есть те, кто не пользуется вовсе, она пустая, но в % соотношении есть те, кто не пользовался ни 1 продуктом банка и ушел\n",
    "\n",
    "Чаще всего уходят те, кто не пользуется кредитными картами\n",
    "\n",
    "По количеству баллов собственности уходят в основном те, у кого ее много, от 3 и выше, и чем выше этот балл, тем больше отток\n",
    "\n",
    "По балансу в среднем у уходящих 1 134 458 и зарплата в среднем около 150 000\n",
    "\n",
    "Уходят в основном наиболее активные клиенты\n",
    "\n",
    "В продуктах, где клиенты не пользуются вовсе продуктами банка 100 % отток, это связано с тем, что это всего лишь один клиент, который ушел, больше клиентов, которые не пользуются совсем продуктами банка, нет\n",
    "\n",
    "По шкале Чеддока имеют прямую слабую связь с оттоком (от 0.1 до 0.3): \n",
    "- скор балл\n",
    "- гендерный признак\n",
    "- возраст\n",
    "- использование кредитной карты\n",
    "- активность\n",
    "\n",
    "Умеренную прямую связь с оттоком имеют (от 0.3 до 0.5):\n",
    "- количество используемых продуктов\n",
    "- количество баллов в собственности\n",
    "\n",
    "Получается, что те, кто с высокой активностью, высоким скор баллом, пользующихся большим количеством продуктов банка, в том числе кредитными картами, большим количеством баллов собственности наиболее склонны к оттоку из банка\n",
    "\n",
    "Сформулировал ряд гипотез и проверил их через тест Стъюдента, получил следующие результаты:\n",
    "- зарплаты одинаковые между теми, кто уходит и кто не уходит из банка, но в разрезе наиболее встречающихся зарплат до 300 000 разница все таки есть\n",
    "- возраст уходящих и не уходящих клиентов разный\n",
    "- разница в скор баллах присутствует\n",
    "- также есть разница по баллам собственности\n",
    "\n",
    "\n",
    "Подобрал оптимальное количество групп, а именно 6, в каждой из которых не менее 500 клиентов, и не менее 3-х групп, которые хуже по оттоку клиентов, чем по всем данным, а именно выше 18.2 %\n",
    "\n",
    "Стоит обратить внимание на группу 4, 3 и 6, остальные намного лучше по лояльности к банку. \n",
    "\n",
    "Группа 1 характеризуется:\n",
    "- высоким оттоком в размере 45 %\n",
    "- высокий баланс, который составляет в среднем 1 180 000\n",
    "- скор балл 847\n",
    "- клиенты мужского пола в возрасте 40 лет с зарплатой 140 000 рублей\n",
    "- из города Ярославль\n",
    "- активно пользующиеся сервисами банка (в среднем 2 продукта, в том числе кредитная карта)\n",
    "- имеют в основном по 4 балла собственности\n",
    "\n",
    "\n",
    "Группа 4 характеризуется:\n",
    "- высоким оттоком в размере 25 %\n",
    "- высокий баланс, который составляет в среднем 790 000\n",
    "- скор балл 845\n",
    "- клиенты женского пола в возрасте 46 лет с зарплатой 116 000 рублей\n",
    "- из города Ярославль\n",
    "- активно пользующиеся сервисами банка (в среднем 2 продукта, в том числе кредитная карта)\n",
    "- имеют в основном по 4 балла собственности\n",
    "\n",
    "\n",
    "Группа 3 характеризуется:\n",
    "- высоким оттоком в размере 23 %\n",
    "- высокий баланс, который составляет в среднем 940 000\n",
    "- скор балл 845\n",
    "- клиенты мужского пола в возрасте 40 лет с зарплатой 137 000 рублей\n",
    "- из города Ярославль\n",
    "- не активно пользующиеся сервисами банка (в среднем 2 продукта, в том числе кредитная карта)\n",
    "- имеют в основном по 4 балла собственности\n",
    "\n",
    "\n",
    "Расставлю приоритеты в порядке убывания на какую группу стоит обратить внимание в первую очередь:\n",
    "- группа 1\n",
    "- группа 4\n",
    "- группа 3\n",
    "- группа 2\n",
    "- группа 6\n",
    "- группа 5\n",
    "\n",
    "**РЕКОМЕНДАЦИИ**\n",
    "\n",
    "- сделать акцент на расширение клиентов в городе Ярославль, так как там наименьший отток клиентов и такие клиенты пользуются банковскими продуктами чаще и в большем количестве\n",
    "- с клиентами мужского пола в возрасте 40 лет в городе Ярославль узнавать через возможные средства связи,в т.ч. опросы онлайн, что для них важно в банке, что можно было бы добавить, тем самым мы сможем повысить лояльность таких клиентов и вероятность того, что они останутся повысится\n",
    "- клиенты в возрасте 40 лет мужского пола из Ярославля с большими балансами, чаще всего используют кредитные карты, можно для них предусмотреть более выгодные ставки как по кредитным картам, так и по вкладам и накопительным счетам"
   ]
  }
 ],
 "metadata": {
  "ExecuteTimeLog": [
   {
    "duration": 1398,
    "start_time": "2023-07-31T08:07:01.495Z"
   },
   {
    "duration": 8,
    "start_time": "2023-07-31T08:07:44.566Z"
   },
   {
    "duration": 92,
    "start_time": "2023-07-31T08:08:43.183Z"
   },
   {
    "duration": 12,
    "start_time": "2023-07-31T08:08:54.196Z"
   },
   {
    "duration": 4,
    "start_time": "2023-07-31T08:15:04.657Z"
   },
   {
    "duration": 12,
    "start_time": "2023-07-31T08:15:07.088Z"
   },
   {
    "duration": 3,
    "start_time": "2023-07-31T08:16:09.500Z"
   },
   {
    "duration": 12,
    "start_time": "2023-07-31T08:17:12.153Z"
   },
   {
    "duration": 3,
    "start_time": "2023-07-31T08:17:17.618Z"
   },
   {
    "duration": 16,
    "start_time": "2023-07-31T08:21:32.375Z"
   },
   {
    "duration": 15,
    "start_time": "2023-07-31T08:21:47.727Z"
   },
   {
    "duration": 16,
    "start_time": "2023-07-31T08:22:21.289Z"
   },
   {
    "duration": 7,
    "start_time": "2023-07-31T08:22:26.599Z"
   },
   {
    "duration": 28,
    "start_time": "2023-07-31T08:22:30.910Z"
   },
   {
    "duration": 111,
    "start_time": "2023-07-31T08:22:38.470Z"
   },
   {
    "duration": 16,
    "start_time": "2023-07-31T08:22:42.696Z"
   },
   {
    "duration": 13,
    "start_time": "2023-07-31T08:23:19.074Z"
   },
   {
    "duration": 10,
    "start_time": "2023-07-31T08:25:06.327Z"
   },
   {
    "duration": 9,
    "start_time": "2023-07-31T08:25:08.461Z"
   },
   {
    "duration": 10,
    "start_time": "2023-07-31T08:28:16.220Z"
   },
   {
    "duration": 3,
    "start_time": "2023-07-31T08:40:31.629Z"
   },
   {
    "duration": 4,
    "start_time": "2023-07-31T08:43:38.214Z"
   },
   {
    "duration": 5,
    "start_time": "2023-07-31T08:44:01.157Z"
   },
   {
    "duration": 14,
    "start_time": "2023-07-31T08:44:09.374Z"
   },
   {
    "duration": 9,
    "start_time": "2023-07-31T09:11:24.358Z"
   },
   {
    "duration": 11,
    "start_time": "2023-07-31T09:12:17.774Z"
   },
   {
    "duration": 765,
    "start_time": "2023-07-31T09:12:59.514Z"
   },
   {
    "duration": 1080,
    "start_time": "2023-07-31T09:13:13.030Z"
   },
   {
    "duration": 946,
    "start_time": "2023-07-31T09:13:20.674Z"
   },
   {
    "duration": 1165,
    "start_time": "2023-07-31T09:13:27.775Z"
   },
   {
    "duration": 1285,
    "start_time": "2023-07-31T09:13:32.874Z"
   },
   {
    "duration": 1165,
    "start_time": "2023-07-31T09:13:43.525Z"
   },
   {
    "duration": 10,
    "start_time": "2023-07-31T09:14:01.090Z"
   },
   {
    "duration": 11,
    "start_time": "2023-07-31T09:14:10.103Z"
   },
   {
    "duration": 177,
    "start_time": "2023-07-31T09:14:12.914Z"
   },
   {
    "duration": 56,
    "start_time": "2023-07-31T09:14:20.781Z"
   },
   {
    "duration": 8,
    "start_time": "2023-07-31T09:33:33.680Z"
   },
   {
    "duration": 7,
    "start_time": "2023-07-31T09:33:41.413Z"
   },
   {
    "duration": 7,
    "start_time": "2023-07-31T09:33:45.472Z"
   },
   {
    "duration": 15,
    "start_time": "2023-07-31T09:39:55.978Z"
   },
   {
    "duration": 14,
    "start_time": "2023-07-31T09:40:26.030Z"
   },
   {
    "duration": 1350,
    "start_time": "2023-07-31T09:41:03.877Z"
   },
   {
    "duration": 104,
    "start_time": "2023-07-31T09:41:05.230Z"
   },
   {
    "duration": 79,
    "start_time": "2023-07-31T09:41:05.336Z"
   },
   {
    "duration": 57,
    "start_time": "2023-07-31T09:41:05.417Z"
   },
   {
    "duration": 19,
    "start_time": "2023-07-31T09:41:05.476Z"
   },
   {
    "duration": 103,
    "start_time": "2023-07-31T09:41:05.498Z"
   },
   {
    "duration": 46,
    "start_time": "2023-07-31T09:41:05.603Z"
   },
   {
    "duration": 88,
    "start_time": "2023-07-31T09:41:05.650Z"
   },
   {
    "duration": 71,
    "start_time": "2023-07-31T09:41:05.741Z"
   },
   {
    "duration": 1420,
    "start_time": "2023-07-31T09:41:05.815Z"
   },
   {
    "duration": 57,
    "start_time": "2023-07-31T09:41:07.236Z"
   },
   {
    "duration": 29,
    "start_time": "2023-07-31T09:41:07.295Z"
   },
   {
    "duration": 15,
    "start_time": "2023-07-31T09:44:36.809Z"
   },
   {
    "duration": 13,
    "start_time": "2023-07-31T09:45:05.515Z"
   },
   {
    "duration": 12,
    "start_time": "2023-07-31T09:46:00.785Z"
   },
   {
    "duration": 24,
    "start_time": "2023-07-31T09:46:07.856Z"
   },
   {
    "duration": 14,
    "start_time": "2023-07-31T09:46:11.278Z"
   },
   {
    "duration": 5,
    "start_time": "2023-07-31T09:51:55.283Z"
   },
   {
    "duration": 7,
    "start_time": "2023-07-31T09:55:24.410Z"
   },
   {
    "duration": 1377,
    "start_time": "2023-07-31T09:55:33.879Z"
   },
   {
    "duration": 101,
    "start_time": "2023-07-31T09:55:35.259Z"
   },
   {
    "duration": 18,
    "start_time": "2023-07-31T09:55:35.366Z"
   },
   {
    "duration": 35,
    "start_time": "2023-07-31T09:55:35.386Z"
   },
   {
    "duration": 58,
    "start_time": "2023-07-31T09:55:35.424Z"
   },
   {
    "duration": 27,
    "start_time": "2023-07-31T09:55:35.487Z"
   },
   {
    "duration": 47,
    "start_time": "2023-07-31T09:55:35.515Z"
   },
   {
    "duration": 35,
    "start_time": "2023-07-31T09:55:35.564Z"
   },
   {
    "duration": 42,
    "start_time": "2023-07-31T09:55:35.601Z"
   },
   {
    "duration": 46,
    "start_time": "2023-07-31T09:55:35.645Z"
   },
   {
    "duration": 1552,
    "start_time": "2023-07-31T09:55:35.693Z"
   },
   {
    "duration": 62,
    "start_time": "2023-07-31T09:55:37.246Z"
   },
   {
    "duration": 7,
    "start_time": "2023-07-31T09:55:37.310Z"
   },
   {
    "duration": 23,
    "start_time": "2023-07-31T09:55:37.320Z"
   },
   {
    "duration": 30,
    "start_time": "2023-07-31T09:56:59.783Z"
   },
   {
    "duration": 35,
    "start_time": "2023-07-31T09:57:08.886Z"
   },
   {
    "duration": 32,
    "start_time": "2023-07-31T09:57:16.155Z"
   },
   {
    "duration": 14,
    "start_time": "2023-07-31T09:57:24.431Z"
   },
   {
    "duration": 23,
    "start_time": "2023-07-31T09:57:30.084Z"
   },
   {
    "duration": 58,
    "start_time": "2023-07-31T09:57:37.155Z"
   },
   {
    "duration": 37,
    "start_time": "2023-07-31T09:57:47.799Z"
   },
   {
    "duration": 35,
    "start_time": "2023-07-31T09:58:04.713Z"
   },
   {
    "duration": 55,
    "start_time": "2023-07-31T09:58:14.213Z"
   },
   {
    "duration": 41,
    "start_time": "2023-07-31T09:58:25.611Z"
   },
   {
    "duration": 48,
    "start_time": "2023-07-31T09:58:34.900Z"
   },
   {
    "duration": 15,
    "start_time": "2023-07-31T09:59:21.032Z"
   },
   {
    "duration": 23,
    "start_time": "2023-07-31T09:59:31.579Z"
   },
   {
    "duration": 16,
    "start_time": "2023-07-31T10:00:08.198Z"
   },
   {
    "duration": 21,
    "start_time": "2023-07-31T10:01:29.094Z"
   },
   {
    "duration": 530,
    "start_time": "2023-07-31T10:03:07.103Z"
   },
   {
    "duration": 14,
    "start_time": "2023-07-31T10:03:24.087Z"
   },
   {
    "duration": 425,
    "start_time": "2023-07-31T10:03:26.377Z"
   },
   {
    "duration": 7,
    "start_time": "2023-07-31T10:03:35.695Z"
   },
   {
    "duration": 18,
    "start_time": "2023-07-31T10:03:49.481Z"
   },
   {
    "duration": 22,
    "start_time": "2023-07-31T10:03:56.982Z"
   },
   {
    "duration": 17,
    "start_time": "2023-07-31T10:03:57.006Z"
   },
   {
    "duration": 17,
    "start_time": "2023-07-31T10:04:41.075Z"
   },
   {
    "duration": 515,
    "start_time": "2023-07-31T10:04:55.657Z"
   },
   {
    "duration": 512,
    "start_time": "2023-07-31T10:05:11.379Z"
   },
   {
    "duration": 19,
    "start_time": "2023-07-31T10:06:39.276Z"
   },
   {
    "duration": 1596,
    "start_time": "2023-07-31T10:06:53.712Z"
   },
   {
    "duration": 1593,
    "start_time": "2023-07-31T10:07:18.913Z"
   },
   {
    "duration": 1227,
    "start_time": "2023-07-31T10:07:35.672Z"
   },
   {
    "duration": 97,
    "start_time": "2023-07-31T10:07:36.902Z"
   },
   {
    "duration": 4,
    "start_time": "2023-07-31T10:07:37.001Z"
   },
   {
    "duration": 9,
    "start_time": "2023-07-31T10:07:37.006Z"
   },
   {
    "duration": 23,
    "start_time": "2023-07-31T10:07:37.018Z"
   },
   {
    "duration": 37,
    "start_time": "2023-07-31T10:07:37.043Z"
   },
   {
    "duration": 18,
    "start_time": "2023-07-31T10:07:37.085Z"
   },
   {
    "duration": 10,
    "start_time": "2023-07-31T10:07:37.105Z"
   },
   {
    "duration": 14,
    "start_time": "2023-07-31T10:07:37.116Z"
   },
   {
    "duration": 14,
    "start_time": "2023-07-31T10:07:37.131Z"
   },
   {
    "duration": 1437,
    "start_time": "2023-07-31T10:07:37.146Z"
   },
   {
    "duration": 43,
    "start_time": "2023-07-31T10:07:38.588Z"
   },
   {
    "duration": 7,
    "start_time": "2023-07-31T10:07:38.633Z"
   },
   {
    "duration": 28,
    "start_time": "2023-07-31T10:07:38.643Z"
   },
   {
    "duration": 25,
    "start_time": "2023-07-31T10:07:38.680Z"
   },
   {
    "duration": 8,
    "start_time": "2023-07-31T10:35:16.237Z"
   },
   {
    "duration": 3,
    "start_time": "2023-07-31T10:40:36.112Z"
   },
   {
    "duration": 6,
    "start_time": "2023-07-31T10:40:39.332Z"
   },
   {
    "duration": 110,
    "start_time": "2023-07-31T10:41:20.675Z"
   },
   {
    "duration": 16685,
    "start_time": "2023-07-31T10:41:31.288Z"
   },
   {
    "duration": 16832,
    "start_time": "2023-07-31T10:43:17.173Z"
   },
   {
    "duration": 16930,
    "start_time": "2023-07-31T10:43:56.226Z"
   },
   {
    "duration": 17199,
    "start_time": "2023-07-31T10:44:34.874Z"
   },
   {
    "duration": 4,
    "start_time": "2023-07-31T10:48:18.775Z"
   },
   {
    "duration": 17039,
    "start_time": "2023-07-31T10:48:33.734Z"
   },
   {
    "duration": 17,
    "start_time": "2023-07-31T10:48:50.781Z"
   },
   {
    "duration": 4,
    "start_time": "2023-07-31T10:48:52.835Z"
   },
   {
    "duration": 17074,
    "start_time": "2023-07-31T10:48:55.565Z"
   },
   {
    "duration": 112,
    "start_time": "2023-07-31T10:49:38.477Z"
   },
   {
    "duration": 150,
    "start_time": "2023-07-31T10:49:44.677Z"
   },
   {
    "duration": 17074,
    "start_time": "2023-07-31T10:50:55.734Z"
   },
   {
    "duration": 17085,
    "start_time": "2023-07-31T10:51:12.810Z"
   },
   {
    "duration": 17640,
    "start_time": "2023-07-31T10:53:14.592Z"
   },
   {
    "duration": 15,
    "start_time": "2023-07-31T11:46:20.494Z"
   },
   {
    "duration": 9,
    "start_time": "2023-07-31T11:58:53.283Z"
   },
   {
    "duration": 12,
    "start_time": "2023-07-31T11:59:49.383Z"
   },
   {
    "duration": 1196,
    "start_time": "2023-07-31T12:23:04.819Z"
   },
   {
    "duration": 115,
    "start_time": "2023-07-31T12:23:06.018Z"
   },
   {
    "duration": 2,
    "start_time": "2023-07-31T12:23:06.135Z"
   },
   {
    "duration": 10,
    "start_time": "2023-07-31T12:23:06.139Z"
   },
   {
    "duration": 13,
    "start_time": "2023-07-31T12:23:06.150Z"
   },
   {
    "duration": 13,
    "start_time": "2023-07-31T12:23:06.165Z"
   },
   {
    "duration": 15,
    "start_time": "2023-07-31T12:23:06.180Z"
   },
   {
    "duration": 13,
    "start_time": "2023-07-31T12:23:06.197Z"
   },
   {
    "duration": 3,
    "start_time": "2023-07-31T12:23:06.212Z"
   },
   {
    "duration": 21,
    "start_time": "2023-07-31T12:23:06.217Z"
   },
   {
    "duration": 1364,
    "start_time": "2023-07-31T12:23:06.240Z"
   },
   {
    "duration": 56,
    "start_time": "2023-07-31T12:23:07.606Z"
   },
   {
    "duration": 8,
    "start_time": "2023-07-31T12:23:07.663Z"
   },
   {
    "duration": 27,
    "start_time": "2023-07-31T12:23:07.673Z"
   },
   {
    "duration": 14688,
    "start_time": "2023-07-31T12:23:07.702Z"
   },
   {
    "duration": 5,
    "start_time": "2023-07-31T12:23:22.392Z"
   },
   {
    "duration": 1552,
    "start_time": "2023-07-31T12:34:06.858Z"
   },
   {
    "duration": 1437,
    "start_time": "2023-07-31T12:36:31.376Z"
   },
   {
    "duration": 33,
    "start_time": "2023-07-31T12:37:19.321Z"
   },
   {
    "duration": 27,
    "start_time": "2023-07-31T12:37:45.330Z"
   },
   {
    "duration": 32,
    "start_time": "2023-07-31T12:37:55.886Z"
   },
   {
    "duration": 28,
    "start_time": "2023-07-31T12:38:10.391Z"
   },
   {
    "duration": 4,
    "start_time": "2023-07-31T12:40:20.077Z"
   },
   {
    "duration": 15,
    "start_time": "2023-07-31T12:40:25.615Z"
   },
   {
    "duration": 15,
    "start_time": "2023-07-31T12:40:52.280Z"
   },
   {
    "duration": 41,
    "start_time": "2023-07-31T12:41:42.903Z"
   },
   {
    "duration": 23,
    "start_time": "2023-07-31T12:41:50.466Z"
   },
   {
    "duration": 15,
    "start_time": "2023-07-31T12:42:01.626Z"
   },
   {
    "duration": 22,
    "start_time": "2023-07-31T12:42:11.971Z"
   },
   {
    "duration": 1145,
    "start_time": "2023-07-31T12:42:46.800Z"
   },
   {
    "duration": 95,
    "start_time": "2023-07-31T12:42:47.948Z"
   },
   {
    "duration": 3,
    "start_time": "2023-07-31T12:42:48.045Z"
   },
   {
    "duration": 37,
    "start_time": "2023-07-31T12:42:48.051Z"
   },
   {
    "duration": 16,
    "start_time": "2023-07-31T12:42:48.090Z"
   },
   {
    "duration": 3,
    "start_time": "2023-07-31T12:42:48.108Z"
   },
   {
    "duration": 17,
    "start_time": "2023-07-31T12:42:48.112Z"
   },
   {
    "duration": 9,
    "start_time": "2023-07-31T12:42:48.130Z"
   },
   {
    "duration": 28,
    "start_time": "2023-07-31T12:42:48.140Z"
   },
   {
    "duration": 4,
    "start_time": "2023-07-31T12:42:48.171Z"
   },
   {
    "duration": 17,
    "start_time": "2023-07-31T12:42:48.177Z"
   },
   {
    "duration": 1773,
    "start_time": "2023-07-31T12:42:48.196Z"
   },
   {
    "duration": 50,
    "start_time": "2023-07-31T12:42:49.971Z"
   },
   {
    "duration": 8,
    "start_time": "2023-07-31T12:42:50.023Z"
   },
   {
    "duration": 40,
    "start_time": "2023-07-31T12:42:50.032Z"
   },
   {
    "duration": 16971,
    "start_time": "2023-07-31T12:42:50.074Z"
   },
   {
    "duration": 11,
    "start_time": "2023-07-31T12:43:07.047Z"
   },
   {
    "duration": 134,
    "start_time": "2023-07-31T12:43:56.662Z"
   },
   {
    "duration": 27,
    "start_time": "2023-07-31T12:44:06.474Z"
   },
   {
    "duration": 1183,
    "start_time": "2023-07-31T12:44:26.664Z"
   },
   {
    "duration": 81,
    "start_time": "2023-07-31T12:44:27.849Z"
   },
   {
    "duration": 3,
    "start_time": "2023-07-31T12:44:27.932Z"
   },
   {
    "duration": 62,
    "start_time": "2023-07-31T12:44:27.936Z"
   },
   {
    "duration": 31,
    "start_time": "2023-07-31T12:44:28.001Z"
   },
   {
    "duration": 30,
    "start_time": "2023-07-31T12:44:28.034Z"
   },
   {
    "duration": 70,
    "start_time": "2023-07-31T12:44:28.067Z"
   },
   {
    "duration": 57,
    "start_time": "2023-07-31T12:44:28.138Z"
   },
   {
    "duration": 26,
    "start_time": "2023-07-31T12:44:28.198Z"
   },
   {
    "duration": 21,
    "start_time": "2023-07-31T12:44:28.226Z"
   },
   {
    "duration": 42,
    "start_time": "2023-07-31T12:44:28.249Z"
   },
   {
    "duration": 1757,
    "start_time": "2023-07-31T12:44:28.293Z"
   },
   {
    "duration": 51,
    "start_time": "2023-07-31T12:44:30.052Z"
   },
   {
    "duration": 32,
    "start_time": "2023-07-31T12:44:30.105Z"
   },
   {
    "duration": 139,
    "start_time": "2023-07-31T12:44:30.139Z"
   },
   {
    "duration": 17602,
    "start_time": "2023-07-31T12:44:30.279Z"
   },
   {
    "duration": 7,
    "start_time": "2023-07-31T12:44:47.882Z"
   },
   {
    "duration": 18375,
    "start_time": "2023-07-31T12:53:35.209Z"
   },
   {
    "duration": 99,
    "start_time": "2023-07-31T12:54:01.330Z"
   },
   {
    "duration": 18233,
    "start_time": "2023-07-31T12:54:04.878Z"
   },
   {
    "duration": 9600,
    "start_time": "2023-07-31T12:57:16.858Z"
   },
   {
    "duration": 81,
    "start_time": "2023-07-31T12:57:53.998Z"
   },
   {
    "duration": 9249,
    "start_time": "2023-07-31T12:57:57.308Z"
   },
   {
    "duration": 17774,
    "start_time": "2023-07-31T12:58:32.721Z"
   },
   {
    "duration": 18114,
    "start_time": "2023-07-31T12:59:02.079Z"
   },
   {
    "duration": 1241,
    "start_time": "2023-07-31T13:01:05.093Z"
   },
   {
    "duration": 308,
    "start_time": "2023-07-31T13:01:06.336Z"
   },
   {
    "duration": 3,
    "start_time": "2023-07-31T13:01:06.645Z"
   },
   {
    "duration": 37,
    "start_time": "2023-07-31T13:01:06.650Z"
   },
   {
    "duration": 15,
    "start_time": "2023-07-31T13:01:06.690Z"
   },
   {
    "duration": 3,
    "start_time": "2023-07-31T13:01:06.707Z"
   },
   {
    "duration": 18,
    "start_time": "2023-07-31T13:01:06.711Z"
   },
   {
    "duration": 8,
    "start_time": "2023-07-31T13:01:06.730Z"
   },
   {
    "duration": 26,
    "start_time": "2023-07-31T13:01:06.739Z"
   },
   {
    "duration": 4,
    "start_time": "2023-07-31T13:01:06.767Z"
   },
   {
    "duration": 20,
    "start_time": "2023-07-31T13:01:06.773Z"
   },
   {
    "duration": 1652,
    "start_time": "2023-07-31T13:01:06.794Z"
   },
   {
    "duration": 61,
    "start_time": "2023-07-31T13:01:08.449Z"
   },
   {
    "duration": 23,
    "start_time": "2023-07-31T13:01:08.513Z"
   },
   {
    "duration": 17213,
    "start_time": "2023-07-31T13:01:08.557Z"
   },
   {
    "duration": 7,
    "start_time": "2023-07-31T13:01:25.772Z"
   },
   {
    "duration": 1234,
    "start_time": "2023-07-31T13:56:56.144Z"
   },
   {
    "duration": 94,
    "start_time": "2023-07-31T13:56:57.380Z"
   },
   {
    "duration": 3,
    "start_time": "2023-07-31T13:56:57.476Z"
   },
   {
    "duration": 31,
    "start_time": "2023-07-31T13:56:57.482Z"
   },
   {
    "duration": 14,
    "start_time": "2023-07-31T13:56:57.515Z"
   },
   {
    "duration": 3,
    "start_time": "2023-07-31T13:56:57.531Z"
   },
   {
    "duration": 35,
    "start_time": "2023-07-31T13:56:57.536Z"
   },
   {
    "duration": 11,
    "start_time": "2023-07-31T13:56:57.572Z"
   },
   {
    "duration": 16,
    "start_time": "2023-07-31T13:56:57.584Z"
   },
   {
    "duration": 10,
    "start_time": "2023-07-31T13:56:57.602Z"
   },
   {
    "duration": 14,
    "start_time": "2023-07-31T13:56:57.614Z"
   },
   {
    "duration": 1813,
    "start_time": "2023-07-31T13:56:57.630Z"
   },
   {
    "duration": 56,
    "start_time": "2023-07-31T13:56:59.445Z"
   },
   {
    "duration": 21,
    "start_time": "2023-07-31T13:56:59.503Z"
   },
   {
    "duration": 1710,
    "start_time": "2023-07-31T17:26:46.238Z"
   },
   {
    "duration": 125,
    "start_time": "2023-07-31T17:26:47.951Z"
   },
   {
    "duration": 6,
    "start_time": "2023-07-31T17:26:48.078Z"
   },
   {
    "duration": 30,
    "start_time": "2023-07-31T17:26:48.085Z"
   },
   {
    "duration": 14,
    "start_time": "2023-07-31T17:26:48.117Z"
   },
   {
    "duration": 43,
    "start_time": "2023-07-31T17:26:48.133Z"
   },
   {
    "duration": 5,
    "start_time": "2023-07-31T17:26:48.178Z"
   },
   {
    "duration": 19,
    "start_time": "2023-07-31T17:26:48.185Z"
   },
   {
    "duration": 5,
    "start_time": "2023-07-31T17:26:48.205Z"
   },
   {
    "duration": 29,
    "start_time": "2023-07-31T17:26:48.212Z"
   },
   {
    "duration": 1821,
    "start_time": "2023-07-31T17:26:48.243Z"
   },
   {
    "duration": 52,
    "start_time": "2023-07-31T17:26:50.070Z"
   },
   {
    "duration": 21,
    "start_time": "2023-07-31T17:26:50.124Z"
   },
   {
    "duration": 1306,
    "start_time": "2023-07-31T17:27:24.800Z"
   },
   {
    "duration": 97,
    "start_time": "2023-07-31T17:27:26.109Z"
   },
   {
    "duration": 4,
    "start_time": "2023-07-31T17:27:26.208Z"
   },
   {
    "duration": 88,
    "start_time": "2023-07-31T17:27:26.214Z"
   },
   {
    "duration": 54,
    "start_time": "2023-07-31T17:27:26.305Z"
   },
   {
    "duration": 35,
    "start_time": "2023-07-31T17:27:26.361Z"
   },
   {
    "duration": 34,
    "start_time": "2023-07-31T17:27:26.398Z"
   },
   {
    "duration": 31,
    "start_time": "2023-07-31T17:27:26.434Z"
   },
   {
    "duration": 40,
    "start_time": "2023-07-31T17:27:26.467Z"
   },
   {
    "duration": 31,
    "start_time": "2023-07-31T17:27:26.509Z"
   },
   {
    "duration": 1726,
    "start_time": "2023-07-31T17:27:26.543Z"
   },
   {
    "duration": 69,
    "start_time": "2023-07-31T17:27:28.271Z"
   },
   {
    "duration": 44,
    "start_time": "2023-07-31T17:27:28.343Z"
   },
   {
    "duration": 18034,
    "start_time": "2023-07-31T17:27:28.390Z"
   },
   {
    "duration": 7,
    "start_time": "2023-07-31T17:27:46.427Z"
   },
   {
    "duration": 18298,
    "start_time": "2023-07-31T18:50:39.844Z"
   },
   {
    "duration": 1381,
    "start_time": "2023-08-02T06:05:10.605Z"
   },
   {
    "duration": 134,
    "start_time": "2023-08-02T06:05:11.988Z"
   },
   {
    "duration": 2,
    "start_time": "2023-08-02T06:05:12.124Z"
   },
   {
    "duration": 25,
    "start_time": "2023-08-02T06:05:12.129Z"
   },
   {
    "duration": 18,
    "start_time": "2023-08-02T06:05:12.155Z"
   },
   {
    "duration": 13,
    "start_time": "2023-08-02T06:05:12.175Z"
   },
   {
    "duration": 19,
    "start_time": "2023-08-02T06:05:12.190Z"
   },
   {
    "duration": 15,
    "start_time": "2023-08-02T06:05:12.211Z"
   },
   {
    "duration": 3,
    "start_time": "2023-08-02T06:05:12.228Z"
   },
   {
    "duration": 27,
    "start_time": "2023-08-02T06:05:12.233Z"
   },
   {
    "duration": 1535,
    "start_time": "2023-08-02T06:05:12.261Z"
   },
   {
    "duration": 73,
    "start_time": "2023-08-02T06:05:13.798Z"
   },
   {
    "duration": 20,
    "start_time": "2023-08-02T06:05:13.873Z"
   },
   {
    "duration": 16974,
    "start_time": "2023-08-02T06:05:13.895Z"
   },
   {
    "duration": 6,
    "start_time": "2023-08-02T06:05:30.871Z"
   },
   {
    "duration": 12,
    "start_time": "2023-08-02T06:09:46.249Z"
   },
   {
    "duration": 12,
    "start_time": "2023-08-02T06:10:01.922Z"
   },
   {
    "duration": 107,
    "start_time": "2023-08-02T06:10:24.200Z"
   },
   {
    "duration": 12,
    "start_time": "2023-08-02T06:10:34.130Z"
   },
   {
    "duration": 11,
    "start_time": "2023-08-02T06:10:43.880Z"
   },
   {
    "duration": 18,
    "start_time": "2023-08-02T06:10:50.950Z"
   },
   {
    "duration": 14,
    "start_time": "2023-08-02T06:11:24.219Z"
   },
   {
    "duration": 12,
    "start_time": "2023-08-02T06:11:45.947Z"
   },
   {
    "duration": 2507,
    "start_time": "2023-08-02T06:13:36.517Z"
   },
   {
    "duration": 13,
    "start_time": "2023-08-02T06:14:11.471Z"
   },
   {
    "duration": 18,
    "start_time": "2023-08-02T06:14:17.925Z"
   },
   {
    "duration": 12,
    "start_time": "2023-08-02T06:14:25.481Z"
   },
   {
    "duration": 10,
    "start_time": "2023-08-02T06:14:44.028Z"
   },
   {
    "duration": 97,
    "start_time": "2023-08-02T06:18:36.813Z"
   },
   {
    "duration": 13,
    "start_time": "2023-08-02T06:18:42.612Z"
   },
   {
    "duration": 24,
    "start_time": "2023-08-02T06:18:46.842Z"
   },
   {
    "duration": 2426,
    "start_time": "2023-08-02T06:20:04.693Z"
   },
   {
    "duration": 20,
    "start_time": "2023-08-02T06:20:14.092Z"
   },
   {
    "duration": 26,
    "start_time": "2023-08-02T06:20:22.145Z"
   },
   {
    "duration": 12,
    "start_time": "2023-08-02T06:20:34.037Z"
   },
   {
    "duration": 15,
    "start_time": "2023-08-02T06:20:38.131Z"
   },
   {
    "duration": 17,
    "start_time": "2023-08-02T06:20:50.379Z"
   },
   {
    "duration": 18,
    "start_time": "2023-08-02T06:21:18.337Z"
   },
   {
    "duration": 19,
    "start_time": "2023-08-02T06:21:25.603Z"
   },
   {
    "duration": 17,
    "start_time": "2023-08-02T06:22:02.878Z"
   },
   {
    "duration": 11,
    "start_time": "2023-08-02T06:23:39.728Z"
   },
   {
    "duration": 14,
    "start_time": "2023-08-02T06:26:36.017Z"
   },
   {
    "duration": 19,
    "start_time": "2023-08-02T06:26:45.638Z"
   },
   {
    "duration": 16,
    "start_time": "2023-08-02T06:27:35.324Z"
   },
   {
    "duration": 20,
    "start_time": "2023-08-02T06:27:40.899Z"
   },
   {
    "duration": 191,
    "start_time": "2023-08-02T06:28:43.195Z"
   },
   {
    "duration": 158,
    "start_time": "2023-08-02T06:29:11.602Z"
   },
   {
    "duration": 619,
    "start_time": "2023-08-02T06:29:25.595Z"
   },
   {
    "duration": 152,
    "start_time": "2023-08-02T06:29:40.906Z"
   },
   {
    "duration": 21,
    "start_time": "2023-08-02T06:30:12.473Z"
   },
   {
    "duration": 184,
    "start_time": "2023-08-02T06:30:41.122Z"
   },
   {
    "duration": 159,
    "start_time": "2023-08-02T06:30:46.164Z"
   },
   {
    "duration": 176,
    "start_time": "2023-08-02T06:34:50.191Z"
   },
   {
    "duration": 30,
    "start_time": "2023-08-02T06:37:42.083Z"
   },
   {
    "duration": 24,
    "start_time": "2023-08-02T06:37:54.369Z"
   },
   {
    "duration": 161,
    "start_time": "2023-08-02T06:38:06.291Z"
   },
   {
    "duration": 21,
    "start_time": "2023-08-02T06:38:21.060Z"
   },
   {
    "duration": 153,
    "start_time": "2023-08-02T06:38:23.306Z"
   },
   {
    "duration": 208,
    "start_time": "2023-08-02T06:38:58.856Z"
   },
   {
    "duration": 157,
    "start_time": "2023-08-02T06:39:21.421Z"
   },
   {
    "duration": 17,
    "start_time": "2023-08-02T06:42:25.630Z"
   },
   {
    "duration": 17,
    "start_time": "2023-08-02T06:42:30.938Z"
   },
   {
    "duration": 22,
    "start_time": "2023-08-02T06:42:38.170Z"
   },
   {
    "duration": 12,
    "start_time": "2023-08-02T06:42:42.687Z"
   },
   {
    "duration": 169,
    "start_time": "2023-08-02T06:43:34.670Z"
   },
   {
    "duration": 162,
    "start_time": "2023-08-02T06:43:43.861Z"
   },
   {
    "duration": 17,
    "start_time": "2023-08-02T06:44:29.912Z"
   },
   {
    "duration": 17,
    "start_time": "2023-08-02T06:44:39.670Z"
   },
   {
    "duration": 17,
    "start_time": "2023-08-02T06:44:49.699Z"
   },
   {
    "duration": 17,
    "start_time": "2023-08-02T06:44:52.694Z"
   },
   {
    "duration": 16,
    "start_time": "2023-08-02T06:45:33.302Z"
   },
   {
    "duration": 180,
    "start_time": "2023-08-02T06:45:35.586Z"
   },
   {
    "duration": 23,
    "start_time": "2023-08-02T06:45:49.768Z"
   },
   {
    "duration": 15,
    "start_time": "2023-08-02T07:15:41.936Z"
   },
   {
    "duration": 81431,
    "start_time": "2023-08-02T07:16:34.588Z"
   },
   {
    "duration": 187,
    "start_time": "2023-08-02T07:17:56.021Z"
   },
   {
    "duration": 221,
    "start_time": "2023-08-02T07:18:15.753Z"
   },
   {
    "duration": 237,
    "start_time": "2023-08-02T07:18:41.102Z"
   },
   {
    "duration": 14509,
    "start_time": "2023-08-02T07:21:16.340Z"
   },
   {
    "duration": 15143,
    "start_time": "2023-08-02T07:21:52.594Z"
   },
   {
    "duration": 14014,
    "start_time": "2023-08-02T07:22:29.205Z"
   },
   {
    "duration": 13898,
    "start_time": "2023-08-02T07:23:24.216Z"
   },
   {
    "duration": 573,
    "start_time": "2023-08-02T07:24:03.727Z"
   },
   {
    "duration": 192,
    "start_time": "2023-08-02T07:24:52.680Z"
   },
   {
    "duration": 847,
    "start_time": "2023-08-02T07:26:52.161Z"
   },
   {
    "duration": 11,
    "start_time": "2023-08-02T07:52:24.330Z"
   },
   {
    "duration": 698,
    "start_time": "2023-08-02T07:52:56.145Z"
   },
   {
    "duration": 3149,
    "start_time": "2023-08-02T07:53:04.633Z"
   },
   {
    "duration": 40,
    "start_time": "2023-08-02T07:53:14.310Z"
   },
   {
    "duration": 31,
    "start_time": "2023-08-02T07:54:47.067Z"
   },
   {
    "duration": 855,
    "start_time": "2023-08-02T07:55:05.518Z"
   },
   {
    "duration": 1237,
    "start_time": "2023-08-02T08:07:10.333Z"
   },
   {
    "duration": 109,
    "start_time": "2023-08-02T08:07:11.572Z"
   },
   {
    "duration": 19,
    "start_time": "2023-08-02T08:07:11.683Z"
   },
   {
    "duration": 106,
    "start_time": "2023-08-02T08:07:11.704Z"
   },
   {
    "duration": 12,
    "start_time": "2023-08-02T08:07:11.812Z"
   },
   {
    "duration": 21,
    "start_time": "2023-08-02T08:07:11.826Z"
   },
   {
    "duration": 6,
    "start_time": "2023-08-02T08:07:11.849Z"
   },
   {
    "duration": 13,
    "start_time": "2023-08-02T08:07:11.856Z"
   },
   {
    "duration": 3,
    "start_time": "2023-08-02T08:07:11.871Z"
   },
   {
    "duration": 14,
    "start_time": "2023-08-02T08:07:11.876Z"
   },
   {
    "duration": 1586,
    "start_time": "2023-08-02T08:07:11.891Z"
   },
   {
    "duration": 172,
    "start_time": "2023-08-02T08:07:13.479Z"
   },
   {
    "duration": 20,
    "start_time": "2023-08-02T08:07:13.656Z"
   },
   {
    "duration": 12644,
    "start_time": "2023-08-02T08:07:13.678Z"
   },
   {
    "duration": 2,
    "start_time": "2023-08-02T08:07:26.323Z"
   },
   {
    "duration": 39,
    "start_time": "2023-08-02T08:07:26.327Z"
   },
   {
    "duration": 76,
    "start_time": "2023-08-02T08:07:26.368Z"
   },
   {
    "duration": 164,
    "start_time": "2023-08-02T08:07:26.446Z"
   },
   {
    "duration": 6,
    "start_time": "2023-08-02T08:07:26.611Z"
   },
   {
    "duration": 39,
    "start_time": "2023-08-02T08:07:26.618Z"
   },
   {
    "duration": 146,
    "start_time": "2023-08-02T08:07:26.659Z"
   },
   {
    "duration": 47,
    "start_time": "2023-08-02T08:07:42.324Z"
   },
   {
    "duration": 62,
    "start_time": "2023-08-02T08:08:29.175Z"
   },
   {
    "duration": 1240,
    "start_time": "2023-08-02T08:12:31.242Z"
   },
   {
    "duration": 98,
    "start_time": "2023-08-02T08:12:32.485Z"
   },
   {
    "duration": 3,
    "start_time": "2023-08-02T08:12:32.584Z"
   },
   {
    "duration": 27,
    "start_time": "2023-08-02T08:12:32.590Z"
   },
   {
    "duration": 14,
    "start_time": "2023-08-02T08:12:32.619Z"
   },
   {
    "duration": 15,
    "start_time": "2023-08-02T08:12:32.656Z"
   },
   {
    "duration": 6,
    "start_time": "2023-08-02T08:12:32.673Z"
   },
   {
    "duration": 14,
    "start_time": "2023-08-02T08:12:32.681Z"
   },
   {
    "duration": 4,
    "start_time": "2023-08-02T08:12:32.697Z"
   },
   {
    "duration": 14,
    "start_time": "2023-08-02T08:12:32.703Z"
   },
   {
    "duration": 1598,
    "start_time": "2023-08-02T08:12:32.719Z"
   },
   {
    "duration": 161,
    "start_time": "2023-08-02T08:12:34.319Z"
   },
   {
    "duration": 19,
    "start_time": "2023-08-02T08:12:34.482Z"
   },
   {
    "duration": 12725,
    "start_time": "2023-08-02T08:12:34.502Z"
   },
   {
    "duration": 2,
    "start_time": "2023-08-02T08:12:47.229Z"
   },
   {
    "duration": 6,
    "start_time": "2023-08-02T08:12:47.233Z"
   },
   {
    "duration": 33,
    "start_time": "2023-08-02T08:12:47.240Z"
   },
   {
    "duration": 185,
    "start_time": "2023-08-02T08:12:47.274Z"
   },
   {
    "duration": 6,
    "start_time": "2023-08-02T08:12:47.460Z"
   },
   {
    "duration": 7,
    "start_time": "2023-08-02T08:12:47.468Z"
   },
   {
    "duration": 2849,
    "start_time": "2023-08-02T08:12:47.476Z"
   },
   {
    "duration": 26,
    "start_time": "2023-08-02T08:15:08.527Z"
   },
   {
    "duration": 26,
    "start_time": "2023-08-02T08:15:16.212Z"
   },
   {
    "duration": 9,
    "start_time": "2023-08-02T08:15:26.429Z"
   },
   {
    "duration": 9,
    "start_time": "2023-08-02T08:15:32.242Z"
   },
   {
    "duration": 3561,
    "start_time": "2023-08-02T08:15:34.357Z"
   },
   {
    "duration": 26,
    "start_time": "2023-08-02T08:15:47.702Z"
   },
   {
    "duration": 2806,
    "start_time": "2023-08-02T08:15:50.054Z"
   },
   {
    "duration": 6,
    "start_time": "2023-08-02T08:16:09.482Z"
   },
   {
    "duration": 2988,
    "start_time": "2023-08-02T08:16:11.301Z"
   },
   {
    "duration": 2856,
    "start_time": "2023-08-02T08:18:06.162Z"
   },
   {
    "duration": 6,
    "start_time": "2023-08-02T08:18:11.515Z"
   },
   {
    "duration": 1592,
    "start_time": "2023-08-02T08:18:55.045Z"
   },
   {
    "duration": 1473,
    "start_time": "2023-08-02T08:19:14.150Z"
   },
   {
    "duration": 2891,
    "start_time": "2023-08-02T08:19:22.897Z"
   },
   {
    "duration": 2919,
    "start_time": "2023-08-02T08:21:05.459Z"
   },
   {
    "duration": 2671,
    "start_time": "2023-08-02T08:21:54.177Z"
   },
   {
    "duration": 2942,
    "start_time": "2023-08-02T08:22:04.577Z"
   },
   {
    "duration": 2751,
    "start_time": "2023-08-02T08:22:39.862Z"
   },
   {
    "duration": 21,
    "start_time": "2023-08-02T08:23:02.129Z"
   },
   {
    "duration": 115,
    "start_time": "2023-08-02T08:23:57.322Z"
   },
   {
    "duration": 19,
    "start_time": "2023-08-02T08:24:02.603Z"
   },
   {
    "duration": 22,
    "start_time": "2023-08-02T08:24:08.530Z"
   },
   {
    "duration": 3096,
    "start_time": "2023-08-02T08:24:20.674Z"
   },
   {
    "duration": 3148,
    "start_time": "2023-08-02T08:24:31.703Z"
   },
   {
    "duration": 3217,
    "start_time": "2023-08-02T08:25:11.200Z"
   },
   {
    "duration": 2884,
    "start_time": "2023-08-02T08:26:54.905Z"
   },
   {
    "duration": 3194,
    "start_time": "2023-08-02T08:27:16.048Z"
   },
   {
    "duration": 2917,
    "start_time": "2023-08-02T08:27:29.999Z"
   },
   {
    "duration": 19,
    "start_time": "2023-08-02T08:36:32.116Z"
   },
   {
    "duration": 2133,
    "start_time": "2023-08-02T08:37:08.250Z"
   },
   {
    "duration": 1958,
    "start_time": "2023-08-02T08:37:25.255Z"
   },
   {
    "duration": 18,
    "start_time": "2023-08-02T08:47:08.909Z"
   },
   {
    "duration": 22,
    "start_time": "2023-08-02T08:55:40.748Z"
   },
   {
    "duration": 21,
    "start_time": "2023-08-02T09:00:35.570Z"
   },
   {
    "duration": 15,
    "start_time": "2023-08-02T09:00:50.681Z"
   },
   {
    "duration": 16,
    "start_time": "2023-08-02T09:06:09.133Z"
   },
   {
    "duration": 11,
    "start_time": "2023-08-02T09:06:15.517Z"
   },
   {
    "duration": 9,
    "start_time": "2023-08-02T09:06:18.185Z"
   },
   {
    "duration": 13,
    "start_time": "2023-08-02T09:06:25.967Z"
   },
   {
    "duration": 13,
    "start_time": "2023-08-02T09:06:36.320Z"
   },
   {
    "duration": 13,
    "start_time": "2023-08-02T09:07:32.322Z"
   },
   {
    "duration": 8,
    "start_time": "2023-08-02T09:07:35.785Z"
   },
   {
    "duration": 10,
    "start_time": "2023-08-02T09:07:55.761Z"
   },
   {
    "duration": 8,
    "start_time": "2023-08-02T09:08:17.478Z"
   },
   {
    "duration": 8,
    "start_time": "2023-08-02T09:08:22.740Z"
   },
   {
    "duration": 10,
    "start_time": "2023-08-02T09:08:28.420Z"
   },
   {
    "duration": 12,
    "start_time": "2023-08-02T09:10:54.923Z"
   },
   {
    "duration": 11,
    "start_time": "2023-08-02T09:11:14.026Z"
   },
   {
    "duration": 20,
    "start_time": "2023-08-02T09:11:16.602Z"
   },
   {
    "duration": 15,
    "start_time": "2023-08-02T09:12:25.677Z"
   },
   {
    "duration": 6,
    "start_time": "2023-08-02T09:13:25.633Z"
   },
   {
    "duration": 16,
    "start_time": "2023-08-02T09:13:32.431Z"
   },
   {
    "duration": 26,
    "start_time": "2023-08-02T09:14:26.148Z"
   },
   {
    "duration": 26,
    "start_time": "2023-08-02T09:15:43.282Z"
   },
   {
    "duration": 17,
    "start_time": "2023-08-02T09:17:44.509Z"
   },
   {
    "duration": 21,
    "start_time": "2023-08-02T09:18:03.970Z"
   },
   {
    "duration": 13,
    "start_time": "2023-08-02T09:20:24.685Z"
   },
   {
    "duration": 6,
    "start_time": "2023-08-02T09:21:50.028Z"
   },
   {
    "duration": 17,
    "start_time": "2023-08-02T09:23:03.657Z"
   },
   {
    "duration": 9,
    "start_time": "2023-08-02T09:23:14.580Z"
   },
   {
    "duration": 10,
    "start_time": "2023-08-02T09:23:18.432Z"
   },
   {
    "duration": 11,
    "start_time": "2023-08-02T09:24:03.894Z"
   },
   {
    "duration": 16,
    "start_time": "2023-08-02T09:24:12.154Z"
   },
   {
    "duration": 7,
    "start_time": "2023-08-02T09:26:29.578Z"
   },
   {
    "duration": 6,
    "start_time": "2023-08-02T09:26:40.779Z"
   },
   {
    "duration": 7,
    "start_time": "2023-08-02T09:27:17.838Z"
   },
   {
    "duration": 6,
    "start_time": "2023-08-02T09:27:19.725Z"
   },
   {
    "duration": 4,
    "start_time": "2023-08-02T09:27:39.702Z"
   },
   {
    "duration": 20,
    "start_time": "2023-08-02T09:30:43.677Z"
   },
   {
    "duration": 3,
    "start_time": "2023-08-02T09:30:48.179Z"
   },
   {
    "duration": 6,
    "start_time": "2023-08-02T09:30:49.964Z"
   },
   {
    "duration": 2563,
    "start_time": "2023-08-02T09:30:52.908Z"
   },
   {
    "duration": 5212,
    "start_time": "2023-08-02T09:30:55.581Z"
   },
   {
    "duration": 27,
    "start_time": "2023-08-02T09:31:34.553Z"
   },
   {
    "duration": 25,
    "start_time": "2023-08-02T09:32:04.649Z"
   },
   {
    "duration": 28,
    "start_time": "2023-08-02T09:38:13.222Z"
   },
   {
    "duration": 1334,
    "start_time": "2023-08-02T09:39:39.427Z"
   },
   {
    "duration": 33,
    "start_time": "2023-08-02T09:39:58.562Z"
   },
   {
    "duration": 440,
    "start_time": "2023-08-02T09:43:35.967Z"
   },
   {
    "duration": 27,
    "start_time": "2023-08-02T09:44:08.352Z"
   },
   {
    "duration": 15,
    "start_time": "2023-08-02T09:44:35.306Z"
   },
   {
    "duration": 11,
    "start_time": "2023-08-02T09:45:07.310Z"
   },
   {
    "duration": 3,
    "start_time": "2023-08-02T09:45:26.029Z"
   },
   {
    "duration": 28,
    "start_time": "2023-08-02T09:45:28.449Z"
   },
   {
    "duration": 3,
    "start_time": "2023-08-02T09:50:55.136Z"
   },
   {
    "duration": 18,
    "start_time": "2023-08-02T09:50:56.969Z"
   },
   {
    "duration": 18,
    "start_time": "2023-08-02T09:50:57.190Z"
   },
   {
    "duration": 19,
    "start_time": "2023-08-02T09:50:58.000Z"
   },
   {
    "duration": 3,
    "start_time": "2023-08-02T09:51:06.015Z"
   },
   {
    "duration": 18,
    "start_time": "2023-08-02T09:51:08.292Z"
   },
   {
    "duration": 1235,
    "start_time": "2023-08-02T09:51:16.522Z"
   },
   {
    "duration": 183,
    "start_time": "2023-08-02T09:51:17.760Z"
   },
   {
    "duration": 2,
    "start_time": "2023-08-02T09:51:17.945Z"
   },
   {
    "duration": 44,
    "start_time": "2023-08-02T09:51:17.949Z"
   },
   {
    "duration": 13,
    "start_time": "2023-08-02T09:51:17.995Z"
   },
   {
    "duration": 15,
    "start_time": "2023-08-02T09:51:18.010Z"
   },
   {
    "duration": 4,
    "start_time": "2023-08-02T09:51:18.026Z"
   },
   {
    "duration": 19,
    "start_time": "2023-08-02T09:51:18.031Z"
   },
   {
    "duration": 6,
    "start_time": "2023-08-02T09:51:18.051Z"
   },
   {
    "duration": 14,
    "start_time": "2023-08-02T09:51:18.060Z"
   },
   {
    "duration": 1725,
    "start_time": "2023-08-02T09:51:18.075Z"
   },
   {
    "duration": 166,
    "start_time": "2023-08-02T09:51:19.802Z"
   },
   {
    "duration": 20,
    "start_time": "2023-08-02T09:51:19.970Z"
   },
   {
    "duration": 13000,
    "start_time": "2023-08-02T09:51:19.991Z"
   },
   {
    "duration": 3,
    "start_time": "2023-08-02T09:51:32.993Z"
   },
   {
    "duration": 49,
    "start_time": "2023-08-02T09:51:33.001Z"
   },
   {
    "duration": 69,
    "start_time": "2023-08-02T09:51:33.052Z"
   },
   {
    "duration": 197,
    "start_time": "2023-08-02T09:51:33.123Z"
   },
   {
    "duration": 6,
    "start_time": "2023-08-02T09:51:33.322Z"
   },
   {
    "duration": 10,
    "start_time": "2023-08-02T09:51:33.330Z"
   },
   {
    "duration": 1890,
    "start_time": "2023-08-02T09:51:33.341Z"
   },
   {
    "duration": 13,
    "start_time": "2023-08-02T09:51:35.233Z"
   },
   {
    "duration": 6,
    "start_time": "2023-08-02T09:51:35.257Z"
   },
   {
    "duration": 6,
    "start_time": "2023-08-02T09:51:35.265Z"
   },
   {
    "duration": 26,
    "start_time": "2023-08-02T09:51:35.273Z"
   },
   {
    "duration": 865,
    "start_time": "2023-08-02T09:51:35.301Z"
   },
   {
    "duration": 2,
    "start_time": "2023-08-02T09:51:36.168Z"
   },
   {
    "duration": 128,
    "start_time": "2023-08-02T09:51:36.173Z"
   },
   {
    "duration": 20,
    "start_time": "2023-08-02T09:54:36.338Z"
   },
   {
    "duration": 25,
    "start_time": "2023-08-02T09:55:58.876Z"
   },
   {
    "duration": 12,
    "start_time": "2023-08-02T09:57:59.563Z"
   },
   {
    "duration": 1291,
    "start_time": "2023-08-02T09:58:17.292Z"
   },
   {
    "duration": 78,
    "start_time": "2023-08-02T09:58:18.585Z"
   },
   {
    "duration": 3,
    "start_time": "2023-08-02T09:58:18.664Z"
   },
   {
    "duration": 33,
    "start_time": "2023-08-02T09:58:18.669Z"
   },
   {
    "duration": 13,
    "start_time": "2023-08-02T09:58:18.704Z"
   },
   {
    "duration": 14,
    "start_time": "2023-08-02T09:58:18.718Z"
   },
   {
    "duration": 24,
    "start_time": "2023-08-02T09:58:18.734Z"
   },
   {
    "duration": 17,
    "start_time": "2023-08-02T09:58:18.760Z"
   },
   {
    "duration": 4,
    "start_time": "2023-08-02T09:58:18.778Z"
   },
   {
    "duration": 15,
    "start_time": "2023-08-02T09:58:18.784Z"
   },
   {
    "duration": 1639,
    "start_time": "2023-08-02T09:58:18.801Z"
   },
   {
    "duration": 153,
    "start_time": "2023-08-02T09:58:20.442Z"
   },
   {
    "duration": 17,
    "start_time": "2023-08-02T09:58:20.597Z"
   },
   {
    "duration": 13079,
    "start_time": "2023-08-02T09:58:20.616Z"
   },
   {
    "duration": 2,
    "start_time": "2023-08-02T09:58:33.697Z"
   },
   {
    "duration": 14,
    "start_time": "2023-08-02T09:58:33.701Z"
   },
   {
    "duration": 27,
    "start_time": "2023-08-02T09:58:33.717Z"
   },
   {
    "duration": 201,
    "start_time": "2023-08-02T09:58:33.745Z"
   },
   {
    "duration": 7,
    "start_time": "2023-08-02T09:58:33.956Z"
   },
   {
    "duration": 3,
    "start_time": "2023-08-02T09:58:33.966Z"
   },
   {
    "duration": 1850,
    "start_time": "2023-08-02T09:58:33.971Z"
   },
   {
    "duration": 14,
    "start_time": "2023-08-02T09:58:35.822Z"
   },
   {
    "duration": 25,
    "start_time": "2023-08-02T09:58:35.838Z"
   },
   {
    "duration": 40,
    "start_time": "2023-08-02T09:58:35.865Z"
   },
   {
    "duration": 30,
    "start_time": "2023-08-02T09:58:35.907Z"
   },
   {
    "duration": 870,
    "start_time": "2023-08-02T09:58:35.939Z"
   },
   {
    "duration": 12,
    "start_time": "2023-08-02T09:58:36.811Z"
   },
   {
    "duration": 132,
    "start_time": "2023-08-02T09:58:36.826Z"
   },
   {
    "duration": 13,
    "start_time": "2023-08-02T10:00:22.065Z"
   },
   {
    "duration": 23,
    "start_time": "2023-08-02T10:01:05.853Z"
   },
   {
    "duration": 24,
    "start_time": "2023-08-02T10:01:22.467Z"
   },
   {
    "duration": 5,
    "start_time": "2023-08-02T10:01:27.164Z"
   },
   {
    "duration": 23,
    "start_time": "2023-08-02T10:01:30.846Z"
   },
   {
    "duration": 22,
    "start_time": "2023-08-02T10:01:39.675Z"
   },
   {
    "duration": 9,
    "start_time": "2023-08-02T10:01:44.733Z"
   },
   {
    "duration": 5,
    "start_time": "2023-08-02T10:01:48.351Z"
   },
   {
    "duration": 22,
    "start_time": "2023-08-02T10:02:11.485Z"
   },
   {
    "duration": 1287,
    "start_time": "2023-08-02T10:04:25.432Z"
   },
   {
    "duration": 80,
    "start_time": "2023-08-02T10:04:26.721Z"
   },
   {
    "duration": 3,
    "start_time": "2023-08-02T10:04:26.803Z"
   },
   {
    "duration": 29,
    "start_time": "2023-08-02T10:04:26.808Z"
   },
   {
    "duration": 15,
    "start_time": "2023-08-02T10:04:26.838Z"
   },
   {
    "duration": 15,
    "start_time": "2023-08-02T10:04:26.857Z"
   },
   {
    "duration": 4,
    "start_time": "2023-08-02T10:04:26.873Z"
   },
   {
    "duration": 15,
    "start_time": "2023-08-02T10:04:26.879Z"
   },
   {
    "duration": 4,
    "start_time": "2023-08-02T10:04:26.896Z"
   },
   {
    "duration": 16,
    "start_time": "2023-08-02T10:04:26.903Z"
   },
   {
    "duration": 1717,
    "start_time": "2023-08-02T10:04:26.920Z"
   },
   {
    "duration": 159,
    "start_time": "2023-08-02T10:04:28.639Z"
   },
   {
    "duration": 21,
    "start_time": "2023-08-02T10:04:28.800Z"
   },
   {
    "duration": 13182,
    "start_time": "2023-08-02T10:04:28.823Z"
   },
   {
    "duration": 2,
    "start_time": "2023-08-02T10:04:42.007Z"
   },
   {
    "duration": 8,
    "start_time": "2023-08-02T10:04:42.011Z"
   },
   {
    "duration": 36,
    "start_time": "2023-08-02T10:04:42.021Z"
   },
   {
    "duration": 186,
    "start_time": "2023-08-02T10:04:42.059Z"
   },
   {
    "duration": 13,
    "start_time": "2023-08-02T10:04:42.247Z"
   },
   {
    "duration": 4,
    "start_time": "2023-08-02T10:04:42.262Z"
   },
   {
    "duration": 1897,
    "start_time": "2023-08-02T10:04:42.268Z"
   },
   {
    "duration": 16,
    "start_time": "2023-08-02T10:04:44.167Z"
   },
   {
    "duration": 11,
    "start_time": "2023-08-02T10:04:44.185Z"
   },
   {
    "duration": 23,
    "start_time": "2023-08-02T10:04:44.198Z"
   },
   {
    "duration": 25,
    "start_time": "2023-08-02T10:04:44.224Z"
   },
   {
    "duration": 881,
    "start_time": "2023-08-02T10:04:44.251Z"
   },
   {
    "duration": 13,
    "start_time": "2023-08-02T10:04:45.134Z"
   },
   {
    "duration": 37,
    "start_time": "2023-08-02T10:04:45.155Z"
   },
   {
    "duration": 23,
    "start_time": "2023-08-02T10:04:45.194Z"
   },
   {
    "duration": 138,
    "start_time": "2023-08-02T10:04:45.220Z"
   },
   {
    "duration": 82,
    "start_time": "2023-08-02T10:06:31.407Z"
   },
   {
    "duration": 10,
    "start_time": "2023-08-02T10:06:48.211Z"
   },
   {
    "duration": 11,
    "start_time": "2023-08-02T10:06:58.706Z"
   },
   {
    "duration": 22,
    "start_time": "2023-08-02T10:07:04.214Z"
   },
   {
    "duration": 1199,
    "start_time": "2023-08-02T10:07:12.174Z"
   },
   {
    "duration": 85,
    "start_time": "2023-08-02T10:07:13.375Z"
   },
   {
    "duration": 3,
    "start_time": "2023-08-02T10:07:13.462Z"
   },
   {
    "duration": 33,
    "start_time": "2023-08-02T10:07:13.466Z"
   },
   {
    "duration": 16,
    "start_time": "2023-08-02T10:07:13.502Z"
   },
   {
    "duration": 15,
    "start_time": "2023-08-02T10:07:13.520Z"
   },
   {
    "duration": 4,
    "start_time": "2023-08-02T10:07:13.557Z"
   },
   {
    "duration": 23,
    "start_time": "2023-08-02T10:07:13.563Z"
   },
   {
    "duration": 11,
    "start_time": "2023-08-02T10:07:13.588Z"
   },
   {
    "duration": 19,
    "start_time": "2023-08-02T10:07:13.601Z"
   },
   {
    "duration": 1570,
    "start_time": "2023-08-02T10:07:13.622Z"
   },
   {
    "duration": 154,
    "start_time": "2023-08-02T10:07:15.194Z"
   },
   {
    "duration": 19,
    "start_time": "2023-08-02T10:07:15.355Z"
   },
   {
    "duration": 12835,
    "start_time": "2023-08-02T10:07:15.376Z"
   },
   {
    "duration": 2,
    "start_time": "2023-08-02T10:07:28.213Z"
   },
   {
    "duration": 21,
    "start_time": "2023-08-02T10:07:28.217Z"
   },
   {
    "duration": 30,
    "start_time": "2023-08-02T10:07:28.240Z"
   },
   {
    "duration": 184,
    "start_time": "2023-08-02T10:07:28.272Z"
   },
   {
    "duration": 7,
    "start_time": "2023-08-02T10:07:28.458Z"
   },
   {
    "duration": 18,
    "start_time": "2023-08-02T10:07:28.468Z"
   },
   {
    "duration": 2017,
    "start_time": "2023-08-02T10:07:28.488Z"
   },
   {
    "duration": 15,
    "start_time": "2023-08-02T10:07:30.506Z"
   },
   {
    "duration": 32,
    "start_time": "2023-08-02T10:07:30.523Z"
   },
   {
    "duration": 38,
    "start_time": "2023-08-02T10:07:30.557Z"
   },
   {
    "duration": 62,
    "start_time": "2023-08-02T10:07:30.597Z"
   },
   {
    "duration": 902,
    "start_time": "2023-08-02T10:07:30.661Z"
   },
   {
    "duration": 13,
    "start_time": "2023-08-02T10:07:31.564Z"
   },
   {
    "duration": 62,
    "start_time": "2023-08-02T10:07:31.579Z"
   },
   {
    "duration": 167,
    "start_time": "2023-08-02T10:07:31.643Z"
   },
   {
    "duration": 6,
    "start_time": "2023-08-02T10:09:17.202Z"
   },
   {
    "duration": 18,
    "start_time": "2023-08-02T10:09:28.362Z"
   },
   {
    "duration": 24,
    "start_time": "2023-08-02T10:09:32.724Z"
   },
   {
    "duration": 27,
    "start_time": "2023-08-02T10:16:52.021Z"
   },
   {
    "duration": 11,
    "start_time": "2023-08-02T10:17:03.537Z"
   },
   {
    "duration": 5,
    "start_time": "2023-08-02T10:17:34.531Z"
   },
   {
    "duration": 11,
    "start_time": "2023-08-02T10:17:55.353Z"
   },
   {
    "duration": 596,
    "start_time": "2023-08-02T10:18:00.239Z"
   },
   {
    "duration": 601,
    "start_time": "2023-08-02T10:18:10.556Z"
   },
   {
    "duration": 600,
    "start_time": "2023-08-02T10:19:39.641Z"
   },
   {
    "duration": 18,
    "start_time": "2023-08-02T10:22:57.200Z"
   },
   {
    "duration": 575,
    "start_time": "2023-08-02T10:23:05.311Z"
   },
   {
    "duration": 22,
    "start_time": "2023-08-02T10:26:03.726Z"
   },
   {
    "duration": 23,
    "start_time": "2023-08-02T10:26:25.268Z"
   },
   {
    "duration": 26,
    "start_time": "2023-08-02T10:26:28.870Z"
   },
   {
    "duration": 24,
    "start_time": "2023-08-02T10:26:38.916Z"
   },
   {
    "duration": 17,
    "start_time": "2023-08-02T10:26:46.293Z"
   },
   {
    "duration": 16,
    "start_time": "2023-08-02T10:26:51.387Z"
   },
   {
    "duration": 16,
    "start_time": "2023-08-02T10:26:56.636Z"
   },
   {
    "duration": 18,
    "start_time": "2023-08-02T10:26:59.060Z"
   },
   {
    "duration": 591,
    "start_time": "2023-08-02T10:27:00.866Z"
   },
   {
    "duration": 564,
    "start_time": "2023-08-02T10:32:14.254Z"
   },
   {
    "duration": 20,
    "start_time": "2023-08-02T10:34:38.660Z"
   },
   {
    "duration": 15,
    "start_time": "2023-08-02T10:34:42.972Z"
   },
   {
    "duration": 572,
    "start_time": "2023-08-02T10:34:45.440Z"
   },
   {
    "duration": 25,
    "start_time": "2023-08-02T11:15:28.847Z"
   },
   {
    "duration": 619,
    "start_time": "2023-08-02T11:15:31.320Z"
   },
   {
    "duration": 570,
    "start_time": "2023-08-02T11:21:55.996Z"
   },
   {
    "duration": 15,
    "start_time": "2023-08-02T11:26:29.329Z"
   },
   {
    "duration": 17,
    "start_time": "2023-08-02T11:32:03.212Z"
   },
   {
    "duration": 16,
    "start_time": "2023-08-02T11:32:08.308Z"
   },
   {
    "duration": 1218,
    "start_time": "2023-08-02T11:33:21.624Z"
   },
   {
    "duration": 137,
    "start_time": "2023-08-02T11:33:22.844Z"
   },
   {
    "duration": 3,
    "start_time": "2023-08-02T11:33:22.983Z"
   },
   {
    "duration": 25,
    "start_time": "2023-08-02T11:33:22.988Z"
   },
   {
    "duration": 14,
    "start_time": "2023-08-02T11:33:23.015Z"
   },
   {
    "duration": 41,
    "start_time": "2023-08-02T11:33:23.030Z"
   },
   {
    "duration": 4,
    "start_time": "2023-08-02T11:33:23.073Z"
   },
   {
    "duration": 11,
    "start_time": "2023-08-02T11:33:23.078Z"
   },
   {
    "duration": 4,
    "start_time": "2023-08-02T11:33:23.091Z"
   },
   {
    "duration": 16,
    "start_time": "2023-08-02T11:33:23.097Z"
   },
   {
    "duration": 1683,
    "start_time": "2023-08-02T11:33:23.114Z"
   },
   {
    "duration": 174,
    "start_time": "2023-08-02T11:33:24.799Z"
   },
   {
    "duration": 24,
    "start_time": "2023-08-02T11:33:24.975Z"
   },
   {
    "duration": 12844,
    "start_time": "2023-08-02T11:33:25.001Z"
   },
   {
    "duration": 9,
    "start_time": "2023-08-02T11:33:37.848Z"
   },
   {
    "duration": 13,
    "start_time": "2023-08-02T11:33:37.859Z"
   },
   {
    "duration": 23,
    "start_time": "2023-08-02T11:33:37.874Z"
   },
   {
    "duration": 169,
    "start_time": "2023-08-02T11:33:37.899Z"
   },
   {
    "duration": 5,
    "start_time": "2023-08-02T11:33:38.070Z"
   },
   {
    "duration": 2,
    "start_time": "2023-08-02T11:33:38.077Z"
   },
   {
    "duration": 1953,
    "start_time": "2023-08-02T11:33:38.081Z"
   },
   {
    "duration": 24,
    "start_time": "2023-08-02T11:33:40.035Z"
   },
   {
    "duration": 25,
    "start_time": "2023-08-02T11:33:40.061Z"
   },
   {
    "duration": 9,
    "start_time": "2023-08-02T11:33:40.088Z"
   },
   {
    "duration": 23,
    "start_time": "2023-08-02T11:33:40.099Z"
   },
   {
    "duration": 844,
    "start_time": "2023-08-02T11:33:40.124Z"
   },
   {
    "duration": 13,
    "start_time": "2023-08-02T11:33:40.969Z"
   },
   {
    "duration": 24,
    "start_time": "2023-08-02T11:33:40.986Z"
   },
   {
    "duration": 14,
    "start_time": "2023-08-02T11:33:41.012Z"
   },
   {
    "duration": 120,
    "start_time": "2023-08-02T11:33:41.057Z"
   },
   {
    "duration": 14,
    "start_time": "2023-08-02T11:53:06.789Z"
   },
   {
    "duration": 16,
    "start_time": "2023-08-02T11:55:19.676Z"
   },
   {
    "duration": 15,
    "start_time": "2023-08-02T11:55:21.593Z"
   },
   {
    "duration": 23,
    "start_time": "2023-08-02T11:56:06.855Z"
   },
   {
    "duration": 13,
    "start_time": "2023-08-02T11:56:20.913Z"
   },
   {
    "duration": 21,
    "start_time": "2023-08-02T11:56:23.670Z"
   },
   {
    "duration": 27,
    "start_time": "2023-08-02T11:56:33.841Z"
   },
   {
    "duration": 11,
    "start_time": "2023-08-02T11:56:35.490Z"
   },
   {
    "duration": 21,
    "start_time": "2023-08-02T11:56:37.391Z"
   },
   {
    "duration": 17,
    "start_time": "2023-08-02T11:56:54.050Z"
   },
   {
    "duration": 11,
    "start_time": "2023-08-02T11:56:56.603Z"
   },
   {
    "duration": 17,
    "start_time": "2023-08-02T11:56:58.494Z"
   },
   {
    "duration": 19,
    "start_time": "2023-08-02T11:57:04.596Z"
   },
   {
    "duration": 25,
    "start_time": "2023-08-02T11:57:19.674Z"
   },
   {
    "duration": 17,
    "start_time": "2023-08-02T11:57:23.418Z"
   },
   {
    "duration": 112,
    "start_time": "2023-08-02T11:57:25.074Z"
   },
   {
    "duration": 13,
    "start_time": "2023-08-02T11:57:28.290Z"
   },
   {
    "duration": 900,
    "start_time": "2023-08-02T11:57:29.959Z"
   },
   {
    "duration": 22,
    "start_time": "2023-08-02T11:57:58.975Z"
   },
   {
    "duration": 1894,
    "start_time": "2023-08-02T11:58:01.563Z"
   },
   {
    "duration": 36,
    "start_time": "2023-08-02T11:58:33.839Z"
   },
   {
    "duration": 1702,
    "start_time": "2023-08-02T11:58:53.174Z"
   },
   {
    "duration": 31,
    "start_time": "2023-08-02T11:58:55.641Z"
   },
   {
    "duration": 25,
    "start_time": "2023-08-02T12:00:45.209Z"
   },
   {
    "duration": 23,
    "start_time": "2023-08-02T12:00:59.482Z"
   },
   {
    "duration": 17,
    "start_time": "2023-08-02T12:02:07.445Z"
   },
   {
    "duration": 1961,
    "start_time": "2023-08-02T12:03:12.798Z"
   },
   {
    "duration": 23,
    "start_time": "2023-08-02T12:03:16.818Z"
   },
   {
    "duration": 17,
    "start_time": "2023-08-02T12:03:40.887Z"
   },
   {
    "duration": 1211,
    "start_time": "2023-08-02T12:03:46.192Z"
   },
   {
    "duration": 87,
    "start_time": "2023-08-02T12:03:47.406Z"
   },
   {
    "duration": 3,
    "start_time": "2023-08-02T12:03:47.495Z"
   },
   {
    "duration": 23,
    "start_time": "2023-08-02T12:03:47.500Z"
   },
   {
    "duration": 12,
    "start_time": "2023-08-02T12:03:47.525Z"
   },
   {
    "duration": 35,
    "start_time": "2023-08-02T12:03:47.539Z"
   },
   {
    "duration": 4,
    "start_time": "2023-08-02T12:03:47.578Z"
   },
   {
    "duration": 22,
    "start_time": "2023-08-02T12:03:47.584Z"
   },
   {
    "duration": 5,
    "start_time": "2023-08-02T12:03:47.608Z"
   },
   {
    "duration": 25,
    "start_time": "2023-08-02T12:03:47.617Z"
   },
   {
    "duration": 1776,
    "start_time": "2023-08-02T12:03:47.644Z"
   },
   {
    "duration": 192,
    "start_time": "2023-08-02T12:03:49.422Z"
   },
   {
    "duration": 18,
    "start_time": "2023-08-02T12:03:49.616Z"
   },
   {
    "duration": 14763,
    "start_time": "2023-08-02T12:03:49.636Z"
   },
   {
    "duration": 3,
    "start_time": "2023-08-02T12:04:04.401Z"
   },
   {
    "duration": 7,
    "start_time": "2023-08-02T12:04:04.405Z"
   },
   {
    "duration": 43,
    "start_time": "2023-08-02T12:04:04.414Z"
   },
   {
    "duration": 214,
    "start_time": "2023-08-02T12:04:04.459Z"
   },
   {
    "duration": 8,
    "start_time": "2023-08-02T12:04:04.680Z"
   },
   {
    "duration": 4,
    "start_time": "2023-08-02T12:04:04.690Z"
   },
   {
    "duration": 2095,
    "start_time": "2023-08-02T12:04:04.695Z"
   },
   {
    "duration": 14,
    "start_time": "2023-08-02T12:04:06.791Z"
   },
   {
    "duration": 9,
    "start_time": "2023-08-02T12:04:06.807Z"
   },
   {
    "duration": 5,
    "start_time": "2023-08-02T12:04:06.818Z"
   },
   {
    "duration": 50,
    "start_time": "2023-08-02T12:04:06.825Z"
   },
   {
    "duration": 901,
    "start_time": "2023-08-02T12:04:06.877Z"
   },
   {
    "duration": 138,
    "start_time": "2023-08-02T12:04:07.781Z"
   },
   {
    "duration": 0,
    "start_time": "2023-08-02T12:04:07.921Z"
   },
   {
    "duration": 0,
    "start_time": "2023-08-02T12:04:07.922Z"
   },
   {
    "duration": 0,
    "start_time": "2023-08-02T12:04:07.923Z"
   },
   {
    "duration": 18,
    "start_time": "2023-08-02T12:04:20.794Z"
   },
   {
    "duration": 14,
    "start_time": "2023-08-02T12:04:25.316Z"
   },
   {
    "duration": 1586,
    "start_time": "2023-08-02T12:04:27.285Z"
   },
   {
    "duration": 34,
    "start_time": "2023-08-02T12:04:29.070Z"
   },
   {
    "duration": 1370,
    "start_time": "2023-08-02T12:12:08.629Z"
   },
   {
    "duration": 97,
    "start_time": "2023-08-02T12:12:10.001Z"
   },
   {
    "duration": 3,
    "start_time": "2023-08-02T12:12:10.100Z"
   },
   {
    "duration": 44,
    "start_time": "2023-08-02T12:12:10.105Z"
   },
   {
    "duration": 23,
    "start_time": "2023-08-02T12:12:10.151Z"
   },
   {
    "duration": 16,
    "start_time": "2023-08-02T12:12:10.177Z"
   },
   {
    "duration": 12,
    "start_time": "2023-08-02T12:12:10.195Z"
   },
   {
    "duration": 14,
    "start_time": "2023-08-02T12:12:10.209Z"
   },
   {
    "duration": 17,
    "start_time": "2023-08-02T12:12:10.225Z"
   },
   {
    "duration": 37,
    "start_time": "2023-08-02T12:12:10.244Z"
   },
   {
    "duration": 1878,
    "start_time": "2023-08-02T12:12:10.283Z"
   },
   {
    "duration": 181,
    "start_time": "2023-08-02T12:12:12.163Z"
   },
   {
    "duration": 39,
    "start_time": "2023-08-02T12:12:12.346Z"
   },
   {
    "duration": 15226,
    "start_time": "2023-08-02T12:12:12.387Z"
   },
   {
    "duration": 2,
    "start_time": "2023-08-02T12:12:27.615Z"
   },
   {
    "duration": 9,
    "start_time": "2023-08-02T12:12:27.619Z"
   },
   {
    "duration": 36,
    "start_time": "2023-08-02T12:12:27.630Z"
   },
   {
    "duration": 210,
    "start_time": "2023-08-02T12:12:27.668Z"
   },
   {
    "duration": 7,
    "start_time": "2023-08-02T12:12:27.880Z"
   },
   {
    "duration": 10,
    "start_time": "2023-08-02T12:12:27.889Z"
   },
   {
    "duration": 2223,
    "start_time": "2023-08-02T12:12:27.900Z"
   },
   {
    "duration": 14,
    "start_time": "2023-08-02T12:12:30.126Z"
   },
   {
    "duration": 20,
    "start_time": "2023-08-02T12:12:30.142Z"
   },
   {
    "duration": 36,
    "start_time": "2023-08-02T12:12:30.165Z"
   },
   {
    "duration": 36,
    "start_time": "2023-08-02T12:12:30.203Z"
   },
   {
    "duration": 922,
    "start_time": "2023-08-02T12:12:30.241Z"
   },
   {
    "duration": 19,
    "start_time": "2023-08-02T12:12:31.166Z"
   },
   {
    "duration": 17,
    "start_time": "2023-08-02T12:12:31.189Z"
   },
   {
    "duration": 1270,
    "start_time": "2023-08-02T12:13:46.568Z"
   },
   {
    "duration": 92,
    "start_time": "2023-08-02T12:13:47.840Z"
   },
   {
    "duration": 3,
    "start_time": "2023-08-02T12:13:47.934Z"
   },
   {
    "duration": 41,
    "start_time": "2023-08-02T12:13:47.939Z"
   },
   {
    "duration": 16,
    "start_time": "2023-08-02T12:13:47.984Z"
   },
   {
    "duration": 14,
    "start_time": "2023-08-02T12:13:48.001Z"
   },
   {
    "duration": 5,
    "start_time": "2023-08-02T12:13:48.017Z"
   },
   {
    "duration": 44,
    "start_time": "2023-08-02T12:13:48.023Z"
   },
   {
    "duration": 4,
    "start_time": "2023-08-02T12:13:48.069Z"
   },
   {
    "duration": 16,
    "start_time": "2023-08-02T12:13:48.075Z"
   },
   {
    "duration": 1906,
    "start_time": "2023-08-02T12:13:48.093Z"
   },
   {
    "duration": 190,
    "start_time": "2023-08-02T12:13:50.000Z"
   },
   {
    "duration": 19,
    "start_time": "2023-08-02T12:13:50.192Z"
   },
   {
    "duration": 14661,
    "start_time": "2023-08-02T12:13:50.214Z"
   },
   {
    "duration": 4,
    "start_time": "2023-08-02T12:14:04.877Z"
   },
   {
    "duration": 12,
    "start_time": "2023-08-02T12:14:04.883Z"
   },
   {
    "duration": 40,
    "start_time": "2023-08-02T12:14:04.897Z"
   },
   {
    "duration": 191,
    "start_time": "2023-08-02T12:14:04.939Z"
   },
   {
    "duration": 5,
    "start_time": "2023-08-02T12:14:05.132Z"
   },
   {
    "duration": 8,
    "start_time": "2023-08-02T12:14:05.139Z"
   },
   {
    "duration": 2036,
    "start_time": "2023-08-02T12:14:05.156Z"
   },
   {
    "duration": 14,
    "start_time": "2023-08-02T12:14:07.194Z"
   },
   {
    "duration": 6,
    "start_time": "2023-08-02T12:14:07.210Z"
   },
   {
    "duration": 12,
    "start_time": "2023-08-02T12:14:07.218Z"
   },
   {
    "duration": 44,
    "start_time": "2023-08-02T12:14:07.232Z"
   },
   {
    "duration": 956,
    "start_time": "2023-08-02T12:14:07.278Z"
   },
   {
    "duration": 22,
    "start_time": "2023-08-02T12:14:08.236Z"
   },
   {
    "duration": 18,
    "start_time": "2023-08-02T12:14:08.263Z"
   },
   {
    "duration": 2203,
    "start_time": "2023-08-02T12:14:08.283Z"
   },
   {
    "duration": 112,
    "start_time": "2023-08-02T12:14:10.558Z"
   },
   {
    "duration": 135,
    "start_time": "2023-08-02T12:16:38.407Z"
   },
   {
    "duration": 35799,
    "start_time": "2023-08-02T12:16:48.740Z"
   },
   {
    "duration": 912,
    "start_time": "2023-08-02T12:20:13.153Z"
   },
   {
    "duration": 23,
    "start_time": "2023-08-02T12:20:15.578Z"
   },
   {
    "duration": 1309,
    "start_time": "2023-08-02T12:20:26.854Z"
   },
   {
    "duration": 26,
    "start_time": "2023-08-02T12:20:29.170Z"
   },
   {
    "duration": 14,
    "start_time": "2023-08-02T12:32:15.826Z"
   },
   {
    "duration": 2172,
    "start_time": "2023-08-02T12:32:27.208Z"
   },
   {
    "duration": 23,
    "start_time": "2023-08-02T12:32:29.487Z"
   },
   {
    "duration": 15,
    "start_time": "2023-08-02T12:32:31.883Z"
   },
   {
    "duration": 1567,
    "start_time": "2023-08-02T12:32:52.495Z"
   },
   {
    "duration": 28,
    "start_time": "2023-08-02T12:32:54.065Z"
   },
   {
    "duration": 14,
    "start_time": "2023-08-02T12:32:54.094Z"
   },
   {
    "duration": 6,
    "start_time": "2023-08-02T12:34:04.405Z"
   },
   {
    "duration": 1108,
    "start_time": "2023-08-02T12:34:30.762Z"
   },
   {
    "duration": 107,
    "start_time": "2023-08-02T12:34:31.873Z"
   },
   {
    "duration": 21,
    "start_time": "2023-08-02T12:34:31.983Z"
   },
   {
    "duration": 1182,
    "start_time": "2023-08-02T12:46:11.694Z"
   },
   {
    "duration": 28,
    "start_time": "2023-08-02T12:46:12.959Z"
   },
   {
    "duration": 7,
    "start_time": "2023-08-02T12:46:12.989Z"
   },
   {
    "duration": 1811,
    "start_time": "2023-08-02T12:46:25.850Z"
   },
   {
    "duration": 29,
    "start_time": "2023-08-02T12:46:27.665Z"
   },
   {
    "duration": 7,
    "start_time": "2023-08-02T12:46:27.695Z"
   },
   {
    "duration": 1479,
    "start_time": "2023-08-02T12:47:18.878Z"
   },
   {
    "duration": 29,
    "start_time": "2023-08-02T12:47:20.363Z"
   },
   {
    "duration": 5,
    "start_time": "2023-08-02T12:47:20.394Z"
   },
   {
    "duration": 1589,
    "start_time": "2023-08-02T12:52:00.795Z"
   },
   {
    "duration": 30,
    "start_time": "2023-08-02T12:52:02.462Z"
   },
   {
    "duration": 17,
    "start_time": "2023-08-02T12:52:02.495Z"
   },
   {
    "duration": 1290,
    "start_time": "2023-08-02T12:52:23.768Z"
   },
   {
    "duration": 34,
    "start_time": "2023-08-02T12:52:25.061Z"
   },
   {
    "duration": 5,
    "start_time": "2023-08-02T12:52:25.097Z"
   },
   {
    "duration": 8,
    "start_time": "2023-08-02T13:06:13.809Z"
   },
   {
    "duration": 24,
    "start_time": "2023-08-02T13:06:15.912Z"
   },
   {
    "duration": 7,
    "start_time": "2023-08-02T13:06:18.719Z"
   },
   {
    "duration": 1734,
    "start_time": "2023-08-02T13:12:37.741Z"
   },
   {
    "duration": 624,
    "start_time": "2023-08-02T13:12:47.051Z"
   },
   {
    "duration": 716,
    "start_time": "2023-08-02T13:12:52.196Z"
   },
   {
    "duration": 713,
    "start_time": "2023-08-02T13:13:31.149Z"
   },
   {
    "duration": 727,
    "start_time": "2023-08-02T13:13:47.898Z"
   },
   {
    "duration": 714,
    "start_time": "2023-08-02T13:13:54.553Z"
   },
   {
    "duration": 716,
    "start_time": "2023-08-02T13:14:00.703Z"
   },
   {
    "duration": 685,
    "start_time": "2023-08-02T13:14:07.451Z"
   },
   {
    "duration": 659,
    "start_time": "2023-08-02T13:14:12.702Z"
   },
   {
    "duration": 676,
    "start_time": "2023-08-02T13:14:19.315Z"
   },
   {
    "duration": 11,
    "start_time": "2023-08-02T13:17:48.629Z"
   },
   {
    "duration": 23,
    "start_time": "2023-08-02T13:17:54.751Z"
   },
   {
    "duration": 2,
    "start_time": "2023-08-02T13:18:05.776Z"
   },
   {
    "duration": 5,
    "start_time": "2023-08-02T13:18:07.434Z"
   },
   {
    "duration": 88,
    "start_time": "2023-08-02T13:18:57.242Z"
   },
   {
    "duration": 5,
    "start_time": "2023-08-02T13:20:06.120Z"
   },
   {
    "duration": 12,
    "start_time": "2023-08-02T13:20:24.623Z"
   },
   {
    "duration": 10,
    "start_time": "2023-08-02T13:20:31.457Z"
   },
   {
    "duration": 5,
    "start_time": "2023-08-02T13:24:05.029Z"
   },
   {
    "duration": 629,
    "start_time": "2023-08-02T13:25:07.066Z"
   },
   {
    "duration": 680,
    "start_time": "2023-08-02T13:25:12.067Z"
   },
   {
    "duration": 5,
    "start_time": "2023-08-02T13:32:15.640Z"
   },
   {
    "duration": 6,
    "start_time": "2023-08-02T13:32:32.032Z"
   },
   {
    "duration": 6,
    "start_time": "2023-08-02T13:33:34.006Z"
   },
   {
    "duration": 6,
    "start_time": "2023-08-02T13:33:43.618Z"
   },
   {
    "duration": 16,
    "start_time": "2023-08-02T13:35:10.874Z"
   },
   {
    "duration": 6,
    "start_time": "2023-08-02T13:36:01.139Z"
   },
   {
    "duration": 6,
    "start_time": "2023-08-02T13:36:23.209Z"
   },
   {
    "duration": 7,
    "start_time": "2023-08-02T13:39:06.489Z"
   },
   {
    "duration": 6,
    "start_time": "2023-08-02T13:44:46.615Z"
   },
   {
    "duration": 6,
    "start_time": "2023-08-02T13:44:52.347Z"
   },
   {
    "duration": 7,
    "start_time": "2023-08-02T13:44:59.037Z"
   },
   {
    "duration": 6,
    "start_time": "2023-08-02T13:48:59.075Z"
   },
   {
    "duration": 6,
    "start_time": "2023-08-02T13:49:07.273Z"
   },
   {
    "duration": 7,
    "start_time": "2023-08-02T13:49:35.946Z"
   },
   {
    "duration": 6,
    "start_time": "2023-08-02T13:51:08.096Z"
   },
   {
    "duration": 6,
    "start_time": "2023-08-02T14:09:58.082Z"
   },
   {
    "duration": 1367,
    "start_time": "2023-08-03T14:59:36.108Z"
   },
   {
    "duration": 0,
    "start_time": "2023-08-03T14:59:37.477Z"
   },
   {
    "duration": 0,
    "start_time": "2023-08-03T14:59:37.479Z"
   },
   {
    "duration": 0,
    "start_time": "2023-08-03T14:59:37.479Z"
   },
   {
    "duration": 0,
    "start_time": "2023-08-03T14:59:37.480Z"
   },
   {
    "duration": 0,
    "start_time": "2023-08-03T14:59:37.481Z"
   },
   {
    "duration": 0,
    "start_time": "2023-08-03T14:59:37.482Z"
   },
   {
    "duration": 0,
    "start_time": "2023-08-03T14:59:37.483Z"
   },
   {
    "duration": 0,
    "start_time": "2023-08-03T14:59:37.483Z"
   },
   {
    "duration": 0,
    "start_time": "2023-08-03T14:59:37.484Z"
   },
   {
    "duration": 0,
    "start_time": "2023-08-03T14:59:37.485Z"
   },
   {
    "duration": 0,
    "start_time": "2023-08-03T14:59:37.486Z"
   },
   {
    "duration": 0,
    "start_time": "2023-08-03T14:59:37.487Z"
   },
   {
    "duration": 0,
    "start_time": "2023-08-03T14:59:37.488Z"
   },
   {
    "duration": 0,
    "start_time": "2023-08-03T14:59:37.489Z"
   },
   {
    "duration": 0,
    "start_time": "2023-08-03T14:59:37.490Z"
   },
   {
    "duration": 0,
    "start_time": "2023-08-03T14:59:37.490Z"
   },
   {
    "duration": 0,
    "start_time": "2023-08-03T14:59:37.491Z"
   },
   {
    "duration": 0,
    "start_time": "2023-08-03T14:59:37.492Z"
   },
   {
    "duration": 0,
    "start_time": "2023-08-03T14:59:37.493Z"
   },
   {
    "duration": 0,
    "start_time": "2023-08-03T14:59:37.520Z"
   },
   {
    "duration": 0,
    "start_time": "2023-08-03T14:59:37.521Z"
   },
   {
    "duration": 0,
    "start_time": "2023-08-03T14:59:37.522Z"
   },
   {
    "duration": 0,
    "start_time": "2023-08-03T14:59:37.523Z"
   },
   {
    "duration": 0,
    "start_time": "2023-08-03T14:59:37.524Z"
   },
   {
    "duration": 0,
    "start_time": "2023-08-03T14:59:37.525Z"
   },
   {
    "duration": 0,
    "start_time": "2023-08-03T14:59:37.526Z"
   },
   {
    "duration": 0,
    "start_time": "2023-08-03T14:59:37.527Z"
   },
   {
    "duration": 0,
    "start_time": "2023-08-03T14:59:37.528Z"
   },
   {
    "duration": 0,
    "start_time": "2023-08-03T14:59:37.529Z"
   },
   {
    "duration": 0,
    "start_time": "2023-08-03T14:59:37.529Z"
   },
   {
    "duration": 0,
    "start_time": "2023-08-03T14:59:37.530Z"
   },
   {
    "duration": 0,
    "start_time": "2023-08-03T14:59:37.531Z"
   },
   {
    "duration": 0,
    "start_time": "2023-08-03T14:59:37.532Z"
   },
   {
    "duration": 0,
    "start_time": "2023-08-03T14:59:37.532Z"
   },
   {
    "duration": 0,
    "start_time": "2023-08-03T14:59:37.533Z"
   },
   {
    "duration": 0,
    "start_time": "2023-08-03T14:59:37.534Z"
   },
   {
    "duration": 0,
    "start_time": "2023-08-03T14:59:37.535Z"
   },
   {
    "duration": 0,
    "start_time": "2023-08-03T14:59:37.536Z"
   },
   {
    "duration": 5,
    "start_time": "2023-08-03T15:05:55.829Z"
   },
   {
    "duration": 1106,
    "start_time": "2023-08-03T15:06:04.001Z"
   },
   {
    "duration": 107,
    "start_time": "2023-08-03T15:06:05.109Z"
   },
   {
    "duration": 2,
    "start_time": "2023-08-03T15:06:05.217Z"
   },
   {
    "duration": 40,
    "start_time": "2023-08-03T15:06:05.220Z"
   },
   {
    "duration": 45,
    "start_time": "2023-08-03T15:06:05.262Z"
   },
   {
    "duration": 35,
    "start_time": "2023-08-03T15:06:05.308Z"
   },
   {
    "duration": 49,
    "start_time": "2023-08-03T15:06:05.344Z"
   },
   {
    "duration": 75,
    "start_time": "2023-08-03T15:06:05.395Z"
   },
   {
    "duration": 19,
    "start_time": "2023-08-03T15:06:05.472Z"
   },
   {
    "duration": 21,
    "start_time": "2023-08-03T15:06:05.493Z"
   },
   {
    "duration": 1304,
    "start_time": "2023-08-03T15:06:05.516Z"
   },
   {
    "duration": 40,
    "start_time": "2023-08-03T15:06:06.821Z"
   },
   {
    "duration": 15,
    "start_time": "2023-08-03T15:06:06.862Z"
   },
   {
    "duration": 10207,
    "start_time": "2023-08-03T15:06:06.879Z"
   },
   {
    "duration": 2,
    "start_time": "2023-08-03T15:06:17.088Z"
   },
   {
    "duration": 9,
    "start_time": "2023-08-03T15:06:17.091Z"
   },
   {
    "duration": 27,
    "start_time": "2023-08-03T15:06:17.101Z"
   },
   {
    "duration": 153,
    "start_time": "2023-08-03T15:06:17.129Z"
   },
   {
    "duration": 5,
    "start_time": "2023-08-03T15:06:17.283Z"
   },
   {
    "duration": 14,
    "start_time": "2023-08-03T15:06:17.289Z"
   },
   {
    "duration": 1637,
    "start_time": "2023-08-03T15:06:17.304Z"
   },
   {
    "duration": 11,
    "start_time": "2023-08-03T15:06:18.942Z"
   },
   {
    "duration": 9,
    "start_time": "2023-08-03T15:06:18.955Z"
   },
   {
    "duration": 9,
    "start_time": "2023-08-03T15:06:18.966Z"
   },
   {
    "duration": 27,
    "start_time": "2023-08-03T15:06:18.976Z"
   },
   {
    "duration": 640,
    "start_time": "2023-08-03T15:06:19.004Z"
   },
   {
    "duration": 6,
    "start_time": "2023-08-03T15:06:19.645Z"
   },
   {
    "duration": 10,
    "start_time": "2023-08-03T15:06:19.652Z"
   },
   {
    "duration": 1659,
    "start_time": "2023-08-03T15:06:19.664Z"
   },
   {
    "duration": 8,
    "start_time": "2023-08-03T15:06:21.324Z"
   },
   {
    "duration": 22,
    "start_time": "2023-08-03T15:06:21.333Z"
   },
   {
    "duration": 15,
    "start_time": "2023-08-03T15:06:21.356Z"
   },
   {
    "duration": 629,
    "start_time": "2023-08-03T15:06:21.372Z"
   },
   {
    "duration": 2,
    "start_time": "2023-08-03T15:06:22.003Z"
   },
   {
    "duration": 38,
    "start_time": "2023-08-03T15:06:22.006Z"
   },
   {
    "duration": 11,
    "start_time": "2023-08-03T15:06:22.046Z"
   },
   {
    "duration": 20,
    "start_time": "2023-08-03T15:06:22.059Z"
   },
   {
    "duration": 18,
    "start_time": "2023-08-03T15:06:22.081Z"
   },
   {
    "duration": 32,
    "start_time": "2023-08-03T15:06:22.101Z"
   },
   {
    "duration": 3,
    "start_time": "2023-08-03T15:13:14.159Z"
   },
   {
    "duration": 4,
    "start_time": "2023-08-03T15:21:02.918Z"
   },
   {
    "duration": 169,
    "start_time": "2023-08-03T15:21:02.924Z"
   },
   {
    "duration": 0,
    "start_time": "2023-08-03T15:21:03.095Z"
   },
   {
    "duration": 0,
    "start_time": "2023-08-03T15:21:03.097Z"
   },
   {
    "duration": 0,
    "start_time": "2023-08-03T15:21:03.098Z"
   },
   {
    "duration": 13,
    "start_time": "2023-08-03T15:21:22.345Z"
   },
   {
    "duration": 27,
    "start_time": "2023-08-03T15:24:03.556Z"
   },
   {
    "duration": 3,
    "start_time": "2023-08-03T15:24:09.138Z"
   },
   {
    "duration": 15,
    "start_time": "2023-08-03T15:24:09.142Z"
   },
   {
    "duration": 28,
    "start_time": "2023-08-03T15:24:09.159Z"
   },
   {
    "duration": 0,
    "start_time": "2023-08-03T15:24:09.189Z"
   },
   {
    "duration": 0,
    "start_time": "2023-08-03T15:24:09.190Z"
   },
   {
    "duration": 0,
    "start_time": "2023-08-03T15:24:09.191Z"
   },
   {
    "duration": 1063,
    "start_time": "2023-08-03T15:24:25.685Z"
   },
   {
    "duration": 67,
    "start_time": "2023-08-03T15:24:26.750Z"
   },
   {
    "duration": 2,
    "start_time": "2023-08-03T15:24:26.819Z"
   },
   {
    "duration": 22,
    "start_time": "2023-08-03T15:24:26.823Z"
   },
   {
    "duration": 13,
    "start_time": "2023-08-03T15:24:26.847Z"
   },
   {
    "duration": 13,
    "start_time": "2023-08-03T15:24:26.861Z"
   },
   {
    "duration": 5,
    "start_time": "2023-08-03T15:24:26.875Z"
   },
   {
    "duration": 12,
    "start_time": "2023-08-03T15:24:26.881Z"
   },
   {
    "duration": 3,
    "start_time": "2023-08-03T15:24:26.894Z"
   },
   {
    "duration": 10,
    "start_time": "2023-08-03T15:24:26.920Z"
   },
   {
    "duration": 1384,
    "start_time": "2023-08-03T15:24:26.932Z"
   },
   {
    "duration": 44,
    "start_time": "2023-08-03T15:24:28.319Z"
   },
   {
    "duration": 16,
    "start_time": "2023-08-03T15:24:28.365Z"
   },
   {
    "duration": 10887,
    "start_time": "2023-08-03T15:24:28.384Z"
   },
   {
    "duration": 2,
    "start_time": "2023-08-03T15:24:39.273Z"
   },
   {
    "duration": 14,
    "start_time": "2023-08-03T15:24:39.277Z"
   },
   {
    "duration": 56,
    "start_time": "2023-08-03T15:24:39.293Z"
   },
   {
    "duration": 193,
    "start_time": "2023-08-03T15:24:39.351Z"
   },
   {
    "duration": 7,
    "start_time": "2023-08-03T15:24:39.546Z"
   },
   {
    "duration": 23,
    "start_time": "2023-08-03T15:24:39.558Z"
   },
   {
    "duration": 1662,
    "start_time": "2023-08-03T15:24:39.584Z"
   },
   {
    "duration": 12,
    "start_time": "2023-08-03T15:24:41.247Z"
   },
   {
    "duration": 10,
    "start_time": "2023-08-03T15:24:41.263Z"
   },
   {
    "duration": 7,
    "start_time": "2023-08-03T15:24:41.275Z"
   },
   {
    "duration": 22,
    "start_time": "2023-08-03T15:24:41.283Z"
   },
   {
    "duration": 579,
    "start_time": "2023-08-03T15:24:41.307Z"
   },
   {
    "duration": 3,
    "start_time": "2023-08-03T15:24:41.888Z"
   },
   {
    "duration": 15,
    "start_time": "2023-08-03T15:24:41.892Z"
   },
   {
    "duration": 5,
    "start_time": "2023-08-03T15:24:41.920Z"
   },
   {
    "duration": 16,
    "start_time": "2023-08-03T15:24:41.927Z"
   },
   {
    "duration": 5,
    "start_time": "2023-08-03T15:24:41.944Z"
   },
   {
    "duration": 6,
    "start_time": "2023-08-03T15:24:41.950Z"
   },
   {
    "duration": 655,
    "start_time": "2023-08-03T15:24:41.957Z"
   },
   {
    "duration": 12,
    "start_time": "2023-08-03T15:24:42.613Z"
   },
   {
    "duration": 795,
    "start_time": "2023-08-03T15:24:42.626Z"
   },
   {
    "duration": 97,
    "start_time": "2023-08-03T15:24:43.423Z"
   },
   {
    "duration": 21,
    "start_time": "2023-08-03T15:24:43.522Z"
   },
   {
    "duration": 6,
    "start_time": "2023-08-03T15:24:43.545Z"
   },
   {
    "duration": 134,
    "start_time": "2023-08-03T15:30:39.033Z"
   },
   {
    "duration": 1087,
    "start_time": "2023-08-03T15:30:55.746Z"
   },
   {
    "duration": 89,
    "start_time": "2023-08-03T15:30:56.835Z"
   },
   {
    "duration": 3,
    "start_time": "2023-08-03T15:30:56.926Z"
   },
   {
    "duration": 48,
    "start_time": "2023-08-03T15:30:56.931Z"
   },
   {
    "duration": 12,
    "start_time": "2023-08-03T15:30:56.981Z"
   },
   {
    "duration": 46,
    "start_time": "2023-08-03T15:30:56.995Z"
   },
   {
    "duration": 17,
    "start_time": "2023-08-03T15:30:57.043Z"
   },
   {
    "duration": 21,
    "start_time": "2023-08-03T15:30:57.062Z"
   },
   {
    "duration": 21,
    "start_time": "2023-08-03T15:30:57.085Z"
   },
   {
    "duration": 31,
    "start_time": "2023-08-03T15:30:57.108Z"
   },
   {
    "duration": 1454,
    "start_time": "2023-08-03T15:30:57.141Z"
   },
   {
    "duration": 54,
    "start_time": "2023-08-03T15:30:58.599Z"
   },
   {
    "duration": 16,
    "start_time": "2023-08-03T15:30:58.655Z"
   },
   {
    "duration": 11407,
    "start_time": "2023-08-03T15:30:58.672Z"
   },
   {
    "duration": 3,
    "start_time": "2023-08-03T15:31:10.080Z"
   },
   {
    "duration": 21,
    "start_time": "2023-08-03T15:31:10.084Z"
   },
   {
    "duration": 45,
    "start_time": "2023-08-03T15:31:10.107Z"
   },
   {
    "duration": 148,
    "start_time": "2023-08-03T15:31:10.153Z"
   },
   {
    "duration": 5,
    "start_time": "2023-08-03T15:31:10.303Z"
   },
   {
    "duration": 11,
    "start_time": "2023-08-03T15:31:10.309Z"
   },
   {
    "duration": 1708,
    "start_time": "2023-08-03T15:31:10.321Z"
   },
   {
    "duration": 14,
    "start_time": "2023-08-03T15:31:12.031Z"
   },
   {
    "duration": 6,
    "start_time": "2023-08-03T15:31:12.047Z"
   },
   {
    "duration": 7,
    "start_time": "2023-08-03T15:31:12.055Z"
   },
   {
    "duration": 20,
    "start_time": "2023-08-03T15:31:12.063Z"
   },
   {
    "duration": 615,
    "start_time": "2023-08-03T15:31:12.085Z"
   },
   {
    "duration": 3,
    "start_time": "2023-08-03T15:31:12.701Z"
   },
   {
    "duration": 16,
    "start_time": "2023-08-03T15:31:12.707Z"
   },
   {
    "duration": 8,
    "start_time": "2023-08-03T15:31:12.724Z"
   },
   {
    "duration": 10,
    "start_time": "2023-08-03T15:31:12.733Z"
   },
   {
    "duration": 8,
    "start_time": "2023-08-03T15:31:12.745Z"
   },
   {
    "duration": 696,
    "start_time": "2023-08-03T15:31:12.755Z"
   },
   {
    "duration": 13,
    "start_time": "2023-08-03T15:31:13.453Z"
   },
   {
    "duration": 855,
    "start_time": "2023-08-03T15:31:13.468Z"
   },
   {
    "duration": 95,
    "start_time": "2023-08-03T15:31:14.325Z"
   },
   {
    "duration": 20,
    "start_time": "2023-08-03T15:31:14.423Z"
   },
   {
    "duration": 6,
    "start_time": "2023-08-03T15:31:14.444Z"
   },
   {
    "duration": 1128,
    "start_time": "2023-08-04T17:20:16.726Z"
   },
   {
    "duration": 96,
    "start_time": "2023-08-04T17:20:17.857Z"
   },
   {
    "duration": 3,
    "start_time": "2023-08-04T17:20:17.956Z"
   },
   {
    "duration": 46,
    "start_time": "2023-08-04T17:20:17.961Z"
   },
   {
    "duration": 20,
    "start_time": "2023-08-04T17:20:18.008Z"
   },
   {
    "duration": 116,
    "start_time": "2023-08-04T17:20:18.030Z"
   },
   {
    "duration": 30,
    "start_time": "2023-08-04T17:20:18.147Z"
   },
   {
    "duration": 20,
    "start_time": "2023-08-04T17:20:18.179Z"
   },
   {
    "duration": 30,
    "start_time": "2023-08-04T17:20:18.200Z"
   },
   {
    "duration": 50,
    "start_time": "2023-08-04T17:20:18.234Z"
   },
   {
    "duration": 1601,
    "start_time": "2023-08-04T17:20:18.285Z"
   },
   {
    "duration": 70,
    "start_time": "2023-08-04T17:20:19.888Z"
   },
   {
    "duration": 23,
    "start_time": "2023-08-04T17:20:19.960Z"
   },
   {
    "duration": 12980,
    "start_time": "2023-08-04T17:20:19.984Z"
   },
   {
    "duration": 24,
    "start_time": "2023-08-04T17:20:32.966Z"
   },
   {
    "duration": 256,
    "start_time": "2023-08-04T17:20:32.991Z"
   },
   {
    "duration": 7,
    "start_time": "2023-08-04T17:20:33.249Z"
   },
   {
    "duration": 4,
    "start_time": "2023-08-04T17:20:33.259Z"
   },
   {
    "duration": 1880,
    "start_time": "2023-08-04T17:20:33.264Z"
   },
   {
    "duration": 14,
    "start_time": "2023-08-04T17:20:35.146Z"
   },
   {
    "duration": 6,
    "start_time": "2023-08-04T17:20:35.162Z"
   },
   {
    "duration": 7,
    "start_time": "2023-08-04T17:20:35.169Z"
   },
   {
    "duration": 50,
    "start_time": "2023-08-04T17:20:35.178Z"
   },
   {
    "duration": 657,
    "start_time": "2023-08-04T17:20:35.229Z"
   },
   {
    "duration": 4,
    "start_time": "2023-08-04T17:20:35.888Z"
   },
   {
    "duration": 22,
    "start_time": "2023-08-04T17:20:35.894Z"
   },
   {
    "duration": 24,
    "start_time": "2023-08-04T17:20:35.918Z"
   },
   {
    "duration": 6,
    "start_time": "2023-08-04T17:20:35.945Z"
   },
   {
    "duration": 10,
    "start_time": "2023-08-04T17:20:35.952Z"
   },
   {
    "duration": 5627,
    "start_time": "2023-08-04T17:20:35.964Z"
   },
   {
    "duration": 19,
    "start_time": "2023-08-04T17:20:41.592Z"
   },
   {
    "duration": 36,
    "start_time": "2023-08-04T17:20:41.613Z"
   },
   {
    "duration": 18,
    "start_time": "2023-08-04T17:20:47.004Z"
   },
   {
    "duration": 9,
    "start_time": "2023-08-04T18:11:26.607Z"
   },
   {
    "duration": 8,
    "start_time": "2023-08-04T18:11:31.539Z"
   },
   {
    "duration": 4,
    "start_time": "2023-08-04T18:12:09.582Z"
   },
   {
    "duration": 47,
    "start_time": "2023-08-04T18:19:34.790Z"
   },
   {
    "duration": 1410,
    "start_time": "2023-08-04T18:19:40.585Z"
   },
   {
    "duration": 139,
    "start_time": "2023-08-04T18:19:41.997Z"
   },
   {
    "duration": 3,
    "start_time": "2023-08-04T18:19:42.138Z"
   },
   {
    "duration": 29,
    "start_time": "2023-08-04T18:19:42.142Z"
   },
   {
    "duration": 14,
    "start_time": "2023-08-04T18:19:42.173Z"
   },
   {
    "duration": 16,
    "start_time": "2023-08-04T18:19:42.189Z"
   },
   {
    "duration": 5,
    "start_time": "2023-08-04T18:19:42.206Z"
   },
   {
    "duration": 20,
    "start_time": "2023-08-04T18:19:42.213Z"
   },
   {
    "duration": 5,
    "start_time": "2023-08-04T18:19:42.234Z"
   },
   {
    "duration": 38,
    "start_time": "2023-08-04T18:19:42.240Z"
   },
   {
    "duration": 1681,
    "start_time": "2023-08-04T18:19:42.280Z"
   },
   {
    "duration": 70,
    "start_time": "2023-08-04T18:19:43.963Z"
   },
   {
    "duration": 44,
    "start_time": "2023-08-04T18:19:44.036Z"
   },
   {
    "duration": 13555,
    "start_time": "2023-08-04T18:19:44.084Z"
   },
   {
    "duration": 32,
    "start_time": "2023-08-04T18:19:57.641Z"
   },
   {
    "duration": 192,
    "start_time": "2023-08-04T18:19:57.675Z"
   },
   {
    "duration": 6,
    "start_time": "2023-08-04T18:19:57.868Z"
   },
   {
    "duration": 29,
    "start_time": "2023-08-04T18:19:57.876Z"
   },
   {
    "duration": 2024,
    "start_time": "2023-08-04T18:19:57.907Z"
   },
   {
    "duration": 17,
    "start_time": "2023-08-04T18:19:59.933Z"
   },
   {
    "duration": 15,
    "start_time": "2023-08-04T18:19:59.952Z"
   },
   {
    "duration": 6,
    "start_time": "2023-08-04T18:19:59.969Z"
   },
   {
    "duration": 28,
    "start_time": "2023-08-04T18:19:59.977Z"
   },
   {
    "duration": 678,
    "start_time": "2023-08-04T18:20:00.007Z"
   },
   {
    "duration": 4,
    "start_time": "2023-08-04T18:20:00.687Z"
   },
   {
    "duration": 50,
    "start_time": "2023-08-04T18:20:00.693Z"
   },
   {
    "duration": 56,
    "start_time": "2023-08-04T18:20:00.745Z"
   },
   {
    "duration": 47,
    "start_time": "2023-08-04T18:20:00.803Z"
   },
   {
    "duration": 51,
    "start_time": "2023-08-04T18:20:00.852Z"
   },
   {
    "duration": 888,
    "start_time": "2023-08-04T18:20:00.905Z"
   },
   {
    "duration": 15,
    "start_time": "2023-08-04T18:20:01.795Z"
   },
   {
    "duration": 52,
    "start_time": "2023-08-04T18:20:01.812Z"
   },
   {
    "duration": 100,
    "start_time": "2023-08-04T18:20:01.866Z"
   },
   {
    "duration": 70,
    "start_time": "2023-08-04T18:20:01.968Z"
   },
   {
    "duration": 929,
    "start_time": "2023-08-04T18:20:02.039Z"
   },
   {
    "duration": 98,
    "start_time": "2023-08-04T18:20:02.969Z"
   },
   {
    "duration": 34,
    "start_time": "2023-08-04T18:20:03.069Z"
   },
   {
    "duration": 6,
    "start_time": "2023-08-04T18:20:03.106Z"
   },
   {
    "duration": 18,
    "start_time": "2023-08-04T18:21:31.474Z"
   },
   {
    "duration": 24,
    "start_time": "2023-08-04T18:32:39.993Z"
   },
   {
    "duration": 15,
    "start_time": "2023-08-04T18:32:44.675Z"
   },
   {
    "duration": 134,
    "start_time": "2023-08-04T18:33:07.882Z"
   },
   {
    "duration": 29,
    "start_time": "2023-08-04T18:33:13.212Z"
   },
   {
    "duration": 24,
    "start_time": "2023-08-04T18:33:36.240Z"
   },
   {
    "duration": 16,
    "start_time": "2023-08-04T18:33:42.061Z"
   },
   {
    "duration": 25,
    "start_time": "2023-08-04T18:34:04.782Z"
   },
   {
    "duration": 14,
    "start_time": "2023-08-04T18:34:06.902Z"
   },
   {
    "duration": 977,
    "start_time": "2023-08-04T18:35:09.207Z"
   },
   {
    "duration": 11,
    "start_time": "2023-08-04T18:44:26.054Z"
   },
   {
    "duration": 6,
    "start_time": "2023-08-04T18:45:03.342Z"
   },
   {
    "duration": 5,
    "start_time": "2023-08-04T18:45:28.141Z"
   },
   {
    "duration": 6,
    "start_time": "2023-08-04T18:45:44.145Z"
   },
   {
    "duration": 1318,
    "start_time": "2023-08-04T18:46:02.329Z"
   },
   {
    "duration": 106,
    "start_time": "2023-08-04T18:46:03.649Z"
   },
   {
    "duration": 3,
    "start_time": "2023-08-04T18:46:03.759Z"
   },
   {
    "duration": 52,
    "start_time": "2023-08-04T18:46:03.764Z"
   },
   {
    "duration": 14,
    "start_time": "2023-08-04T18:46:03.818Z"
   },
   {
    "duration": 15,
    "start_time": "2023-08-04T18:46:03.834Z"
   },
   {
    "duration": 5,
    "start_time": "2023-08-04T18:46:03.851Z"
   },
   {
    "duration": 16,
    "start_time": "2023-08-04T18:46:03.857Z"
   },
   {
    "duration": 8,
    "start_time": "2023-08-04T18:46:03.876Z"
   },
   {
    "duration": 23,
    "start_time": "2023-08-04T18:46:03.888Z"
   },
   {
    "duration": 1850,
    "start_time": "2023-08-04T18:46:03.913Z"
   },
   {
    "duration": 55,
    "start_time": "2023-08-04T18:46:05.767Z"
   },
   {
    "duration": 24,
    "start_time": "2023-08-04T18:46:05.824Z"
   },
   {
    "duration": 14,
    "start_time": "2023-08-04T18:46:05.867Z"
   },
   {
    "duration": 14185,
    "start_time": "2023-08-04T18:46:05.882Z"
   },
   {
    "duration": 26,
    "start_time": "2023-08-04T18:46:20.069Z"
   },
   {
    "duration": 207,
    "start_time": "2023-08-04T18:46:20.097Z"
   },
   {
    "duration": 6,
    "start_time": "2023-08-04T18:46:20.306Z"
   },
   {
    "duration": 17,
    "start_time": "2023-08-04T18:46:20.314Z"
   },
   {
    "duration": 1124,
    "start_time": "2023-08-04T18:46:20.333Z"
   },
   {
    "duration": 15,
    "start_time": "2023-08-04T18:46:21.459Z"
   },
   {
    "duration": 9,
    "start_time": "2023-08-04T18:46:21.476Z"
   },
   {
    "duration": 5,
    "start_time": "2023-08-04T18:46:21.487Z"
   },
   {
    "duration": 24,
    "start_time": "2023-08-04T18:46:21.494Z"
   },
   {
    "duration": 676,
    "start_time": "2023-08-04T18:46:21.520Z"
   },
   {
    "duration": 3,
    "start_time": "2023-08-04T18:46:22.198Z"
   },
   {
    "duration": 10,
    "start_time": "2023-08-04T18:46:22.204Z"
   },
   {
    "duration": 7,
    "start_time": "2023-08-04T18:46:22.216Z"
   },
   {
    "duration": 9,
    "start_time": "2023-08-04T18:46:22.225Z"
   },
   {
    "duration": 11,
    "start_time": "2023-08-04T18:46:22.236Z"
   },
   {
    "duration": 905,
    "start_time": "2023-08-04T18:46:22.248Z"
   },
   {
    "duration": 20,
    "start_time": "2023-08-04T18:46:23.156Z"
   },
   {
    "duration": 8,
    "start_time": "2023-08-04T18:46:23.179Z"
   },
   {
    "duration": 20,
    "start_time": "2023-08-04T18:46:23.189Z"
   },
   {
    "duration": 15,
    "start_time": "2023-08-04T18:46:23.211Z"
   },
   {
    "duration": 950,
    "start_time": "2023-08-04T18:46:23.228Z"
   },
   {
    "duration": 92,
    "start_time": "2023-08-04T18:46:24.180Z"
   },
   {
    "duration": 99,
    "start_time": "2023-08-04T18:46:24.274Z"
   },
   {
    "duration": 8,
    "start_time": "2023-08-04T18:46:24.375Z"
   },
   {
    "duration": 6,
    "start_time": "2023-08-04T18:46:57.736Z"
   },
   {
    "duration": 1201,
    "start_time": "2023-08-04T18:47:03.434Z"
   },
   {
    "duration": 103,
    "start_time": "2023-08-04T18:47:04.637Z"
   },
   {
    "duration": 3,
    "start_time": "2023-08-04T18:47:04.742Z"
   },
   {
    "duration": 34,
    "start_time": "2023-08-04T18:47:04.747Z"
   },
   {
    "duration": 15,
    "start_time": "2023-08-04T18:47:04.783Z"
   },
   {
    "duration": 15,
    "start_time": "2023-08-04T18:47:04.799Z"
   },
   {
    "duration": 5,
    "start_time": "2023-08-04T18:47:04.816Z"
   },
   {
    "duration": 11,
    "start_time": "2023-08-04T18:47:04.822Z"
   },
   {
    "duration": 37,
    "start_time": "2023-08-04T18:47:04.834Z"
   },
   {
    "duration": 14,
    "start_time": "2023-08-04T18:47:04.881Z"
   },
   {
    "duration": 1709,
    "start_time": "2023-08-04T18:47:04.896Z"
   },
   {
    "duration": 65,
    "start_time": "2023-08-04T18:47:06.606Z"
   },
   {
    "duration": 26,
    "start_time": "2023-08-04T18:47:06.673Z"
   },
   {
    "duration": 11,
    "start_time": "2023-08-04T18:47:06.701Z"
   },
   {
    "duration": 14145,
    "start_time": "2023-08-04T18:47:06.714Z"
   },
   {
    "duration": 37,
    "start_time": "2023-08-04T18:47:20.868Z"
   },
   {
    "duration": 200,
    "start_time": "2023-08-04T18:47:20.907Z"
   },
   {
    "duration": 7,
    "start_time": "2023-08-04T18:47:21.108Z"
   },
   {
    "duration": 91,
    "start_time": "2023-08-04T18:47:21.117Z"
   },
   {
    "duration": 1075,
    "start_time": "2023-08-04T18:47:21.210Z"
   },
   {
    "duration": 17,
    "start_time": "2023-08-04T18:47:22.287Z"
   },
   {
    "duration": 21,
    "start_time": "2023-08-04T18:47:22.306Z"
   },
   {
    "duration": 17,
    "start_time": "2023-08-04T18:47:22.329Z"
   },
   {
    "duration": 38,
    "start_time": "2023-08-04T18:47:22.349Z"
   },
   {
    "duration": 718,
    "start_time": "2023-08-04T18:47:22.388Z"
   },
   {
    "duration": 3,
    "start_time": "2023-08-04T18:47:23.108Z"
   },
   {
    "duration": 24,
    "start_time": "2023-08-04T18:47:23.112Z"
   },
   {
    "duration": 26,
    "start_time": "2023-08-04T18:47:23.140Z"
   },
   {
    "duration": 25,
    "start_time": "2023-08-04T18:47:23.172Z"
   },
   {
    "duration": 29,
    "start_time": "2023-08-04T18:47:23.199Z"
   },
   {
    "duration": 936,
    "start_time": "2023-08-04T18:47:23.230Z"
   },
   {
    "duration": 20,
    "start_time": "2023-08-04T18:47:24.168Z"
   },
   {
    "duration": 32,
    "start_time": "2023-08-04T18:47:24.189Z"
   },
   {
    "duration": 32,
    "start_time": "2023-08-04T18:47:24.223Z"
   },
   {
    "duration": 22,
    "start_time": "2023-08-04T18:47:24.257Z"
   },
   {
    "duration": 789,
    "start_time": "2023-08-04T18:47:24.282Z"
   },
   {
    "duration": 99,
    "start_time": "2023-08-04T18:47:25.077Z"
   },
   {
    "duration": 25,
    "start_time": "2023-08-04T18:47:25.179Z"
   },
   {
    "duration": 6,
    "start_time": "2023-08-04T18:47:25.206Z"
   },
   {
    "duration": 1089,
    "start_time": "2023-08-04T18:52:11.054Z"
   },
   {
    "duration": 115,
    "start_time": "2023-08-04T19:05:10.524Z"
   },
   {
    "duration": 24,
    "start_time": "2023-08-04T19:05:41.196Z"
   },
   {
    "duration": 32,
    "start_time": "2023-08-04T19:07:42.090Z"
   },
   {
    "duration": 1387,
    "start_time": "2023-08-05T05:46:32.759Z"
   },
   {
    "duration": 107,
    "start_time": "2023-08-05T05:46:34.148Z"
   },
   {
    "duration": 4,
    "start_time": "2023-08-05T05:46:34.257Z"
   },
   {
    "duration": 34,
    "start_time": "2023-08-05T05:46:34.262Z"
   },
   {
    "duration": 14,
    "start_time": "2023-08-05T05:46:34.299Z"
   },
   {
    "duration": 14,
    "start_time": "2023-08-05T05:46:34.314Z"
   },
   {
    "duration": 8,
    "start_time": "2023-08-05T05:46:34.330Z"
   },
   {
    "duration": 9,
    "start_time": "2023-08-05T05:46:34.339Z"
   },
   {
    "duration": 12,
    "start_time": "2023-08-05T05:46:34.375Z"
   },
   {
    "duration": 20,
    "start_time": "2023-08-05T05:46:34.389Z"
   },
   {
    "duration": 115,
    "start_time": "2023-08-05T05:46:34.411Z"
   },
   {
    "duration": 0,
    "start_time": "2023-08-05T05:46:34.529Z"
   },
   {
    "duration": 0,
    "start_time": "2023-08-05T05:46:34.530Z"
   },
   {
    "duration": 0,
    "start_time": "2023-08-05T05:46:34.531Z"
   },
   {
    "duration": 0,
    "start_time": "2023-08-05T05:46:34.532Z"
   },
   {
    "duration": 0,
    "start_time": "2023-08-05T05:46:34.533Z"
   },
   {
    "duration": 0,
    "start_time": "2023-08-05T05:46:34.535Z"
   },
   {
    "duration": 0,
    "start_time": "2023-08-05T05:46:34.535Z"
   },
   {
    "duration": 0,
    "start_time": "2023-08-05T05:46:34.537Z"
   },
   {
    "duration": 0,
    "start_time": "2023-08-05T05:46:34.538Z"
   },
   {
    "duration": 0,
    "start_time": "2023-08-05T05:46:34.539Z"
   },
   {
    "duration": 0,
    "start_time": "2023-08-05T05:46:34.541Z"
   },
   {
    "duration": 0,
    "start_time": "2023-08-05T05:46:34.541Z"
   },
   {
    "duration": 0,
    "start_time": "2023-08-05T05:46:34.542Z"
   },
   {
    "duration": 0,
    "start_time": "2023-08-05T05:46:34.544Z"
   },
   {
    "duration": 0,
    "start_time": "2023-08-05T05:46:34.545Z"
   },
   {
    "duration": 0,
    "start_time": "2023-08-05T05:46:34.546Z"
   },
   {
    "duration": 0,
    "start_time": "2023-08-05T05:46:34.547Z"
   },
   {
    "duration": 0,
    "start_time": "2023-08-05T05:46:34.548Z"
   },
   {
    "duration": 0,
    "start_time": "2023-08-05T05:46:34.549Z"
   },
   {
    "duration": 0,
    "start_time": "2023-08-05T05:46:34.550Z"
   },
   {
    "duration": 0,
    "start_time": "2023-08-05T05:46:34.578Z"
   },
   {
    "duration": 0,
    "start_time": "2023-08-05T05:46:34.579Z"
   },
   {
    "duration": 0,
    "start_time": "2023-08-05T05:46:34.580Z"
   },
   {
    "duration": 1,
    "start_time": "2023-08-05T05:46:34.580Z"
   },
   {
    "duration": 0,
    "start_time": "2023-08-05T05:46:34.581Z"
   },
   {
    "duration": 0,
    "start_time": "2023-08-05T05:46:34.582Z"
   },
   {
    "duration": 0,
    "start_time": "2023-08-05T05:46:34.583Z"
   },
   {
    "duration": 0,
    "start_time": "2023-08-05T05:46:34.583Z"
   },
   {
    "duration": 0,
    "start_time": "2023-08-05T05:46:34.586Z"
   },
   {
    "duration": 6,
    "start_time": "2023-08-05T05:47:03.254Z"
   },
   {
    "duration": 6,
    "start_time": "2023-08-05T05:47:10.730Z"
   },
   {
    "duration": 6,
    "start_time": "2023-08-05T05:49:07.250Z"
   },
   {
    "duration": 21,
    "start_time": "2023-08-05T05:52:24.545Z"
   },
   {
    "duration": 17,
    "start_time": "2023-08-05T05:52:42.638Z"
   },
   {
    "duration": 36,
    "start_time": "2023-08-05T05:52:48.989Z"
   },
   {
    "duration": 35,
    "start_time": "2023-08-05T05:53:23.539Z"
   },
   {
    "duration": 25,
    "start_time": "2023-08-05T05:53:24.340Z"
   },
   {
    "duration": 26,
    "start_time": "2023-08-05T05:53:24.726Z"
   },
   {
    "duration": 25,
    "start_time": "2023-08-05T05:53:24.978Z"
   },
   {
    "duration": 24,
    "start_time": "2023-08-05T05:53:25.231Z"
   },
   {
    "duration": 32,
    "start_time": "2023-08-05T05:53:25.474Z"
   },
   {
    "duration": 28,
    "start_time": "2023-08-05T05:53:34.095Z"
   },
   {
    "duration": 29,
    "start_time": "2023-08-05T05:53:48.081Z"
   },
   {
    "duration": 1151,
    "start_time": "2023-08-05T05:55:28.968Z"
   },
   {
    "duration": 90,
    "start_time": "2023-08-05T05:55:30.121Z"
   },
   {
    "duration": 2,
    "start_time": "2023-08-05T05:55:30.213Z"
   },
   {
    "duration": 60,
    "start_time": "2023-08-05T05:55:30.217Z"
   },
   {
    "duration": 24,
    "start_time": "2023-08-05T05:55:30.279Z"
   },
   {
    "duration": 30,
    "start_time": "2023-08-05T05:55:30.305Z"
   },
   {
    "duration": 46,
    "start_time": "2023-08-05T05:55:30.337Z"
   },
   {
    "duration": 41,
    "start_time": "2023-08-05T05:55:30.385Z"
   },
   {
    "duration": 41,
    "start_time": "2023-08-05T05:55:30.428Z"
   },
   {
    "duration": 41,
    "start_time": "2023-08-05T05:55:30.472Z"
   },
   {
    "duration": 32,
    "start_time": "2023-08-05T05:55:30.515Z"
   },
   {
    "duration": 61,
    "start_time": "2023-08-05T05:55:30.549Z"
   },
   {
    "duration": 1520,
    "start_time": "2023-08-05T05:55:30.612Z"
   },
   {
    "duration": 57,
    "start_time": "2023-08-05T05:55:32.134Z"
   },
   {
    "duration": 25,
    "start_time": "2023-08-05T05:55:32.193Z"
   },
   {
    "duration": 12,
    "start_time": "2023-08-05T05:55:32.219Z"
   },
   {
    "duration": 13599,
    "start_time": "2023-08-05T05:55:32.233Z"
   },
   {
    "duration": 23,
    "start_time": "2023-08-05T05:55:45.834Z"
   },
   {
    "duration": 256,
    "start_time": "2023-08-05T05:55:45.859Z"
   },
   {
    "duration": 6,
    "start_time": "2023-08-05T05:55:46.117Z"
   },
   {
    "duration": 21,
    "start_time": "2023-08-05T05:55:46.125Z"
   },
   {
    "duration": 1016,
    "start_time": "2023-08-05T05:55:46.148Z"
   },
   {
    "duration": 20,
    "start_time": "2023-08-05T05:55:47.166Z"
   },
   {
    "duration": 32,
    "start_time": "2023-08-05T05:55:47.188Z"
   },
   {
    "duration": 24,
    "start_time": "2023-08-05T05:55:47.222Z"
   },
   {
    "duration": 52,
    "start_time": "2023-08-05T05:55:47.248Z"
   },
   {
    "duration": 672,
    "start_time": "2023-08-05T05:55:47.302Z"
   },
   {
    "duration": 3,
    "start_time": "2023-08-05T05:55:47.978Z"
   },
   {
    "duration": 47,
    "start_time": "2023-08-05T05:55:47.982Z"
   },
   {
    "duration": 10,
    "start_time": "2023-08-05T05:55:48.031Z"
   },
   {
    "duration": 42,
    "start_time": "2023-08-05T05:55:48.042Z"
   },
   {
    "duration": 42,
    "start_time": "2023-08-05T05:55:48.086Z"
   },
   {
    "duration": 899,
    "start_time": "2023-08-05T05:55:48.130Z"
   },
   {
    "duration": 14,
    "start_time": "2023-08-05T05:55:49.030Z"
   },
   {
    "duration": 100,
    "start_time": "2023-08-05T05:55:49.046Z"
   },
   {
    "duration": 42,
    "start_time": "2023-08-05T05:55:49.148Z"
   },
   {
    "duration": 38,
    "start_time": "2023-08-05T05:55:49.192Z"
   },
   {
    "duration": 1961,
    "start_time": "2023-08-05T05:55:49.232Z"
   },
   {
    "duration": 81,
    "start_time": "2023-08-05T05:55:51.197Z"
   },
   {
    "duration": 42,
    "start_time": "2023-08-05T05:55:51.280Z"
   },
   {
    "duration": 9,
    "start_time": "2023-08-05T05:55:51.326Z"
   },
   {
    "duration": 15,
    "start_time": "2023-08-05T05:56:29.115Z"
   },
   {
    "duration": 24,
    "start_time": "2023-08-05T06:02:35.684Z"
   },
   {
    "duration": 30,
    "start_time": "2023-08-05T06:02:45.644Z"
   },
   {
    "duration": 451,
    "start_time": "2023-08-05T06:03:12.675Z"
   },
   {
    "duration": 21,
    "start_time": "2023-08-05T06:03:17.984Z"
   },
   {
    "duration": 19,
    "start_time": "2023-08-05T06:03:38.834Z"
   },
   {
    "duration": 21,
    "start_time": "2023-08-05T06:03:46.338Z"
   },
   {
    "duration": 20,
    "start_time": "2023-08-05T06:05:21.629Z"
   },
   {
    "duration": 23,
    "start_time": "2023-08-05T06:07:28.112Z"
   },
   {
    "duration": 20,
    "start_time": "2023-08-05T06:07:34.648Z"
   },
   {
    "duration": 20,
    "start_time": "2023-08-05T06:15:47.283Z"
   },
   {
    "duration": 12,
    "start_time": "2023-08-05T06:15:49.583Z"
   },
   {
    "duration": 21,
    "start_time": "2023-08-05T06:15:56.610Z"
   },
   {
    "duration": 12,
    "start_time": "2023-08-05T06:15:58.794Z"
   },
   {
    "duration": 7324,
    "start_time": "2023-08-05T06:33:54.914Z"
   },
   {
    "duration": 7404,
    "start_time": "2023-08-05T06:34:11.286Z"
   },
   {
    "duration": 12326,
    "start_time": "2023-08-05T06:34:27.557Z"
   },
   {
    "duration": 7454,
    "start_time": "2023-08-05T06:38:32.755Z"
   },
   {
    "duration": 8667,
    "start_time": "2023-08-05T06:39:12.059Z"
   },
   {
    "duration": 8863,
    "start_time": "2023-08-05T06:39:37.290Z"
   },
   {
    "duration": 8998,
    "start_time": "2023-08-05T06:45:19.020Z"
   },
   {
    "duration": 658,
    "start_time": "2023-08-05T06:45:51.469Z"
   },
   {
    "duration": 9706,
    "start_time": "2023-08-05T06:46:00.123Z"
   },
   {
    "duration": 9600,
    "start_time": "2023-08-05T06:50:58.622Z"
   },
   {
    "duration": 2,
    "start_time": "2023-08-05T06:52:52.353Z"
   },
   {
    "duration": 8601,
    "start_time": "2023-08-05T06:54:53.499Z"
   },
   {
    "duration": 8524,
    "start_time": "2023-08-05T06:55:08.145Z"
   },
   {
    "duration": 14,
    "start_time": "2023-08-05T06:59:31.628Z"
   },
   {
    "duration": 1170,
    "start_time": "2023-08-05T06:59:42.087Z"
   },
   {
    "duration": 94,
    "start_time": "2023-08-05T06:59:43.260Z"
   },
   {
    "duration": 3,
    "start_time": "2023-08-05T06:59:43.356Z"
   },
   {
    "duration": 46,
    "start_time": "2023-08-05T06:59:43.361Z"
   },
   {
    "duration": 13,
    "start_time": "2023-08-05T06:59:43.408Z"
   },
   {
    "duration": 117,
    "start_time": "2023-08-05T06:59:43.422Z"
   },
   {
    "duration": 0,
    "start_time": "2023-08-05T06:59:43.541Z"
   },
   {
    "duration": 0,
    "start_time": "2023-08-05T06:59:43.543Z"
   },
   {
    "duration": 0,
    "start_time": "2023-08-05T06:59:43.543Z"
   },
   {
    "duration": 0,
    "start_time": "2023-08-05T06:59:43.545Z"
   },
   {
    "duration": 0,
    "start_time": "2023-08-05T06:59:43.546Z"
   },
   {
    "duration": 0,
    "start_time": "2023-08-05T06:59:43.547Z"
   },
   {
    "duration": 0,
    "start_time": "2023-08-05T06:59:43.548Z"
   },
   {
    "duration": 0,
    "start_time": "2023-08-05T06:59:43.548Z"
   },
   {
    "duration": 0,
    "start_time": "2023-08-05T06:59:43.549Z"
   },
   {
    "duration": 0,
    "start_time": "2023-08-05T06:59:43.550Z"
   },
   {
    "duration": 0,
    "start_time": "2023-08-05T06:59:43.551Z"
   },
   {
    "duration": 0,
    "start_time": "2023-08-05T06:59:43.552Z"
   },
   {
    "duration": 0,
    "start_time": "2023-08-05T06:59:43.553Z"
   },
   {
    "duration": 0,
    "start_time": "2023-08-05T06:59:43.574Z"
   },
   {
    "duration": 0,
    "start_time": "2023-08-05T06:59:43.575Z"
   },
   {
    "duration": 0,
    "start_time": "2023-08-05T06:59:43.576Z"
   },
   {
    "duration": 0,
    "start_time": "2023-08-05T06:59:43.577Z"
   },
   {
    "duration": 0,
    "start_time": "2023-08-05T06:59:43.578Z"
   },
   {
    "duration": 0,
    "start_time": "2023-08-05T06:59:43.578Z"
   },
   {
    "duration": 0,
    "start_time": "2023-08-05T06:59:43.579Z"
   },
   {
    "duration": 0,
    "start_time": "2023-08-05T06:59:43.580Z"
   },
   {
    "duration": 0,
    "start_time": "2023-08-05T06:59:43.580Z"
   },
   {
    "duration": 0,
    "start_time": "2023-08-05T06:59:43.581Z"
   },
   {
    "duration": 0,
    "start_time": "2023-08-05T06:59:43.582Z"
   },
   {
    "duration": 0,
    "start_time": "2023-08-05T06:59:43.582Z"
   },
   {
    "duration": 0,
    "start_time": "2023-08-05T06:59:43.583Z"
   },
   {
    "duration": 0,
    "start_time": "2023-08-05T06:59:43.584Z"
   },
   {
    "duration": 1,
    "start_time": "2023-08-05T06:59:43.584Z"
   },
   {
    "duration": 0,
    "start_time": "2023-08-05T06:59:43.590Z"
   },
   {
    "duration": 0,
    "start_time": "2023-08-05T06:59:43.591Z"
   },
   {
    "duration": 0,
    "start_time": "2023-08-05T06:59:43.592Z"
   },
   {
    "duration": 0,
    "start_time": "2023-08-05T06:59:43.594Z"
   },
   {
    "duration": 0,
    "start_time": "2023-08-05T06:59:43.595Z"
   },
   {
    "duration": 0,
    "start_time": "2023-08-05T06:59:43.596Z"
   },
   {
    "duration": 0,
    "start_time": "2023-08-05T06:59:43.597Z"
   },
   {
    "duration": 0,
    "start_time": "2023-08-05T06:59:43.598Z"
   },
   {
    "duration": 4,
    "start_time": "2023-08-05T07:00:43.926Z"
   },
   {
    "duration": 198,
    "start_time": "2023-08-05T07:00:43.932Z"
   },
   {
    "duration": 3,
    "start_time": "2023-08-05T07:00:44.132Z"
   },
   {
    "duration": 24,
    "start_time": "2023-08-05T07:00:44.137Z"
   },
   {
    "duration": 23,
    "start_time": "2023-08-05T07:00:44.163Z"
   },
   {
    "duration": 17,
    "start_time": "2023-08-05T07:00:44.189Z"
   },
   {
    "duration": 0,
    "start_time": "2023-08-05T07:00:44.209Z"
   },
   {
    "duration": 0,
    "start_time": "2023-08-05T07:00:44.211Z"
   },
   {
    "duration": 0,
    "start_time": "2023-08-05T07:00:44.212Z"
   },
   {
    "duration": 0,
    "start_time": "2023-08-05T07:00:44.214Z"
   },
   {
    "duration": 0,
    "start_time": "2023-08-05T07:00:44.216Z"
   },
   {
    "duration": 0,
    "start_time": "2023-08-05T07:00:44.217Z"
   },
   {
    "duration": 0,
    "start_time": "2023-08-05T07:00:44.219Z"
   },
   {
    "duration": 0,
    "start_time": "2023-08-05T07:00:44.221Z"
   },
   {
    "duration": 0,
    "start_time": "2023-08-05T07:00:44.223Z"
   },
   {
    "duration": 0,
    "start_time": "2023-08-05T07:00:44.224Z"
   },
   {
    "duration": 0,
    "start_time": "2023-08-05T07:00:44.226Z"
   },
   {
    "duration": 0,
    "start_time": "2023-08-05T07:00:44.227Z"
   },
   {
    "duration": 0,
    "start_time": "2023-08-05T07:00:44.229Z"
   },
   {
    "duration": 0,
    "start_time": "2023-08-05T07:00:44.230Z"
   },
   {
    "duration": 0,
    "start_time": "2023-08-05T07:00:44.231Z"
   },
   {
    "duration": 0,
    "start_time": "2023-08-05T07:00:44.232Z"
   },
   {
    "duration": 0,
    "start_time": "2023-08-05T07:00:44.233Z"
   },
   {
    "duration": 0,
    "start_time": "2023-08-05T07:00:44.234Z"
   },
   {
    "duration": 0,
    "start_time": "2023-08-05T07:00:44.235Z"
   },
   {
    "duration": 0,
    "start_time": "2023-08-05T07:00:44.236Z"
   },
   {
    "duration": 0,
    "start_time": "2023-08-05T07:00:44.237Z"
   },
   {
    "duration": 0,
    "start_time": "2023-08-05T07:00:44.238Z"
   },
   {
    "duration": 0,
    "start_time": "2023-08-05T07:00:44.289Z"
   },
   {
    "duration": 0,
    "start_time": "2023-08-05T07:00:44.290Z"
   },
   {
    "duration": 0,
    "start_time": "2023-08-05T07:00:44.291Z"
   },
   {
    "duration": 0,
    "start_time": "2023-08-05T07:00:44.292Z"
   },
   {
    "duration": 0,
    "start_time": "2023-08-05T07:00:44.293Z"
   },
   {
    "duration": 0,
    "start_time": "2023-08-05T07:00:44.298Z"
   },
   {
    "duration": 0,
    "start_time": "2023-08-05T07:00:44.300Z"
   },
   {
    "duration": 0,
    "start_time": "2023-08-05T07:00:44.303Z"
   },
   {
    "duration": 0,
    "start_time": "2023-08-05T07:00:44.305Z"
   },
   {
    "duration": 0,
    "start_time": "2023-08-05T07:00:44.306Z"
   },
   {
    "duration": 0,
    "start_time": "2023-08-05T07:00:44.308Z"
   },
   {
    "duration": 0,
    "start_time": "2023-08-05T07:00:44.309Z"
   },
   {
    "duration": 0,
    "start_time": "2023-08-05T07:00:44.310Z"
   },
   {
    "duration": 0,
    "start_time": "2023-08-05T07:00:44.311Z"
   },
   {
    "duration": 337,
    "start_time": "2023-08-05T07:01:28.167Z"
   },
   {
    "duration": 15,
    "start_time": "2023-08-05T07:02:27.098Z"
   },
   {
    "duration": 14,
    "start_time": "2023-08-05T07:02:27.115Z"
   },
   {
    "duration": 12,
    "start_time": "2023-08-05T07:02:27.131Z"
   },
   {
    "duration": 12,
    "start_time": "2023-08-05T07:02:27.145Z"
   },
   {
    "duration": 29,
    "start_time": "2023-08-05T07:02:27.159Z"
   },
   {
    "duration": 23,
    "start_time": "2023-08-05T07:02:27.190Z"
   },
   {
    "duration": 6,
    "start_time": "2023-08-05T07:02:27.215Z"
   },
   {
    "duration": 16,
    "start_time": "2023-08-05T07:02:27.223Z"
   },
   {
    "duration": 1696,
    "start_time": "2023-08-05T07:02:27.241Z"
   },
   {
    "duration": 62,
    "start_time": "2023-08-05T07:02:28.940Z"
   },
   {
    "duration": 23,
    "start_time": "2023-08-05T07:02:29.004Z"
   },
   {
    "duration": 11,
    "start_time": "2023-08-05T07:02:29.029Z"
   },
   {
    "duration": 8773,
    "start_time": "2023-08-05T07:02:29.042Z"
   },
   {
    "duration": 3,
    "start_time": "2023-08-05T07:02:37.817Z"
   },
   {
    "duration": 24,
    "start_time": "2023-08-05T07:02:37.821Z"
   },
   {
    "duration": 199,
    "start_time": "2023-08-05T07:02:37.847Z"
   },
   {
    "duration": 6,
    "start_time": "2023-08-05T07:02:38.047Z"
   },
   {
    "duration": 16,
    "start_time": "2023-08-05T07:02:38.054Z"
   },
   {
    "duration": 1018,
    "start_time": "2023-08-05T07:02:38.072Z"
   },
   {
    "duration": 13,
    "start_time": "2023-08-05T07:02:39.092Z"
   },
   {
    "duration": 20,
    "start_time": "2023-08-05T07:02:39.106Z"
   },
   {
    "duration": 14,
    "start_time": "2023-08-05T07:02:39.127Z"
   },
   {
    "duration": 17,
    "start_time": "2023-08-05T07:02:39.143Z"
   },
   {
    "duration": 638,
    "start_time": "2023-08-05T07:02:39.162Z"
   },
   {
    "duration": 2,
    "start_time": "2023-08-05T07:02:39.802Z"
   },
   {
    "duration": 24,
    "start_time": "2023-08-05T07:02:39.806Z"
   },
   {
    "duration": 19,
    "start_time": "2023-08-05T07:02:39.832Z"
   },
   {
    "duration": 8,
    "start_time": "2023-08-05T07:02:39.854Z"
   },
   {
    "duration": 23,
    "start_time": "2023-08-05T07:02:39.863Z"
   },
   {
    "duration": 15,
    "start_time": "2023-08-05T07:02:39.890Z"
   },
   {
    "duration": 20,
    "start_time": "2023-08-05T07:02:39.906Z"
   },
   {
    "duration": 15,
    "start_time": "2023-08-05T07:02:39.928Z"
   },
   {
    "duration": 11,
    "start_time": "2023-08-05T07:02:39.945Z"
   },
   {
    "duration": 1728,
    "start_time": "2023-08-05T07:02:39.958Z"
   },
   {
    "duration": 8,
    "start_time": "2023-08-05T07:02:41.689Z"
   },
   {
    "duration": 30,
    "start_time": "2023-08-05T07:02:41.699Z"
   },
   {
    "duration": 6,
    "start_time": "2023-08-05T07:02:41.730Z"
   },
   {
    "duration": 214,
    "start_time": "2023-08-05T07:09:14.493Z"
   },
   {
    "duration": 202,
    "start_time": "2023-08-05T07:09:49.777Z"
   },
   {
    "duration": 540,
    "start_time": "2023-08-05T07:10:01.783Z"
   },
   {
    "duration": 630,
    "start_time": "2023-08-05T07:10:30.070Z"
   },
   {
    "duration": 547,
    "start_time": "2023-08-05T07:11:03.675Z"
   },
   {
    "duration": 697,
    "start_time": "2023-08-05T07:11:31.965Z"
   },
   {
    "duration": 14,
    "start_time": "2023-08-05T07:16:58.659Z"
   },
   {
    "duration": 1747,
    "start_time": "2023-08-05T07:17:55.218Z"
   },
   {
    "duration": 1271,
    "start_time": "2023-08-05T07:18:01.061Z"
   },
   {
    "duration": 8586,
    "start_time": "2023-08-05T07:18:31.454Z"
   },
   {
    "duration": 9144,
    "start_time": "2023-08-05T07:18:41.916Z"
   },
   {
    "duration": 8026,
    "start_time": "2023-08-05T07:19:39.688Z"
   },
   {
    "duration": 1152,
    "start_time": "2023-08-05T07:21:27.488Z"
   },
   {
    "duration": 1801,
    "start_time": "2023-08-05T07:27:19.070Z"
   },
   {
    "duration": 1113,
    "start_time": "2023-08-05T07:30:10.602Z"
   },
   {
    "duration": 1235,
    "start_time": "2023-08-05T07:30:46.157Z"
   },
   {
    "duration": 27,
    "start_time": "2023-08-05T07:51:35.459Z"
   },
   {
    "duration": 15,
    "start_time": "2023-08-05T07:51:40.944Z"
   },
   {
    "duration": 5,
    "start_time": "2023-08-05T07:51:40.961Z"
   },
   {
    "duration": 23,
    "start_time": "2023-08-05T07:51:40.967Z"
   },
   {
    "duration": 5,
    "start_time": "2023-08-05T07:51:40.992Z"
   },
   {
    "duration": 12,
    "start_time": "2023-08-05T07:51:40.998Z"
   },
   {
    "duration": 5,
    "start_time": "2023-08-05T07:51:41.012Z"
   },
   {
    "duration": 12,
    "start_time": "2023-08-05T07:51:41.019Z"
   },
   {
    "duration": 1619,
    "start_time": "2023-08-05T07:51:41.033Z"
   },
   {
    "duration": 60,
    "start_time": "2023-08-05T07:51:42.654Z"
   },
   {
    "duration": 21,
    "start_time": "2023-08-05T07:51:42.717Z"
   },
   {
    "duration": 10,
    "start_time": "2023-08-05T07:51:42.740Z"
   },
   {
    "duration": 7571,
    "start_time": "2023-08-05T07:51:42.752Z"
   },
   {
    "duration": 1163,
    "start_time": "2023-08-05T07:51:50.326Z"
   },
   {
    "duration": 1533,
    "start_time": "2023-08-05T07:51:51.491Z"
   },
   {
    "duration": 5,
    "start_time": "2023-08-05T07:51:53.026Z"
   },
   {
    "duration": 26,
    "start_time": "2023-08-05T07:51:53.033Z"
   },
   {
    "duration": 945,
    "start_time": "2023-08-05T07:51:53.061Z"
   },
   {
    "duration": 14,
    "start_time": "2023-08-05T07:51:54.008Z"
   },
   {
    "duration": 5,
    "start_time": "2023-08-05T07:51:54.023Z"
   },
   {
    "duration": 8,
    "start_time": "2023-08-05T07:51:54.029Z"
   },
   {
    "duration": 19,
    "start_time": "2023-08-05T07:51:54.039Z"
   },
   {
    "duration": 641,
    "start_time": "2023-08-05T07:51:54.075Z"
   },
   {
    "duration": 3,
    "start_time": "2023-08-05T07:51:54.718Z"
   },
   {
    "duration": 17,
    "start_time": "2023-08-05T07:51:54.722Z"
   },
   {
    "duration": 23,
    "start_time": "2023-08-05T07:51:54.741Z"
   },
   {
    "duration": 8,
    "start_time": "2023-08-05T07:51:54.765Z"
   },
   {
    "duration": 17,
    "start_time": "2023-08-05T07:51:54.775Z"
   },
   {
    "duration": 12,
    "start_time": "2023-08-05T07:51:54.796Z"
   },
   {
    "duration": 8,
    "start_time": "2023-08-05T07:51:54.810Z"
   },
   {
    "duration": 16,
    "start_time": "2023-08-05T07:51:54.820Z"
   },
   {
    "duration": 24,
    "start_time": "2023-08-05T07:51:54.838Z"
   },
   {
    "duration": 0,
    "start_time": "2023-08-05T07:51:54.882Z"
   },
   {
    "duration": 0,
    "start_time": "2023-08-05T07:51:54.883Z"
   },
   {
    "duration": 0,
    "start_time": "2023-08-05T07:51:54.883Z"
   },
   {
    "duration": 0,
    "start_time": "2023-08-05T07:51:54.884Z"
   },
   {
    "duration": 7756,
    "start_time": "2023-08-05T07:52:13.909Z"
   },
   {
    "duration": 1674,
    "start_time": "2023-08-05T10:01:37.762Z"
   },
   {
    "duration": 212,
    "start_time": "2023-08-05T10:04:03.959Z"
   },
   {
    "duration": 150,
    "start_time": "2023-08-05T10:05:06.642Z"
   },
   {
    "duration": 89,
    "start_time": "2023-08-05T10:06:08.072Z"
   },
   {
    "duration": 3,
    "start_time": "2023-08-05T10:07:59.071Z"
   },
   {
    "duration": 3,
    "start_time": "2023-08-05T10:08:57.375Z"
   },
   {
    "duration": 12,
    "start_time": "2023-08-05T10:11:39.642Z"
   },
   {
    "duration": 13,
    "start_time": "2023-08-05T10:12:37.650Z"
   },
   {
    "duration": 5,
    "start_time": "2023-08-05T10:12:45.571Z"
   },
   {
    "duration": 15,
    "start_time": "2023-08-05T10:12:51.896Z"
   },
   {
    "duration": 15,
    "start_time": "2023-08-05T10:13:31.243Z"
   },
   {
    "duration": 6,
    "start_time": "2023-08-05T10:14:44.870Z"
   },
   {
    "duration": 3,
    "start_time": "2023-08-05T10:19:07.288Z"
   },
   {
    "duration": 701,
    "start_time": "2023-08-05T10:36:42.145Z"
   },
   {
    "duration": 1582,
    "start_time": "2023-08-05T10:36:58.959Z"
   },
   {
    "duration": 109,
    "start_time": "2023-08-05T10:37:00.543Z"
   },
   {
    "duration": 2,
    "start_time": "2023-08-05T10:37:00.654Z"
   },
   {
    "duration": 30,
    "start_time": "2023-08-05T10:37:00.658Z"
   },
   {
    "duration": 58,
    "start_time": "2023-08-05T10:37:00.690Z"
   },
   {
    "duration": 39,
    "start_time": "2023-08-05T10:37:00.750Z"
   },
   {
    "duration": 28,
    "start_time": "2023-08-05T10:37:00.791Z"
   },
   {
    "duration": 20,
    "start_time": "2023-08-05T10:37:00.822Z"
   },
   {
    "duration": 43,
    "start_time": "2023-08-05T10:37:00.844Z"
   },
   {
    "duration": 19,
    "start_time": "2023-08-05T10:37:00.888Z"
   },
   {
    "duration": 22,
    "start_time": "2023-08-05T10:37:00.909Z"
   },
   {
    "duration": 72,
    "start_time": "2023-08-05T10:37:00.933Z"
   },
   {
    "duration": 24,
    "start_time": "2023-08-05T10:37:01.006Z"
   },
   {
    "duration": 53,
    "start_time": "2023-08-05T10:37:01.033Z"
   },
   {
    "duration": 1650,
    "start_time": "2023-08-05T10:37:01.089Z"
   },
   {
    "duration": 60,
    "start_time": "2023-08-05T10:37:02.740Z"
   },
   {
    "duration": 22,
    "start_time": "2023-08-05T10:37:02.802Z"
   },
   {
    "duration": 11,
    "start_time": "2023-08-05T10:37:02.826Z"
   },
   {
    "duration": 7565,
    "start_time": "2023-08-05T10:37:02.839Z"
   },
   {
    "duration": 1460,
    "start_time": "2023-08-05T10:37:10.407Z"
   },
   {
    "duration": 1149,
    "start_time": "2023-08-05T10:37:11.869Z"
   },
   {
    "duration": 5,
    "start_time": "2023-08-05T10:37:13.019Z"
   },
   {
    "duration": 5,
    "start_time": "2023-08-05T10:37:13.025Z"
   },
   {
    "duration": 956,
    "start_time": "2023-08-05T10:37:13.031Z"
   },
   {
    "duration": 12,
    "start_time": "2023-08-05T10:37:13.988Z"
   },
   {
    "duration": 6,
    "start_time": "2023-08-05T10:37:14.002Z"
   },
   {
    "duration": 6,
    "start_time": "2023-08-05T10:37:14.009Z"
   },
   {
    "duration": 19,
    "start_time": "2023-08-05T10:37:14.017Z"
   },
   {
    "duration": 758,
    "start_time": "2023-08-05T10:37:14.037Z"
   },
   {
    "duration": 3,
    "start_time": "2023-08-05T10:37:14.797Z"
   },
   {
    "duration": 11,
    "start_time": "2023-08-05T10:37:14.802Z"
   },
   {
    "duration": 11,
    "start_time": "2023-08-05T10:37:14.814Z"
   },
   {
    "duration": 8,
    "start_time": "2023-08-05T10:37:14.827Z"
   },
   {
    "duration": 22,
    "start_time": "2023-08-05T10:37:14.837Z"
   },
   {
    "duration": 27,
    "start_time": "2023-08-05T10:37:14.861Z"
   },
   {
    "duration": 9,
    "start_time": "2023-08-05T10:37:14.890Z"
   },
   {
    "duration": 26,
    "start_time": "2023-08-05T10:37:14.901Z"
   },
   {
    "duration": 10,
    "start_time": "2023-08-05T10:37:14.929Z"
   },
   {
    "duration": 1353,
    "start_time": "2023-08-05T10:37:14.940Z"
   },
   {
    "duration": 85,
    "start_time": "2023-08-05T10:37:16.295Z"
   },
   {
    "duration": 29,
    "start_time": "2023-08-05T10:37:16.388Z"
   },
   {
    "duration": 6,
    "start_time": "2023-08-05T10:37:16.419Z"
   },
   {
    "duration": 1750,
    "start_time": "2023-08-05T10:44:23.393Z"
   },
   {
    "duration": 1728,
    "start_time": "2023-08-05T10:44:35.873Z"
   },
   {
    "duration": 1894,
    "start_time": "2023-08-05T10:44:41.442Z"
   },
   {
    "duration": 16,
    "start_time": "2023-08-05T10:45:59.171Z"
   },
   {
    "duration": 1789,
    "start_time": "2023-08-05T10:46:36.902Z"
   },
   {
    "duration": 1683,
    "start_time": "2023-08-05T10:46:46.507Z"
   },
   {
    "duration": 1404,
    "start_time": "2023-08-05T10:47:08.163Z"
   },
   {
    "duration": 1770,
    "start_time": "2023-08-05T10:47:50.187Z"
   },
   {
    "duration": 1233,
    "start_time": "2023-08-05T10:55:23.314Z"
   },
   {
    "duration": 1811,
    "start_time": "2023-08-05T13:24:05.909Z"
   },
   {
    "duration": 101,
    "start_time": "2023-08-05T13:24:07.723Z"
   },
   {
    "duration": 4,
    "start_time": "2023-08-05T13:24:07.826Z"
   },
   {
    "duration": 37,
    "start_time": "2023-08-05T13:24:07.832Z"
   },
   {
    "duration": 31,
    "start_time": "2023-08-05T13:24:07.871Z"
   },
   {
    "duration": 23,
    "start_time": "2023-08-05T13:24:07.905Z"
   },
   {
    "duration": 16,
    "start_time": "2023-08-05T13:24:07.931Z"
   },
   {
    "duration": 6,
    "start_time": "2023-08-05T13:24:07.949Z"
   },
   {
    "duration": 12,
    "start_time": "2023-08-05T13:24:07.974Z"
   },
   {
    "duration": 6,
    "start_time": "2023-08-05T13:24:07.989Z"
   },
   {
    "duration": 21,
    "start_time": "2023-08-05T13:24:07.997Z"
   },
   {
    "duration": 28,
    "start_time": "2023-08-05T13:24:08.020Z"
   },
   {
    "duration": 7,
    "start_time": "2023-08-05T13:24:08.051Z"
   },
   {
    "duration": 49,
    "start_time": "2023-08-05T13:24:08.059Z"
   },
   {
    "duration": 1734,
    "start_time": "2023-08-05T13:24:08.110Z"
   },
   {
    "duration": 60,
    "start_time": "2023-08-05T13:24:09.846Z"
   },
   {
    "duration": 25,
    "start_time": "2023-08-05T13:24:09.908Z"
   },
   {
    "duration": 14,
    "start_time": "2023-08-05T13:24:09.935Z"
   },
   {
    "duration": 7725,
    "start_time": "2023-08-05T13:24:09.975Z"
   },
   {
    "duration": 2333,
    "start_time": "2023-08-05T13:24:17.702Z"
   },
   {
    "duration": 1292,
    "start_time": "2023-08-05T13:24:20.037Z"
   },
   {
    "duration": 6,
    "start_time": "2023-08-05T13:24:21.332Z"
   },
   {
    "duration": 9,
    "start_time": "2023-08-05T13:24:21.340Z"
   },
   {
    "duration": 976,
    "start_time": "2023-08-05T13:24:21.351Z"
   },
   {
    "duration": 14,
    "start_time": "2023-08-05T13:24:22.329Z"
   },
   {
    "duration": 4,
    "start_time": "2023-08-05T13:24:22.345Z"
   },
   {
    "duration": 7,
    "start_time": "2023-08-05T13:24:22.351Z"
   },
   {
    "duration": 30,
    "start_time": "2023-08-05T13:24:22.362Z"
   },
   {
    "duration": 733,
    "start_time": "2023-08-05T13:24:22.394Z"
   },
   {
    "duration": 2,
    "start_time": "2023-08-05T13:24:23.129Z"
   },
   {
    "duration": 10,
    "start_time": "2023-08-05T13:24:23.133Z"
   },
   {
    "duration": 22,
    "start_time": "2023-08-05T13:24:23.144Z"
   },
   {
    "duration": 20,
    "start_time": "2023-08-05T13:24:23.168Z"
   },
   {
    "duration": 41,
    "start_time": "2023-08-05T13:24:23.190Z"
   },
   {
    "duration": 40,
    "start_time": "2023-08-05T13:24:23.233Z"
   },
   {
    "duration": 47,
    "start_time": "2023-08-05T13:24:23.275Z"
   },
   {
    "duration": 25,
    "start_time": "2023-08-05T13:24:23.324Z"
   },
   {
    "duration": 10,
    "start_time": "2023-08-05T13:24:23.350Z"
   },
   {
    "duration": 1014,
    "start_time": "2023-08-05T13:24:23.361Z"
   },
   {
    "duration": 98,
    "start_time": "2023-08-05T13:24:24.377Z"
   },
   {
    "duration": 28,
    "start_time": "2023-08-05T13:24:24.476Z"
   },
   {
    "duration": 6,
    "start_time": "2023-08-05T13:24:24.505Z"
   },
   {
    "duration": 605,
    "start_time": "2023-08-05T13:45:13.085Z"
   },
   {
    "duration": 590,
    "start_time": "2023-08-05T13:46:37.306Z"
   },
   {
    "duration": 1003,
    "start_time": "2023-08-05T13:47:18.968Z"
   },
   {
    "duration": 559,
    "start_time": "2023-08-05T13:47:30.479Z"
   },
   {
    "duration": 659,
    "start_time": "2023-08-05T13:47:36.622Z"
   },
   {
    "duration": 548,
    "start_time": "2023-08-05T13:47:47.101Z"
   },
   {
    "duration": 5,
    "start_time": "2023-08-05T13:50:49.450Z"
   },
   {
    "duration": 4,
    "start_time": "2023-08-05T13:51:01.240Z"
   },
   {
    "duration": 5,
    "start_time": "2023-08-05T13:55:51.995Z"
   },
   {
    "duration": 4,
    "start_time": "2023-08-05T13:55:54.168Z"
   },
   {
    "duration": 613,
    "start_time": "2023-08-05T13:57:00.645Z"
   },
   {
    "duration": 598,
    "start_time": "2023-08-05T13:57:55.991Z"
   },
   {
    "duration": 6,
    "start_time": "2023-08-05T14:01:21.819Z"
   },
   {
    "duration": 5,
    "start_time": "2023-08-05T14:01:23.527Z"
   },
   {
    "duration": 597,
    "start_time": "2023-08-05T14:01:58.699Z"
   },
   {
    "duration": 4,
    "start_time": "2023-08-05T14:04:34.970Z"
   },
   {
    "duration": 5,
    "start_time": "2023-08-05T14:04:36.606Z"
   },
   {
    "duration": 538,
    "start_time": "2023-08-05T14:05:01.294Z"
   },
   {
    "duration": 90,
    "start_time": "2023-08-05T14:08:58.017Z"
   },
   {
    "duration": 6,
    "start_time": "2023-08-05T14:09:59.098Z"
   },
   {
    "duration": 795,
    "start_time": "2023-08-05T14:10:56.121Z"
   },
   {
    "duration": 5,
    "start_time": "2023-08-05T14:12:04.615Z"
   },
   {
    "duration": 6,
    "start_time": "2023-08-05T14:13:47.701Z"
   },
   {
    "duration": 5,
    "start_time": "2023-08-05T14:13:56.156Z"
   },
   {
    "duration": 14,
    "start_time": "2023-08-05T14:14:01.677Z"
   },
   {
    "duration": 3,
    "start_time": "2023-08-05T14:16:49.402Z"
   },
   {
    "duration": 4,
    "start_time": "2023-08-05T14:26:56.067Z"
   },
   {
    "duration": 14,
    "start_time": "2023-08-05T14:28:52.803Z"
   },
   {
    "duration": 1603,
    "start_time": "2023-08-05T14:29:00.039Z"
   },
   {
    "duration": 116,
    "start_time": "2023-08-05T14:29:01.644Z"
   },
   {
    "duration": 3,
    "start_time": "2023-08-05T14:29:01.761Z"
   },
   {
    "duration": 16,
    "start_time": "2023-08-05T14:29:01.767Z"
   },
   {
    "duration": 30,
    "start_time": "2023-08-05T14:29:01.785Z"
   },
   {
    "duration": 20,
    "start_time": "2023-08-05T14:29:01.817Z"
   },
   {
    "duration": 17,
    "start_time": "2023-08-05T14:29:01.840Z"
   },
   {
    "duration": 6,
    "start_time": "2023-08-05T14:29:01.874Z"
   },
   {
    "duration": 28,
    "start_time": "2023-08-05T14:29:01.881Z"
   },
   {
    "duration": 9,
    "start_time": "2023-08-05T14:29:01.912Z"
   },
   {
    "duration": 9,
    "start_time": "2023-08-05T14:29:01.922Z"
   },
   {
    "duration": 39,
    "start_time": "2023-08-05T14:29:01.934Z"
   },
   {
    "duration": 7,
    "start_time": "2023-08-05T14:29:01.975Z"
   },
   {
    "duration": 55,
    "start_time": "2023-08-05T14:29:01.983Z"
   },
   {
    "duration": 1581,
    "start_time": "2023-08-05T14:29:02.040Z"
   },
   {
    "duration": 57,
    "start_time": "2023-08-05T14:29:03.623Z"
   },
   {
    "duration": 33,
    "start_time": "2023-08-05T14:29:03.682Z"
   },
   {
    "duration": 11,
    "start_time": "2023-08-05T14:29:03.717Z"
   },
   {
    "duration": 7419,
    "start_time": "2023-08-05T14:29:03.730Z"
   },
   {
    "duration": 2333,
    "start_time": "2023-08-05T14:29:11.151Z"
   },
   {
    "duration": 1203,
    "start_time": "2023-08-05T14:29:13.486Z"
   },
   {
    "duration": 8,
    "start_time": "2023-08-05T14:29:14.691Z"
   },
   {
    "duration": 10,
    "start_time": "2023-08-05T14:29:14.700Z"
   },
   {
    "duration": 963,
    "start_time": "2023-08-05T14:29:14.712Z"
   },
   {
    "duration": 14,
    "start_time": "2023-08-05T14:29:15.677Z"
   },
   {
    "duration": 601,
    "start_time": "2023-08-05T14:29:15.694Z"
   },
   {
    "duration": 6,
    "start_time": "2023-08-05T14:29:16.298Z"
   },
   {
    "duration": 6,
    "start_time": "2023-08-05T14:29:16.309Z"
   },
   {
    "duration": 4,
    "start_time": "2023-08-05T14:29:16.317Z"
   },
   {
    "duration": 7,
    "start_time": "2023-08-05T14:29:16.322Z"
   },
   {
    "duration": 781,
    "start_time": "2023-08-05T14:29:16.330Z"
   },
   {
    "duration": 5,
    "start_time": "2023-08-05T14:29:17.113Z"
   },
   {
    "duration": 25,
    "start_time": "2023-08-05T14:29:17.120Z"
   },
   {
    "duration": 12,
    "start_time": "2023-08-05T14:29:17.147Z"
   },
   {
    "duration": 13,
    "start_time": "2023-08-05T14:29:17.162Z"
   },
   {
    "duration": 17,
    "start_time": "2023-08-05T14:29:17.177Z"
   },
   {
    "duration": 683,
    "start_time": "2023-08-05T14:29:17.196Z"
   },
   {
    "duration": 4,
    "start_time": "2023-08-05T14:29:17.881Z"
   },
   {
    "duration": 10,
    "start_time": "2023-08-05T14:29:17.887Z"
   },
   {
    "duration": 31,
    "start_time": "2023-08-05T14:29:17.898Z"
   },
   {
    "duration": 664,
    "start_time": "2023-08-05T14:29:17.930Z"
   },
   {
    "duration": 6,
    "start_time": "2023-08-05T14:29:18.596Z"
   },
   {
    "duration": 7,
    "start_time": "2023-08-05T14:29:18.603Z"
   },
   {
    "duration": 6,
    "start_time": "2023-08-05T14:29:18.612Z"
   },
   {
    "duration": 591,
    "start_time": "2023-08-05T14:29:18.619Z"
   },
   {
    "duration": 7,
    "start_time": "2023-08-05T14:29:19.212Z"
   },
   {
    "duration": 20,
    "start_time": "2023-08-05T14:29:19.222Z"
   },
   {
    "duration": 7,
    "start_time": "2023-08-05T14:29:19.243Z"
   },
   {
    "duration": 34,
    "start_time": "2023-08-05T14:29:19.252Z"
   },
   {
    "duration": 13,
    "start_time": "2023-08-05T14:29:19.288Z"
   },
   {
    "duration": 141,
    "start_time": "2023-08-05T14:29:19.302Z"
   },
   {
    "duration": 0,
    "start_time": "2023-08-05T14:29:19.445Z"
   },
   {
    "duration": 0,
    "start_time": "2023-08-05T14:29:19.447Z"
   },
   {
    "duration": 0,
    "start_time": "2023-08-05T14:29:19.448Z"
   },
   {
    "duration": 12,
    "start_time": "2023-08-05T14:30:03.958Z"
   },
   {
    "duration": 990,
    "start_time": "2023-08-05T14:30:07.798Z"
   },
   {
    "duration": 4,
    "start_time": "2023-08-05T14:30:22.612Z"
   },
   {
    "duration": 21,
    "start_time": "2023-08-05T14:30:22.618Z"
   },
   {
    "duration": 28,
    "start_time": "2023-08-05T14:30:22.641Z"
   },
   {
    "duration": 708,
    "start_time": "2023-08-05T14:30:22.672Z"
   },
   {
    "duration": 93,
    "start_time": "2023-08-05T14:30:23.382Z"
   },
   {
    "duration": 43,
    "start_time": "2023-08-05T14:30:23.477Z"
   },
   {
    "duration": 8,
    "start_time": "2023-08-05T14:30:23.522Z"
   },
   {
    "duration": 23,
    "start_time": "2023-08-05T14:31:04.906Z"
   },
   {
    "duration": 4,
    "start_time": "2023-08-05T14:31:11.099Z"
   },
   {
    "duration": 14,
    "start_time": "2023-08-05T14:31:11.104Z"
   },
   {
    "duration": 20,
    "start_time": "2023-08-05T14:31:11.120Z"
   },
   {
    "duration": 0,
    "start_time": "2023-08-05T14:31:11.142Z"
   },
   {
    "duration": 0,
    "start_time": "2023-08-05T14:31:11.143Z"
   },
   {
    "duration": 0,
    "start_time": "2023-08-05T14:31:11.144Z"
   },
   {
    "duration": 0,
    "start_time": "2023-08-05T14:31:11.145Z"
   },
   {
    "duration": 1475,
    "start_time": "2023-08-05T14:31:35.514Z"
   },
   {
    "duration": 87,
    "start_time": "2023-08-05T14:31:36.991Z"
   },
   {
    "duration": 2,
    "start_time": "2023-08-05T14:31:37.080Z"
   },
   {
    "duration": 4,
    "start_time": "2023-08-05T14:31:37.084Z"
   },
   {
    "duration": 25,
    "start_time": "2023-08-05T14:31:37.090Z"
   },
   {
    "duration": 12,
    "start_time": "2023-08-05T14:31:37.117Z"
   },
   {
    "duration": 13,
    "start_time": "2023-08-05T14:31:37.130Z"
   },
   {
    "duration": 30,
    "start_time": "2023-08-05T14:31:37.145Z"
   },
   {
    "duration": 9,
    "start_time": "2023-08-05T14:31:37.177Z"
   },
   {
    "duration": 5,
    "start_time": "2023-08-05T14:31:37.188Z"
   },
   {
    "duration": 2,
    "start_time": "2023-08-05T14:31:37.195Z"
   },
   {
    "duration": 34,
    "start_time": "2023-08-05T14:31:37.199Z"
   },
   {
    "duration": 6,
    "start_time": "2023-08-05T14:31:37.235Z"
   },
   {
    "duration": 43,
    "start_time": "2023-08-05T14:31:37.242Z"
   },
   {
    "duration": 1485,
    "start_time": "2023-08-05T14:31:37.286Z"
   },
   {
    "duration": 45,
    "start_time": "2023-08-05T14:31:38.773Z"
   },
   {
    "duration": 24,
    "start_time": "2023-08-05T14:31:38.820Z"
   },
   {
    "duration": 33,
    "start_time": "2023-08-05T14:31:38.845Z"
   },
   {
    "duration": 7580,
    "start_time": "2023-08-05T14:31:38.879Z"
   },
   {
    "duration": 2303,
    "start_time": "2023-08-05T14:31:46.461Z"
   },
   {
    "duration": 1119,
    "start_time": "2023-08-05T14:31:48.766Z"
   },
   {
    "duration": 5,
    "start_time": "2023-08-05T14:31:49.887Z"
   },
   {
    "duration": 17,
    "start_time": "2023-08-05T14:31:49.894Z"
   },
   {
    "duration": 1067,
    "start_time": "2023-08-05T14:31:49.912Z"
   },
   {
    "duration": 14,
    "start_time": "2023-08-05T14:31:50.980Z"
   },
   {
    "duration": 671,
    "start_time": "2023-08-05T14:31:50.995Z"
   },
   {
    "duration": 5,
    "start_time": "2023-08-05T14:31:51.675Z"
   },
   {
    "duration": 5,
    "start_time": "2023-08-05T14:31:51.684Z"
   },
   {
    "duration": 20,
    "start_time": "2023-08-05T14:31:51.690Z"
   },
   {
    "duration": 16,
    "start_time": "2023-08-05T14:31:51.712Z"
   },
   {
    "duration": 779,
    "start_time": "2023-08-05T14:31:51.730Z"
   },
   {
    "duration": 4,
    "start_time": "2023-08-05T14:31:52.511Z"
   },
   {
    "duration": 23,
    "start_time": "2023-08-05T14:31:52.517Z"
   },
   {
    "duration": 17,
    "start_time": "2023-08-05T14:31:52.542Z"
   },
   {
    "duration": 20,
    "start_time": "2023-08-05T14:31:52.561Z"
   },
   {
    "duration": 45,
    "start_time": "2023-08-05T14:31:52.584Z"
   },
   {
    "duration": 679,
    "start_time": "2023-08-05T14:31:52.632Z"
   },
   {
    "duration": 6,
    "start_time": "2023-08-05T14:31:53.313Z"
   },
   {
    "duration": 18,
    "start_time": "2023-08-05T14:31:53.320Z"
   },
   {
    "duration": 30,
    "start_time": "2023-08-05T14:31:53.339Z"
   },
   {
    "duration": 648,
    "start_time": "2023-08-05T14:31:53.371Z"
   },
   {
    "duration": 6,
    "start_time": "2023-08-05T14:31:54.021Z"
   },
   {
    "duration": 13,
    "start_time": "2023-08-05T14:31:54.028Z"
   },
   {
    "duration": 4,
    "start_time": "2023-08-05T14:31:54.043Z"
   },
   {
    "duration": 611,
    "start_time": "2023-08-05T14:31:54.049Z"
   },
   {
    "duration": 16,
    "start_time": "2023-08-05T14:31:54.662Z"
   },
   {
    "duration": 22,
    "start_time": "2023-08-05T14:31:54.680Z"
   },
   {
    "duration": 6,
    "start_time": "2023-08-05T14:31:54.704Z"
   },
   {
    "duration": 12,
    "start_time": "2023-08-05T14:31:54.712Z"
   },
   {
    "duration": 9,
    "start_time": "2023-08-05T14:31:54.725Z"
   },
   {
    "duration": 1640,
    "start_time": "2023-08-05T14:31:54.735Z"
   },
   {
    "duration": 4,
    "start_time": "2023-08-05T14:31:56.377Z"
   },
   {
    "duration": 35,
    "start_time": "2023-08-05T14:31:56.383Z"
   },
   {
    "duration": 7,
    "start_time": "2023-08-05T14:31:56.419Z"
   },
   {
    "duration": 10,
    "start_time": "2023-08-05T14:32:44.704Z"
   },
   {
    "duration": 1259,
    "start_time": "2023-08-05T14:32:44.716Z"
   },
   {
    "duration": 3,
    "start_time": "2023-08-05T14:32:45.977Z"
   },
   {
    "duration": 34,
    "start_time": "2023-08-05T14:32:45.982Z"
   },
   {
    "duration": 8,
    "start_time": "2023-08-05T14:32:46.018Z"
   },
   {
    "duration": 10,
    "start_time": "2023-08-05T14:34:20.735Z"
   },
   {
    "duration": 1833,
    "start_time": "2023-08-05T14:34:20.747Z"
   },
   {
    "duration": 4,
    "start_time": "2023-08-05T14:34:22.583Z"
   },
   {
    "duration": 112,
    "start_time": "2023-08-05T14:34:22.590Z"
   },
   {
    "duration": 7,
    "start_time": "2023-08-05T14:34:22.704Z"
   },
   {
    "duration": 12,
    "start_time": "2023-08-05T14:34:50.923Z"
   },
   {
    "duration": 1645,
    "start_time": "2023-08-05T14:34:50.937Z"
   },
   {
    "duration": 3,
    "start_time": "2023-08-05T14:34:52.584Z"
   },
   {
    "duration": 62,
    "start_time": "2023-08-05T14:34:52.589Z"
   },
   {
    "duration": 15,
    "start_time": "2023-08-05T14:34:52.653Z"
   },
   {
    "duration": 21,
    "start_time": "2023-08-05T14:38:57.090Z"
   },
   {
    "duration": 14,
    "start_time": "2023-08-05T14:39:40.461Z"
   },
   {
    "duration": 11,
    "start_time": "2023-08-05T14:39:43.462Z"
   },
   {
    "duration": 1100,
    "start_time": "2023-08-05T14:39:43.475Z"
   },
   {
    "duration": 3,
    "start_time": "2023-08-05T14:39:44.577Z"
   },
   {
    "duration": 22,
    "start_time": "2023-08-05T14:39:44.581Z"
   },
   {
    "duration": 6,
    "start_time": "2023-08-05T14:39:44.604Z"
   },
   {
    "duration": 11,
    "start_time": "2023-08-05T14:43:44.020Z"
   },
   {
    "duration": 1546,
    "start_time": "2023-08-05T14:43:44.032Z"
   },
   {
    "duration": 3,
    "start_time": "2023-08-05T14:43:45.581Z"
   },
   {
    "duration": 39,
    "start_time": "2023-08-05T14:43:45.586Z"
   },
   {
    "duration": 8,
    "start_time": "2023-08-05T14:43:45.628Z"
   },
   {
    "duration": 20,
    "start_time": "2023-08-05T14:44:21.844Z"
   },
   {
    "duration": 17,
    "start_time": "2023-08-05T14:44:31.179Z"
   },
   {
    "duration": 9,
    "start_time": "2023-08-05T14:44:39.394Z"
   },
   {
    "duration": 1475,
    "start_time": "2023-08-05T14:44:39.405Z"
   },
   {
    "duration": 3,
    "start_time": "2023-08-05T14:44:40.882Z"
   },
   {
    "duration": 31,
    "start_time": "2023-08-05T14:44:40.887Z"
   },
   {
    "duration": 7,
    "start_time": "2023-08-05T14:44:40.920Z"
   },
   {
    "duration": 13,
    "start_time": "2023-08-05T14:45:56.373Z"
   },
   {
    "duration": 1998,
    "start_time": "2023-08-05T14:45:56.389Z"
   },
   {
    "duration": 3,
    "start_time": "2023-08-05T14:45:58.389Z"
   },
   {
    "duration": 25,
    "start_time": "2023-08-05T14:45:58.395Z"
   },
   {
    "duration": 6,
    "start_time": "2023-08-05T14:45:58.422Z"
   },
   {
    "duration": 13,
    "start_time": "2023-08-05T14:47:10.338Z"
   },
   {
    "duration": 1628,
    "start_time": "2023-08-05T14:47:10.354Z"
   },
   {
    "duration": 3,
    "start_time": "2023-08-05T14:47:11.984Z"
   },
   {
    "duration": 22,
    "start_time": "2023-08-05T14:47:12.075Z"
   },
   {
    "duration": 8,
    "start_time": "2023-08-05T14:47:12.099Z"
   },
   {
    "duration": 19,
    "start_time": "2023-08-05T14:49:51.910Z"
   },
   {
    "duration": 14,
    "start_time": "2023-08-05T14:50:40.230Z"
   },
   {
    "duration": 1537,
    "start_time": "2023-08-05T14:50:40.248Z"
   },
   {
    "duration": 2,
    "start_time": "2023-08-05T14:50:41.787Z"
   },
   {
    "duration": 20,
    "start_time": "2023-08-05T14:50:41.791Z"
   },
   {
    "duration": 6,
    "start_time": "2023-08-05T14:50:41.813Z"
   },
   {
    "duration": 45,
    "start_time": "2023-08-06T16:28:03.377Z"
   },
   {
    "duration": 1560,
    "start_time": "2023-08-06T16:28:10.858Z"
   },
   {
    "duration": 81,
    "start_time": "2023-08-06T16:28:12.419Z"
   },
   {
    "duration": 2,
    "start_time": "2023-08-06T16:28:12.501Z"
   },
   {
    "duration": 44,
    "start_time": "2023-08-06T16:28:12.505Z"
   },
   {
    "duration": 38,
    "start_time": "2023-08-06T16:28:12.551Z"
   },
   {
    "duration": 13,
    "start_time": "2023-08-06T16:28:12.590Z"
   },
   {
    "duration": 35,
    "start_time": "2023-08-06T16:28:12.605Z"
   },
   {
    "duration": 6,
    "start_time": "2023-08-06T16:28:12.642Z"
   },
   {
    "duration": 31,
    "start_time": "2023-08-06T16:28:12.650Z"
   },
   {
    "duration": 18,
    "start_time": "2023-08-06T16:28:12.683Z"
   },
   {
    "duration": 32,
    "start_time": "2023-08-06T16:28:12.702Z"
   },
   {
    "duration": 18,
    "start_time": "2023-08-06T16:28:12.736Z"
   },
   {
    "duration": 13,
    "start_time": "2023-08-06T16:28:12.756Z"
   },
   {
    "duration": 17,
    "start_time": "2023-08-06T16:28:12.773Z"
   },
   {
    "duration": 1465,
    "start_time": "2023-08-06T16:28:12.792Z"
   },
   {
    "duration": 52,
    "start_time": "2023-08-06T16:28:14.259Z"
   },
   {
    "duration": 20,
    "start_time": "2023-08-06T16:28:14.312Z"
   },
   {
    "duration": 48,
    "start_time": "2023-08-06T16:28:14.333Z"
   },
   {
    "duration": 6892,
    "start_time": "2023-08-06T16:28:14.383Z"
   },
   {
    "duration": 2006,
    "start_time": "2023-08-06T16:28:21.277Z"
   },
   {
    "duration": 989,
    "start_time": "2023-08-06T16:28:23.286Z"
   },
   {
    "duration": 13,
    "start_time": "2023-08-06T16:28:24.276Z"
   },
   {
    "duration": 13,
    "start_time": "2023-08-06T16:28:24.290Z"
   },
   {
    "duration": 954,
    "start_time": "2023-08-06T16:28:24.304Z"
   },
   {
    "duration": 13,
    "start_time": "2023-08-06T16:28:25.260Z"
   },
   {
    "duration": 552,
    "start_time": "2023-08-06T16:28:25.274Z"
   },
   {
    "duration": 5,
    "start_time": "2023-08-06T16:28:25.827Z"
   },
   {
    "duration": 26,
    "start_time": "2023-08-06T16:28:25.833Z"
   },
   {
    "duration": 27,
    "start_time": "2023-08-06T16:28:25.860Z"
   },
   {
    "duration": 36,
    "start_time": "2023-08-06T16:28:25.888Z"
   },
   {
    "duration": 748,
    "start_time": "2023-08-06T16:28:25.926Z"
   },
   {
    "duration": 4,
    "start_time": "2023-08-06T16:28:26.676Z"
   },
   {
    "duration": 12,
    "start_time": "2023-08-06T16:28:26.682Z"
   },
   {
    "duration": 5,
    "start_time": "2023-08-06T16:28:26.696Z"
   },
   {
    "duration": 5,
    "start_time": "2023-08-06T16:28:26.703Z"
   },
   {
    "duration": 12,
    "start_time": "2023-08-06T16:28:26.710Z"
   },
   {
    "duration": 564,
    "start_time": "2023-08-06T16:28:26.724Z"
   },
   {
    "duration": 6,
    "start_time": "2023-08-06T16:28:27.290Z"
   },
   {
    "duration": 13,
    "start_time": "2023-08-06T16:28:27.297Z"
   },
   {
    "duration": 11,
    "start_time": "2023-08-06T16:28:27.312Z"
   },
   {
    "duration": 578,
    "start_time": "2023-08-06T16:28:27.327Z"
   },
   {
    "duration": 6,
    "start_time": "2023-08-06T16:28:27.906Z"
   },
   {
    "duration": 6,
    "start_time": "2023-08-06T16:28:27.913Z"
   },
   {
    "duration": 9,
    "start_time": "2023-08-06T16:28:27.921Z"
   },
   {
    "duration": 566,
    "start_time": "2023-08-06T16:28:27.932Z"
   },
   {
    "duration": 5,
    "start_time": "2023-08-06T16:28:28.500Z"
   },
   {
    "duration": 26,
    "start_time": "2023-08-06T16:28:28.507Z"
   },
   {
    "duration": 14,
    "start_time": "2023-08-06T16:28:28.534Z"
   },
   {
    "duration": 25,
    "start_time": "2023-08-06T16:28:28.550Z"
   },
   {
    "duration": 1821,
    "start_time": "2023-08-06T16:28:28.576Z"
   },
   {
    "duration": 2,
    "start_time": "2023-08-06T16:28:30.398Z"
   },
   {
    "duration": 67,
    "start_time": "2023-08-06T16:28:30.402Z"
   },
   {
    "duration": 46,
    "start_time": "2023-08-06T16:28:30.470Z"
   },
   {
    "duration": 435,
    "start_time": "2023-08-06T16:29:34.020Z"
   },
   {
    "duration": 497,
    "start_time": "2023-08-06T16:29:51.899Z"
   },
   {
    "duration": 7133,
    "start_time": "2023-08-06T16:35:00.884Z"
   },
   {
    "duration": 114,
    "start_time": "2023-08-06T16:38:29.914Z"
   },
   {
    "duration": 17,
    "start_time": "2023-08-06T16:38:41.160Z"
   },
   {
    "duration": 2618,
    "start_time": "2023-08-06T16:39:24.190Z"
   },
   {
    "duration": 2153,
    "start_time": "2023-08-06T16:40:57.460Z"
   },
   {
    "duration": 854,
    "start_time": "2023-08-06T16:44:28.212Z"
   },
   {
    "duration": 880,
    "start_time": "2023-08-06T16:44:38.761Z"
   },
   {
    "duration": 909,
    "start_time": "2023-08-06T16:44:50.752Z"
   },
   {
    "duration": 2167,
    "start_time": "2023-08-06T16:46:46.124Z"
   },
   {
    "duration": 530,
    "start_time": "2023-08-06T16:50:04.252Z"
   },
   {
    "duration": 732,
    "start_time": "2023-08-06T16:50:58.905Z"
   },
   {
    "duration": 664,
    "start_time": "2023-08-06T16:51:14.583Z"
   },
   {
    "duration": 511,
    "start_time": "2023-08-06T16:51:55.629Z"
   },
   {
    "duration": 541,
    "start_time": "2023-08-06T16:52:03.351Z"
   },
   {
    "duration": 647,
    "start_time": "2023-08-06T16:52:11.260Z"
   },
   {
    "duration": 575,
    "start_time": "2023-08-06T16:52:19.394Z"
   },
   {
    "duration": 495,
    "start_time": "2023-08-06T16:52:28.846Z"
   },
   {
    "duration": 616,
    "start_time": "2023-08-06T16:52:43.533Z"
   },
   {
    "duration": 423,
    "start_time": "2023-08-06T16:53:54.106Z"
   },
   {
    "duration": 614,
    "start_time": "2023-08-06T16:53:57.803Z"
   },
   {
    "duration": 597,
    "start_time": "2023-08-06T16:54:06.038Z"
   },
   {
    "duration": 719,
    "start_time": "2023-08-06T16:54:10.511Z"
   },
   {
    "duration": 599,
    "start_time": "2023-08-06T16:54:21.613Z"
   },
   {
    "duration": 717,
    "start_time": "2023-08-06T16:54:34.210Z"
   },
   {
    "duration": 430,
    "start_time": "2023-08-06T16:54:39.026Z"
   },
   {
    "duration": 311,
    "start_time": "2023-08-06T16:54:44.331Z"
   },
   {
    "duration": 3,
    "start_time": "2023-08-06T16:55:17.489Z"
   },
   {
    "duration": 30,
    "start_time": "2023-08-06T16:56:44.875Z"
   },
   {
    "duration": 22,
    "start_time": "2023-08-06T16:57:56.798Z"
   },
   {
    "duration": 595,
    "start_time": "2023-08-06T17:05:16.118Z"
   },
   {
    "duration": 303,
    "start_time": "2023-08-06T17:05:39.512Z"
   },
   {
    "duration": 318,
    "start_time": "2023-08-06T17:05:49.389Z"
   },
   {
    "duration": 16,
    "start_time": "2023-08-06T17:06:47.038Z"
   },
   {
    "duration": 1470,
    "start_time": "2023-08-06T17:07:03.850Z"
   },
   {
    "duration": 127,
    "start_time": "2023-08-06T17:07:05.322Z"
   },
   {
    "duration": 3,
    "start_time": "2023-08-06T17:07:05.450Z"
   },
   {
    "duration": 16,
    "start_time": "2023-08-06T17:07:05.455Z"
   },
   {
    "duration": 35,
    "start_time": "2023-08-06T17:07:05.473Z"
   },
   {
    "duration": 23,
    "start_time": "2023-08-06T17:07:05.509Z"
   },
   {
    "duration": 20,
    "start_time": "2023-08-06T17:07:05.534Z"
   },
   {
    "duration": 11,
    "start_time": "2023-08-06T17:07:05.556Z"
   },
   {
    "duration": 19,
    "start_time": "2023-08-06T17:07:05.568Z"
   },
   {
    "duration": 19,
    "start_time": "2023-08-06T17:07:05.590Z"
   },
   {
    "duration": 10,
    "start_time": "2023-08-06T17:07:05.610Z"
   },
   {
    "duration": 24,
    "start_time": "2023-08-06T17:07:05.622Z"
   },
   {
    "duration": 23,
    "start_time": "2023-08-06T17:07:05.647Z"
   },
   {
    "duration": 26,
    "start_time": "2023-08-06T17:07:05.672Z"
   },
   {
    "duration": 1466,
    "start_time": "2023-08-06T17:07:05.700Z"
   },
   {
    "duration": 55,
    "start_time": "2023-08-06T17:07:07.168Z"
   },
   {
    "duration": 24,
    "start_time": "2023-08-06T17:07:07.226Z"
   },
   {
    "duration": 472,
    "start_time": "2023-08-06T17:07:07.252Z"
   },
   {
    "duration": 594,
    "start_time": "2023-08-06T17:07:07.725Z"
   },
   {
    "duration": 341,
    "start_time": "2023-08-06T17:07:08.321Z"
   },
   {
    "duration": 2305,
    "start_time": "2023-08-06T17:07:08.664Z"
   },
   {
    "duration": 3,
    "start_time": "2023-08-06T17:07:10.971Z"
   },
   {
    "duration": 18,
    "start_time": "2023-08-06T17:07:10.975Z"
   },
   {
    "duration": 59,
    "start_time": "2023-08-06T17:07:10.994Z"
   },
   {
    "duration": 951,
    "start_time": "2023-08-06T17:07:11.055Z"
   },
   {
    "duration": 106,
    "start_time": "2023-08-06T17:07:12.008Z"
   },
   {
    "duration": 0,
    "start_time": "2023-08-06T17:07:12.116Z"
   },
   {
    "duration": 0,
    "start_time": "2023-08-06T17:07:12.117Z"
   },
   {
    "duration": 0,
    "start_time": "2023-08-06T17:07:12.118Z"
   },
   {
    "duration": 0,
    "start_time": "2023-08-06T17:07:12.119Z"
   },
   {
    "duration": 0,
    "start_time": "2023-08-06T17:07:12.121Z"
   },
   {
    "duration": 0,
    "start_time": "2023-08-06T17:07:12.122Z"
   },
   {
    "duration": 0,
    "start_time": "2023-08-06T17:07:12.123Z"
   },
   {
    "duration": 0,
    "start_time": "2023-08-06T17:07:12.124Z"
   },
   {
    "duration": 0,
    "start_time": "2023-08-06T17:07:12.124Z"
   },
   {
    "duration": 0,
    "start_time": "2023-08-06T17:07:12.126Z"
   },
   {
    "duration": 0,
    "start_time": "2023-08-06T17:07:12.127Z"
   },
   {
    "duration": 0,
    "start_time": "2023-08-06T17:07:12.128Z"
   },
   {
    "duration": 1,
    "start_time": "2023-08-06T17:07:12.128Z"
   },
   {
    "duration": 0,
    "start_time": "2023-08-06T17:07:12.130Z"
   },
   {
    "duration": 0,
    "start_time": "2023-08-06T17:07:12.131Z"
   },
   {
    "duration": 0,
    "start_time": "2023-08-06T17:07:12.132Z"
   },
   {
    "duration": 0,
    "start_time": "2023-08-06T17:07:12.133Z"
   },
   {
    "duration": 0,
    "start_time": "2023-08-06T17:07:12.134Z"
   },
   {
    "duration": 0,
    "start_time": "2023-08-06T17:07:12.135Z"
   },
   {
    "duration": 0,
    "start_time": "2023-08-06T17:07:12.136Z"
   },
   {
    "duration": 0,
    "start_time": "2023-08-06T17:07:12.137Z"
   },
   {
    "duration": 0,
    "start_time": "2023-08-06T17:07:12.138Z"
   },
   {
    "duration": 0,
    "start_time": "2023-08-06T17:07:12.139Z"
   },
   {
    "duration": 0,
    "start_time": "2023-08-06T17:07:12.140Z"
   },
   {
    "duration": 0,
    "start_time": "2023-08-06T17:07:12.141Z"
   },
   {
    "duration": 0,
    "start_time": "2023-08-06T17:07:12.142Z"
   },
   {
    "duration": 0,
    "start_time": "2023-08-06T17:07:12.143Z"
   },
   {
    "duration": 0,
    "start_time": "2023-08-06T17:07:12.188Z"
   },
   {
    "duration": 0,
    "start_time": "2023-08-06T17:07:12.189Z"
   },
   {
    "duration": 9,
    "start_time": "2023-08-06T17:07:39.004Z"
   },
   {
    "duration": 10,
    "start_time": "2023-08-06T17:08:15.558Z"
   },
   {
    "duration": 10,
    "start_time": "2023-08-06T17:08:22.397Z"
   },
   {
    "duration": 10,
    "start_time": "2023-08-06T17:08:29.244Z"
   },
   {
    "duration": 10,
    "start_time": "2023-08-06T17:09:15.832Z"
   },
   {
    "duration": 10,
    "start_time": "2023-08-06T17:10:06.986Z"
   },
   {
    "duration": 66,
    "start_time": "2023-08-06T17:10:24.270Z"
   },
   {
    "duration": 10,
    "start_time": "2023-08-06T17:10:28.814Z"
   },
   {
    "duration": 10,
    "start_time": "2023-08-06T17:10:46.977Z"
   },
   {
    "duration": 10,
    "start_time": "2023-08-06T17:14:47.552Z"
   },
   {
    "duration": 2873,
    "start_time": "2023-08-06T17:15:10.513Z"
   },
   {
    "duration": 17,
    "start_time": "2023-08-06T17:15:27.423Z"
   },
   {
    "duration": 4,
    "start_time": "2023-08-06T17:15:36.476Z"
   },
   {
    "duration": 99,
    "start_time": "2023-08-06T17:15:36.482Z"
   },
   {
    "duration": 3,
    "start_time": "2023-08-06T17:15:36.584Z"
   },
   {
    "duration": 22,
    "start_time": "2023-08-06T17:15:36.589Z"
   },
   {
    "duration": 94,
    "start_time": "2023-08-06T17:15:36.614Z"
   },
   {
    "duration": 13,
    "start_time": "2023-08-06T17:15:36.710Z"
   },
   {
    "duration": 16,
    "start_time": "2023-08-06T17:15:36.725Z"
   },
   {
    "duration": 5,
    "start_time": "2023-08-06T17:15:36.743Z"
   },
   {
    "duration": 10,
    "start_time": "2023-08-06T17:15:36.750Z"
   },
   {
    "duration": 29,
    "start_time": "2023-08-06T17:15:36.762Z"
   },
   {
    "duration": 7,
    "start_time": "2023-08-06T17:15:36.793Z"
   },
   {
    "duration": 19,
    "start_time": "2023-08-06T17:15:36.802Z"
   },
   {
    "duration": 6,
    "start_time": "2023-08-06T17:15:36.822Z"
   },
   {
    "duration": 21,
    "start_time": "2023-08-06T17:15:36.829Z"
   },
   {
    "duration": 1558,
    "start_time": "2023-08-06T17:15:36.852Z"
   },
   {
    "duration": 44,
    "start_time": "2023-08-06T17:15:38.411Z"
   },
   {
    "duration": 41,
    "start_time": "2023-08-06T17:15:38.457Z"
   },
   {
    "duration": 461,
    "start_time": "2023-08-06T17:15:38.500Z"
   },
   {
    "duration": 586,
    "start_time": "2023-08-06T17:15:38.963Z"
   },
   {
    "duration": 304,
    "start_time": "2023-08-06T17:15:39.551Z"
   },
   {
    "duration": 2353,
    "start_time": "2023-08-06T17:15:39.857Z"
   },
   {
    "duration": 2,
    "start_time": "2023-08-06T17:15:42.212Z"
   },
   {
    "duration": 20,
    "start_time": "2023-08-06T17:15:42.216Z"
   },
   {
    "duration": 15,
    "start_time": "2023-08-06T17:15:42.240Z"
   },
   {
    "duration": 938,
    "start_time": "2023-08-06T17:15:42.256Z"
   },
   {
    "duration": 1435,
    "start_time": "2023-08-06T17:18:33.297Z"
   },
   {
    "duration": 95,
    "start_time": "2023-08-06T17:18:34.735Z"
   },
   {
    "duration": 3,
    "start_time": "2023-08-06T17:18:34.833Z"
   },
   {
    "duration": 35,
    "start_time": "2023-08-06T17:18:34.839Z"
   },
   {
    "duration": 52,
    "start_time": "2023-08-06T17:18:34.876Z"
   },
   {
    "duration": 17,
    "start_time": "2023-08-06T17:18:34.930Z"
   },
   {
    "duration": 21,
    "start_time": "2023-08-06T17:18:34.949Z"
   },
   {
    "duration": 17,
    "start_time": "2023-08-06T17:18:34.972Z"
   },
   {
    "duration": 39,
    "start_time": "2023-08-06T17:18:34.991Z"
   },
   {
    "duration": 6,
    "start_time": "2023-08-06T17:18:35.033Z"
   },
   {
    "duration": 4,
    "start_time": "2023-08-06T17:18:35.040Z"
   },
   {
    "duration": 25,
    "start_time": "2023-08-06T17:18:35.046Z"
   },
   {
    "duration": 6,
    "start_time": "2023-08-06T17:18:35.073Z"
   },
   {
    "duration": 19,
    "start_time": "2023-08-06T17:18:35.080Z"
   },
   {
    "duration": 1526,
    "start_time": "2023-08-06T17:18:35.100Z"
   },
   {
    "duration": 52,
    "start_time": "2023-08-06T17:18:36.627Z"
   },
   {
    "duration": 27,
    "start_time": "2023-08-06T17:18:36.687Z"
   },
   {
    "duration": 488,
    "start_time": "2023-08-06T17:18:36.715Z"
   },
   {
    "duration": 624,
    "start_time": "2023-08-06T17:18:37.205Z"
   },
   {
    "duration": 419,
    "start_time": "2023-08-06T17:18:37.831Z"
   },
   {
    "duration": 2228,
    "start_time": "2023-08-06T17:18:38.251Z"
   },
   {
    "duration": 7,
    "start_time": "2023-08-06T17:18:40.481Z"
   },
   {
    "duration": 53,
    "start_time": "2023-08-06T17:18:40.490Z"
   },
   {
    "duration": 24,
    "start_time": "2023-08-06T17:18:40.546Z"
   },
   {
    "duration": 974,
    "start_time": "2023-08-06T17:18:40.572Z"
   },
   {
    "duration": 6612,
    "start_time": "2023-08-06T17:18:41.548Z"
   },
   {
    "duration": 17,
    "start_time": "2023-08-06T17:18:48.162Z"
   },
   {
    "duration": 618,
    "start_time": "2023-08-06T17:18:48.191Z"
   },
   {
    "duration": 6,
    "start_time": "2023-08-06T17:18:48.811Z"
   },
   {
    "duration": 18,
    "start_time": "2023-08-06T17:18:48.818Z"
   },
   {
    "duration": 10,
    "start_time": "2023-08-06T17:18:48.838Z"
   },
   {
    "duration": 20,
    "start_time": "2023-08-06T17:18:48.849Z"
   },
   {
    "duration": 703,
    "start_time": "2023-08-06T17:18:48.871Z"
   },
   {
    "duration": 11,
    "start_time": "2023-08-06T17:18:49.577Z"
   },
   {
    "duration": 8,
    "start_time": "2023-08-06T17:18:49.590Z"
   },
   {
    "duration": 20,
    "start_time": "2023-08-06T17:18:49.600Z"
   },
   {
    "duration": 11,
    "start_time": "2023-08-06T17:18:49.623Z"
   },
   {
    "duration": 11,
    "start_time": "2023-08-06T17:18:49.636Z"
   },
   {
    "duration": 629,
    "start_time": "2023-08-06T17:18:49.649Z"
   },
   {
    "duration": 12,
    "start_time": "2023-08-06T17:18:50.280Z"
   },
   {
    "duration": 9,
    "start_time": "2023-08-06T17:18:50.293Z"
   },
   {
    "duration": 6,
    "start_time": "2023-08-06T17:18:50.303Z"
   },
   {
    "duration": 612,
    "start_time": "2023-08-06T17:18:50.310Z"
   },
   {
    "duration": 6,
    "start_time": "2023-08-06T17:18:50.924Z"
   },
   {
    "duration": 6,
    "start_time": "2023-08-06T17:18:50.932Z"
   },
   {
    "duration": 21,
    "start_time": "2023-08-06T17:18:50.940Z"
   },
   {
    "duration": 642,
    "start_time": "2023-08-06T17:18:50.963Z"
   },
   {
    "duration": 7,
    "start_time": "2023-08-06T17:18:51.607Z"
   },
   {
    "duration": 34,
    "start_time": "2023-08-06T17:18:51.616Z"
   },
   {
    "duration": 33,
    "start_time": "2023-08-06T17:18:51.652Z"
   },
   {
    "duration": 27,
    "start_time": "2023-08-06T17:18:51.686Z"
   },
   {
    "duration": 1581,
    "start_time": "2023-08-06T17:18:51.715Z"
   },
   {
    "duration": 2,
    "start_time": "2023-08-06T17:18:53.298Z"
   },
   {
    "duration": 33,
    "start_time": "2023-08-06T17:18:53.302Z"
   },
   {
    "duration": 23,
    "start_time": "2023-08-06T17:18:53.337Z"
   },
   {
    "duration": 140,
    "start_time": "2023-08-06T17:19:07.997Z"
   },
   {
    "duration": 10,
    "start_time": "2023-08-06T17:19:26.673Z"
   },
   {
    "duration": 10,
    "start_time": "2023-08-06T17:20:02.377Z"
   },
   {
    "duration": 18,
    "start_time": "2023-08-06T17:21:37.974Z"
   },
   {
    "duration": 1371,
    "start_time": "2023-08-06T17:23:28.128Z"
   },
   {
    "duration": 94,
    "start_time": "2023-08-06T17:23:29.501Z"
   },
   {
    "duration": 3,
    "start_time": "2023-08-06T17:23:29.596Z"
   },
   {
    "duration": 5,
    "start_time": "2023-08-06T17:23:29.601Z"
   },
   {
    "duration": 36,
    "start_time": "2023-08-06T17:23:29.607Z"
   },
   {
    "duration": 13,
    "start_time": "2023-08-06T17:23:29.644Z"
   },
   {
    "duration": 29,
    "start_time": "2023-08-06T17:23:29.659Z"
   },
   {
    "duration": 6,
    "start_time": "2023-08-06T17:23:29.691Z"
   },
   {
    "duration": 32,
    "start_time": "2023-08-06T17:23:29.699Z"
   },
   {
    "duration": 7,
    "start_time": "2023-08-06T17:23:29.735Z"
   },
   {
    "duration": 30,
    "start_time": "2023-08-06T17:23:29.743Z"
   },
   {
    "duration": 13,
    "start_time": "2023-08-06T17:23:29.775Z"
   },
   {
    "duration": 9,
    "start_time": "2023-08-06T17:23:29.790Z"
   },
   {
    "duration": 27,
    "start_time": "2023-08-06T17:23:29.800Z"
   },
   {
    "duration": 1585,
    "start_time": "2023-08-06T17:23:29.830Z"
   },
   {
    "duration": 72,
    "start_time": "2023-08-06T17:23:31.418Z"
   },
   {
    "duration": 33,
    "start_time": "2023-08-06T17:23:31.492Z"
   },
   {
    "duration": 481,
    "start_time": "2023-08-06T17:23:31.527Z"
   },
   {
    "duration": 758,
    "start_time": "2023-08-06T17:23:32.009Z"
   },
   {
    "duration": 449,
    "start_time": "2023-08-06T17:23:32.770Z"
   },
   {
    "duration": 2530,
    "start_time": "2023-08-06T17:23:33.221Z"
   },
   {
    "duration": 2,
    "start_time": "2023-08-06T17:23:35.753Z"
   },
   {
    "duration": 45,
    "start_time": "2023-08-06T17:23:35.757Z"
   },
   {
    "duration": 36,
    "start_time": "2023-08-06T17:23:35.804Z"
   },
   {
    "duration": 992,
    "start_time": "2023-08-06T17:23:35.842Z"
   },
   {
    "duration": 47,
    "start_time": "2023-08-06T17:25:14.619Z"
   },
   {
    "duration": 6,
    "start_time": "2023-08-06T17:25:30.843Z"
   },
   {
    "duration": 1471,
    "start_time": "2023-08-06T17:26:15.057Z"
   },
   {
    "duration": 84,
    "start_time": "2023-08-06T17:26:16.530Z"
   },
   {
    "duration": 2,
    "start_time": "2023-08-06T17:26:16.616Z"
   },
   {
    "duration": 34,
    "start_time": "2023-08-06T17:26:16.620Z"
   },
   {
    "duration": 42,
    "start_time": "2023-08-06T17:26:16.656Z"
   },
   {
    "duration": 26,
    "start_time": "2023-08-06T17:26:16.699Z"
   },
   {
    "duration": 47,
    "start_time": "2023-08-06T17:26:16.727Z"
   },
   {
    "duration": 51,
    "start_time": "2023-08-06T17:26:16.776Z"
   },
   {
    "duration": 23,
    "start_time": "2023-08-06T17:26:16.828Z"
   },
   {
    "duration": 7,
    "start_time": "2023-08-06T17:26:16.855Z"
   },
   {
    "duration": 40,
    "start_time": "2023-08-06T17:26:16.864Z"
   },
   {
    "duration": 45,
    "start_time": "2023-08-06T17:26:16.905Z"
   },
   {
    "duration": 20,
    "start_time": "2023-08-06T17:26:16.952Z"
   },
   {
    "duration": 42,
    "start_time": "2023-08-06T17:26:16.973Z"
   },
   {
    "duration": 1642,
    "start_time": "2023-08-06T17:26:17.017Z"
   },
   {
    "duration": 56,
    "start_time": "2023-08-06T17:26:18.661Z"
   },
   {
    "duration": 25,
    "start_time": "2023-08-06T17:26:18.719Z"
   },
   {
    "duration": 554,
    "start_time": "2023-08-06T17:26:18.746Z"
   },
   {
    "duration": 647,
    "start_time": "2023-08-06T17:26:19.302Z"
   },
   {
    "duration": 430,
    "start_time": "2023-08-06T17:26:19.952Z"
   },
   {
    "duration": 2242,
    "start_time": "2023-08-06T17:26:20.387Z"
   },
   {
    "duration": 3,
    "start_time": "2023-08-06T17:26:22.631Z"
   },
   {
    "duration": 39,
    "start_time": "2023-08-06T17:26:22.636Z"
   },
   {
    "duration": 29,
    "start_time": "2023-08-06T17:26:22.677Z"
   },
   {
    "duration": 954,
    "start_time": "2023-08-06T17:26:22.708Z"
   },
   {
    "duration": 2118,
    "start_time": "2023-08-06T17:27:24.686Z"
   },
   {
    "duration": 1372,
    "start_time": "2023-08-06T17:27:26.807Z"
   },
   {
    "duration": 110,
    "start_time": "2023-08-06T17:27:28.181Z"
   },
   {
    "duration": 2,
    "start_time": "2023-08-06T17:27:28.293Z"
   },
   {
    "duration": 27,
    "start_time": "2023-08-06T17:27:28.296Z"
   },
   {
    "duration": 24,
    "start_time": "2023-08-06T17:27:28.325Z"
   },
   {
    "duration": 12,
    "start_time": "2023-08-06T17:27:28.351Z"
   },
   {
    "duration": 17,
    "start_time": "2023-08-06T17:27:28.365Z"
   },
   {
    "duration": 5,
    "start_time": "2023-08-06T17:27:28.384Z"
   },
   {
    "duration": 31,
    "start_time": "2023-08-06T17:27:28.392Z"
   },
   {
    "duration": 21,
    "start_time": "2023-08-06T17:27:28.424Z"
   },
   {
    "duration": 3,
    "start_time": "2023-08-06T17:27:28.447Z"
   },
   {
    "duration": 35,
    "start_time": "2023-08-06T17:27:28.452Z"
   },
   {
    "duration": 7,
    "start_time": "2023-08-06T17:27:28.488Z"
   },
   {
    "duration": 32,
    "start_time": "2023-08-06T17:27:28.496Z"
   },
   {
    "duration": 1484,
    "start_time": "2023-08-06T17:27:28.530Z"
   },
   {
    "duration": 46,
    "start_time": "2023-08-06T17:27:30.015Z"
   },
   {
    "duration": 38,
    "start_time": "2023-08-06T17:27:30.062Z"
   },
   {
    "duration": 494,
    "start_time": "2023-08-06T17:27:30.102Z"
   },
   {
    "duration": 631,
    "start_time": "2023-08-06T17:27:30.597Z"
   },
   {
    "duration": 300,
    "start_time": "2023-08-06T17:27:31.230Z"
   },
   {
    "duration": 2323,
    "start_time": "2023-08-06T17:27:31.532Z"
   },
   {
    "duration": 3,
    "start_time": "2023-08-06T17:27:33.857Z"
   },
   {
    "duration": 34,
    "start_time": "2023-08-06T17:27:33.862Z"
   },
   {
    "duration": 956,
    "start_time": "2023-08-06T17:27:33.898Z"
   },
   {
    "duration": 2087,
    "start_time": "2023-08-06T17:29:01.703Z"
   },
   {
    "duration": 1476,
    "start_time": "2023-08-06T17:29:03.792Z"
   },
   {
    "duration": 82,
    "start_time": "2023-08-06T17:29:05.270Z"
   },
   {
    "duration": 65,
    "start_time": "2023-08-06T17:29:05.355Z"
   },
   {
    "duration": 65,
    "start_time": "2023-08-06T17:29:05.422Z"
   },
   {
    "duration": 49,
    "start_time": "2023-08-06T17:29:05.489Z"
   },
   {
    "duration": 27,
    "start_time": "2023-08-06T17:29:05.540Z"
   },
   {
    "duration": 51,
    "start_time": "2023-08-06T17:29:05.569Z"
   },
   {
    "duration": 27,
    "start_time": "2023-08-06T17:29:05.622Z"
   },
   {
    "duration": 39,
    "start_time": "2023-08-06T17:29:05.653Z"
   },
   {
    "duration": 38,
    "start_time": "2023-08-06T17:29:05.694Z"
   },
   {
    "duration": 41,
    "start_time": "2023-08-06T17:29:05.734Z"
   },
   {
    "duration": 32,
    "start_time": "2023-08-06T17:29:05.777Z"
   },
   {
    "duration": 31,
    "start_time": "2023-08-06T17:29:05.810Z"
   },
   {
    "duration": 42,
    "start_time": "2023-08-06T17:29:05.842Z"
   },
   {
    "duration": 1559,
    "start_time": "2023-08-06T17:29:05.885Z"
   },
   {
    "duration": 64,
    "start_time": "2023-08-06T17:29:07.446Z"
   },
   {
    "duration": 24,
    "start_time": "2023-08-06T17:29:07.512Z"
   },
   {
    "duration": 512,
    "start_time": "2023-08-06T17:29:07.537Z"
   },
   {
    "duration": 633,
    "start_time": "2023-08-06T17:29:08.051Z"
   },
   {
    "duration": 319,
    "start_time": "2023-08-06T17:29:08.687Z"
   },
   {
    "duration": 2370,
    "start_time": "2023-08-06T17:29:09.008Z"
   },
   {
    "duration": 9,
    "start_time": "2023-08-06T17:29:11.380Z"
   },
   {
    "duration": 29,
    "start_time": "2023-08-06T17:29:11.391Z"
   },
   {
    "duration": 980,
    "start_time": "2023-08-06T17:29:11.422Z"
   },
   {
    "duration": 1441,
    "start_time": "2023-08-06T17:37:26.476Z"
   },
   {
    "duration": 75,
    "start_time": "2023-08-06T17:37:27.919Z"
   },
   {
    "duration": 2,
    "start_time": "2023-08-06T17:37:27.996Z"
   },
   {
    "duration": 22,
    "start_time": "2023-08-06T17:37:28.000Z"
   },
   {
    "duration": 28,
    "start_time": "2023-08-06T17:37:28.023Z"
   },
   {
    "duration": 13,
    "start_time": "2023-08-06T17:37:28.052Z"
   },
   {
    "duration": 23,
    "start_time": "2023-08-06T17:37:28.067Z"
   },
   {
    "duration": 5,
    "start_time": "2023-08-06T17:37:28.091Z"
   },
   {
    "duration": 9,
    "start_time": "2023-08-06T17:37:28.097Z"
   },
   {
    "duration": 4,
    "start_time": "2023-08-06T17:37:28.108Z"
   },
   {
    "duration": 9,
    "start_time": "2023-08-06T17:37:28.114Z"
   },
   {
    "duration": 13,
    "start_time": "2023-08-06T17:37:28.125Z"
   },
   {
    "duration": 5,
    "start_time": "2023-08-06T17:37:28.140Z"
   },
   {
    "duration": 50,
    "start_time": "2023-08-06T17:37:28.147Z"
   },
   {
    "duration": 1515,
    "start_time": "2023-08-06T17:37:28.199Z"
   },
   {
    "duration": 48,
    "start_time": "2023-08-06T17:37:29.716Z"
   },
   {
    "duration": 42,
    "start_time": "2023-08-06T17:37:29.766Z"
   },
   {
    "duration": 489,
    "start_time": "2023-08-06T17:37:29.810Z"
   },
   {
    "duration": 634,
    "start_time": "2023-08-06T17:37:30.300Z"
   },
   {
    "duration": 451,
    "start_time": "2023-08-06T17:37:30.936Z"
   },
   {
    "duration": 2173,
    "start_time": "2023-08-06T17:37:31.389Z"
   },
   {
    "duration": 3,
    "start_time": "2023-08-06T17:37:33.564Z"
   },
   {
    "duration": 88,
    "start_time": "2023-08-06T17:37:33.569Z"
   },
   {
    "duration": 903,
    "start_time": "2023-08-06T17:37:33.659Z"
   },
   {
    "duration": 2035,
    "start_time": "2023-08-06T17:38:39.060Z"
   },
   {
    "duration": 1381,
    "start_time": "2023-08-06T17:38:41.097Z"
   },
   {
    "duration": 100,
    "start_time": "2023-08-06T17:38:42.479Z"
   },
   {
    "duration": 2,
    "start_time": "2023-08-06T17:38:42.581Z"
   },
   {
    "duration": 9,
    "start_time": "2023-08-06T17:38:42.585Z"
   },
   {
    "duration": 50,
    "start_time": "2023-08-06T17:38:42.595Z"
   },
   {
    "duration": 12,
    "start_time": "2023-08-06T17:38:42.646Z"
   },
   {
    "duration": 13,
    "start_time": "2023-08-06T17:38:42.661Z"
   },
   {
    "duration": 7,
    "start_time": "2023-08-06T17:38:42.676Z"
   },
   {
    "duration": 10,
    "start_time": "2023-08-06T17:38:42.684Z"
   },
   {
    "duration": 5,
    "start_time": "2023-08-06T17:38:42.696Z"
   },
   {
    "duration": 5,
    "start_time": "2023-08-06T17:38:42.702Z"
   },
   {
    "duration": 14,
    "start_time": "2023-08-06T17:38:42.709Z"
   },
   {
    "duration": 6,
    "start_time": "2023-08-06T17:38:42.726Z"
   },
   {
    "duration": 17,
    "start_time": "2023-08-06T17:38:42.734Z"
   },
   {
    "duration": 1624,
    "start_time": "2023-08-06T17:38:42.753Z"
   },
   {
    "duration": 52,
    "start_time": "2023-08-06T17:38:44.379Z"
   },
   {
    "duration": 27,
    "start_time": "2023-08-06T17:38:44.433Z"
   },
   {
    "duration": 647,
    "start_time": "2023-08-06T17:38:44.461Z"
   },
   {
    "duration": 728,
    "start_time": "2023-08-06T17:38:45.110Z"
   },
   {
    "duration": 503,
    "start_time": "2023-08-06T17:38:45.839Z"
   },
   {
    "duration": 2211,
    "start_time": "2023-08-06T17:38:46.344Z"
   },
   {
    "duration": 4,
    "start_time": "2023-08-06T17:38:48.557Z"
   },
   {
    "duration": 31,
    "start_time": "2023-08-06T17:38:48.563Z"
   },
   {
    "duration": 987,
    "start_time": "2023-08-06T17:38:48.596Z"
   },
   {
    "duration": 3,
    "start_time": "2023-08-06T17:38:49.584Z"
   },
   {
    "duration": 7,
    "start_time": "2023-08-06T17:38:49.588Z"
   },
   {
    "duration": 574,
    "start_time": "2023-08-06T17:38:49.596Z"
   },
   {
    "duration": 4,
    "start_time": "2023-08-06T17:38:50.172Z"
   },
   {
    "duration": 19,
    "start_time": "2023-08-06T17:38:50.187Z"
   },
   {
    "duration": 34,
    "start_time": "2023-08-06T17:38:50.208Z"
   },
   {
    "duration": 18,
    "start_time": "2023-08-06T17:38:50.244Z"
   },
   {
    "duration": 630,
    "start_time": "2023-08-06T17:38:50.263Z"
   },
   {
    "duration": 6,
    "start_time": "2023-08-06T17:38:50.895Z"
   },
   {
    "duration": 17,
    "start_time": "2023-08-06T17:38:50.903Z"
   },
   {
    "duration": 18,
    "start_time": "2023-08-06T17:38:50.922Z"
   },
   {
    "duration": 18,
    "start_time": "2023-08-06T17:38:50.942Z"
   },
   {
    "duration": 17,
    "start_time": "2023-08-06T17:38:50.962Z"
   },
   {
    "duration": 605,
    "start_time": "2023-08-06T17:38:50.981Z"
   },
   {
    "duration": 6,
    "start_time": "2023-08-06T17:38:51.588Z"
   },
   {
    "duration": 15,
    "start_time": "2023-08-06T17:38:51.598Z"
   },
   {
    "duration": 65,
    "start_time": "2023-08-06T17:38:51.614Z"
   },
   {
    "duration": 709,
    "start_time": "2023-08-06T17:38:51.680Z"
   },
   {
    "duration": 6,
    "start_time": "2023-08-06T17:38:52.390Z"
   },
   {
    "duration": 44,
    "start_time": "2023-08-06T17:38:52.397Z"
   },
   {
    "duration": 13,
    "start_time": "2023-08-06T17:38:52.443Z"
   },
   {
    "duration": 565,
    "start_time": "2023-08-06T17:38:52.458Z"
   },
   {
    "duration": 6,
    "start_time": "2023-08-06T17:38:53.025Z"
   },
   {
    "duration": 60,
    "start_time": "2023-08-06T17:38:53.032Z"
   },
   {
    "duration": 42,
    "start_time": "2023-08-06T17:38:53.094Z"
   },
   {
    "duration": 63,
    "start_time": "2023-08-06T17:38:53.138Z"
   },
   {
    "duration": 1794,
    "start_time": "2023-08-06T17:38:53.203Z"
   },
   {
    "duration": 2,
    "start_time": "2023-08-06T17:38:55.000Z"
   },
   {
    "duration": 31,
    "start_time": "2023-08-06T17:38:55.004Z"
   },
   {
    "duration": 5,
    "start_time": "2023-08-06T17:38:55.037Z"
   },
   {
    "duration": 3,
    "start_time": "2023-08-06T17:39:01.208Z"
   },
   {
    "duration": 3,
    "start_time": "2023-08-06T17:39:04.513Z"
   },
   {
    "duration": 13,
    "start_time": "2023-08-06T17:39:04.518Z"
   },
   {
    "duration": 99,
    "start_time": "2023-08-06T17:39:04.533Z"
   },
   {
    "duration": 3,
    "start_time": "2023-08-06T17:39:04.635Z"
   },
   {
    "duration": 33,
    "start_time": "2023-08-06T17:39:04.640Z"
   },
   {
    "duration": 41,
    "start_time": "2023-08-06T17:39:04.675Z"
   },
   {
    "duration": 18,
    "start_time": "2023-08-06T17:39:04.719Z"
   },
   {
    "duration": 21,
    "start_time": "2023-08-06T17:39:04.739Z"
   },
   {
    "duration": 25,
    "start_time": "2023-08-06T17:39:04.764Z"
   },
   {
    "duration": 10,
    "start_time": "2023-08-06T17:39:04.791Z"
   },
   {
    "duration": 7,
    "start_time": "2023-08-06T17:39:04.802Z"
   },
   {
    "duration": 7,
    "start_time": "2023-08-06T17:39:04.811Z"
   },
   {
    "duration": 35,
    "start_time": "2023-08-06T17:39:04.822Z"
   },
   {
    "duration": 8,
    "start_time": "2023-08-06T17:39:04.859Z"
   },
   {
    "duration": 26,
    "start_time": "2023-08-06T17:39:04.869Z"
   },
   {
    "duration": 1455,
    "start_time": "2023-08-06T17:39:04.897Z"
   },
   {
    "duration": 152,
    "start_time": "2023-08-06T17:39:06.354Z"
   },
   {
    "duration": 22,
    "start_time": "2023-08-06T17:39:06.508Z"
   },
   {
    "duration": 484,
    "start_time": "2023-08-06T17:39:06.532Z"
   },
   {
    "duration": 595,
    "start_time": "2023-08-06T17:39:07.018Z"
   },
   {
    "duration": 314,
    "start_time": "2023-08-06T17:39:07.615Z"
   },
   {
    "duration": 2245,
    "start_time": "2023-08-06T17:39:07.931Z"
   },
   {
    "duration": 3,
    "start_time": "2023-08-06T17:39:10.177Z"
   },
   {
    "duration": 15,
    "start_time": "2023-08-06T17:39:10.187Z"
   },
   {
    "duration": 986,
    "start_time": "2023-08-06T17:39:10.203Z"
   },
   {
    "duration": 3,
    "start_time": "2023-08-06T17:39:11.190Z"
   },
   {
    "duration": 7,
    "start_time": "2023-08-06T17:39:11.194Z"
   },
   {
    "duration": 556,
    "start_time": "2023-08-06T17:39:11.202Z"
   },
   {
    "duration": 4,
    "start_time": "2023-08-06T17:39:11.760Z"
   },
   {
    "duration": 14,
    "start_time": "2023-08-06T17:39:11.766Z"
   },
   {
    "duration": 2,
    "start_time": "2023-08-06T17:39:11.789Z"
   },
   {
    "duration": 19,
    "start_time": "2023-08-06T17:39:11.793Z"
   },
   {
    "duration": 570,
    "start_time": "2023-08-06T17:39:11.814Z"
   },
   {
    "duration": 5,
    "start_time": "2023-08-06T17:39:12.386Z"
   },
   {
    "duration": 6,
    "start_time": "2023-08-06T17:39:12.393Z"
   },
   {
    "duration": 5,
    "start_time": "2023-08-06T17:39:12.401Z"
   },
   {
    "duration": 10,
    "start_time": "2023-08-06T17:39:12.411Z"
   },
   {
    "duration": 6,
    "start_time": "2023-08-06T17:39:12.423Z"
   },
   {
    "duration": 576,
    "start_time": "2023-08-06T17:39:12.430Z"
   },
   {
    "duration": 6,
    "start_time": "2023-08-06T17:39:13.007Z"
   },
   {
    "duration": 12,
    "start_time": "2023-08-06T17:39:13.014Z"
   },
   {
    "duration": 11,
    "start_time": "2023-08-06T17:39:13.027Z"
   },
   {
    "duration": 639,
    "start_time": "2023-08-06T17:39:13.040Z"
   },
   {
    "duration": 9,
    "start_time": "2023-08-06T17:39:13.680Z"
   },
   {
    "duration": 18,
    "start_time": "2023-08-06T17:39:13.690Z"
   },
   {
    "duration": 12,
    "start_time": "2023-08-06T17:39:13.709Z"
   },
   {
    "duration": 536,
    "start_time": "2023-08-06T17:39:13.722Z"
   },
   {
    "duration": 6,
    "start_time": "2023-08-06T17:39:14.259Z"
   },
   {
    "duration": 28,
    "start_time": "2023-08-06T17:39:14.267Z"
   },
   {
    "duration": 12,
    "start_time": "2023-08-06T17:39:14.297Z"
   },
   {
    "duration": 21,
    "start_time": "2023-08-06T17:39:14.311Z"
   },
   {
    "duration": 1853,
    "start_time": "2023-08-06T17:39:14.334Z"
   },
   {
    "duration": 3,
    "start_time": "2023-08-06T17:39:16.189Z"
   },
   {
    "duration": 38,
    "start_time": "2023-08-06T17:39:16.193Z"
   },
   {
    "duration": 6,
    "start_time": "2023-08-06T17:39:16.233Z"
   },
   {
    "duration": 91,
    "start_time": "2023-08-06T17:46:27.495Z"
   },
   {
    "duration": 3,
    "start_time": "2023-08-06T17:46:35.899Z"
   },
   {
    "duration": 71,
    "start_time": "2023-08-06T17:47:07.304Z"
   },
   {
    "duration": 83,
    "start_time": "2023-08-06T17:47:11.472Z"
   },
   {
    "duration": 73,
    "start_time": "2023-08-06T17:47:12.179Z"
   },
   {
    "duration": 97,
    "start_time": "2023-08-06T17:47:12.620Z"
   },
   {
    "duration": 71,
    "start_time": "2023-08-06T17:47:12.991Z"
   },
   {
    "duration": 68,
    "start_time": "2023-08-06T17:47:13.397Z"
   },
   {
    "duration": 74,
    "start_time": "2023-08-06T17:47:13.829Z"
   },
   {
    "duration": 5,
    "start_time": "2023-08-06T17:51:13.606Z"
   },
   {
    "duration": 113,
    "start_time": "2023-08-06T17:52:25.521Z"
   },
   {
    "duration": 42,
    "start_time": "2023-08-06T17:53:09.005Z"
   },
   {
    "duration": 47,
    "start_time": "2023-08-06T17:53:20.757Z"
   },
   {
    "duration": 12,
    "start_time": "2023-08-06T17:53:40.733Z"
   },
   {
    "duration": 6,
    "start_time": "2023-08-06T17:54:33.163Z"
   },
   {
    "duration": 4,
    "start_time": "2023-08-06T17:54:44.114Z"
   },
   {
    "duration": 13,
    "start_time": "2023-08-06T17:55:06.914Z"
   },
   {
    "duration": 12,
    "start_time": "2023-08-06T17:55:30.798Z"
   },
   {
    "duration": 14,
    "start_time": "2023-08-06T17:56:16.824Z"
   },
   {
    "duration": 4,
    "start_time": "2023-08-06T17:56:35.928Z"
   },
   {
    "duration": 15,
    "start_time": "2023-08-06T17:56:40.770Z"
   },
   {
    "duration": 16,
    "start_time": "2023-08-06T17:58:12.323Z"
   },
   {
    "duration": 16,
    "start_time": "2023-08-06T17:58:46.009Z"
   },
   {
    "duration": 17,
    "start_time": "2023-08-06T17:58:50.500Z"
   },
   {
    "duration": 17,
    "start_time": "2023-08-06T17:58:54.195Z"
   },
   {
    "duration": 21,
    "start_time": "2023-08-06T17:59:26.706Z"
   },
   {
    "duration": 31,
    "start_time": "2023-08-06T17:59:54.141Z"
   },
   {
    "duration": 134,
    "start_time": "2023-08-06T18:00:02.094Z"
   },
   {
    "duration": 38,
    "start_time": "2023-08-06T18:00:05.133Z"
   },
   {
    "duration": 69,
    "start_time": "2023-08-06T18:00:47.160Z"
   },
   {
    "duration": 30,
    "start_time": "2023-08-06T18:01:32.744Z"
   },
   {
    "duration": 35,
    "start_time": "2023-08-06T18:03:01.073Z"
   },
   {
    "duration": 24,
    "start_time": "2023-08-06T18:03:34.442Z"
   },
   {
    "duration": 30,
    "start_time": "2023-08-06T18:03:54.644Z"
   },
   {
    "duration": 24,
    "start_time": "2023-08-06T18:04:52.508Z"
   },
   {
    "duration": 47,
    "start_time": "2023-08-06T18:05:27.154Z"
   },
   {
    "duration": 44,
    "start_time": "2023-08-06T18:05:34.163Z"
   },
   {
    "duration": 76,
    "start_time": "2023-08-06T18:06:27.354Z"
   },
   {
    "duration": 29,
    "start_time": "2023-08-06T18:06:30.251Z"
   },
   {
    "duration": 39,
    "start_time": "2023-08-06T18:06:44.354Z"
   },
   {
    "duration": 41,
    "start_time": "2023-08-06T18:06:49.268Z"
   },
   {
    "duration": 31,
    "start_time": "2023-08-06T18:07:44.363Z"
   },
   {
    "duration": 3,
    "start_time": "2023-08-06T18:21:47.715Z"
   },
   {
    "duration": 1810,
    "start_time": "2023-08-06T18:21:47.723Z"
   },
   {
    "duration": 127,
    "start_time": "2023-08-06T18:21:49.535Z"
   },
   {
    "duration": 3,
    "start_time": "2023-08-06T18:21:49.664Z"
   },
   {
    "duration": 60,
    "start_time": "2023-08-06T18:21:49.669Z"
   },
   {
    "duration": 25,
    "start_time": "2023-08-06T18:21:49.732Z"
   },
   {
    "duration": 47,
    "start_time": "2023-08-06T18:21:49.759Z"
   },
   {
    "duration": 14,
    "start_time": "2023-08-06T18:21:49.809Z"
   },
   {
    "duration": 33,
    "start_time": "2023-08-06T18:21:49.825Z"
   },
   {
    "duration": 43,
    "start_time": "2023-08-06T18:21:49.860Z"
   },
   {
    "duration": 169,
    "start_time": "2023-08-06T18:21:49.905Z"
   },
   {
    "duration": 0,
    "start_time": "2023-08-06T18:21:50.077Z"
   },
   {
    "duration": 0,
    "start_time": "2023-08-06T18:21:50.078Z"
   },
   {
    "duration": 0,
    "start_time": "2023-08-06T18:21:50.080Z"
   },
   {
    "duration": 0,
    "start_time": "2023-08-06T18:21:50.093Z"
   },
   {
    "duration": 0,
    "start_time": "2023-08-06T18:21:50.094Z"
   },
   {
    "duration": 0,
    "start_time": "2023-08-06T18:21:50.095Z"
   },
   {
    "duration": 0,
    "start_time": "2023-08-06T18:21:50.096Z"
   },
   {
    "duration": 0,
    "start_time": "2023-08-06T18:21:50.096Z"
   },
   {
    "duration": 0,
    "start_time": "2023-08-06T18:21:50.104Z"
   },
   {
    "duration": 0,
    "start_time": "2023-08-06T18:21:50.105Z"
   },
   {
    "duration": 0,
    "start_time": "2023-08-06T18:21:50.106Z"
   },
   {
    "duration": 0,
    "start_time": "2023-08-06T18:21:50.107Z"
   },
   {
    "duration": 1,
    "start_time": "2023-08-06T18:21:50.107Z"
   },
   {
    "duration": 0,
    "start_time": "2023-08-06T18:21:50.109Z"
   },
   {
    "duration": 0,
    "start_time": "2023-08-06T18:21:50.110Z"
   },
   {
    "duration": 0,
    "start_time": "2023-08-06T18:21:50.111Z"
   },
   {
    "duration": 0,
    "start_time": "2023-08-06T18:21:50.113Z"
   },
   {
    "duration": 0,
    "start_time": "2023-08-06T18:21:50.114Z"
   },
   {
    "duration": 0,
    "start_time": "2023-08-06T18:21:50.116Z"
   },
   {
    "duration": 0,
    "start_time": "2023-08-06T18:21:50.117Z"
   },
   {
    "duration": 0,
    "start_time": "2023-08-06T18:21:50.118Z"
   },
   {
    "duration": 1,
    "start_time": "2023-08-06T18:21:50.119Z"
   },
   {
    "duration": 0,
    "start_time": "2023-08-06T18:21:50.121Z"
   },
   {
    "duration": 0,
    "start_time": "2023-08-06T18:21:50.122Z"
   },
   {
    "duration": 0,
    "start_time": "2023-08-06T18:21:50.124Z"
   },
   {
    "duration": 0,
    "start_time": "2023-08-06T18:21:50.125Z"
   },
   {
    "duration": 0,
    "start_time": "2023-08-06T18:21:50.127Z"
   },
   {
    "duration": 0,
    "start_time": "2023-08-06T18:21:50.128Z"
   },
   {
    "duration": 0,
    "start_time": "2023-08-06T18:21:50.130Z"
   },
   {
    "duration": 0,
    "start_time": "2023-08-06T18:21:50.131Z"
   },
   {
    "duration": 0,
    "start_time": "2023-08-06T18:21:50.132Z"
   },
   {
    "duration": 0,
    "start_time": "2023-08-06T18:21:50.134Z"
   },
   {
    "duration": 0,
    "start_time": "2023-08-06T18:21:50.135Z"
   },
   {
    "duration": 0,
    "start_time": "2023-08-06T18:21:50.137Z"
   },
   {
    "duration": 0,
    "start_time": "2023-08-06T18:21:50.138Z"
   },
   {
    "duration": 0,
    "start_time": "2023-08-06T18:21:50.139Z"
   },
   {
    "duration": 0,
    "start_time": "2023-08-06T18:21:50.141Z"
   },
   {
    "duration": 0,
    "start_time": "2023-08-06T18:21:50.190Z"
   },
   {
    "duration": 0,
    "start_time": "2023-08-06T18:21:50.191Z"
   },
   {
    "duration": 0,
    "start_time": "2023-08-06T18:21:50.192Z"
   },
   {
    "duration": 0,
    "start_time": "2023-08-06T18:21:50.193Z"
   },
   {
    "duration": 0,
    "start_time": "2023-08-06T18:21:50.197Z"
   },
   {
    "duration": 0,
    "start_time": "2023-08-06T18:21:50.198Z"
   },
   {
    "duration": 47,
    "start_time": "2023-08-06T18:22:46.014Z"
   },
   {
    "duration": 60,
    "start_time": "2023-08-06T18:22:49.761Z"
   },
   {
    "duration": 17,
    "start_time": "2023-08-06T18:22:49.823Z"
   },
   {
    "duration": 8,
    "start_time": "2023-08-06T18:22:49.842Z"
   },
   {
    "duration": 17,
    "start_time": "2023-08-06T18:22:49.851Z"
   },
   {
    "duration": 1739,
    "start_time": "2023-08-06T18:22:49.870Z"
   },
   {
    "duration": 72,
    "start_time": "2023-08-06T18:22:51.611Z"
   },
   {
    "duration": 32,
    "start_time": "2023-08-06T18:22:51.687Z"
   },
   {
    "duration": 559,
    "start_time": "2023-08-06T18:22:51.723Z"
   },
   {
    "duration": 676,
    "start_time": "2023-08-06T18:22:52.284Z"
   },
   {
    "duration": 346,
    "start_time": "2023-08-06T18:22:52.964Z"
   },
   {
    "duration": 2491,
    "start_time": "2023-08-06T18:22:53.312Z"
   },
   {
    "duration": 3,
    "start_time": "2023-08-06T18:22:55.805Z"
   },
   {
    "duration": 20,
    "start_time": "2023-08-06T18:22:55.810Z"
   },
   {
    "duration": 1115,
    "start_time": "2023-08-06T18:22:55.831Z"
   },
   {
    "duration": 3,
    "start_time": "2023-08-06T18:22:56.948Z"
   },
   {
    "duration": 32,
    "start_time": "2023-08-06T18:22:56.953Z"
   },
   {
    "duration": 619,
    "start_time": "2023-08-06T18:22:56.988Z"
   },
   {
    "duration": 6,
    "start_time": "2023-08-06T18:22:57.610Z"
   },
   {
    "duration": 53,
    "start_time": "2023-08-06T18:22:57.617Z"
   },
   {
    "duration": 29,
    "start_time": "2023-08-06T18:22:57.672Z"
   },
   {
    "duration": 27,
    "start_time": "2023-08-06T18:22:57.704Z"
   },
   {
    "duration": 679,
    "start_time": "2023-08-06T18:22:57.732Z"
   },
   {
    "duration": 5,
    "start_time": "2023-08-06T18:22:58.412Z"
   },
   {
    "duration": 37,
    "start_time": "2023-08-06T18:22:58.418Z"
   },
   {
    "duration": 28,
    "start_time": "2023-08-06T18:22:58.457Z"
   },
   {
    "duration": 35,
    "start_time": "2023-08-06T18:22:58.487Z"
   },
   {
    "duration": 41,
    "start_time": "2023-08-06T18:22:58.524Z"
   },
   {
    "duration": 575,
    "start_time": "2023-08-06T18:22:58.569Z"
   },
   {
    "duration": 6,
    "start_time": "2023-08-06T18:22:59.146Z"
   },
   {
    "duration": 29,
    "start_time": "2023-08-06T18:22:59.153Z"
   },
   {
    "duration": 41,
    "start_time": "2023-08-06T18:22:59.184Z"
   },
   {
    "duration": 789,
    "start_time": "2023-08-06T18:22:59.227Z"
   },
   {
    "duration": 6,
    "start_time": "2023-08-06T18:23:00.018Z"
   },
   {
    "duration": 113,
    "start_time": "2023-08-06T18:23:00.026Z"
   },
   {
    "duration": 62,
    "start_time": "2023-08-06T18:23:00.143Z"
   },
   {
    "duration": 661,
    "start_time": "2023-08-06T18:23:00.207Z"
   },
   {
    "duration": 6,
    "start_time": "2023-08-06T18:23:00.870Z"
   },
   {
    "duration": 76,
    "start_time": "2023-08-06T18:23:00.888Z"
   },
   {
    "duration": 62,
    "start_time": "2023-08-06T18:23:00.966Z"
   },
   {
    "duration": 82,
    "start_time": "2023-08-06T18:23:01.030Z"
   },
   {
    "duration": 1792,
    "start_time": "2023-08-06T18:23:01.113Z"
   },
   {
    "duration": 4,
    "start_time": "2023-08-06T18:23:02.908Z"
   },
   {
    "duration": 57,
    "start_time": "2023-08-06T18:23:02.915Z"
   },
   {
    "duration": 38,
    "start_time": "2023-08-06T18:23:02.974Z"
   },
   {
    "duration": 100,
    "start_time": "2023-08-06T18:25:47.905Z"
   },
   {
    "duration": 79,
    "start_time": "2023-08-06T18:25:59.951Z"
   },
   {
    "duration": 26,
    "start_time": "2023-08-06T18:26:03.010Z"
   },
   {
    "duration": 33,
    "start_time": "2023-08-06T18:26:57.752Z"
   },
   {
    "duration": 349,
    "start_time": "2023-08-06T18:28:34.310Z"
   },
   {
    "duration": 299,
    "start_time": "2023-08-06T18:28:41.736Z"
   },
   {
    "duration": 333,
    "start_time": "2023-08-06T18:28:55.949Z"
   },
   {
    "duration": 478,
    "start_time": "2023-08-06T18:29:02.762Z"
   },
   {
    "duration": 2532,
    "start_time": "2023-08-06T18:29:50.447Z"
   },
   {
    "duration": 2,
    "start_time": "2023-08-06T18:36:16.757Z"
   },
   {
    "duration": 6,
    "start_time": "2023-08-06T18:36:44.748Z"
   },
   {
    "duration": 1492,
    "start_time": "2023-08-06T18:36:44.756Z"
   },
   {
    "duration": 106,
    "start_time": "2023-08-06T18:36:46.250Z"
   },
   {
    "duration": 3,
    "start_time": "2023-08-06T18:36:46.358Z"
   },
   {
    "duration": 29,
    "start_time": "2023-08-06T18:36:46.363Z"
   },
   {
    "duration": 23,
    "start_time": "2023-08-06T18:36:46.394Z"
   },
   {
    "duration": 17,
    "start_time": "2023-08-06T18:36:46.419Z"
   },
   {
    "duration": 5,
    "start_time": "2023-08-06T18:36:46.438Z"
   },
   {
    "duration": 11,
    "start_time": "2023-08-06T18:36:46.445Z"
   },
   {
    "duration": 6,
    "start_time": "2023-08-06T18:36:46.458Z"
   },
   {
    "duration": 42,
    "start_time": "2023-08-06T18:36:46.490Z"
   },
   {
    "duration": 12,
    "start_time": "2023-08-06T18:36:46.534Z"
   },
   {
    "duration": 5,
    "start_time": "2023-08-06T18:36:46.548Z"
   },
   {
    "duration": 3,
    "start_time": "2023-08-06T18:36:46.556Z"
   },
   {
    "duration": 1746,
    "start_time": "2023-08-06T18:36:46.560Z"
   },
   {
    "duration": 74,
    "start_time": "2023-08-06T18:36:48.308Z"
   },
   {
    "duration": 34,
    "start_time": "2023-08-06T18:36:48.387Z"
   },
   {
    "duration": 538,
    "start_time": "2023-08-06T18:36:48.423Z"
   },
   {
    "duration": 318,
    "start_time": "2023-08-06T18:36:48.963Z"
   },
   {
    "duration": 336,
    "start_time": "2023-08-06T18:36:49.287Z"
   },
   {
    "duration": 2510,
    "start_time": "2023-08-06T18:36:49.625Z"
   },
   {
    "duration": 2,
    "start_time": "2023-08-06T18:36:52.137Z"
   },
   {
    "duration": 12,
    "start_time": "2023-08-06T18:36:52.141Z"
   },
   {
    "duration": 1091,
    "start_time": "2023-08-06T18:36:52.154Z"
   },
   {
    "duration": 3,
    "start_time": "2023-08-06T18:36:53.246Z"
   },
   {
    "duration": 20,
    "start_time": "2023-08-06T18:36:53.251Z"
   },
   {
    "duration": 611,
    "start_time": "2023-08-06T18:36:53.273Z"
   },
   {
    "duration": 9,
    "start_time": "2023-08-06T18:36:53.890Z"
   },
   {
    "duration": 11,
    "start_time": "2023-08-06T18:36:53.901Z"
   },
   {
    "duration": 3,
    "start_time": "2023-08-06T18:36:53.914Z"
   },
   {
    "duration": 5,
    "start_time": "2023-08-06T18:36:53.919Z"
   },
   {
    "duration": 718,
    "start_time": "2023-08-06T18:36:53.926Z"
   },
   {
    "duration": 5,
    "start_time": "2023-08-06T18:36:54.647Z"
   },
   {
    "duration": 4,
    "start_time": "2023-08-06T18:36:54.654Z"
   },
   {
    "duration": 14,
    "start_time": "2023-08-06T18:36:54.660Z"
   },
   {
    "duration": 12,
    "start_time": "2023-08-06T18:36:54.689Z"
   },
   {
    "duration": 10,
    "start_time": "2023-08-06T18:36:54.703Z"
   },
   {
    "duration": 635,
    "start_time": "2023-08-06T18:36:54.716Z"
   },
   {
    "duration": 7,
    "start_time": "2023-08-06T18:36:55.353Z"
   },
   {
    "duration": 16,
    "start_time": "2023-08-06T18:36:55.363Z"
   },
   {
    "duration": 12,
    "start_time": "2023-08-06T18:36:55.389Z"
   },
   {
    "duration": 717,
    "start_time": "2023-08-06T18:36:55.403Z"
   },
   {
    "duration": 7,
    "start_time": "2023-08-06T18:36:56.122Z"
   },
   {
    "duration": 6,
    "start_time": "2023-08-06T18:36:56.130Z"
   },
   {
    "duration": 7,
    "start_time": "2023-08-06T18:36:56.137Z"
   },
   {
    "duration": 585,
    "start_time": "2023-08-06T18:36:56.145Z"
   },
   {
    "duration": 7,
    "start_time": "2023-08-06T18:36:56.732Z"
   },
   {
    "duration": 3,
    "start_time": "2023-08-06T18:36:56.741Z"
   },
   {
    "duration": 10,
    "start_time": "2023-08-06T18:36:56.746Z"
   },
   {
    "duration": 1344,
    "start_time": "2023-08-06T18:36:56.757Z"
   },
   {
    "duration": 5,
    "start_time": "2023-08-06T18:36:58.108Z"
   },
   {
    "duration": 97,
    "start_time": "2023-08-06T18:36:58.114Z"
   },
   {
    "duration": 7,
    "start_time": "2023-08-06T18:36:58.214Z"
   },
   {
    "duration": 2322,
    "start_time": "2023-08-06T18:39:22.058Z"
   },
   {
    "duration": 4,
    "start_time": "2023-08-07T04:47:39.173Z"
   },
   {
    "duration": 1349,
    "start_time": "2023-08-07T04:47:39.179Z"
   },
   {
    "duration": 0,
    "start_time": "2023-08-07T04:47:40.531Z"
   },
   {
    "duration": 0,
    "start_time": "2023-08-07T04:47:40.532Z"
   },
   {
    "duration": 0,
    "start_time": "2023-08-07T04:47:40.533Z"
   },
   {
    "duration": 0,
    "start_time": "2023-08-07T04:47:40.537Z"
   },
   {
    "duration": 0,
    "start_time": "2023-08-07T04:47:40.538Z"
   },
   {
    "duration": 0,
    "start_time": "2023-08-07T04:47:40.539Z"
   },
   {
    "duration": 0,
    "start_time": "2023-08-07T04:47:40.540Z"
   },
   {
    "duration": 0,
    "start_time": "2023-08-07T04:47:40.541Z"
   },
   {
    "duration": 0,
    "start_time": "2023-08-07T04:47:40.542Z"
   },
   {
    "duration": 0,
    "start_time": "2023-08-07T04:47:40.543Z"
   },
   {
    "duration": 0,
    "start_time": "2023-08-07T04:47:40.544Z"
   },
   {
    "duration": 0,
    "start_time": "2023-08-07T04:47:40.545Z"
   },
   {
    "duration": 0,
    "start_time": "2023-08-07T04:47:40.546Z"
   },
   {
    "duration": 0,
    "start_time": "2023-08-07T04:47:40.547Z"
   },
   {
    "duration": 1,
    "start_time": "2023-08-07T04:47:40.548Z"
   },
   {
    "duration": 0,
    "start_time": "2023-08-07T04:47:40.549Z"
   },
   {
    "duration": 0,
    "start_time": "2023-08-07T04:47:40.550Z"
   },
   {
    "duration": 0,
    "start_time": "2023-08-07T04:47:40.551Z"
   },
   {
    "duration": 0,
    "start_time": "2023-08-07T04:47:40.552Z"
   },
   {
    "duration": 0,
    "start_time": "2023-08-07T04:47:40.553Z"
   },
   {
    "duration": 0,
    "start_time": "2023-08-07T04:47:40.554Z"
   },
   {
    "duration": 0,
    "start_time": "2023-08-07T04:47:40.556Z"
   },
   {
    "duration": 0,
    "start_time": "2023-08-07T04:47:40.557Z"
   },
   {
    "duration": 0,
    "start_time": "2023-08-07T04:47:40.557Z"
   },
   {
    "duration": 0,
    "start_time": "2023-08-07T04:47:40.559Z"
   },
   {
    "duration": 0,
    "start_time": "2023-08-07T04:47:40.560Z"
   },
   {
    "duration": 0,
    "start_time": "2023-08-07T04:47:40.561Z"
   },
   {
    "duration": 0,
    "start_time": "2023-08-07T04:47:40.562Z"
   },
   {
    "duration": 0,
    "start_time": "2023-08-07T04:47:40.563Z"
   },
   {
    "duration": 0,
    "start_time": "2023-08-07T04:47:40.563Z"
   },
   {
    "duration": 0,
    "start_time": "2023-08-07T04:47:40.564Z"
   },
   {
    "duration": 0,
    "start_time": "2023-08-07T04:47:40.565Z"
   },
   {
    "duration": 0,
    "start_time": "2023-08-07T04:47:40.566Z"
   },
   {
    "duration": 0,
    "start_time": "2023-08-07T04:47:40.567Z"
   },
   {
    "duration": 0,
    "start_time": "2023-08-07T04:47:40.568Z"
   },
   {
    "duration": 0,
    "start_time": "2023-08-07T04:47:40.569Z"
   },
   {
    "duration": 0,
    "start_time": "2023-08-07T04:47:40.570Z"
   },
   {
    "duration": 0,
    "start_time": "2023-08-07T04:47:40.571Z"
   },
   {
    "duration": 0,
    "start_time": "2023-08-07T04:47:40.572Z"
   },
   {
    "duration": 0,
    "start_time": "2023-08-07T04:47:40.638Z"
   },
   {
    "duration": 0,
    "start_time": "2023-08-07T04:47:40.639Z"
   },
   {
    "duration": 0,
    "start_time": "2023-08-07T04:47:40.640Z"
   },
   {
    "duration": 0,
    "start_time": "2023-08-07T04:47:40.642Z"
   },
   {
    "duration": 0,
    "start_time": "2023-08-07T04:47:40.643Z"
   },
   {
    "duration": 0,
    "start_time": "2023-08-07T04:47:40.644Z"
   },
   {
    "duration": 0,
    "start_time": "2023-08-07T04:47:40.645Z"
   },
   {
    "duration": 1,
    "start_time": "2023-08-07T04:47:40.645Z"
   },
   {
    "duration": 0,
    "start_time": "2023-08-07T04:47:40.646Z"
   },
   {
    "duration": 0,
    "start_time": "2023-08-07T04:47:40.648Z"
   },
   {
    "duration": 0,
    "start_time": "2023-08-07T04:47:40.648Z"
   },
   {
    "duration": 2,
    "start_time": "2023-08-07T04:51:12.395Z"
   },
   {
    "duration": 26,
    "start_time": "2023-08-07T04:51:12.401Z"
   },
   {
    "duration": 0,
    "start_time": "2023-08-07T04:51:12.429Z"
   },
   {
    "duration": 0,
    "start_time": "2023-08-07T04:51:12.429Z"
   },
   {
    "duration": 0,
    "start_time": "2023-08-07T04:51:12.430Z"
   },
   {
    "duration": 0,
    "start_time": "2023-08-07T04:51:12.431Z"
   },
   {
    "duration": 0,
    "start_time": "2023-08-07T04:51:12.432Z"
   },
   {
    "duration": 0,
    "start_time": "2023-08-07T04:51:12.434Z"
   },
   {
    "duration": 0,
    "start_time": "2023-08-07T04:51:12.434Z"
   },
   {
    "duration": 0,
    "start_time": "2023-08-07T04:51:12.436Z"
   },
   {
    "duration": 10,
    "start_time": "2023-08-07T04:51:12.437Z"
   },
   {
    "duration": 0,
    "start_time": "2023-08-07T04:51:12.449Z"
   },
   {
    "duration": 0,
    "start_time": "2023-08-07T04:51:12.450Z"
   },
   {
    "duration": 0,
    "start_time": "2023-08-07T04:51:12.450Z"
   },
   {
    "duration": 8,
    "start_time": "2023-08-07T04:51:12.452Z"
   },
   {
    "duration": 0,
    "start_time": "2023-08-07T04:51:12.461Z"
   },
   {
    "duration": 0,
    "start_time": "2023-08-07T04:51:12.462Z"
   },
   {
    "duration": 0,
    "start_time": "2023-08-07T04:51:12.463Z"
   },
   {
    "duration": 14,
    "start_time": "2023-08-07T04:51:12.464Z"
   },
   {
    "duration": 0,
    "start_time": "2023-08-07T04:51:12.479Z"
   },
   {
    "duration": 0,
    "start_time": "2023-08-07T04:51:12.481Z"
   },
   {
    "duration": 0,
    "start_time": "2023-08-07T04:51:12.481Z"
   },
   {
    "duration": 0,
    "start_time": "2023-08-07T04:51:12.482Z"
   },
   {
    "duration": 3,
    "start_time": "2023-08-07T04:51:12.537Z"
   },
   {
    "duration": 12,
    "start_time": "2023-08-07T04:51:12.541Z"
   },
   {
    "duration": 9,
    "start_time": "2023-08-07T04:51:12.554Z"
   },
   {
    "duration": 0,
    "start_time": "2023-08-07T04:51:12.566Z"
   },
   {
    "duration": 0,
    "start_time": "2023-08-07T04:51:12.566Z"
   },
   {
    "duration": 0,
    "start_time": "2023-08-07T04:51:12.567Z"
   },
   {
    "duration": 0,
    "start_time": "2023-08-07T04:51:12.569Z"
   },
   {
    "duration": 0,
    "start_time": "2023-08-07T04:51:12.570Z"
   },
   {
    "duration": 0,
    "start_time": "2023-08-07T04:51:12.571Z"
   },
   {
    "duration": 0,
    "start_time": "2023-08-07T04:51:12.572Z"
   },
   {
    "duration": 0,
    "start_time": "2023-08-07T04:51:12.573Z"
   },
   {
    "duration": 0,
    "start_time": "2023-08-07T04:51:12.574Z"
   },
   {
    "duration": 0,
    "start_time": "2023-08-07T04:51:12.574Z"
   },
   {
    "duration": 0,
    "start_time": "2023-08-07T04:51:12.575Z"
   },
   {
    "duration": 0,
    "start_time": "2023-08-07T04:51:12.576Z"
   },
   {
    "duration": 0,
    "start_time": "2023-08-07T04:51:12.577Z"
   },
   {
    "duration": 0,
    "start_time": "2023-08-07T04:51:12.578Z"
   },
   {
    "duration": 0,
    "start_time": "2023-08-07T04:51:12.578Z"
   },
   {
    "duration": 0,
    "start_time": "2023-08-07T04:51:12.579Z"
   },
   {
    "duration": 0,
    "start_time": "2023-08-07T04:51:12.580Z"
   },
   {
    "duration": 0,
    "start_time": "2023-08-07T04:51:12.581Z"
   },
   {
    "duration": 0,
    "start_time": "2023-08-07T04:51:12.581Z"
   },
   {
    "duration": 0,
    "start_time": "2023-08-07T04:51:12.582Z"
   },
   {
    "duration": 0,
    "start_time": "2023-08-07T04:51:12.583Z"
   },
   {
    "duration": 0,
    "start_time": "2023-08-07T04:51:12.583Z"
   },
   {
    "duration": 0,
    "start_time": "2023-08-07T04:51:12.584Z"
   },
   {
    "duration": 0,
    "start_time": "2023-08-07T04:51:12.585Z"
   },
   {
    "duration": 0,
    "start_time": "2023-08-07T04:51:12.585Z"
   },
   {
    "duration": 0,
    "start_time": "2023-08-07T04:51:12.586Z"
   },
   {
    "duration": 3,
    "start_time": "2023-08-07T04:51:41.079Z"
   },
   {
    "duration": 1164,
    "start_time": "2023-08-07T04:51:41.084Z"
   },
   {
    "duration": 0,
    "start_time": "2023-08-07T04:51:42.250Z"
   },
   {
    "duration": 0,
    "start_time": "2023-08-07T04:51:42.251Z"
   },
   {
    "duration": 0,
    "start_time": "2023-08-07T04:51:42.252Z"
   },
   {
    "duration": 0,
    "start_time": "2023-08-07T04:51:42.253Z"
   },
   {
    "duration": 0,
    "start_time": "2023-08-07T04:51:42.254Z"
   },
   {
    "duration": 0,
    "start_time": "2023-08-07T04:51:42.255Z"
   },
   {
    "duration": 0,
    "start_time": "2023-08-07T04:51:42.256Z"
   },
   {
    "duration": 0,
    "start_time": "2023-08-07T04:51:42.256Z"
   },
   {
    "duration": 0,
    "start_time": "2023-08-07T04:51:42.257Z"
   },
   {
    "duration": 0,
    "start_time": "2023-08-07T04:51:42.258Z"
   },
   {
    "duration": 0,
    "start_time": "2023-08-07T04:51:42.258Z"
   },
   {
    "duration": 0,
    "start_time": "2023-08-07T04:51:42.259Z"
   },
   {
    "duration": 0,
    "start_time": "2023-08-07T04:51:42.260Z"
   },
   {
    "duration": 0,
    "start_time": "2023-08-07T04:51:42.261Z"
   },
   {
    "duration": 0,
    "start_time": "2023-08-07T04:51:42.262Z"
   },
   {
    "duration": 0,
    "start_time": "2023-08-07T04:51:42.263Z"
   },
   {
    "duration": 0,
    "start_time": "2023-08-07T04:51:42.264Z"
   },
   {
    "duration": 0,
    "start_time": "2023-08-07T04:51:42.265Z"
   },
   {
    "duration": 0,
    "start_time": "2023-08-07T04:51:42.266Z"
   },
   {
    "duration": 0,
    "start_time": "2023-08-07T04:51:42.267Z"
   },
   {
    "duration": 0,
    "start_time": "2023-08-07T04:51:42.268Z"
   },
   {
    "duration": 0,
    "start_time": "2023-08-07T04:51:42.269Z"
   },
   {
    "duration": 0,
    "start_time": "2023-08-07T04:51:42.270Z"
   },
   {
    "duration": 1,
    "start_time": "2023-08-07T04:51:42.270Z"
   },
   {
    "duration": 0,
    "start_time": "2023-08-07T04:51:42.271Z"
   },
   {
    "duration": 0,
    "start_time": "2023-08-07T04:51:42.272Z"
   },
   {
    "duration": 0,
    "start_time": "2023-08-07T04:51:42.273Z"
   },
   {
    "duration": 0,
    "start_time": "2023-08-07T04:51:42.274Z"
   },
   {
    "duration": 0,
    "start_time": "2023-08-07T04:51:42.275Z"
   },
   {
    "duration": 0,
    "start_time": "2023-08-07T04:51:42.276Z"
   },
   {
    "duration": 0,
    "start_time": "2023-08-07T04:51:42.276Z"
   },
   {
    "duration": 0,
    "start_time": "2023-08-07T04:51:42.277Z"
   },
   {
    "duration": 0,
    "start_time": "2023-08-07T04:51:42.278Z"
   },
   {
    "duration": 0,
    "start_time": "2023-08-07T04:51:42.279Z"
   },
   {
    "duration": 0,
    "start_time": "2023-08-07T04:51:42.280Z"
   },
   {
    "duration": 0,
    "start_time": "2023-08-07T04:51:42.281Z"
   },
   {
    "duration": 0,
    "start_time": "2023-08-07T04:51:42.282Z"
   },
   {
    "duration": 0,
    "start_time": "2023-08-07T04:51:42.283Z"
   },
   {
    "duration": 0,
    "start_time": "2023-08-07T04:51:42.284Z"
   },
   {
    "duration": 0,
    "start_time": "2023-08-07T04:51:42.337Z"
   },
   {
    "duration": 0,
    "start_time": "2023-08-07T04:51:42.339Z"
   },
   {
    "duration": 0,
    "start_time": "2023-08-07T04:51:42.340Z"
   },
   {
    "duration": 0,
    "start_time": "2023-08-07T04:51:42.341Z"
   },
   {
    "duration": 0,
    "start_time": "2023-08-07T04:51:42.342Z"
   },
   {
    "duration": 0,
    "start_time": "2023-08-07T04:51:42.343Z"
   },
   {
    "duration": 0,
    "start_time": "2023-08-07T04:51:42.345Z"
   },
   {
    "duration": 0,
    "start_time": "2023-08-07T04:51:42.346Z"
   },
   {
    "duration": 0,
    "start_time": "2023-08-07T04:51:42.347Z"
   },
   {
    "duration": 0,
    "start_time": "2023-08-07T04:51:42.348Z"
   },
   {
    "duration": 0,
    "start_time": "2023-08-07T04:51:42.350Z"
   },
   {
    "duration": 3094,
    "start_time": "2023-08-07T04:53:01.130Z"
   },
   {
    "duration": 1414,
    "start_time": "2023-08-07T04:53:04.226Z"
   },
   {
    "duration": 87,
    "start_time": "2023-08-07T04:53:05.642Z"
   },
   {
    "duration": 54,
    "start_time": "2023-08-07T04:53:05.731Z"
   },
   {
    "duration": 31,
    "start_time": "2023-08-07T04:53:05.786Z"
   },
   {
    "duration": 16,
    "start_time": "2023-08-07T04:53:05.819Z"
   },
   {
    "duration": 40,
    "start_time": "2023-08-07T04:53:05.837Z"
   },
   {
    "duration": 26,
    "start_time": "2023-08-07T04:53:05.879Z"
   },
   {
    "duration": 35,
    "start_time": "2023-08-07T04:53:05.906Z"
   },
   {
    "duration": 42,
    "start_time": "2023-08-07T04:53:05.943Z"
   },
   {
    "duration": 59,
    "start_time": "2023-08-07T04:53:05.986Z"
   },
   {
    "duration": 12,
    "start_time": "2023-08-07T04:53:06.046Z"
   },
   {
    "duration": 19,
    "start_time": "2023-08-07T04:53:06.059Z"
   },
   {
    "duration": 26,
    "start_time": "2023-08-07T04:53:06.079Z"
   },
   {
    "duration": 1416,
    "start_time": "2023-08-07T04:53:06.106Z"
   },
   {
    "duration": 54,
    "start_time": "2023-08-07T04:53:07.524Z"
   },
   {
    "duration": 20,
    "start_time": "2023-08-07T04:53:07.580Z"
   },
   {
    "duration": 432,
    "start_time": "2023-08-07T04:53:07.602Z"
   },
   {
    "duration": 275,
    "start_time": "2023-08-07T04:53:08.038Z"
   },
   {
    "duration": 265,
    "start_time": "2023-08-07T04:53:08.314Z"
   },
   {
    "duration": 2179,
    "start_time": "2023-08-07T04:53:08.580Z"
   },
   {
    "duration": 5,
    "start_time": "2023-08-07T04:53:10.760Z"
   },
   {
    "duration": 863,
    "start_time": "2023-08-07T04:53:10.766Z"
   },
   {
    "duration": 2,
    "start_time": "2023-08-07T04:53:11.631Z"
   },
   {
    "duration": 5,
    "start_time": "2023-08-07T04:53:11.635Z"
   },
   {
    "duration": 557,
    "start_time": "2023-08-07T04:53:11.641Z"
   },
   {
    "duration": 4,
    "start_time": "2023-08-07T04:53:12.200Z"
   },
   {
    "duration": 5,
    "start_time": "2023-08-07T04:53:12.208Z"
   },
   {
    "duration": 25,
    "start_time": "2023-08-07T04:53:12.215Z"
   },
   {
    "duration": 8,
    "start_time": "2023-08-07T04:53:12.241Z"
   },
   {
    "duration": 552,
    "start_time": "2023-08-07T04:53:12.250Z"
   },
   {
    "duration": 4,
    "start_time": "2023-08-07T04:53:12.804Z"
   },
   {
    "duration": 6,
    "start_time": "2023-08-07T04:53:12.809Z"
   },
   {
    "duration": 25,
    "start_time": "2023-08-07T04:53:12.816Z"
   },
   {
    "duration": 7,
    "start_time": "2023-08-07T04:53:12.844Z"
   },
   {
    "duration": 7,
    "start_time": "2023-08-07T04:53:12.852Z"
   },
   {
    "duration": 536,
    "start_time": "2023-08-07T04:53:12.861Z"
   },
   {
    "duration": 5,
    "start_time": "2023-08-07T04:53:13.398Z"
   },
   {
    "duration": 15,
    "start_time": "2023-08-07T04:53:13.404Z"
   },
   {
    "duration": 25,
    "start_time": "2023-08-07T04:53:13.420Z"
   },
   {
    "duration": 632,
    "start_time": "2023-08-07T04:53:13.446Z"
   },
   {
    "duration": 5,
    "start_time": "2023-08-07T04:53:14.079Z"
   },
   {
    "duration": 31,
    "start_time": "2023-08-07T04:53:14.085Z"
   },
   {
    "duration": 9,
    "start_time": "2023-08-07T04:53:14.117Z"
   },
   {
    "duration": 497,
    "start_time": "2023-08-07T04:53:14.128Z"
   },
   {
    "duration": 12,
    "start_time": "2023-08-07T04:53:14.626Z"
   },
   {
    "duration": 6,
    "start_time": "2023-08-07T04:53:14.639Z"
   },
   {
    "duration": 14,
    "start_time": "2023-08-07T04:53:14.646Z"
   },
   {
    "duration": 1677,
    "start_time": "2023-08-07T04:53:14.662Z"
   },
   {
    "duration": 2,
    "start_time": "2023-08-07T04:53:16.341Z"
   },
   {
    "duration": 38,
    "start_time": "2023-08-07T04:53:16.345Z"
   },
   {
    "duration": 5,
    "start_time": "2023-08-07T04:53:16.385Z"
   },
   {
    "duration": 848,
    "start_time": "2023-08-07T04:53:16.393Z"
   },
   {
    "duration": 5,
    "start_time": "2023-08-07T04:53:53.776Z"
   },
   {
    "duration": 75,
    "start_time": "2023-08-07T04:53:53.786Z"
   },
   {
    "duration": 6,
    "start_time": "2023-08-07T04:53:53.863Z"
   },
   {
    "duration": 34,
    "start_time": "2023-08-07T04:53:53.870Z"
   },
   {
    "duration": 36,
    "start_time": "2023-08-07T04:53:53.907Z"
   },
   {
    "duration": 12,
    "start_time": "2023-08-07T04:53:53.945Z"
   },
   {
    "duration": 12,
    "start_time": "2023-08-07T04:53:53.959Z"
   },
   {
    "duration": 11,
    "start_time": "2023-08-07T04:53:53.973Z"
   },
   {
    "duration": 5,
    "start_time": "2023-08-07T04:53:53.987Z"
   },
   {
    "duration": 76,
    "start_time": "2023-08-07T04:53:53.994Z"
   },
   {
    "duration": 16,
    "start_time": "2023-08-07T04:53:54.074Z"
   },
   {
    "duration": 5,
    "start_time": "2023-08-07T04:53:54.092Z"
   },
   {
    "duration": 10,
    "start_time": "2023-08-07T04:53:54.099Z"
   },
   {
    "duration": 1441,
    "start_time": "2023-08-07T04:53:54.110Z"
   },
   {
    "duration": 161,
    "start_time": "2023-08-07T04:53:55.553Z"
   },
   {
    "duration": 32,
    "start_time": "2023-08-07T04:53:55.716Z"
   },
   {
    "duration": 436,
    "start_time": "2023-08-07T04:53:55.750Z"
   },
   {
    "duration": 283,
    "start_time": "2023-08-07T04:53:56.187Z"
   },
   {
    "duration": 280,
    "start_time": "2023-08-07T04:53:56.471Z"
   },
   {
    "duration": 2165,
    "start_time": "2023-08-07T04:53:56.752Z"
   },
   {
    "duration": 6,
    "start_time": "2023-08-07T04:53:58.918Z"
   },
   {
    "duration": 991,
    "start_time": "2023-08-07T04:53:58.937Z"
   },
   {
    "duration": 8,
    "start_time": "2023-08-07T04:53:59.930Z"
   },
   {
    "duration": 879,
    "start_time": "2023-08-07T04:53:59.940Z"
   },
   {
    "duration": 603,
    "start_time": "2023-08-07T04:54:00.820Z"
   },
   {
    "duration": 15,
    "start_time": "2023-08-07T04:54:01.425Z"
   },
   {
    "duration": 14,
    "start_time": "2023-08-07T04:54:01.442Z"
   },
   {
    "duration": 41,
    "start_time": "2023-08-07T04:54:01.458Z"
   },
   {
    "duration": 43,
    "start_time": "2023-08-07T04:54:01.504Z"
   },
   {
    "duration": 738,
    "start_time": "2023-08-07T04:54:01.549Z"
   },
   {
    "duration": 5,
    "start_time": "2023-08-07T04:54:02.289Z"
   },
   {
    "duration": 38,
    "start_time": "2023-08-07T04:54:02.296Z"
   },
   {
    "duration": 30,
    "start_time": "2023-08-07T04:54:02.336Z"
   },
   {
    "duration": 27,
    "start_time": "2023-08-07T04:54:02.368Z"
   },
   {
    "duration": 31,
    "start_time": "2023-08-07T04:54:02.397Z"
   },
   {
    "duration": 537,
    "start_time": "2023-08-07T04:54:02.430Z"
   },
   {
    "duration": 6,
    "start_time": "2023-08-07T04:54:02.969Z"
   },
   {
    "duration": 14,
    "start_time": "2023-08-07T04:54:02.977Z"
   },
   {
    "duration": 18,
    "start_time": "2023-08-07T04:54:02.992Z"
   },
   {
    "duration": 646,
    "start_time": "2023-08-07T04:54:03.012Z"
   },
   {
    "duration": 6,
    "start_time": "2023-08-07T04:54:03.660Z"
   },
   {
    "duration": 9,
    "start_time": "2023-08-07T04:54:03.668Z"
   },
   {
    "duration": 8,
    "start_time": "2023-08-07T04:54:03.678Z"
   },
   {
    "duration": 522,
    "start_time": "2023-08-07T04:54:03.687Z"
   },
   {
    "duration": 5,
    "start_time": "2023-08-07T04:54:04.211Z"
   },
   {
    "duration": 23,
    "start_time": "2023-08-07T04:54:04.218Z"
   },
   {
    "duration": 15,
    "start_time": "2023-08-07T04:54:04.244Z"
   },
   {
    "duration": 1485,
    "start_time": "2023-08-07T04:54:04.261Z"
   },
   {
    "duration": 3,
    "start_time": "2023-08-07T04:54:05.748Z"
   },
   {
    "duration": 28,
    "start_time": "2023-08-07T04:54:05.752Z"
   },
   {
    "duration": 6,
    "start_time": "2023-08-07T04:54:05.782Z"
   },
   {
    "duration": 1827,
    "start_time": "2023-08-07T04:55:18.332Z"
   },
   {
    "duration": 135,
    "start_time": "2023-08-07T04:59:30.357Z"
   },
   {
    "duration": 39,
    "start_time": "2023-08-07T04:59:44.959Z"
   },
   {
    "duration": 2059,
    "start_time": "2023-08-07T05:01:30.512Z"
   },
   {
    "duration": 1463,
    "start_time": "2023-08-07T05:01:32.574Z"
   },
   {
    "duration": 64,
    "start_time": "2023-08-07T05:01:34.039Z"
   },
   {
    "duration": 3,
    "start_time": "2023-08-07T05:01:34.106Z"
   },
   {
    "duration": 33,
    "start_time": "2023-08-07T05:01:34.111Z"
   },
   {
    "duration": 12,
    "start_time": "2023-08-07T05:01:34.145Z"
   },
   {
    "duration": 12,
    "start_time": "2023-08-07T05:01:34.159Z"
   },
   {
    "duration": 9,
    "start_time": "2023-08-07T05:01:34.172Z"
   },
   {
    "duration": 14,
    "start_time": "2023-08-07T05:01:34.183Z"
   },
   {
    "duration": 5,
    "start_time": "2023-08-07T05:01:34.200Z"
   },
   {
    "duration": 67,
    "start_time": "2023-08-07T05:01:34.206Z"
   },
   {
    "duration": 51,
    "start_time": "2023-08-07T05:01:34.274Z"
   },
   {
    "duration": 18,
    "start_time": "2023-08-07T05:01:34.326Z"
   },
   {
    "duration": 27,
    "start_time": "2023-08-07T05:01:34.346Z"
   },
   {
    "duration": 1616,
    "start_time": "2023-08-07T05:01:34.374Z"
   },
   {
    "duration": 56,
    "start_time": "2023-08-07T05:01:35.992Z"
   },
   {
    "duration": 22,
    "start_time": "2023-08-07T05:01:36.050Z"
   },
   {
    "duration": 483,
    "start_time": "2023-08-07T05:01:36.073Z"
   },
   {
    "duration": 286,
    "start_time": "2023-08-07T05:01:36.557Z"
   },
   {
    "duration": 316,
    "start_time": "2023-08-07T05:01:36.845Z"
   },
   {
    "duration": 2277,
    "start_time": "2023-08-07T05:01:37.162Z"
   },
   {
    "duration": 6,
    "start_time": "2023-08-07T05:01:39.441Z"
   },
   {
    "duration": 884,
    "start_time": "2023-08-07T05:01:39.449Z"
   },
   {
    "duration": 3,
    "start_time": "2023-08-07T05:01:40.334Z"
   },
   {
    "duration": 1699,
    "start_time": "2023-08-07T05:01:40.338Z"
   },
   {
    "duration": 501,
    "start_time": "2023-08-07T05:01:42.039Z"
   },
   {
    "duration": 4,
    "start_time": "2023-08-07T05:01:42.541Z"
   },
   {
    "duration": 22,
    "start_time": "2023-08-07T05:01:42.548Z"
   },
   {
    "duration": 17,
    "start_time": "2023-08-07T05:01:42.572Z"
   },
   {
    "duration": 17,
    "start_time": "2023-08-07T05:01:42.590Z"
   },
   {
    "duration": 597,
    "start_time": "2023-08-07T05:01:42.609Z"
   },
   {
    "duration": 5,
    "start_time": "2023-08-07T05:01:43.208Z"
   },
   {
    "duration": 127,
    "start_time": "2023-08-07T05:01:43.214Z"
   },
   {
    "duration": 5,
    "start_time": "2023-08-07T05:01:43.343Z"
   },
   {
    "duration": 41,
    "start_time": "2023-08-07T05:01:43.349Z"
   },
   {
    "duration": 9,
    "start_time": "2023-08-07T05:01:43.391Z"
   },
   {
    "duration": 582,
    "start_time": "2023-08-07T05:01:43.402Z"
   },
   {
    "duration": 4,
    "start_time": "2023-08-07T05:01:43.986Z"
   },
   {
    "duration": 6,
    "start_time": "2023-08-07T05:01:43.992Z"
   },
   {
    "duration": 9,
    "start_time": "2023-08-07T05:01:44.000Z"
   },
   {
    "duration": 633,
    "start_time": "2023-08-07T05:01:44.010Z"
   },
   {
    "duration": 11,
    "start_time": "2023-08-07T05:01:44.645Z"
   },
   {
    "duration": 40,
    "start_time": "2023-08-07T05:01:44.661Z"
   },
   {
    "duration": 16,
    "start_time": "2023-08-07T05:01:44.705Z"
   },
   {
    "duration": 509,
    "start_time": "2023-08-07T05:01:44.723Z"
   },
   {
    "duration": 5,
    "start_time": "2023-08-07T05:01:45.238Z"
   },
   {
    "duration": 6,
    "start_time": "2023-08-07T05:01:45.244Z"
   },
   {
    "duration": 20,
    "start_time": "2023-08-07T05:01:45.252Z"
   },
   {
    "duration": 1665,
    "start_time": "2023-08-07T05:01:45.273Z"
   },
   {
    "duration": 2,
    "start_time": "2023-08-07T05:01:46.940Z"
   },
   {
    "duration": 77,
    "start_time": "2023-08-07T05:01:46.944Z"
   },
   {
    "duration": 6,
    "start_time": "2023-08-07T05:01:47.023Z"
   },
   {
    "duration": 402,
    "start_time": "2023-08-07T05:10:51.135Z"
   },
   {
    "duration": 118,
    "start_time": "2023-08-07T05:15:06.966Z"
   },
   {
    "duration": 77,
    "start_time": "2023-08-07T05:15:58.408Z"
   },
   {
    "duration": 128,
    "start_time": "2023-08-07T05:19:31.205Z"
   },
   {
    "duration": 1208,
    "start_time": "2023-08-07T05:20:01.012Z"
   },
   {
    "duration": 126,
    "start_time": "2023-08-07T05:20:06.545Z"
   },
   {
    "duration": 198,
    "start_time": "2023-08-07T05:20:18.047Z"
   },
   {
    "duration": 135,
    "start_time": "2023-08-07T05:23:06.008Z"
   },
   {
    "duration": 134,
    "start_time": "2023-08-07T05:23:16.523Z"
   },
   {
    "duration": 146,
    "start_time": "2023-08-07T05:23:21.613Z"
   },
   {
    "duration": 340,
    "start_time": "2023-08-07T05:23:35.036Z"
   },
   {
    "duration": 194,
    "start_time": "2023-08-07T05:23:49.201Z"
   },
   {
    "duration": 9,
    "start_time": "2023-08-07T05:24:08.697Z"
   },
   {
    "duration": 120,
    "start_time": "2023-08-07T05:24:19.397Z"
   },
   {
    "duration": 195,
    "start_time": "2023-08-07T05:24:24.809Z"
   },
   {
    "duration": 17,
    "start_time": "2023-08-07T05:37:06.754Z"
   },
   {
    "duration": 127,
    "start_time": "2023-08-07T05:37:26.451Z"
   },
   {
    "duration": 131,
    "start_time": "2023-08-07T05:37:41.843Z"
   },
   {
    "duration": 132,
    "start_time": "2023-08-07T05:38:21.438Z"
   },
   {
    "duration": 127,
    "start_time": "2023-08-07T05:39:03.344Z"
   },
   {
    "duration": 112,
    "start_time": "2023-08-07T05:39:24.350Z"
   },
   {
    "duration": 129,
    "start_time": "2023-08-07T05:39:38.561Z"
   },
   {
    "duration": 119,
    "start_time": "2023-08-07T05:39:45.980Z"
   },
   {
    "duration": 11,
    "start_time": "2023-08-07T05:40:23.313Z"
   },
   {
    "duration": 11,
    "start_time": "2023-08-07T05:40:27.289Z"
   },
   {
    "duration": 1037,
    "start_time": "2023-08-07T05:40:27.302Z"
   },
   {
    "duration": 6,
    "start_time": "2023-08-07T05:40:28.341Z"
   },
   {
    "duration": 21,
    "start_time": "2023-08-07T05:40:28.439Z"
   },
   {
    "duration": 155,
    "start_time": "2023-08-07T05:40:28.462Z"
   },
   {
    "duration": 5,
    "start_time": "2023-08-07T05:40:28.619Z"
   },
   {
    "duration": 10,
    "start_time": "2023-08-07T05:40:44.184Z"
   },
   {
    "duration": 9,
    "start_time": "2023-08-07T05:40:57.115Z"
   },
   {
    "duration": 1115,
    "start_time": "2023-08-07T05:40:57.126Z"
   },
   {
    "duration": 2,
    "start_time": "2023-08-07T05:40:58.242Z"
   },
   {
    "duration": 27,
    "start_time": "2023-08-07T05:40:58.246Z"
   },
   {
    "duration": 242,
    "start_time": "2023-08-07T05:40:58.275Z"
   },
   {
    "duration": 7,
    "start_time": "2023-08-07T05:40:58.519Z"
   },
   {
    "duration": 18,
    "start_time": "2023-08-07T05:44:51.734Z"
   },
   {
    "duration": 9,
    "start_time": "2023-08-07T05:45:50.201Z"
   },
   {
    "duration": 255,
    "start_time": "2023-08-07T05:45:56.242Z"
   },
   {
    "duration": 7739,
    "start_time": "2023-08-07T05:46:21.247Z"
   },
   {
    "duration": 5825,
    "start_time": "2023-08-07T05:46:40.794Z"
   },
   {
    "duration": 3939,
    "start_time": "2023-08-07T05:46:55.718Z"
   },
   {
    "duration": 5968,
    "start_time": "2023-08-07T05:47:07.010Z"
   },
   {
    "duration": 3151,
    "start_time": "2023-08-07T05:47:14.746Z"
   },
   {
    "duration": 6237,
    "start_time": "2023-08-07T05:47:25.177Z"
   },
   {
    "duration": 10,
    "start_time": "2023-08-07T05:47:55.854Z"
   },
   {
    "duration": 878,
    "start_time": "2023-08-07T05:47:55.866Z"
   },
   {
    "duration": 92,
    "start_time": "2023-08-07T05:47:56.746Z"
   },
   {
    "duration": 21,
    "start_time": "2023-08-07T05:47:56.840Z"
   },
   {
    "duration": 6348,
    "start_time": "2023-08-07T05:47:56.862Z"
   },
   {
    "duration": 5,
    "start_time": "2023-08-07T05:48:03.212Z"
   },
   {
    "duration": 9,
    "start_time": "2023-08-07T05:48:26.069Z"
   },
   {
    "duration": 1056,
    "start_time": "2023-08-07T05:48:26.086Z"
   },
   {
    "duration": 4,
    "start_time": "2023-08-07T05:48:27.144Z"
   },
   {
    "duration": 36,
    "start_time": "2023-08-07T05:48:27.149Z"
   },
   {
    "duration": 6071,
    "start_time": "2023-08-07T05:48:27.186Z"
   },
   {
    "duration": 5,
    "start_time": "2023-08-07T05:48:33.259Z"
   },
   {
    "duration": 8672,
    "start_time": "2023-08-07T05:48:55.732Z"
   },
   {
    "duration": 22,
    "start_time": "2023-08-07T05:53:50.578Z"
   },
   {
    "duration": 848,
    "start_time": "2023-08-07T05:54:27.493Z"
   },
   {
    "duration": 4,
    "start_time": "2023-08-07T05:55:18.472Z"
   },
   {
    "duration": 17570,
    "start_time": "2023-08-07T05:55:25.415Z"
   },
   {
    "duration": 23963,
    "start_time": "2023-08-07T05:55:55.097Z"
   },
   {
    "duration": 23663,
    "start_time": "2023-08-07T06:00:18.987Z"
   },
   {
    "duration": 8476,
    "start_time": "2023-08-07T06:01:02.455Z"
   },
   {
    "duration": 15136,
    "start_time": "2023-08-07T06:02:55.560Z"
   },
   {
    "duration": 16580,
    "start_time": "2023-08-07T06:04:13.243Z"
   },
   {
    "duration": 17256,
    "start_time": "2023-08-07T06:04:46.833Z"
   },
   {
    "duration": 19832,
    "start_time": "2023-08-07T06:05:36.451Z"
   },
   {
    "duration": 17,
    "start_time": "2023-08-07T06:05:58.363Z"
   },
   {
    "duration": 20,
    "start_time": "2023-08-07T06:06:05.111Z"
   },
   {
    "duration": 19377,
    "start_time": "2023-08-07T06:06:10.737Z"
   },
   {
    "duration": 9,
    "start_time": "2023-08-07T06:06:48.291Z"
   },
   {
    "duration": 939,
    "start_time": "2023-08-07T06:06:48.302Z"
   },
   {
    "duration": 3,
    "start_time": "2023-08-07T06:06:49.243Z"
   },
   {
    "duration": 20,
    "start_time": "2023-08-07T06:06:49.248Z"
   },
   {
    "duration": 5,
    "start_time": "2023-08-07T06:06:49.269Z"
   },
   {
    "duration": 10,
    "start_time": "2023-08-07T06:09:32.211Z"
   },
   {
    "duration": 19,
    "start_time": "2023-08-07T06:09:35.631Z"
   },
   {
    "duration": 11,
    "start_time": "2023-08-07T06:09:47.410Z"
   },
   {
    "duration": 11,
    "start_time": "2023-08-07T06:10:05.523Z"
   },
   {
    "duration": 57,
    "start_time": "2023-08-07T06:10:05.536Z"
   },
   {
    "duration": 11,
    "start_time": "2023-08-07T06:10:05.594Z"
   },
   {
    "duration": 6,
    "start_time": "2023-08-07T06:12:37.859Z"
   },
   {
    "duration": 19,
    "start_time": "2023-08-07T06:18:11.348Z"
   },
   {
    "duration": 454,
    "start_time": "2023-08-07T06:18:47.400Z"
   },
   {
    "duration": 994,
    "start_time": "2023-08-07T06:19:03.203Z"
   },
   {
    "duration": 1060,
    "start_time": "2023-08-07T06:21:38.943Z"
   },
   {
    "duration": 279,
    "start_time": "2023-08-07T06:22:48.677Z"
   },
   {
    "duration": 95,
    "start_time": "2023-08-07T06:27:31.039Z"
   },
   {
    "duration": 29,
    "start_time": "2023-08-07T06:27:36.786Z"
   },
   {
    "duration": 7342,
    "start_time": "2023-08-07T06:28:13.486Z"
   },
   {
    "duration": 3,
    "start_time": "2023-08-07T06:29:12.102Z"
   },
   {
    "duration": 1350,
    "start_time": "2023-08-07T06:31:00.262Z"
   },
   {
    "duration": 18,
    "start_time": "2023-08-07T06:42:58.369Z"
   },
   {
    "duration": 7,
    "start_time": "2023-08-07T06:43:30.132Z"
   },
   {
    "duration": 9,
    "start_time": "2023-08-07T06:45:01.844Z"
   },
   {
    "duration": 11,
    "start_time": "2023-08-07T06:45:10.429Z"
   },
   {
    "duration": 5,
    "start_time": "2023-08-07T06:46:27.663Z"
   },
   {
    "duration": 14,
    "start_time": "2023-08-07T06:46:33.699Z"
   },
   {
    "duration": 232,
    "start_time": "2023-08-07T06:49:09.452Z"
   },
   {
    "duration": 16,
    "start_time": "2023-08-07T06:49:20.866Z"
   },
   {
    "duration": 2189,
    "start_time": "2023-08-07T06:49:35.886Z"
   },
   {
    "duration": 1423,
    "start_time": "2023-08-07T06:49:38.077Z"
   },
   {
    "duration": 107,
    "start_time": "2023-08-07T06:49:39.501Z"
   },
   {
    "duration": 3,
    "start_time": "2023-08-07T06:49:39.609Z"
   },
   {
    "duration": 25,
    "start_time": "2023-08-07T06:49:39.614Z"
   },
   {
    "duration": 15,
    "start_time": "2023-08-07T06:49:39.640Z"
   },
   {
    "duration": 22,
    "start_time": "2023-08-07T06:49:39.656Z"
   },
   {
    "duration": 4,
    "start_time": "2023-08-07T06:49:39.680Z"
   },
   {
    "duration": 9,
    "start_time": "2023-08-07T06:49:39.685Z"
   },
   {
    "duration": 5,
    "start_time": "2023-08-07T06:49:39.696Z"
   },
   {
    "duration": 69,
    "start_time": "2023-08-07T06:49:39.702Z"
   },
   {
    "duration": 10,
    "start_time": "2023-08-07T06:49:39.772Z"
   },
   {
    "duration": 5,
    "start_time": "2023-08-07T06:49:39.783Z"
   },
   {
    "duration": 6,
    "start_time": "2023-08-07T06:49:39.789Z"
   },
   {
    "duration": 1484,
    "start_time": "2023-08-07T06:49:39.797Z"
   },
   {
    "duration": 47,
    "start_time": "2023-08-07T06:49:41.282Z"
   },
   {
    "duration": 23,
    "start_time": "2023-08-07T06:49:41.348Z"
   },
   {
    "duration": 421,
    "start_time": "2023-08-07T06:49:41.373Z"
   },
   {
    "duration": 339,
    "start_time": "2023-08-07T06:49:41.796Z"
   },
   {
    "duration": 298,
    "start_time": "2023-08-07T06:49:42.137Z"
   },
   {
    "duration": 2314,
    "start_time": "2023-08-07T06:49:42.437Z"
   },
   {
    "duration": 8,
    "start_time": "2023-08-07T06:49:44.753Z"
   },
   {
    "duration": 891,
    "start_time": "2023-08-07T06:49:44.762Z"
   },
   {
    "duration": 3,
    "start_time": "2023-08-07T06:49:45.655Z"
   },
   {
    "duration": 1729,
    "start_time": "2023-08-07T06:49:45.660Z"
   },
   {
    "duration": 530,
    "start_time": "2023-08-07T06:49:47.391Z"
   },
   {
    "duration": 15,
    "start_time": "2023-08-07T06:49:47.923Z"
   },
   {
    "duration": 5,
    "start_time": "2023-08-07T06:49:47.942Z"
   },
   {
    "duration": 15,
    "start_time": "2023-08-07T06:49:47.948Z"
   },
   {
    "duration": 11,
    "start_time": "2023-08-07T06:49:47.964Z"
   },
   {
    "duration": 542,
    "start_time": "2023-08-07T06:49:47.976Z"
   },
   {
    "duration": 5,
    "start_time": "2023-08-07T06:49:48.519Z"
   },
   {
    "duration": 4,
    "start_time": "2023-08-07T06:49:48.537Z"
   },
   {
    "duration": 5,
    "start_time": "2023-08-07T06:49:48.543Z"
   },
   {
    "duration": 16,
    "start_time": "2023-08-07T06:49:48.549Z"
   },
   {
    "duration": 14,
    "start_time": "2023-08-07T06:49:48.567Z"
   },
   {
    "duration": 527,
    "start_time": "2023-08-07T06:49:48.583Z"
   },
   {
    "duration": 5,
    "start_time": "2023-08-07T06:49:49.111Z"
   },
   {
    "duration": 6,
    "start_time": "2023-08-07T06:49:49.138Z"
   },
   {
    "duration": 10,
    "start_time": "2023-08-07T06:49:49.145Z"
   },
   {
    "duration": 559,
    "start_time": "2023-08-07T06:49:49.156Z"
   },
   {
    "duration": 5,
    "start_time": "2023-08-07T06:49:49.717Z"
   },
   {
    "duration": 17,
    "start_time": "2023-08-07T06:49:49.723Z"
   },
   {
    "duration": 5,
    "start_time": "2023-08-07T06:49:49.741Z"
   },
   {
    "duration": 451,
    "start_time": "2023-08-07T06:49:49.747Z"
   },
   {
    "duration": 5,
    "start_time": "2023-08-07T06:49:50.200Z"
   },
   {
    "duration": 19369,
    "start_time": "2023-08-07T06:49:50.207Z"
   },
   {
    "duration": 12,
    "start_time": "2023-08-07T06:50:09.578Z"
   },
   {
    "duration": 1346,
    "start_time": "2023-08-07T06:50:09.592Z"
   },
   {
    "duration": 11,
    "start_time": "2023-08-07T06:50:10.939Z"
   },
   {
    "duration": 19,
    "start_time": "2023-08-07T06:50:10.952Z"
   },
   {
    "duration": 11,
    "start_time": "2023-08-07T06:50:10.972Z"
   },
   {
    "duration": 12,
    "start_time": "2023-08-07T06:50:10.984Z"
   },
   {
    "duration": 5,
    "start_time": "2023-08-07T06:50:10.997Z"
   },
   {
    "duration": 2185,
    "start_time": "2023-08-08T07:40:52.858Z"
   },
   {
    "duration": 3052,
    "start_time": "2023-08-08T07:40:55.045Z"
   },
   {
    "duration": 128,
    "start_time": "2023-08-08T07:40:58.099Z"
   },
   {
    "duration": 3,
    "start_time": "2023-08-08T07:40:58.229Z"
   },
   {
    "duration": 37,
    "start_time": "2023-08-08T07:40:58.234Z"
   },
   {
    "duration": 14,
    "start_time": "2023-08-08T07:40:58.272Z"
   },
   {
    "duration": 31,
    "start_time": "2023-08-08T07:40:58.287Z"
   },
   {
    "duration": 17,
    "start_time": "2023-08-08T07:40:58.319Z"
   },
   {
    "duration": 16,
    "start_time": "2023-08-08T07:40:58.337Z"
   },
   {
    "duration": 45,
    "start_time": "2023-08-08T07:40:58.354Z"
   },
   {
    "duration": 35,
    "start_time": "2023-08-08T07:43:57.122Z"
   },
   {
    "duration": 2276,
    "start_time": "2023-08-08T07:55:18.328Z"
   },
   {
    "duration": 4,
    "start_time": "2023-08-08T07:55:20.606Z"
   },
   {
    "duration": 177,
    "start_time": "2023-08-08T07:55:20.611Z"
   },
   {
    "duration": 3,
    "start_time": "2023-08-08T07:55:20.790Z"
   },
   {
    "duration": 37,
    "start_time": "2023-08-08T07:55:20.794Z"
   },
   {
    "duration": 20,
    "start_time": "2023-08-08T07:55:20.833Z"
   },
   {
    "duration": 22,
    "start_time": "2023-08-08T07:55:20.855Z"
   },
   {
    "duration": 9,
    "start_time": "2023-08-08T07:55:20.879Z"
   },
   {
    "duration": 9,
    "start_time": "2023-08-08T07:55:20.900Z"
   },
   {
    "duration": 8,
    "start_time": "2023-08-08T07:55:20.912Z"
   },
   {
    "duration": 33,
    "start_time": "2023-08-08T07:55:20.922Z"
   },
   {
    "duration": 10,
    "start_time": "2023-08-08T07:55:20.956Z"
   },
   {
    "duration": 49,
    "start_time": "2023-08-08T07:55:20.967Z"
   },
   {
    "duration": 26,
    "start_time": "2023-08-08T07:55:21.017Z"
   },
   {
    "duration": 1506,
    "start_time": "2023-08-08T07:55:21.044Z"
   },
   {
    "duration": 60,
    "start_time": "2023-08-08T07:55:22.552Z"
   },
   {
    "duration": 25,
    "start_time": "2023-08-08T07:55:22.614Z"
   },
   {
    "duration": 436,
    "start_time": "2023-08-08T07:55:22.641Z"
   },
   {
    "duration": 269,
    "start_time": "2023-08-08T07:55:23.078Z"
   },
   {
    "duration": 288,
    "start_time": "2023-08-08T07:55:23.349Z"
   },
   {
    "duration": 2340,
    "start_time": "2023-08-08T07:55:23.638Z"
   },
   {
    "duration": 7,
    "start_time": "2023-08-08T07:55:25.980Z"
   },
   {
    "duration": 978,
    "start_time": "2023-08-08T07:55:25.988Z"
   },
   {
    "duration": 1844,
    "start_time": "2023-08-08T07:55:26.968Z"
   },
   {
    "duration": 554,
    "start_time": "2023-08-08T07:55:28.813Z"
   },
   {
    "duration": 4,
    "start_time": "2023-08-08T07:55:29.368Z"
   },
   {
    "duration": 8,
    "start_time": "2023-08-08T07:55:29.374Z"
   },
   {
    "duration": 2,
    "start_time": "2023-08-08T07:55:29.400Z"
   },
   {
    "duration": 9,
    "start_time": "2023-08-08T07:55:29.404Z"
   },
   {
    "duration": 669,
    "start_time": "2023-08-08T07:55:29.415Z"
   },
   {
    "duration": 5,
    "start_time": "2023-08-08T07:55:30.086Z"
   },
   {
    "duration": 45,
    "start_time": "2023-08-08T07:55:30.093Z"
   },
   {
    "duration": 23,
    "start_time": "2023-08-08T07:55:30.140Z"
   },
   {
    "duration": 50,
    "start_time": "2023-08-08T07:55:30.165Z"
   },
   {
    "duration": 28,
    "start_time": "2023-08-08T07:55:30.217Z"
   },
   {
    "duration": 555,
    "start_time": "2023-08-08T07:55:30.246Z"
   },
   {
    "duration": 6,
    "start_time": "2023-08-08T07:55:30.802Z"
   },
   {
    "duration": 102,
    "start_time": "2023-08-08T07:55:30.809Z"
   },
   {
    "duration": 40,
    "start_time": "2023-08-08T07:55:30.913Z"
   },
   {
    "duration": 644,
    "start_time": "2023-08-08T07:55:30.955Z"
   },
   {
    "duration": 5,
    "start_time": "2023-08-08T07:55:31.602Z"
   },
   {
    "duration": 57,
    "start_time": "2023-08-08T07:55:31.608Z"
   },
   {
    "duration": 33,
    "start_time": "2023-08-08T07:55:31.667Z"
   },
   {
    "duration": 563,
    "start_time": "2023-08-08T07:55:31.701Z"
   },
   {
    "duration": 5,
    "start_time": "2023-08-08T07:55:32.266Z"
   },
   {
    "duration": 15490,
    "start_time": "2023-08-08T07:56:32.594Z"
   },
   {
    "duration": 297,
    "start_time": "2023-08-08T07:57:34.915Z"
   },
   {
    "duration": 2243,
    "start_time": "2023-08-08T07:58:03.349Z"
   },
   {
    "duration": 4475,
    "start_time": "2023-08-08T07:58:05.594Z"
   },
   {
    "duration": 165,
    "start_time": "2023-08-08T07:58:10.071Z"
   },
   {
    "duration": 3,
    "start_time": "2023-08-08T07:58:10.238Z"
   },
   {
    "duration": 51,
    "start_time": "2023-08-08T07:58:10.242Z"
   },
   {
    "duration": 12,
    "start_time": "2023-08-08T07:58:10.295Z"
   },
   {
    "duration": 27,
    "start_time": "2023-08-08T07:58:10.308Z"
   },
   {
    "duration": 17,
    "start_time": "2023-08-08T07:58:10.337Z"
   },
   {
    "duration": 13,
    "start_time": "2023-08-08T07:58:10.356Z"
   },
   {
    "duration": 5,
    "start_time": "2023-08-08T07:58:10.373Z"
   },
   {
    "duration": 65,
    "start_time": "2023-08-08T07:58:10.380Z"
   },
   {
    "duration": 16,
    "start_time": "2023-08-08T07:58:10.447Z"
   },
   {
    "duration": 5,
    "start_time": "2023-08-08T07:58:10.464Z"
   },
   {
    "duration": 9,
    "start_time": "2023-08-08T07:58:10.471Z"
   },
   {
    "duration": 1514,
    "start_time": "2023-08-08T07:58:10.500Z"
   },
   {
    "duration": 49,
    "start_time": "2023-08-08T07:58:12.015Z"
   },
   {
    "duration": 40,
    "start_time": "2023-08-08T07:58:12.066Z"
   },
   {
    "duration": 480,
    "start_time": "2023-08-08T07:58:12.108Z"
   },
   {
    "duration": 273,
    "start_time": "2023-08-08T07:58:12.592Z"
   },
   {
    "duration": 407,
    "start_time": "2023-08-08T07:58:12.866Z"
   },
   {
    "duration": 2525,
    "start_time": "2023-08-08T07:58:13.275Z"
   },
   {
    "duration": 5,
    "start_time": "2023-08-08T07:58:15.802Z"
   },
   {
    "duration": 1166,
    "start_time": "2023-08-08T07:58:15.809Z"
   },
   {
    "duration": 1902,
    "start_time": "2023-08-08T07:58:16.977Z"
   },
   {
    "duration": 586,
    "start_time": "2023-08-08T07:58:18.881Z"
   },
   {
    "duration": 5,
    "start_time": "2023-08-08T07:58:19.469Z"
   },
   {
    "duration": 24,
    "start_time": "2023-08-08T07:58:19.476Z"
   },
   {
    "duration": 3,
    "start_time": "2023-08-08T07:58:19.505Z"
   },
   {
    "duration": 12,
    "start_time": "2023-08-08T07:58:19.510Z"
   },
   {
    "duration": 640,
    "start_time": "2023-08-08T07:58:19.524Z"
   },
   {
    "duration": 6,
    "start_time": "2023-08-08T07:58:20.165Z"
   },
   {
    "duration": 53,
    "start_time": "2023-08-08T07:58:20.172Z"
   },
   {
    "duration": 16,
    "start_time": "2023-08-08T07:58:20.226Z"
   },
   {
    "duration": 23,
    "start_time": "2023-08-08T07:58:20.243Z"
   },
   {
    "duration": 17,
    "start_time": "2023-08-08T07:58:20.268Z"
   },
   {
    "duration": 480,
    "start_time": "2023-08-08T07:58:20.286Z"
   },
   {
    "duration": 5,
    "start_time": "2023-08-08T07:58:20.767Z"
   },
   {
    "duration": 21,
    "start_time": "2023-08-08T07:58:20.773Z"
   },
   {
    "duration": 25,
    "start_time": "2023-08-08T07:58:20.796Z"
   },
   {
    "duration": 559,
    "start_time": "2023-08-08T07:58:20.823Z"
   },
   {
    "duration": 4,
    "start_time": "2023-08-08T07:58:21.383Z"
   },
   {
    "duration": 15,
    "start_time": "2023-08-08T07:58:21.388Z"
   },
   {
    "duration": 10,
    "start_time": "2023-08-08T07:58:21.405Z"
   },
   {
    "duration": 452,
    "start_time": "2023-08-08T07:58:21.417Z"
   },
   {
    "duration": 5,
    "start_time": "2023-08-08T07:58:21.870Z"
   },
   {
    "duration": 2756,
    "start_time": "2023-08-08T07:58:31.815Z"
   },
   {
    "duration": 7,
    "start_time": "2023-08-08T07:58:57.893Z"
   },
   {
    "duration": 2214,
    "start_time": "2023-08-08T07:59:08.816Z"
   },
   {
    "duration": 2894,
    "start_time": "2023-08-08T07:59:11.032Z"
   },
   {
    "duration": 161,
    "start_time": "2023-08-08T07:59:13.928Z"
   },
   {
    "duration": 2,
    "start_time": "2023-08-08T07:59:14.091Z"
   },
   {
    "duration": 28,
    "start_time": "2023-08-08T07:59:14.095Z"
   },
   {
    "duration": 12,
    "start_time": "2023-08-08T07:59:14.124Z"
   },
   {
    "duration": 12,
    "start_time": "2023-08-08T07:59:14.137Z"
   },
   {
    "duration": 16,
    "start_time": "2023-08-08T07:59:14.150Z"
   },
   {
    "duration": 10,
    "start_time": "2023-08-08T07:59:14.167Z"
   },
   {
    "duration": 4,
    "start_time": "2023-08-08T07:59:14.178Z"
   },
   {
    "duration": 46,
    "start_time": "2023-08-08T07:59:14.183Z"
   },
   {
    "duration": 10,
    "start_time": "2023-08-08T07:59:14.230Z"
   },
   {
    "duration": 5,
    "start_time": "2023-08-08T07:59:14.241Z"
   },
   {
    "duration": 3,
    "start_time": "2023-08-08T07:59:14.248Z"
   },
   {
    "duration": 1470,
    "start_time": "2023-08-08T07:59:14.253Z"
   },
   {
    "duration": 48,
    "start_time": "2023-08-08T07:59:15.724Z"
   },
   {
    "duration": 35,
    "start_time": "2023-08-08T07:59:15.774Z"
   },
   {
    "duration": 473,
    "start_time": "2023-08-08T07:59:15.810Z"
   },
   {
    "duration": 273,
    "start_time": "2023-08-08T07:59:16.285Z"
   },
   {
    "duration": 278,
    "start_time": "2023-08-08T07:59:16.560Z"
   },
   {
    "duration": 2201,
    "start_time": "2023-08-08T07:59:16.839Z"
   },
   {
    "duration": 5,
    "start_time": "2023-08-08T07:59:19.041Z"
   },
   {
    "duration": 915,
    "start_time": "2023-08-08T07:59:19.047Z"
   },
   {
    "duration": 1816,
    "start_time": "2023-08-08T07:59:19.963Z"
   },
   {
    "duration": 552,
    "start_time": "2023-08-08T07:59:21.781Z"
   },
   {
    "duration": 5,
    "start_time": "2023-08-08T07:59:22.335Z"
   },
   {
    "duration": 28,
    "start_time": "2023-08-08T07:59:22.342Z"
   },
   {
    "duration": 28,
    "start_time": "2023-08-08T07:59:22.372Z"
   },
   {
    "duration": 33,
    "start_time": "2023-08-08T07:59:22.402Z"
   },
   {
    "duration": 739,
    "start_time": "2023-08-08T07:59:22.436Z"
   },
   {
    "duration": 5,
    "start_time": "2023-08-08T07:59:23.177Z"
   },
   {
    "duration": 5,
    "start_time": "2023-08-08T07:59:23.200Z"
   },
   {
    "duration": 57,
    "start_time": "2023-08-08T07:59:23.207Z"
   },
   {
    "duration": 79,
    "start_time": "2023-08-08T07:59:23.266Z"
   },
   {
    "duration": 31,
    "start_time": "2023-08-08T07:59:23.347Z"
   },
   {
    "duration": 500,
    "start_time": "2023-08-08T07:59:23.379Z"
   },
   {
    "duration": 23,
    "start_time": "2023-08-08T07:59:23.880Z"
   },
   {
    "duration": 7,
    "start_time": "2023-08-08T07:59:23.905Z"
   },
   {
    "duration": 23,
    "start_time": "2023-08-08T07:59:23.914Z"
   },
   {
    "duration": 569,
    "start_time": "2023-08-08T07:59:23.938Z"
   },
   {
    "duration": 6,
    "start_time": "2023-08-08T07:59:24.510Z"
   },
   {
    "duration": 20,
    "start_time": "2023-08-08T07:59:24.520Z"
   },
   {
    "duration": 33,
    "start_time": "2023-08-08T07:59:24.542Z"
   },
   {
    "duration": 498,
    "start_time": "2023-08-08T07:59:24.577Z"
   },
   {
    "duration": 6,
    "start_time": "2023-08-08T07:59:25.076Z"
   },
   {
    "duration": 52,
    "start_time": "2023-08-08T11:43:30.445Z"
   },
   {
    "duration": 3505,
    "start_time": "2023-08-08T11:43:36.533Z"
   },
   {
    "duration": 2095,
    "start_time": "2023-08-08T11:43:40.041Z"
   },
   {
    "duration": 277,
    "start_time": "2023-08-08T11:43:42.138Z"
   },
   {
    "duration": 3,
    "start_time": "2023-08-08T11:43:42.418Z"
   },
   {
    "duration": 39,
    "start_time": "2023-08-08T11:43:42.423Z"
   },
   {
    "duration": 24,
    "start_time": "2023-08-08T11:43:42.465Z"
   },
   {
    "duration": 36,
    "start_time": "2023-08-08T11:43:42.491Z"
   },
   {
    "duration": 16,
    "start_time": "2023-08-08T11:43:42.530Z"
   },
   {
    "duration": 16,
    "start_time": "2023-08-08T11:43:42.548Z"
   },
   {
    "duration": 11,
    "start_time": "2023-08-08T11:43:42.567Z"
   },
   {
    "duration": 61,
    "start_time": "2023-08-08T11:43:42.580Z"
   },
   {
    "duration": 21,
    "start_time": "2023-08-08T11:43:42.643Z"
   },
   {
    "duration": 10,
    "start_time": "2023-08-08T11:43:42.666Z"
   },
   {
    "duration": 15,
    "start_time": "2023-08-08T11:43:42.678Z"
   },
   {
    "duration": 1781,
    "start_time": "2023-08-08T11:43:42.694Z"
   },
   {
    "duration": 58,
    "start_time": "2023-08-08T11:43:44.477Z"
   },
   {
    "duration": 39,
    "start_time": "2023-08-08T11:43:44.537Z"
   },
   {
    "duration": 476,
    "start_time": "2023-08-08T11:43:44.577Z"
   },
   {
    "duration": 313,
    "start_time": "2023-08-08T11:43:45.055Z"
   },
   {
    "duration": 420,
    "start_time": "2023-08-08T11:43:45.369Z"
   },
   {
    "duration": 2401,
    "start_time": "2023-08-08T11:43:45.791Z"
   },
   {
    "duration": 6,
    "start_time": "2023-08-08T11:43:48.193Z"
   },
   {
    "duration": 1108,
    "start_time": "2023-08-08T11:43:48.200Z"
   },
   {
    "duration": 1832,
    "start_time": "2023-08-08T11:43:49.309Z"
   },
   {
    "duration": 587,
    "start_time": "2023-08-08T11:43:51.143Z"
   },
   {
    "duration": 6,
    "start_time": "2023-08-08T11:43:51.732Z"
   },
   {
    "duration": 15,
    "start_time": "2023-08-08T11:43:51.739Z"
   },
   {
    "duration": 16,
    "start_time": "2023-08-08T11:43:51.759Z"
   },
   {
    "duration": 27,
    "start_time": "2023-08-08T11:43:51.776Z"
   },
   {
    "duration": 652,
    "start_time": "2023-08-08T11:43:51.804Z"
   },
   {
    "duration": 5,
    "start_time": "2023-08-08T11:43:52.457Z"
   },
   {
    "duration": 25,
    "start_time": "2023-08-08T11:43:52.464Z"
   },
   {
    "duration": 32,
    "start_time": "2023-08-08T11:43:52.491Z"
   },
   {
    "duration": 54,
    "start_time": "2023-08-08T11:43:52.525Z"
   },
   {
    "duration": 49,
    "start_time": "2023-08-08T11:43:52.582Z"
   },
   {
    "duration": 703,
    "start_time": "2023-08-08T11:43:52.633Z"
   },
   {
    "duration": 17,
    "start_time": "2023-08-08T11:43:53.339Z"
   },
   {
    "duration": 184,
    "start_time": "2023-08-08T11:43:53.358Z"
   },
   {
    "duration": 23,
    "start_time": "2023-08-08T11:43:53.544Z"
   },
   {
    "duration": 627,
    "start_time": "2023-08-08T11:43:53.569Z"
   },
   {
    "duration": 7,
    "start_time": "2023-08-08T11:43:54.198Z"
   },
   {
    "duration": 26,
    "start_time": "2023-08-08T11:43:54.206Z"
   },
   {
    "duration": 34,
    "start_time": "2023-08-08T11:43:54.234Z"
   },
   {
    "duration": 602,
    "start_time": "2023-08-08T11:43:54.270Z"
   },
   {
    "duration": 5,
    "start_time": "2023-08-08T11:43:54.874Z"
   },
   {
    "duration": 23647,
    "start_time": "2023-08-08T11:43:54.881Z"
   },
   {
    "duration": 10,
    "start_time": "2023-08-08T11:44:18.530Z"
   },
   {
    "duration": 1926,
    "start_time": "2023-08-08T11:44:18.542Z"
   },
   {
    "duration": 12,
    "start_time": "2023-08-08T11:44:20.470Z"
   },
   {
    "duration": 198,
    "start_time": "2023-08-08T11:44:20.483Z"
   },
   {
    "duration": 13,
    "start_time": "2023-08-08T11:44:20.682Z"
   },
   {
    "duration": 28,
    "start_time": "2023-08-08T11:44:20.697Z"
   },
   {
    "duration": 34,
    "start_time": "2023-08-08T11:44:20.726Z"
   },
   {
    "duration": 14,
    "start_time": "2023-08-08T11:46:11.838Z"
   },
   {
    "duration": 14,
    "start_time": "2023-08-08T11:46:53.853Z"
   },
   {
    "duration": 2124,
    "start_time": "2023-08-08T11:50:06.210Z"
   },
   {
    "duration": 2324,
    "start_time": "2023-08-08T11:53:28.414Z"
   },
   {
    "duration": 1578,
    "start_time": "2023-08-08T11:53:30.741Z"
   },
   {
    "duration": 146,
    "start_time": "2023-08-08T11:53:32.323Z"
   },
   {
    "duration": 3,
    "start_time": "2023-08-08T11:53:32.472Z"
   },
   {
    "duration": 45,
    "start_time": "2023-08-08T11:53:32.477Z"
   },
   {
    "duration": 18,
    "start_time": "2023-08-08T11:53:32.524Z"
   },
   {
    "duration": 21,
    "start_time": "2023-08-08T11:53:32.553Z"
   },
   {
    "duration": 10,
    "start_time": "2023-08-08T11:53:32.576Z"
   },
   {
    "duration": 20,
    "start_time": "2023-08-08T11:53:32.590Z"
   },
   {
    "duration": 8,
    "start_time": "2023-08-08T11:53:32.612Z"
   },
   {
    "duration": 76,
    "start_time": "2023-08-08T11:53:32.622Z"
   },
   {
    "duration": 41,
    "start_time": "2023-08-08T11:53:32.700Z"
   },
   {
    "duration": 8,
    "start_time": "2023-08-08T11:53:32.743Z"
   },
   {
    "duration": 20,
    "start_time": "2023-08-08T11:53:32.753Z"
   },
   {
    "duration": 1722,
    "start_time": "2023-08-08T11:53:32.774Z"
   },
   {
    "duration": 69,
    "start_time": "2023-08-08T11:53:34.498Z"
   },
   {
    "duration": 27,
    "start_time": "2023-08-08T11:53:34.569Z"
   },
   {
    "duration": 488,
    "start_time": "2023-08-08T11:53:34.597Z"
   },
   {
    "duration": 339,
    "start_time": "2023-08-08T11:53:35.086Z"
   },
   {
    "duration": 354,
    "start_time": "2023-08-08T11:53:35.427Z"
   },
   {
    "duration": 2399,
    "start_time": "2023-08-08T11:53:35.782Z"
   },
   {
    "duration": 7,
    "start_time": "2023-08-08T11:53:38.183Z"
   },
   {
    "duration": 1071,
    "start_time": "2023-08-08T11:53:38.192Z"
   },
   {
    "duration": 13,
    "start_time": "2023-08-08T11:53:39.265Z"
   },
   {
    "duration": 1899,
    "start_time": "2023-08-08T11:53:39.280Z"
   },
   {
    "duration": 585,
    "start_time": "2023-08-08T11:53:41.181Z"
   },
   {
    "duration": 5,
    "start_time": "2023-08-08T11:53:41.769Z"
   },
   {
    "duration": 10,
    "start_time": "2023-08-08T11:53:41.776Z"
   },
   {
    "duration": 6,
    "start_time": "2023-08-08T11:53:41.787Z"
   },
   {
    "duration": 18,
    "start_time": "2023-08-08T11:53:41.794Z"
   },
   {
    "duration": 705,
    "start_time": "2023-08-08T11:53:41.814Z"
   },
   {
    "duration": 5,
    "start_time": "2023-08-08T11:53:42.522Z"
   },
   {
    "duration": 25,
    "start_time": "2023-08-08T11:53:42.529Z"
   },
   {
    "duration": 7,
    "start_time": "2023-08-08T11:53:42.556Z"
   },
   {
    "duration": 26,
    "start_time": "2023-08-08T11:53:42.565Z"
   },
   {
    "duration": 30,
    "start_time": "2023-08-08T11:53:42.594Z"
   },
   {
    "duration": 703,
    "start_time": "2023-08-08T11:53:42.626Z"
   },
   {
    "duration": 6,
    "start_time": "2023-08-08T11:53:43.331Z"
   },
   {
    "duration": 6,
    "start_time": "2023-08-08T11:53:43.353Z"
   },
   {
    "duration": 8,
    "start_time": "2023-08-08T11:53:43.361Z"
   },
   {
    "duration": 694,
    "start_time": "2023-08-08T11:53:43.371Z"
   },
   {
    "duration": 7,
    "start_time": "2023-08-08T11:53:44.067Z"
   },
   {
    "duration": 17,
    "start_time": "2023-08-08T11:53:44.076Z"
   },
   {
    "duration": 32,
    "start_time": "2023-08-08T11:53:44.095Z"
   },
   {
    "duration": 608,
    "start_time": "2023-08-08T11:53:44.128Z"
   },
   {
    "duration": 16,
    "start_time": "2023-08-08T11:53:44.738Z"
   },
   {
    "duration": 23759,
    "start_time": "2023-08-08T11:53:44.756Z"
   },
   {
    "duration": 11,
    "start_time": "2023-08-08T11:54:08.517Z"
   },
   {
    "duration": 1740,
    "start_time": "2023-08-08T11:54:08.529Z"
   },
   {
    "duration": 13,
    "start_time": "2023-08-08T11:54:10.270Z"
   },
   {
    "duration": 69,
    "start_time": "2023-08-08T11:54:10.285Z"
   },
   {
    "duration": 14,
    "start_time": "2023-08-08T11:54:10.356Z"
   },
   {
    "duration": 15,
    "start_time": "2023-08-08T11:54:10.371Z"
   },
   {
    "duration": 16,
    "start_time": "2023-08-08T11:54:10.387Z"
   },
   {
    "duration": 50,
    "start_time": "2023-08-08T12:05:03.032Z"
   },
   {
    "duration": 23,
    "start_time": "2023-08-08T12:06:47.839Z"
   },
   {
    "duration": 44,
    "start_time": "2023-08-08T12:07:48.990Z"
   },
   {
    "duration": 60,
    "start_time": "2023-08-08T12:10:29.857Z"
   },
   {
    "duration": 42,
    "start_time": "2023-08-08T12:10:55.393Z"
   },
   {
    "duration": 52,
    "start_time": "2023-08-08T12:13:04.269Z"
   },
   {
    "duration": 20,
    "start_time": "2023-08-08T12:13:58.575Z"
   },
   {
    "duration": 3436,
    "start_time": "2023-08-08T12:15:50.631Z"
   },
   {
    "duration": 2158,
    "start_time": "2023-08-08T12:15:54.074Z"
   },
   {
    "duration": 109,
    "start_time": "2023-08-08T12:15:56.233Z"
   },
   {
    "duration": 3,
    "start_time": "2023-08-08T12:15:56.344Z"
   },
   {
    "duration": 64,
    "start_time": "2023-08-08T12:15:56.348Z"
   },
   {
    "duration": 16,
    "start_time": "2023-08-08T12:15:56.414Z"
   },
   {
    "duration": 16,
    "start_time": "2023-08-08T12:15:56.432Z"
   },
   {
    "duration": 35,
    "start_time": "2023-08-08T12:15:56.450Z"
   },
   {
    "duration": 26,
    "start_time": "2023-08-08T12:15:56.488Z"
   },
   {
    "duration": 8,
    "start_time": "2023-08-08T12:15:56.519Z"
   },
   {
    "duration": 54,
    "start_time": "2023-08-08T12:15:56.529Z"
   },
   {
    "duration": 22,
    "start_time": "2023-08-08T12:15:56.585Z"
   },
   {
    "duration": 21,
    "start_time": "2023-08-08T12:15:56.609Z"
   },
   {
    "duration": 2199,
    "start_time": "2023-08-08T12:15:56.632Z"
   },
   {
    "duration": 87,
    "start_time": "2023-08-08T12:15:58.832Z"
   },
   {
    "duration": 27,
    "start_time": "2023-08-08T12:15:58.921Z"
   },
   {
    "duration": 565,
    "start_time": "2023-08-08T12:15:58.953Z"
   },
   {
    "duration": 417,
    "start_time": "2023-08-08T12:15:59.520Z"
   },
   {
    "duration": 408,
    "start_time": "2023-08-08T12:15:59.939Z"
   },
   {
    "duration": 2992,
    "start_time": "2023-08-08T12:16:00.349Z"
   },
   {
    "duration": 17,
    "start_time": "2023-08-08T12:16:03.343Z"
   },
   {
    "duration": 1301,
    "start_time": "2023-08-08T12:16:03.364Z"
   },
   {
    "duration": 2210,
    "start_time": "2023-08-08T12:16:04.668Z"
   },
   {
    "duration": 701,
    "start_time": "2023-08-08T12:16:06.886Z"
   },
   {
    "duration": 5,
    "start_time": "2023-08-08T12:16:07.591Z"
   },
   {
    "duration": 7,
    "start_time": "2023-08-08T12:16:07.598Z"
   },
   {
    "duration": 9,
    "start_time": "2023-08-08T12:16:07.607Z"
   },
   {
    "duration": 25,
    "start_time": "2023-08-08T12:16:07.619Z"
   },
   {
    "duration": 739,
    "start_time": "2023-08-08T12:16:07.646Z"
   },
   {
    "duration": 5,
    "start_time": "2023-08-08T12:16:08.389Z"
   },
   {
    "duration": 22,
    "start_time": "2023-08-08T12:16:08.396Z"
   },
   {
    "duration": 18,
    "start_time": "2023-08-08T12:16:08.420Z"
   },
   {
    "duration": 42,
    "start_time": "2023-08-08T12:16:08.440Z"
   },
   {
    "duration": 20,
    "start_time": "2023-08-08T12:16:08.484Z"
   },
   {
    "duration": 764,
    "start_time": "2023-08-08T12:16:08.506Z"
   },
   {
    "duration": 10,
    "start_time": "2023-08-08T12:16:09.273Z"
   },
   {
    "duration": 14,
    "start_time": "2023-08-08T12:16:09.286Z"
   },
   {
    "duration": 16,
    "start_time": "2023-08-08T12:16:09.302Z"
   },
   {
    "duration": 800,
    "start_time": "2023-08-08T12:16:09.319Z"
   },
   {
    "duration": 5,
    "start_time": "2023-08-08T12:16:10.121Z"
   },
   {
    "duration": 11,
    "start_time": "2023-08-08T12:16:10.128Z"
   },
   {
    "duration": 24,
    "start_time": "2023-08-08T12:16:10.141Z"
   },
   {
    "duration": 623,
    "start_time": "2023-08-08T12:16:10.167Z"
   },
   {
    "duration": 7,
    "start_time": "2023-08-08T12:16:10.792Z"
   },
   {
    "duration": 18361,
    "start_time": "2023-08-08T12:16:10.802Z"
   },
   {
    "duration": 14,
    "start_time": "2023-08-08T12:16:29.167Z"
   },
   {
    "duration": 1492,
    "start_time": "2023-08-08T12:16:29.183Z"
   },
   {
    "duration": 101,
    "start_time": "2023-08-08T12:16:30.688Z"
   },
   {
    "duration": 291,
    "start_time": "2023-08-08T12:16:30.795Z"
   },
   {
    "duration": 48,
    "start_time": "2023-08-08T12:16:31.088Z"
   },
   {
    "duration": 75,
    "start_time": "2023-08-08T12:16:31.138Z"
   },
   {
    "duration": 97,
    "start_time": "2023-08-08T12:16:31.215Z"
   },
   {
    "duration": 6,
    "start_time": "2023-08-08T12:19:05.576Z"
   },
   {
    "duration": 3,
    "start_time": "2023-08-08T12:19:29.095Z"
   },
   {
    "duration": 4,
    "start_time": "2023-08-08T12:20:08.310Z"
   },
   {
    "duration": 5,
    "start_time": "2023-08-08T12:20:17.210Z"
   },
   {
    "duration": 6,
    "start_time": "2023-08-08T12:20:24.356Z"
   },
   {
    "duration": 7,
    "start_time": "2023-08-08T12:20:52.249Z"
   },
   {
    "duration": 6,
    "start_time": "2023-08-08T12:20:55.995Z"
   },
   {
    "duration": 8,
    "start_time": "2023-08-08T12:21:02.427Z"
   },
   {
    "duration": 6,
    "start_time": "2023-08-08T12:21:31.577Z"
   },
   {
    "duration": 7,
    "start_time": "2023-08-08T12:21:43.831Z"
   },
   {
    "duration": 5,
    "start_time": "2023-08-08T12:24:28.684Z"
   },
   {
    "duration": 28,
    "start_time": "2023-08-08T12:24:34.784Z"
   },
   {
    "duration": 30,
    "start_time": "2023-08-08T12:24:46.217Z"
   },
   {
    "duration": 38,
    "start_time": "2023-08-08T12:25:19.351Z"
   },
   {
    "duration": 6,
    "start_time": "2023-08-08T12:25:32.708Z"
   },
   {
    "duration": 6,
    "start_time": "2023-08-08T12:25:51.490Z"
   },
   {
    "duration": 23,
    "start_time": "2023-08-08T12:26:29.512Z"
   },
   {
    "duration": 7,
    "start_time": "2023-08-08T12:32:12.213Z"
   },
   {
    "duration": 8,
    "start_time": "2023-08-08T12:32:31.444Z"
   },
   {
    "duration": 10,
    "start_time": "2023-08-08T12:32:48.511Z"
   },
   {
    "duration": 12,
    "start_time": "2023-08-08T12:36:36.097Z"
   },
   {
    "duration": 2992,
    "start_time": "2023-08-08T12:36:46.318Z"
   },
   {
    "duration": 2113,
    "start_time": "2023-08-08T12:36:49.313Z"
   },
   {
    "duration": 170,
    "start_time": "2023-08-08T12:36:51.428Z"
   },
   {
    "duration": 3,
    "start_time": "2023-08-08T12:36:51.601Z"
   },
   {
    "duration": 115,
    "start_time": "2023-08-08T12:36:51.605Z"
   },
   {
    "duration": 21,
    "start_time": "2023-08-08T12:36:51.722Z"
   },
   {
    "duration": 60,
    "start_time": "2023-08-08T12:36:51.745Z"
   },
   {
    "duration": 28,
    "start_time": "2023-08-08T12:36:51.806Z"
   },
   {
    "duration": 99,
    "start_time": "2023-08-08T12:36:51.836Z"
   },
   {
    "duration": 67,
    "start_time": "2023-08-08T12:36:51.939Z"
   },
   {
    "duration": 81,
    "start_time": "2023-08-08T12:36:52.008Z"
   },
   {
    "duration": 72,
    "start_time": "2023-08-08T12:36:52.090Z"
   },
   {
    "duration": 47,
    "start_time": "2023-08-08T12:36:52.164Z"
   },
   {
    "duration": 28,
    "start_time": "2023-08-08T12:36:52.213Z"
   },
   {
    "duration": 45,
    "start_time": "2023-08-08T12:36:52.243Z"
   },
   {
    "duration": 19,
    "start_time": "2023-08-08T12:36:52.290Z"
   },
   {
    "duration": 2174,
    "start_time": "2023-08-08T12:36:52.310Z"
   },
   {
    "duration": 80,
    "start_time": "2023-08-08T12:36:54.486Z"
   },
   {
    "duration": 39,
    "start_time": "2023-08-08T12:36:54.569Z"
   },
   {
    "duration": 626,
    "start_time": "2023-08-08T12:36:54.610Z"
   },
   {
    "duration": 430,
    "start_time": "2023-08-08T12:36:55.238Z"
   },
   {
    "duration": 420,
    "start_time": "2023-08-08T12:36:55.686Z"
   },
   {
    "duration": 2827,
    "start_time": "2023-08-08T12:36:56.108Z"
   },
   {
    "duration": 6,
    "start_time": "2023-08-08T12:36:58.936Z"
   },
   {
    "duration": 1224,
    "start_time": "2023-08-08T12:36:58.954Z"
   },
   {
    "duration": 2169,
    "start_time": "2023-08-08T12:37:00.180Z"
   },
   {
    "duration": 750,
    "start_time": "2023-08-08T12:37:02.354Z"
   },
   {
    "duration": 6,
    "start_time": "2023-08-08T12:37:03.108Z"
   },
   {
    "duration": 17,
    "start_time": "2023-08-08T12:37:03.116Z"
   },
   {
    "duration": 6,
    "start_time": "2023-08-08T12:37:03.135Z"
   },
   {
    "duration": 11,
    "start_time": "2023-08-08T12:37:03.142Z"
   },
   {
    "duration": 750,
    "start_time": "2023-08-08T12:37:03.164Z"
   },
   {
    "duration": 5,
    "start_time": "2023-08-08T12:37:03.917Z"
   },
   {
    "duration": 8,
    "start_time": "2023-08-08T12:37:03.924Z"
   },
   {
    "duration": 25,
    "start_time": "2023-08-08T12:37:03.933Z"
   },
   {
    "duration": 39,
    "start_time": "2023-08-08T12:37:03.961Z"
   },
   {
    "duration": 12,
    "start_time": "2023-08-08T12:37:04.002Z"
   },
   {
    "duration": 758,
    "start_time": "2023-08-08T12:37:04.016Z"
   },
   {
    "duration": 16,
    "start_time": "2023-08-08T12:37:04.776Z"
   },
   {
    "duration": 14,
    "start_time": "2023-08-08T12:37:04.796Z"
   },
   {
    "duration": 11,
    "start_time": "2023-08-08T12:37:04.812Z"
   },
   {
    "duration": 714,
    "start_time": "2023-08-08T12:37:04.825Z"
   },
   {
    "duration": 31,
    "start_time": "2023-08-08T12:37:05.541Z"
   },
   {
    "duration": 45,
    "start_time": "2023-08-08T12:37:05.574Z"
   },
   {
    "duration": 28,
    "start_time": "2023-08-08T12:37:05.621Z"
   },
   {
    "duration": 633,
    "start_time": "2023-08-08T12:37:05.651Z"
   },
   {
    "duration": 15,
    "start_time": "2023-08-08T12:37:06.287Z"
   },
   {
    "duration": 18144,
    "start_time": "2023-08-08T12:37:06.304Z"
   },
   {
    "duration": 23,
    "start_time": "2023-08-08T12:37:24.450Z"
   },
   {
    "duration": 1512,
    "start_time": "2023-08-08T12:37:24.478Z"
   },
   {
    "duration": 14,
    "start_time": "2023-08-08T12:37:25.992Z"
   },
   {
    "duration": 28,
    "start_time": "2023-08-08T12:37:26.008Z"
   },
   {
    "duration": 40,
    "start_time": "2023-08-08T12:37:26.039Z"
   },
   {
    "duration": 22,
    "start_time": "2023-08-08T12:37:26.084Z"
   },
   {
    "duration": 26,
    "start_time": "2023-08-08T12:37:26.109Z"
   },
   {
    "duration": 134,
    "start_time": "2023-08-08T12:46:05.767Z"
   },
   {
    "duration": 8,
    "start_time": "2023-08-08T12:47:47.204Z"
   },
   {
    "duration": 8,
    "start_time": "2023-08-08T12:47:53.252Z"
   },
   {
    "duration": 6,
    "start_time": "2023-08-08T12:48:08.943Z"
   },
   {
    "duration": 8,
    "start_time": "2023-08-08T12:48:13.905Z"
   },
   {
    "duration": 209,
    "start_time": "2023-08-08T12:48:41.797Z"
   },
   {
    "duration": 6,
    "start_time": "2023-08-08T12:48:45.582Z"
   },
   {
    "duration": 206,
    "start_time": "2023-08-08T12:48:49.802Z"
   },
   {
    "duration": 5,
    "start_time": "2023-08-08T12:49:27.535Z"
   },
   {
    "duration": 200,
    "start_time": "2023-08-08T12:49:41.907Z"
   },
   {
    "duration": 97,
    "start_time": "2023-08-08T12:49:51.305Z"
   },
   {
    "duration": 1503,
    "start_time": "2023-08-08T12:54:19.899Z"
   },
   {
    "duration": 401,
    "start_time": "2023-08-08T12:56:32.016Z"
   },
   {
    "duration": 40,
    "start_time": "2023-08-08T12:57:55.872Z"
   },
   {
    "duration": 424,
    "start_time": "2023-08-08T13:06:06.385Z"
   },
   {
    "duration": 408,
    "start_time": "2023-08-08T13:06:14.971Z"
   },
   {
    "duration": 501,
    "start_time": "2023-08-08T13:06:18.680Z"
   },
   {
    "duration": 296,
    "start_time": "2023-08-08T13:06:23.433Z"
   },
   {
    "duration": 781,
    "start_time": "2023-08-08T13:06:27.968Z"
   },
   {
    "duration": 977,
    "start_time": "2023-08-08T13:06:35.124Z"
   },
   {
    "duration": 931,
    "start_time": "2023-08-08T13:06:42.185Z"
   },
   {
    "duration": 822,
    "start_time": "2023-08-08T13:06:46.050Z"
   },
   {
    "duration": 919,
    "start_time": "2023-08-08T13:06:50.501Z"
   },
   {
    "duration": 393,
    "start_time": "2023-08-08T13:06:58.148Z"
   },
   {
    "duration": 702,
    "start_time": "2023-08-08T13:07:01.726Z"
   },
   {
    "duration": 729,
    "start_time": "2023-08-08T13:07:09.091Z"
   },
   {
    "duration": 956,
    "start_time": "2023-08-08T13:07:45.830Z"
   },
   {
    "duration": 1055,
    "start_time": "2023-08-08T13:07:57.915Z"
   },
   {
    "duration": 1062,
    "start_time": "2023-08-08T13:08:23.378Z"
   },
   {
    "duration": 1046,
    "start_time": "2023-08-08T13:08:28.322Z"
   },
   {
    "duration": 956,
    "start_time": "2023-08-08T13:08:37.488Z"
   },
   {
    "duration": 1150,
    "start_time": "2023-08-08T13:09:09.173Z"
   },
   {
    "duration": 945,
    "start_time": "2023-08-08T13:09:19.834Z"
   },
   {
    "duration": 797,
    "start_time": "2023-08-08T13:11:01.928Z"
   },
   {
    "duration": 562,
    "start_time": "2023-08-08T13:11:08.883Z"
   },
   {
    "duration": 376,
    "start_time": "2023-08-08T13:11:38.124Z"
   },
   {
    "duration": 193,
    "start_time": "2023-08-08T13:14:05.388Z"
   },
   {
    "duration": 2283,
    "start_time": "2023-08-08T13:17:36.829Z"
   },
   {
    "duration": 68,
    "start_time": "2023-08-08T13:17:54.606Z"
   },
   {
    "duration": 24,
    "start_time": "2023-08-08T13:17:58.085Z"
   },
   {
    "duration": 34,
    "start_time": "2023-08-08T13:18:06.475Z"
   },
   {
    "duration": 79,
    "start_time": "2023-08-08T13:18:50.487Z"
   },
   {
    "duration": 2986,
    "start_time": "2023-08-08T13:19:52.852Z"
   },
   {
    "duration": 2223,
    "start_time": "2023-08-08T13:19:55.841Z"
   },
   {
    "duration": 215,
    "start_time": "2023-08-08T13:19:58.069Z"
   },
   {
    "duration": 3,
    "start_time": "2023-08-08T13:19:58.288Z"
   },
   {
    "duration": 43,
    "start_time": "2023-08-08T13:19:58.292Z"
   },
   {
    "duration": 13,
    "start_time": "2023-08-08T13:19:58.337Z"
   },
   {
    "duration": 60,
    "start_time": "2023-08-08T13:19:58.352Z"
   },
   {
    "duration": 7,
    "start_time": "2023-08-08T13:19:58.414Z"
   },
   {
    "duration": 23,
    "start_time": "2023-08-08T13:19:58.423Z"
   },
   {
    "duration": 10,
    "start_time": "2023-08-08T13:19:58.450Z"
   },
   {
    "duration": 58,
    "start_time": "2023-08-08T13:19:58.466Z"
   },
   {
    "duration": 15,
    "start_time": "2023-08-08T13:19:58.526Z"
   },
   {
    "duration": 42,
    "start_time": "2023-08-08T13:19:58.543Z"
   },
   {
    "duration": 34,
    "start_time": "2023-08-08T13:19:58.588Z"
   },
   {
    "duration": 29,
    "start_time": "2023-08-08T13:19:58.624Z"
   },
   {
    "duration": 43,
    "start_time": "2023-08-08T13:19:58.655Z"
   },
   {
    "duration": 2020,
    "start_time": "2023-08-08T13:19:58.699Z"
   },
   {
    "duration": 83,
    "start_time": "2023-08-08T13:20:00.720Z"
   },
   {
    "duration": 25,
    "start_time": "2023-08-08T13:20:00.805Z"
   },
   {
    "duration": 176,
    "start_time": "2023-08-08T13:20:00.832Z"
   },
   {
    "duration": 45,
    "start_time": "2023-08-08T13:20:01.010Z"
   },
   {
    "duration": 2366,
    "start_time": "2023-08-08T13:20:01.057Z"
   },
   {
    "duration": 2902,
    "start_time": "2023-08-08T13:23:07.774Z"
   },
   {
    "duration": 2242,
    "start_time": "2023-08-08T13:23:10.680Z"
   },
   {
    "duration": 77,
    "start_time": "2023-08-08T13:23:12.923Z"
   },
   {
    "duration": 3,
    "start_time": "2023-08-08T13:23:13.003Z"
   },
   {
    "duration": 66,
    "start_time": "2023-08-08T13:23:13.008Z"
   },
   {
    "duration": 30,
    "start_time": "2023-08-08T13:23:13.077Z"
   },
   {
    "duration": 42,
    "start_time": "2023-08-08T13:23:13.109Z"
   },
   {
    "duration": 31,
    "start_time": "2023-08-08T13:23:13.153Z"
   },
   {
    "duration": 26,
    "start_time": "2023-08-08T13:23:13.187Z"
   },
   {
    "duration": 29,
    "start_time": "2023-08-08T13:23:13.214Z"
   },
   {
    "duration": 88,
    "start_time": "2023-08-08T13:23:13.244Z"
   },
   {
    "duration": 14,
    "start_time": "2023-08-08T13:23:13.334Z"
   },
   {
    "duration": 46,
    "start_time": "2023-08-08T13:23:13.350Z"
   },
   {
    "duration": 46,
    "start_time": "2023-08-08T13:23:13.400Z"
   },
   {
    "duration": 62,
    "start_time": "2023-08-08T13:23:13.448Z"
   },
   {
    "duration": 79,
    "start_time": "2023-08-08T13:23:13.515Z"
   },
   {
    "duration": 2200,
    "start_time": "2023-08-08T13:23:13.596Z"
   },
   {
    "duration": 75,
    "start_time": "2023-08-08T13:23:15.797Z"
   },
   {
    "duration": 12,
    "start_time": "2023-08-08T13:23:15.874Z"
   },
   {
    "duration": 46,
    "start_time": "2023-08-08T13:23:15.890Z"
   },
   {
    "duration": 20,
    "start_time": "2023-08-08T13:23:15.937Z"
   },
   {
    "duration": 2243,
    "start_time": "2023-08-08T13:23:15.967Z"
   },
   {
    "duration": 2825,
    "start_time": "2023-08-08T13:24:21.977Z"
   },
   {
    "duration": 2212,
    "start_time": "2023-08-08T13:24:24.804Z"
   },
   {
    "duration": 76,
    "start_time": "2023-08-08T13:24:27.018Z"
   },
   {
    "duration": 3,
    "start_time": "2023-08-08T13:24:27.096Z"
   },
   {
    "duration": 31,
    "start_time": "2023-08-08T13:24:27.101Z"
   },
   {
    "duration": 34,
    "start_time": "2023-08-08T13:24:27.134Z"
   },
   {
    "duration": 31,
    "start_time": "2023-08-08T13:24:27.170Z"
   },
   {
    "duration": 12,
    "start_time": "2023-08-08T13:24:27.203Z"
   },
   {
    "duration": 30,
    "start_time": "2023-08-08T13:24:27.217Z"
   },
   {
    "duration": 37,
    "start_time": "2023-08-08T13:24:27.250Z"
   },
   {
    "duration": 54,
    "start_time": "2023-08-08T13:24:27.288Z"
   },
   {
    "duration": 23,
    "start_time": "2023-08-08T13:24:27.344Z"
   },
   {
    "duration": 23,
    "start_time": "2023-08-08T13:24:27.371Z"
   },
   {
    "duration": 37,
    "start_time": "2023-08-08T13:24:27.396Z"
   },
   {
    "duration": 36,
    "start_time": "2023-08-08T13:24:27.435Z"
   },
   {
    "duration": 25,
    "start_time": "2023-08-08T13:24:27.476Z"
   },
   {
    "duration": 2060,
    "start_time": "2023-08-08T13:24:27.503Z"
   },
   {
    "duration": 79,
    "start_time": "2023-08-08T13:24:29.566Z"
   },
   {
    "duration": 4,
    "start_time": "2023-08-08T13:24:29.646Z"
   },
   {
    "duration": 60,
    "start_time": "2023-08-08T13:24:29.651Z"
   },
   {
    "duration": 20,
    "start_time": "2023-08-08T13:24:29.714Z"
   },
   {
    "duration": 2213,
    "start_time": "2023-08-08T13:24:29.737Z"
   },
   {
    "duration": 6,
    "start_time": "2023-08-08T13:24:31.953Z"
   },
   {
    "duration": 35,
    "start_time": "2023-08-08T13:24:31.961Z"
   },
   {
    "duration": 2978,
    "start_time": "2023-08-08T13:24:31.998Z"
   },
   {
    "duration": 10,
    "start_time": "2023-08-08T13:24:34.980Z"
   },
   {
    "duration": 1255,
    "start_time": "2023-08-08T13:24:34.992Z"
   },
   {
    "duration": 2573,
    "start_time": "2023-08-08T13:24:36.253Z"
   },
   {
    "duration": 712,
    "start_time": "2023-08-08T13:24:38.828Z"
   },
   {
    "duration": 5,
    "start_time": "2023-08-08T13:24:39.542Z"
   },
   {
    "duration": 61,
    "start_time": "2023-08-08T13:24:39.549Z"
   },
   {
    "duration": 6,
    "start_time": "2023-08-08T13:24:39.613Z"
   },
   {
    "duration": 14,
    "start_time": "2023-08-08T13:24:39.621Z"
   },
   {
    "duration": 851,
    "start_time": "2023-08-08T13:24:39.637Z"
   },
   {
    "duration": 17,
    "start_time": "2023-08-08T13:24:40.491Z"
   },
   {
    "duration": 29,
    "start_time": "2023-08-08T13:24:40.510Z"
   },
   {
    "duration": 24,
    "start_time": "2023-08-08T13:24:40.541Z"
   },
   {
    "duration": 29,
    "start_time": "2023-08-08T13:24:40.569Z"
   },
   {
    "duration": 42,
    "start_time": "2023-08-08T13:24:40.600Z"
   },
   {
    "duration": 735,
    "start_time": "2023-08-08T13:24:40.644Z"
   },
   {
    "duration": 10,
    "start_time": "2023-08-08T13:24:41.380Z"
   },
   {
    "duration": 34,
    "start_time": "2023-08-08T13:24:41.392Z"
   },
   {
    "duration": 13,
    "start_time": "2023-08-08T13:24:41.427Z"
   },
   {
    "duration": 800,
    "start_time": "2023-08-08T13:24:41.442Z"
   },
   {
    "duration": 5,
    "start_time": "2023-08-08T13:24:42.244Z"
   },
   {
    "duration": 34,
    "start_time": "2023-08-08T13:24:42.258Z"
   },
   {
    "duration": 18,
    "start_time": "2023-08-08T13:24:42.294Z"
   },
   {
    "duration": 899,
    "start_time": "2023-08-08T13:24:42.314Z"
   },
   {
    "duration": 7,
    "start_time": "2023-08-08T13:24:43.216Z"
   },
   {
    "duration": 18188,
    "start_time": "2023-08-08T13:24:43.255Z"
   },
   {
    "duration": 23,
    "start_time": "2023-08-08T13:25:01.445Z"
   },
   {
    "duration": 1616,
    "start_time": "2023-08-08T13:25:01.472Z"
   },
   {
    "duration": 13,
    "start_time": "2023-08-08T13:25:03.090Z"
   },
   {
    "duration": 95,
    "start_time": "2023-08-08T13:25:03.105Z"
   },
   {
    "duration": 36,
    "start_time": "2023-08-08T13:25:03.202Z"
   },
   {
    "duration": 56,
    "start_time": "2023-08-08T13:25:03.240Z"
   },
   {
    "duration": 53,
    "start_time": "2023-08-08T13:25:03.298Z"
   },
   {
    "duration": 2090,
    "start_time": "2023-08-08T13:56:12.345Z"
   },
   {
    "duration": 1852,
    "start_time": "2023-08-08T13:56:20.312Z"
   },
   {
    "duration": 1881,
    "start_time": "2023-08-08T13:56:28.594Z"
   },
   {
    "duration": 3021,
    "start_time": "2023-08-08T14:15:24.537Z"
   },
   {
    "duration": 5,
    "start_time": "2023-08-08T14:15:38.841Z"
   },
   {
    "duration": 670,
    "start_time": "2023-08-08T14:15:50.785Z"
   },
   {
    "duration": 2391,
    "start_time": "2023-08-08T14:16:12.691Z"
   },
   {
    "duration": 1499,
    "start_time": "2023-08-08T14:16:15.085Z"
   },
   {
    "duration": 62,
    "start_time": "2023-08-08T14:16:16.585Z"
   },
   {
    "duration": 3,
    "start_time": "2023-08-08T14:16:16.649Z"
   },
   {
    "duration": 34,
    "start_time": "2023-08-08T14:16:16.654Z"
   },
   {
    "duration": 22,
    "start_time": "2023-08-08T14:16:16.690Z"
   },
   {
    "duration": 15,
    "start_time": "2023-08-08T14:16:16.714Z"
   },
   {
    "duration": 24,
    "start_time": "2023-08-08T14:16:16.731Z"
   },
   {
    "duration": 21,
    "start_time": "2023-08-08T14:16:16.757Z"
   },
   {
    "duration": 6,
    "start_time": "2023-08-08T14:16:16.781Z"
   },
   {
    "duration": 55,
    "start_time": "2023-08-08T14:16:16.789Z"
   },
   {
    "duration": 12,
    "start_time": "2023-08-08T14:16:16.845Z"
   },
   {
    "duration": 6,
    "start_time": "2023-08-08T14:16:16.859Z"
   },
   {
    "duration": 28,
    "start_time": "2023-08-08T14:16:16.867Z"
   },
   {
    "duration": 34,
    "start_time": "2023-08-08T14:16:16.897Z"
   },
   {
    "duration": 24,
    "start_time": "2023-08-08T14:16:16.933Z"
   },
   {
    "duration": 1729,
    "start_time": "2023-08-08T14:16:16.959Z"
   },
   {
    "duration": 70,
    "start_time": "2023-08-08T14:16:18.690Z"
   },
   {
    "duration": 4,
    "start_time": "2023-08-08T14:16:18.762Z"
   },
   {
    "duration": 30,
    "start_time": "2023-08-08T14:16:18.768Z"
   },
   {
    "duration": 5,
    "start_time": "2023-08-08T14:16:18.799Z"
   },
   {
    "duration": 1904,
    "start_time": "2023-08-08T14:16:18.806Z"
   },
   {
    "duration": 2,
    "start_time": "2023-08-08T14:16:20.711Z"
   },
   {
    "duration": 12,
    "start_time": "2023-08-08T14:16:20.715Z"
   },
   {
    "duration": 2319,
    "start_time": "2023-08-08T14:16:20.729Z"
   },
   {
    "duration": 547,
    "start_time": "2023-08-08T14:16:23.057Z"
   },
   {
    "duration": 0,
    "start_time": "2023-08-08T14:16:23.608Z"
   },
   {
    "duration": 0,
    "start_time": "2023-08-08T14:16:23.610Z"
   },
   {
    "duration": 0,
    "start_time": "2023-08-08T14:16:23.612Z"
   },
   {
    "duration": 0,
    "start_time": "2023-08-08T14:16:23.613Z"
   },
   {
    "duration": 0,
    "start_time": "2023-08-08T14:16:23.615Z"
   },
   {
    "duration": 0,
    "start_time": "2023-08-08T14:16:23.618Z"
   },
   {
    "duration": 0,
    "start_time": "2023-08-08T14:16:23.620Z"
   },
   {
    "duration": 0,
    "start_time": "2023-08-08T14:16:23.621Z"
   },
   {
    "duration": 0,
    "start_time": "2023-08-08T14:16:23.623Z"
   },
   {
    "duration": 0,
    "start_time": "2023-08-08T14:16:23.624Z"
   },
   {
    "duration": 0,
    "start_time": "2023-08-08T14:16:23.626Z"
   },
   {
    "duration": 0,
    "start_time": "2023-08-08T14:16:23.627Z"
   },
   {
    "duration": 0,
    "start_time": "2023-08-08T14:16:23.628Z"
   },
   {
    "duration": 0,
    "start_time": "2023-08-08T14:16:23.630Z"
   },
   {
    "duration": 0,
    "start_time": "2023-08-08T14:16:23.631Z"
   },
   {
    "duration": 0,
    "start_time": "2023-08-08T14:16:23.633Z"
   },
   {
    "duration": 0,
    "start_time": "2023-08-08T14:16:23.634Z"
   },
   {
    "duration": 0,
    "start_time": "2023-08-08T14:16:23.636Z"
   },
   {
    "duration": 0,
    "start_time": "2023-08-08T14:16:23.638Z"
   },
   {
    "duration": 0,
    "start_time": "2023-08-08T14:16:23.639Z"
   },
   {
    "duration": 0,
    "start_time": "2023-08-08T14:16:23.641Z"
   },
   {
    "duration": 0,
    "start_time": "2023-08-08T14:16:23.642Z"
   },
   {
    "duration": 0,
    "start_time": "2023-08-08T14:16:23.653Z"
   },
   {
    "duration": 0,
    "start_time": "2023-08-08T14:16:23.654Z"
   },
   {
    "duration": 0,
    "start_time": "2023-08-08T14:16:23.656Z"
   },
   {
    "duration": 0,
    "start_time": "2023-08-08T14:16:23.657Z"
   },
   {
    "duration": 0,
    "start_time": "2023-08-08T14:16:23.659Z"
   },
   {
    "duration": 0,
    "start_time": "2023-08-08T14:16:23.661Z"
   },
   {
    "duration": 0,
    "start_time": "2023-08-08T14:16:23.663Z"
   },
   {
    "duration": 0,
    "start_time": "2023-08-08T14:16:23.664Z"
   },
   {
    "duration": 0,
    "start_time": "2023-08-08T14:16:23.665Z"
   },
   {
    "duration": 0,
    "start_time": "2023-08-08T14:16:23.667Z"
   },
   {
    "duration": 14,
    "start_time": "2023-08-08T14:17:34.209Z"
   },
   {
    "duration": 2255,
    "start_time": "2023-08-08T14:38:27.058Z"
   },
   {
    "duration": 1776,
    "start_time": "2023-08-08T14:38:29.315Z"
   },
   {
    "duration": 60,
    "start_time": "2023-08-08T14:38:31.092Z"
   },
   {
    "duration": 3,
    "start_time": "2023-08-08T14:38:31.153Z"
   },
   {
    "duration": 61,
    "start_time": "2023-08-08T14:38:31.158Z"
   },
   {
    "duration": 42,
    "start_time": "2023-08-08T14:38:31.220Z"
   },
   {
    "duration": 59,
    "start_time": "2023-08-08T14:38:31.264Z"
   },
   {
    "duration": 43,
    "start_time": "2023-08-08T14:38:31.325Z"
   },
   {
    "duration": 58,
    "start_time": "2023-08-08T14:38:31.369Z"
   },
   {
    "duration": 96,
    "start_time": "2023-08-08T14:38:31.428Z"
   },
   {
    "duration": 82,
    "start_time": "2023-08-08T14:38:31.526Z"
   },
   {
    "duration": 80,
    "start_time": "2023-08-08T14:38:31.610Z"
   },
   {
    "duration": 24,
    "start_time": "2023-08-08T14:38:31.692Z"
   },
   {
    "duration": 55,
    "start_time": "2023-08-08T14:38:31.719Z"
   },
   {
    "duration": 58,
    "start_time": "2023-08-08T14:38:31.776Z"
   },
   {
    "duration": 31,
    "start_time": "2023-08-08T14:38:31.835Z"
   },
   {
    "duration": 1879,
    "start_time": "2023-08-08T14:38:31.867Z"
   },
   {
    "duration": 60,
    "start_time": "2023-08-08T14:38:33.748Z"
   },
   {
    "duration": 4,
    "start_time": "2023-08-08T14:38:33.810Z"
   },
   {
    "duration": 52,
    "start_time": "2023-08-08T14:38:33.816Z"
   },
   {
    "duration": 7,
    "start_time": "2023-08-08T14:38:33.870Z"
   },
   {
    "duration": 1890,
    "start_time": "2023-08-08T14:38:33.878Z"
   },
   {
    "duration": 3,
    "start_time": "2023-08-08T14:38:35.769Z"
   },
   {
    "duration": 15,
    "start_time": "2023-08-08T14:38:35.773Z"
   },
   {
    "duration": 2338,
    "start_time": "2023-08-08T14:38:35.790Z"
   },
   {
    "duration": 12,
    "start_time": "2023-08-08T14:38:38.129Z"
   },
   {
    "duration": 10,
    "start_time": "2023-08-08T14:38:38.153Z"
   },
   {
    "duration": 1062,
    "start_time": "2023-08-08T14:38:38.165Z"
   },
   {
    "duration": 2057,
    "start_time": "2023-08-08T14:38:39.229Z"
   },
   {
    "duration": 578,
    "start_time": "2023-08-08T14:38:41.287Z"
   },
   {
    "duration": 6,
    "start_time": "2023-08-08T14:38:41.867Z"
   },
   {
    "duration": 23,
    "start_time": "2023-08-08T14:38:41.874Z"
   },
   {
    "duration": 24,
    "start_time": "2023-08-08T14:38:41.899Z"
   },
   {
    "duration": 9,
    "start_time": "2023-08-08T14:38:41.925Z"
   },
   {
    "duration": 718,
    "start_time": "2023-08-08T14:38:41.936Z"
   },
   {
    "duration": 7,
    "start_time": "2023-08-08T14:38:42.656Z"
   },
   {
    "duration": 22,
    "start_time": "2023-08-08T14:38:42.665Z"
   },
   {
    "duration": 21,
    "start_time": "2023-08-08T14:38:42.689Z"
   },
   {
    "duration": 23,
    "start_time": "2023-08-08T14:38:42.712Z"
   },
   {
    "duration": 15,
    "start_time": "2023-08-08T14:38:42.737Z"
   },
   {
    "duration": 596,
    "start_time": "2023-08-08T14:38:42.758Z"
   },
   {
    "duration": 6,
    "start_time": "2023-08-08T14:38:43.356Z"
   },
   {
    "duration": 10,
    "start_time": "2023-08-08T14:38:43.363Z"
   },
   {
    "duration": 19,
    "start_time": "2023-08-08T14:38:43.375Z"
   },
   {
    "duration": 678,
    "start_time": "2023-08-08T14:38:43.395Z"
   },
   {
    "duration": 6,
    "start_time": "2023-08-08T14:38:44.075Z"
   },
   {
    "duration": 38,
    "start_time": "2023-08-08T14:38:44.083Z"
   },
   {
    "duration": 39,
    "start_time": "2023-08-08T14:38:44.123Z"
   },
   {
    "duration": 570,
    "start_time": "2023-08-08T14:38:44.164Z"
   },
   {
    "duration": 18,
    "start_time": "2023-08-08T14:38:44.736Z"
   },
   {
    "duration": 23507,
    "start_time": "2023-08-08T14:38:44.755Z"
   },
   {
    "duration": 10,
    "start_time": "2023-08-08T14:39:08.264Z"
   },
   {
    "duration": 1589,
    "start_time": "2023-08-08T14:39:08.275Z"
   },
   {
    "duration": 18,
    "start_time": "2023-08-08T14:39:09.866Z"
   },
   {
    "duration": 28,
    "start_time": "2023-08-08T14:39:09.886Z"
   },
   {
    "duration": 13,
    "start_time": "2023-08-08T14:39:09.916Z"
   },
   {
    "duration": 41,
    "start_time": "2023-08-08T14:39:09.930Z"
   },
   {
    "duration": 13,
    "start_time": "2023-08-08T14:39:09.973Z"
   },
   {
    "duration": 474,
    "start_time": "2023-08-08T14:44:22.311Z"
   },
   {
    "duration": 17,
    "start_time": "2023-08-08T14:44:31.797Z"
   },
   {
    "duration": 2850,
    "start_time": "2023-08-08T14:44:39.644Z"
   },
   {
    "duration": 1581,
    "start_time": "2023-08-08T14:44:42.497Z"
   },
   {
    "duration": 59,
    "start_time": "2023-08-08T14:44:44.080Z"
   },
   {
    "duration": 3,
    "start_time": "2023-08-08T14:44:44.141Z"
   },
   {
    "duration": 36,
    "start_time": "2023-08-08T14:44:44.146Z"
   },
   {
    "duration": 15,
    "start_time": "2023-08-08T14:44:44.184Z"
   },
   {
    "duration": 21,
    "start_time": "2023-08-08T14:44:44.201Z"
   },
   {
    "duration": 4,
    "start_time": "2023-08-08T14:44:44.224Z"
   },
   {
    "duration": 83,
    "start_time": "2023-08-08T14:44:44.230Z"
   },
   {
    "duration": 24,
    "start_time": "2023-08-08T14:44:44.316Z"
   },
   {
    "duration": 55,
    "start_time": "2023-08-08T14:44:44.341Z"
   },
   {
    "duration": 12,
    "start_time": "2023-08-08T14:44:44.398Z"
   },
   {
    "duration": 9,
    "start_time": "2023-08-08T14:44:44.412Z"
   },
   {
    "duration": 37,
    "start_time": "2023-08-08T14:44:44.423Z"
   },
   {
    "duration": 30,
    "start_time": "2023-08-08T14:44:44.461Z"
   },
   {
    "duration": 7,
    "start_time": "2023-08-08T14:44:44.493Z"
   },
   {
    "duration": 1810,
    "start_time": "2023-08-08T14:44:44.502Z"
   },
   {
    "duration": 71,
    "start_time": "2023-08-08T14:44:46.314Z"
   },
   {
    "duration": 4,
    "start_time": "2023-08-08T14:44:46.387Z"
   },
   {
    "duration": 34,
    "start_time": "2023-08-08T14:44:46.392Z"
   },
   {
    "duration": 5,
    "start_time": "2023-08-08T14:44:46.427Z"
   },
   {
    "duration": 1845,
    "start_time": "2023-08-08T14:44:46.434Z"
   },
   {
    "duration": 3,
    "start_time": "2023-08-08T14:44:48.281Z"
   },
   {
    "duration": 9,
    "start_time": "2023-08-08T14:44:48.285Z"
   },
   {
    "duration": 2433,
    "start_time": "2023-08-08T14:44:48.296Z"
   },
   {
    "duration": 14,
    "start_time": "2023-08-08T14:44:50.730Z"
   },
   {
    "duration": 24,
    "start_time": "2023-08-08T14:44:50.754Z"
   },
   {
    "duration": 1138,
    "start_time": "2023-08-08T14:44:50.782Z"
   },
   {
    "duration": 2135,
    "start_time": "2023-08-08T14:44:51.921Z"
   },
   {
    "duration": 619,
    "start_time": "2023-08-08T14:44:54.058Z"
   },
   {
    "duration": 5,
    "start_time": "2023-08-08T14:44:54.679Z"
   },
   {
    "duration": 29,
    "start_time": "2023-08-08T14:44:54.686Z"
   },
   {
    "duration": 29,
    "start_time": "2023-08-08T14:44:54.716Z"
   },
   {
    "duration": 41,
    "start_time": "2023-08-08T14:44:54.747Z"
   },
   {
    "duration": 736,
    "start_time": "2023-08-08T14:44:54.790Z"
   },
   {
    "duration": 6,
    "start_time": "2023-08-08T14:44:55.528Z"
   },
   {
    "duration": 64,
    "start_time": "2023-08-08T14:44:55.536Z"
   },
   {
    "duration": 27,
    "start_time": "2023-08-08T14:44:55.602Z"
   },
   {
    "duration": 46,
    "start_time": "2023-08-08T14:44:55.631Z"
   },
   {
    "duration": 17,
    "start_time": "2023-08-08T14:44:55.679Z"
   },
   {
    "duration": 637,
    "start_time": "2023-08-08T14:44:55.698Z"
   },
   {
    "duration": 5,
    "start_time": "2023-08-08T14:44:56.337Z"
   },
   {
    "duration": 44,
    "start_time": "2023-08-08T14:44:56.353Z"
   },
   {
    "duration": 27,
    "start_time": "2023-08-08T14:44:56.399Z"
   },
   {
    "duration": 654,
    "start_time": "2023-08-08T14:44:56.427Z"
   },
   {
    "duration": 5,
    "start_time": "2023-08-08T14:44:57.082Z"
   },
   {
    "duration": 8,
    "start_time": "2023-08-08T14:44:57.089Z"
   },
   {
    "duration": 7,
    "start_time": "2023-08-08T14:44:57.098Z"
   },
   {
    "duration": 579,
    "start_time": "2023-08-08T14:44:57.106Z"
   },
   {
    "duration": 6,
    "start_time": "2023-08-08T14:44:57.687Z"
   },
   {
    "duration": 23720,
    "start_time": "2023-08-08T14:44:57.694Z"
   },
   {
    "duration": 11,
    "start_time": "2023-08-08T14:45:21.416Z"
   },
   {
    "duration": 1648,
    "start_time": "2023-08-08T14:45:21.429Z"
   },
   {
    "duration": 75,
    "start_time": "2023-08-08T14:45:23.079Z"
   },
   {
    "duration": 21,
    "start_time": "2023-08-08T14:45:23.156Z"
   },
   {
    "duration": 13,
    "start_time": "2023-08-08T14:45:23.179Z"
   },
   {
    "duration": 14,
    "start_time": "2023-08-08T14:45:23.194Z"
   },
   {
    "duration": 11,
    "start_time": "2023-08-08T14:45:23.210Z"
   },
   {
    "duration": 486,
    "start_time": "2023-08-08T14:55:35.435Z"
   },
   {
    "duration": 2501,
    "start_time": "2023-08-08T14:56:27.640Z"
   },
   {
    "duration": 1606,
    "start_time": "2023-08-08T14:56:30.145Z"
   },
   {
    "duration": 68,
    "start_time": "2023-08-08T14:56:31.754Z"
   },
   {
    "duration": 4,
    "start_time": "2023-08-08T14:56:31.824Z"
   },
   {
    "duration": 78,
    "start_time": "2023-08-08T14:56:31.830Z"
   },
   {
    "duration": 42,
    "start_time": "2023-08-08T14:56:31.910Z"
   },
   {
    "duration": 27,
    "start_time": "2023-08-08T14:56:31.954Z"
   },
   {
    "duration": 58,
    "start_time": "2023-08-08T14:56:31.983Z"
   },
   {
    "duration": 30,
    "start_time": "2023-08-08T14:56:32.042Z"
   },
   {
    "duration": 31,
    "start_time": "2023-08-08T14:56:32.073Z"
   },
   {
    "duration": 81,
    "start_time": "2023-08-08T14:56:32.106Z"
   },
   {
    "duration": 11,
    "start_time": "2023-08-08T14:56:32.189Z"
   },
   {
    "duration": 5,
    "start_time": "2023-08-08T14:56:32.202Z"
   },
   {
    "duration": 29,
    "start_time": "2023-08-08T14:56:32.209Z"
   },
   {
    "duration": 37,
    "start_time": "2023-08-08T14:56:32.239Z"
   },
   {
    "duration": 11,
    "start_time": "2023-08-08T14:56:32.277Z"
   },
   {
    "duration": 1963,
    "start_time": "2023-08-08T14:56:32.290Z"
   },
   {
    "duration": 103,
    "start_time": "2023-08-08T14:56:34.255Z"
   },
   {
    "duration": 7,
    "start_time": "2023-08-08T14:56:34.360Z"
   },
   {
    "duration": 41,
    "start_time": "2023-08-08T14:56:34.369Z"
   },
   {
    "duration": 8,
    "start_time": "2023-08-08T14:56:34.412Z"
   },
   {
    "duration": 1957,
    "start_time": "2023-08-08T14:56:34.422Z"
   },
   {
    "duration": 3,
    "start_time": "2023-08-08T14:56:36.381Z"
   },
   {
    "duration": 21,
    "start_time": "2023-08-08T14:56:36.385Z"
   },
   {
    "duration": 2587,
    "start_time": "2023-08-08T14:56:36.407Z"
   },
   {
    "duration": 13,
    "start_time": "2023-08-08T14:56:38.996Z"
   },
   {
    "duration": 16,
    "start_time": "2023-08-08T14:56:39.011Z"
   },
   {
    "duration": 1226,
    "start_time": "2023-08-08T14:56:39.030Z"
   },
   {
    "duration": 2136,
    "start_time": "2023-08-08T14:56:40.258Z"
   },
   {
    "duration": 762,
    "start_time": "2023-08-08T14:56:42.397Z"
   },
   {
    "duration": 6,
    "start_time": "2023-08-08T14:56:43.161Z"
   },
   {
    "duration": 19,
    "start_time": "2023-08-08T14:56:43.168Z"
   },
   {
    "duration": 13,
    "start_time": "2023-08-08T14:56:43.190Z"
   },
   {
    "duration": 27,
    "start_time": "2023-08-08T14:56:43.206Z"
   },
   {
    "duration": 713,
    "start_time": "2023-08-08T14:56:43.235Z"
   },
   {
    "duration": 6,
    "start_time": "2023-08-08T14:56:43.954Z"
   },
   {
    "duration": 26,
    "start_time": "2023-08-08T14:56:43.962Z"
   },
   {
    "duration": 28,
    "start_time": "2023-08-08T14:56:43.991Z"
   },
   {
    "duration": 27,
    "start_time": "2023-08-08T14:56:44.021Z"
   },
   {
    "duration": 37,
    "start_time": "2023-08-08T14:56:44.050Z"
   },
   {
    "duration": 642,
    "start_time": "2023-08-08T14:56:44.093Z"
   },
   {
    "duration": 6,
    "start_time": "2023-08-08T14:56:44.737Z"
   },
   {
    "duration": 14,
    "start_time": "2023-08-08T14:56:44.755Z"
   },
   {
    "duration": 5,
    "start_time": "2023-08-08T14:56:44.771Z"
   },
   {
    "duration": 716,
    "start_time": "2023-08-08T14:56:44.778Z"
   },
   {
    "duration": 6,
    "start_time": "2023-08-08T14:56:45.496Z"
   },
   {
    "duration": 10,
    "start_time": "2023-08-08T14:56:45.503Z"
   },
   {
    "duration": 8,
    "start_time": "2023-08-08T14:56:45.514Z"
   },
   {
    "duration": 632,
    "start_time": "2023-08-08T14:56:45.524Z"
   },
   {
    "duration": 6,
    "start_time": "2023-08-08T14:56:46.158Z"
   },
   {
    "duration": 19760,
    "start_time": "2023-08-08T14:56:46.166Z"
   },
   {
    "duration": 11,
    "start_time": "2023-08-08T14:57:05.929Z"
   },
   {
    "duration": 1502,
    "start_time": "2023-08-08T14:57:05.955Z"
   },
   {
    "duration": 20,
    "start_time": "2023-08-08T14:57:07.460Z"
   },
   {
    "duration": 67,
    "start_time": "2023-08-08T14:57:07.483Z"
   },
   {
    "duration": 42,
    "start_time": "2023-08-08T14:57:07.553Z"
   },
   {
    "duration": 40,
    "start_time": "2023-08-08T14:57:07.597Z"
   },
   {
    "duration": 30,
    "start_time": "2023-08-08T14:57:07.639Z"
   },
   {
    "duration": 19,
    "start_time": "2023-08-08T14:57:07.671Z"
   },
   {
    "duration": 3,
    "start_time": "2023-08-08T14:57:31.700Z"
   },
   {
    "duration": 12,
    "start_time": "2023-08-08T14:57:38.970Z"
   },
   {
    "duration": 3100,
    "start_time": "2023-08-09T18:32:58.116Z"
   },
   {
    "duration": 1714,
    "start_time": "2023-08-09T18:33:01.219Z"
   },
   {
    "duration": 163,
    "start_time": "2023-08-09T18:33:02.934Z"
   },
   {
    "duration": 3,
    "start_time": "2023-08-09T18:33:03.099Z"
   },
   {
    "duration": 40,
    "start_time": "2023-08-09T18:33:03.104Z"
   },
   {
    "duration": 33,
    "start_time": "2023-08-09T18:33:03.146Z"
   },
   {
    "duration": 19,
    "start_time": "2023-08-09T18:33:03.181Z"
   },
   {
    "duration": 12,
    "start_time": "2023-08-09T18:33:03.202Z"
   },
   {
    "duration": 122,
    "start_time": "2023-08-09T18:33:03.216Z"
   },
   {
    "duration": 19,
    "start_time": "2023-08-09T18:33:03.341Z"
   },
   {
    "duration": 76,
    "start_time": "2023-08-09T18:33:03.362Z"
   },
   {
    "duration": 17,
    "start_time": "2023-08-09T18:33:03.439Z"
   },
   {
    "duration": 6,
    "start_time": "2023-08-09T18:33:03.459Z"
   },
   {
    "duration": 38,
    "start_time": "2023-08-09T18:33:03.468Z"
   },
   {
    "duration": 38,
    "start_time": "2023-08-09T18:33:03.508Z"
   },
   {
    "duration": 7,
    "start_time": "2023-08-09T18:33:03.547Z"
   },
   {
    "duration": 1707,
    "start_time": "2023-08-09T18:33:03.555Z"
   },
   {
    "duration": 71,
    "start_time": "2023-08-09T18:33:05.264Z"
   },
   {
    "duration": 4,
    "start_time": "2023-08-09T18:33:05.336Z"
   },
   {
    "duration": 32,
    "start_time": "2023-08-09T18:33:05.341Z"
   },
   {
    "duration": 22,
    "start_time": "2023-08-09T18:33:05.375Z"
   },
   {
    "duration": 1974,
    "start_time": "2023-08-09T18:33:05.400Z"
   },
   {
    "duration": 2357,
    "start_time": "2023-08-09T18:38:11.295Z"
   },
   {
    "duration": 1438,
    "start_time": "2023-08-09T18:38:13.654Z"
   },
   {
    "duration": 167,
    "start_time": "2023-08-09T18:38:15.094Z"
   },
   {
    "duration": 3,
    "start_time": "2023-08-09T18:38:15.263Z"
   },
   {
    "duration": 27,
    "start_time": "2023-08-09T18:38:15.268Z"
   },
   {
    "duration": 15,
    "start_time": "2023-08-09T18:38:15.297Z"
   },
   {
    "duration": 22,
    "start_time": "2023-08-09T18:38:15.314Z"
   },
   {
    "duration": 13,
    "start_time": "2023-08-09T18:38:15.338Z"
   },
   {
    "duration": 36,
    "start_time": "2023-08-09T18:38:15.353Z"
   },
   {
    "duration": 24,
    "start_time": "2023-08-09T18:38:15.392Z"
   },
   {
    "duration": 64,
    "start_time": "2023-08-09T18:38:15.418Z"
   },
   {
    "duration": 13,
    "start_time": "2023-08-09T18:38:15.484Z"
   },
   {
    "duration": 38,
    "start_time": "2023-08-09T18:38:15.498Z"
   },
   {
    "duration": 44,
    "start_time": "2023-08-09T18:38:15.538Z"
   },
   {
    "duration": 31,
    "start_time": "2023-08-09T18:38:15.584Z"
   },
   {
    "duration": 14,
    "start_time": "2023-08-09T18:38:15.617Z"
   },
   {
    "duration": 1902,
    "start_time": "2023-08-09T18:38:15.633Z"
   },
   {
    "duration": 72,
    "start_time": "2023-08-09T18:38:17.537Z"
   },
   {
    "duration": 4,
    "start_time": "2023-08-09T18:38:17.611Z"
   },
   {
    "duration": 28,
    "start_time": "2023-08-09T18:38:17.616Z"
   },
   {
    "duration": 6,
    "start_time": "2023-08-09T18:38:17.646Z"
   },
   {
    "duration": 1967,
    "start_time": "2023-08-09T18:38:17.654Z"
   },
   {
    "duration": 51,
    "start_time": "2023-08-09T18:44:42.814Z"
   },
   {
    "duration": 2364,
    "start_time": "2023-08-09T18:44:53.211Z"
   },
   {
    "duration": 1571,
    "start_time": "2023-08-09T18:44:55.578Z"
   },
   {
    "duration": 168,
    "start_time": "2023-08-09T18:44:57.151Z"
   },
   {
    "duration": 2,
    "start_time": "2023-08-09T18:44:57.322Z"
   },
   {
    "duration": 82,
    "start_time": "2023-08-09T18:44:57.326Z"
   },
   {
    "duration": 13,
    "start_time": "2023-08-09T18:44:57.410Z"
   },
   {
    "duration": 28,
    "start_time": "2023-08-09T18:44:57.424Z"
   },
   {
    "duration": 5,
    "start_time": "2023-08-09T18:44:57.454Z"
   },
   {
    "duration": 23,
    "start_time": "2023-08-09T18:44:57.460Z"
   },
   {
    "duration": 9,
    "start_time": "2023-08-09T18:44:57.486Z"
   },
   {
    "duration": 35,
    "start_time": "2023-08-09T18:44:57.496Z"
   },
   {
    "duration": 12,
    "start_time": "2023-08-09T18:44:57.533Z"
   },
   {
    "duration": 6,
    "start_time": "2023-08-09T18:44:57.547Z"
   },
   {
    "duration": 43,
    "start_time": "2023-08-09T18:44:57.555Z"
   },
   {
    "duration": 29,
    "start_time": "2023-08-09T18:44:57.600Z"
   },
   {
    "duration": 6,
    "start_time": "2023-08-09T18:44:57.631Z"
   },
   {
    "duration": 1726,
    "start_time": "2023-08-09T18:44:57.639Z"
   },
   {
    "duration": 60,
    "start_time": "2023-08-09T18:44:59.367Z"
   },
   {
    "duration": 3,
    "start_time": "2023-08-09T18:44:59.429Z"
   },
   {
    "duration": 28,
    "start_time": "2023-08-09T18:44:59.434Z"
   },
   {
    "duration": 5,
    "start_time": "2023-08-09T18:44:59.463Z"
   },
   {
    "duration": 1799,
    "start_time": "2023-08-09T18:44:59.470Z"
   },
   {
    "duration": 264,
    "start_time": "2023-08-09T18:45:01.271Z"
   },
   {
    "duration": 977,
    "start_time": "2023-08-09T18:45:01.537Z"
   },
   {
    "duration": 2342,
    "start_time": "2023-08-09T18:45:02.516Z"
   },
   {
    "duration": 13,
    "start_time": "2023-08-09T18:45:04.859Z"
   },
   {
    "duration": 21,
    "start_time": "2023-08-09T18:45:04.874Z"
   },
   {
    "duration": 1052,
    "start_time": "2023-08-09T18:45:04.899Z"
   },
   {
    "duration": 1853,
    "start_time": "2023-08-09T18:45:05.953Z"
   },
   {
    "duration": 595,
    "start_time": "2023-08-09T18:45:07.808Z"
   },
   {
    "duration": 6,
    "start_time": "2023-08-09T18:45:08.405Z"
   },
   {
    "duration": 8,
    "start_time": "2023-08-09T18:45:08.413Z"
   },
   {
    "duration": 8,
    "start_time": "2023-08-09T18:45:08.422Z"
   },
   {
    "duration": 10,
    "start_time": "2023-08-09T18:45:08.432Z"
   },
   {
    "duration": 814,
    "start_time": "2023-08-09T18:45:08.444Z"
   },
   {
    "duration": 5,
    "start_time": "2023-08-09T18:45:09.260Z"
   },
   {
    "duration": 7,
    "start_time": "2023-08-09T18:45:09.267Z"
   },
   {
    "duration": 22,
    "start_time": "2023-08-09T18:45:09.276Z"
   },
   {
    "duration": 7,
    "start_time": "2023-08-09T18:45:09.300Z"
   },
   {
    "duration": 7,
    "start_time": "2023-08-09T18:45:09.309Z"
   },
   {
    "duration": 544,
    "start_time": "2023-08-09T18:45:09.317Z"
   },
   {
    "duration": 6,
    "start_time": "2023-08-09T18:45:09.863Z"
   },
   {
    "duration": 25,
    "start_time": "2023-08-09T18:45:09.871Z"
   },
   {
    "duration": 5,
    "start_time": "2023-08-09T18:45:09.898Z"
   },
   {
    "duration": 617,
    "start_time": "2023-08-09T18:45:09.905Z"
   },
   {
    "duration": 6,
    "start_time": "2023-08-09T18:45:10.523Z"
   },
   {
    "duration": 7,
    "start_time": "2023-08-09T18:45:10.531Z"
   },
   {
    "duration": 11,
    "start_time": "2023-08-09T18:45:10.540Z"
   },
   {
    "duration": 576,
    "start_time": "2023-08-09T18:45:10.553Z"
   },
   {
    "duration": 6,
    "start_time": "2023-08-09T18:45:11.131Z"
   },
   {
    "duration": 24920,
    "start_time": "2023-08-09T18:45:11.139Z"
   },
   {
    "duration": 10,
    "start_time": "2023-08-09T18:45:36.060Z"
   },
   {
    "duration": 1739,
    "start_time": "2023-08-09T18:45:36.072Z"
   },
   {
    "duration": 12,
    "start_time": "2023-08-09T18:45:37.813Z"
   },
   {
    "duration": 21,
    "start_time": "2023-08-09T18:45:37.826Z"
   },
   {
    "duration": 12,
    "start_time": "2023-08-09T18:45:37.849Z"
   },
   {
    "duration": 42,
    "start_time": "2023-08-09T18:45:37.862Z"
   },
   {
    "duration": 11,
    "start_time": "2023-08-09T18:45:37.906Z"
   },
   {
    "duration": 12,
    "start_time": "2023-08-09T18:45:37.919Z"
   },
   {
    "duration": 248,
    "start_time": "2023-08-09T18:45:39.640Z"
   },
   {
    "duration": 244,
    "start_time": "2023-08-09T18:45:46.059Z"
   },
   {
    "duration": 241,
    "start_time": "2023-08-09T18:45:53.223Z"
   },
   {
    "duration": 279,
    "start_time": "2023-08-09T18:45:59.607Z"
   },
   {
    "duration": 944,
    "start_time": "2023-08-09T18:46:16.635Z"
   },
   {
    "duration": 2318,
    "start_time": "2023-08-09T18:47:46.221Z"
   },
   {
    "duration": 1511,
    "start_time": "2023-08-09T18:47:48.541Z"
   },
   {
    "duration": 167,
    "start_time": "2023-08-09T18:47:50.054Z"
   },
   {
    "duration": 2,
    "start_time": "2023-08-09T18:47:50.223Z"
   },
   {
    "duration": 31,
    "start_time": "2023-08-09T18:47:50.227Z"
   },
   {
    "duration": 13,
    "start_time": "2023-08-09T18:47:50.260Z"
   },
   {
    "duration": 13,
    "start_time": "2023-08-09T18:47:50.275Z"
   },
   {
    "duration": 8,
    "start_time": "2023-08-09T18:47:50.290Z"
   },
   {
    "duration": 10,
    "start_time": "2023-08-09T18:47:50.299Z"
   },
   {
    "duration": 5,
    "start_time": "2023-08-09T18:47:50.311Z"
   },
   {
    "duration": 37,
    "start_time": "2023-08-09T18:47:50.318Z"
   },
   {
    "duration": 44,
    "start_time": "2023-08-09T18:47:50.357Z"
   },
   {
    "duration": 4,
    "start_time": "2023-08-09T18:47:50.403Z"
   },
   {
    "duration": 31,
    "start_time": "2023-08-09T18:47:50.409Z"
   },
   {
    "duration": 29,
    "start_time": "2023-08-09T18:47:50.442Z"
   },
   {
    "duration": 7,
    "start_time": "2023-08-09T18:47:50.472Z"
   },
   {
    "duration": 1686,
    "start_time": "2023-08-09T18:47:50.495Z"
   },
   {
    "duration": 65,
    "start_time": "2023-08-09T18:47:52.182Z"
   },
   {
    "duration": 4,
    "start_time": "2023-08-09T18:47:52.249Z"
   },
   {
    "duration": 69,
    "start_time": "2023-08-09T18:47:52.255Z"
   },
   {
    "duration": 16,
    "start_time": "2023-08-09T18:47:52.326Z"
   },
   {
    "duration": 1896,
    "start_time": "2023-08-09T18:47:52.344Z"
   },
   {
    "duration": 262,
    "start_time": "2023-08-09T18:47:54.242Z"
   },
   {
    "duration": 869,
    "start_time": "2023-08-09T18:47:54.506Z"
   },
   {
    "duration": 2270,
    "start_time": "2023-08-09T18:47:55.377Z"
   },
   {
    "duration": 13,
    "start_time": "2023-08-09T18:47:57.650Z"
   },
   {
    "duration": 14,
    "start_time": "2023-08-09T18:47:57.665Z"
   },
   {
    "duration": 1060,
    "start_time": "2023-08-09T18:47:57.683Z"
   },
   {
    "duration": 1786,
    "start_time": "2023-08-09T18:47:58.744Z"
   },
   {
    "duration": 569,
    "start_time": "2023-08-09T18:48:00.532Z"
   },
   {
    "duration": 6,
    "start_time": "2023-08-09T18:48:01.103Z"
   },
   {
    "duration": 15,
    "start_time": "2023-08-09T18:48:01.110Z"
   },
   {
    "duration": 48,
    "start_time": "2023-08-09T18:48:01.126Z"
   },
   {
    "duration": 32,
    "start_time": "2023-08-09T18:48:01.176Z"
   },
   {
    "duration": 867,
    "start_time": "2023-08-09T18:48:01.210Z"
   },
   {
    "duration": 5,
    "start_time": "2023-08-09T18:48:02.079Z"
   },
   {
    "duration": 17,
    "start_time": "2023-08-09T18:48:02.095Z"
   },
   {
    "duration": 60,
    "start_time": "2023-08-09T18:48:02.113Z"
   },
   {
    "duration": 72,
    "start_time": "2023-08-09T18:48:02.175Z"
   },
   {
    "duration": 76,
    "start_time": "2023-08-09T18:48:02.250Z"
   },
   {
    "duration": 631,
    "start_time": "2023-08-09T18:48:02.328Z"
   },
   {
    "duration": 5,
    "start_time": "2023-08-09T18:48:02.960Z"
   },
   {
    "duration": 115,
    "start_time": "2023-08-09T18:48:02.967Z"
   },
   {
    "duration": 28,
    "start_time": "2023-08-09T18:48:03.084Z"
   },
   {
    "duration": 673,
    "start_time": "2023-08-09T18:48:03.114Z"
   },
   {
    "duration": 5,
    "start_time": "2023-08-09T18:48:03.795Z"
   },
   {
    "duration": 28,
    "start_time": "2023-08-09T18:48:03.801Z"
   },
   {
    "duration": 53,
    "start_time": "2023-08-09T18:48:03.830Z"
   },
   {
    "duration": 524,
    "start_time": "2023-08-09T18:48:03.884Z"
   },
   {
    "duration": 6,
    "start_time": "2023-08-09T18:48:04.410Z"
   },
   {
    "duration": 23558,
    "start_time": "2023-08-09T18:48:04.417Z"
   },
   {
    "duration": 20,
    "start_time": "2023-08-09T18:48:27.977Z"
   },
   {
    "duration": 1719,
    "start_time": "2023-08-09T18:48:27.999Z"
   },
   {
    "duration": 13,
    "start_time": "2023-08-09T18:48:29.720Z"
   },
   {
    "duration": 24,
    "start_time": "2023-08-09T18:48:29.735Z"
   },
   {
    "duration": 36,
    "start_time": "2023-08-09T18:48:29.761Z"
   },
   {
    "duration": 15,
    "start_time": "2023-08-09T18:48:29.799Z"
   },
   {
    "duration": 15,
    "start_time": "2023-08-09T18:48:29.816Z"
   },
   {
    "duration": 9,
    "start_time": "2023-08-09T18:48:29.833Z"
   },
   {
    "duration": 1889,
    "start_time": "2023-08-09T18:49:55.519Z"
   },
   {
    "duration": 1873,
    "start_time": "2023-08-09T18:50:03.482Z"
   },
   {
    "duration": 2100,
    "start_time": "2023-08-09T18:55:30.399Z"
   },
   {
    "duration": 132,
    "start_time": "2023-08-09T19:09:48.421Z"
   },
   {
    "duration": 0,
    "start_time": "2023-08-09T19:09:48.555Z"
   },
   {
    "duration": 0,
    "start_time": "2023-08-09T19:09:48.556Z"
   },
   {
    "duration": 0,
    "start_time": "2023-08-09T19:09:48.557Z"
   },
   {
    "duration": 0,
    "start_time": "2023-08-09T19:09:48.558Z"
   },
   {
    "duration": 0,
    "start_time": "2023-08-09T19:09:48.559Z"
   },
   {
    "duration": 0,
    "start_time": "2023-08-09T19:09:48.560Z"
   },
   {
    "duration": 0,
    "start_time": "2023-08-09T19:09:48.561Z"
   },
   {
    "duration": 2281,
    "start_time": "2023-08-09T19:10:13.613Z"
   },
   {
    "duration": 1471,
    "start_time": "2023-08-09T19:10:15.896Z"
   },
   {
    "duration": 57,
    "start_time": "2023-08-09T19:10:17.369Z"
   },
   {
    "duration": 3,
    "start_time": "2023-08-09T19:10:17.428Z"
   },
   {
    "duration": 25,
    "start_time": "2023-08-09T19:10:17.432Z"
   },
   {
    "duration": 13,
    "start_time": "2023-08-09T19:10:17.459Z"
   },
   {
    "duration": 28,
    "start_time": "2023-08-09T19:10:17.473Z"
   },
   {
    "duration": 5,
    "start_time": "2023-08-09T19:10:17.503Z"
   },
   {
    "duration": 11,
    "start_time": "2023-08-09T19:10:17.510Z"
   },
   {
    "duration": 5,
    "start_time": "2023-08-09T19:10:17.523Z"
   },
   {
    "duration": 43,
    "start_time": "2023-08-09T19:10:17.530Z"
   },
   {
    "duration": 12,
    "start_time": "2023-08-09T19:10:17.594Z"
   },
   {
    "duration": 5,
    "start_time": "2023-08-09T19:10:17.608Z"
   },
   {
    "duration": 19,
    "start_time": "2023-08-09T19:10:17.615Z"
   },
   {
    "duration": 29,
    "start_time": "2023-08-09T19:10:17.636Z"
   },
   {
    "duration": 34,
    "start_time": "2023-08-09T19:10:17.667Z"
   },
   {
    "duration": 1661,
    "start_time": "2023-08-09T19:10:17.702Z"
   },
   {
    "duration": 63,
    "start_time": "2023-08-09T19:10:19.364Z"
   },
   {
    "duration": 4,
    "start_time": "2023-08-09T19:10:19.429Z"
   },
   {
    "duration": 26,
    "start_time": "2023-08-09T19:10:19.434Z"
   },
   {
    "duration": 6,
    "start_time": "2023-08-09T19:10:19.461Z"
   },
   {
    "duration": 1806,
    "start_time": "2023-08-09T19:10:19.469Z"
   },
   {
    "duration": 256,
    "start_time": "2023-08-09T19:10:21.276Z"
   },
   {
    "duration": 874,
    "start_time": "2023-08-09T19:10:21.534Z"
   },
   {
    "duration": 2167,
    "start_time": "2023-08-09T19:10:22.410Z"
   },
   {
    "duration": 17,
    "start_time": "2023-08-09T19:10:24.579Z"
   },
   {
    "duration": 17,
    "start_time": "2023-08-09T19:10:24.598Z"
   },
   {
    "duration": 1048,
    "start_time": "2023-08-09T19:10:24.619Z"
   },
   {
    "duration": 1815,
    "start_time": "2023-08-09T19:10:25.668Z"
   },
   {
    "duration": 579,
    "start_time": "2023-08-09T19:10:27.485Z"
   },
   {
    "duration": 4,
    "start_time": "2023-08-09T19:10:28.065Z"
   },
   {
    "duration": 22,
    "start_time": "2023-08-09T19:10:28.071Z"
   },
   {
    "duration": 7,
    "start_time": "2023-08-09T19:10:28.094Z"
   },
   {
    "duration": 10,
    "start_time": "2023-08-09T19:10:28.103Z"
   },
   {
    "duration": 718,
    "start_time": "2023-08-09T19:10:28.115Z"
   },
   {
    "duration": 5,
    "start_time": "2023-08-09T19:10:28.835Z"
   },
   {
    "duration": 7,
    "start_time": "2023-08-09T19:10:28.841Z"
   },
   {
    "duration": 11,
    "start_time": "2023-08-09T19:10:28.849Z"
   },
   {
    "duration": 9,
    "start_time": "2023-08-09T19:10:28.862Z"
   },
   {
    "duration": 7,
    "start_time": "2023-08-09T19:10:28.872Z"
   },
   {
    "duration": 533,
    "start_time": "2023-08-09T19:10:28.880Z"
   },
   {
    "duration": 5,
    "start_time": "2023-08-09T19:10:29.415Z"
   },
   {
    "duration": 11,
    "start_time": "2023-08-09T19:10:29.422Z"
   },
   {
    "duration": 7,
    "start_time": "2023-08-09T19:10:29.435Z"
   },
   {
    "duration": 635,
    "start_time": "2023-08-09T19:10:29.444Z"
   },
   {
    "duration": 5,
    "start_time": "2023-08-09T19:10:30.080Z"
   },
   {
    "duration": 47,
    "start_time": "2023-08-09T19:10:30.094Z"
   },
   {
    "duration": 49,
    "start_time": "2023-08-09T19:10:30.143Z"
   },
   {
    "duration": 559,
    "start_time": "2023-08-09T19:10:30.193Z"
   },
   {
    "duration": 5,
    "start_time": "2023-08-09T19:10:30.754Z"
   },
   {
    "duration": 24109,
    "start_time": "2023-08-09T19:10:30.760Z"
   },
   {
    "duration": 10,
    "start_time": "2023-08-09T19:10:54.871Z"
   },
   {
    "duration": 1615,
    "start_time": "2023-08-09T19:10:54.882Z"
   },
   {
    "duration": 10,
    "start_time": "2023-08-09T19:10:56.499Z"
   },
   {
    "duration": 60,
    "start_time": "2023-08-09T19:10:56.511Z"
   },
   {
    "duration": 49,
    "start_time": "2023-08-09T19:10:56.573Z"
   },
   {
    "duration": 19,
    "start_time": "2023-08-09T19:10:56.624Z"
   },
   {
    "duration": 19,
    "start_time": "2023-08-09T19:10:56.646Z"
   },
   {
    "duration": 30,
    "start_time": "2023-08-09T19:10:56.667Z"
   },
   {
    "duration": 2291,
    "start_time": "2023-08-09T19:11:25.411Z"
   },
   {
    "duration": 1405,
    "start_time": "2023-08-09T19:11:27.704Z"
   },
   {
    "duration": 53,
    "start_time": "2023-08-09T19:11:29.110Z"
   },
   {
    "duration": 3,
    "start_time": "2023-08-09T19:11:29.164Z"
   },
   {
    "duration": 25,
    "start_time": "2023-08-09T19:11:29.168Z"
   },
   {
    "duration": 12,
    "start_time": "2023-08-09T19:11:29.195Z"
   },
   {
    "duration": 15,
    "start_time": "2023-08-09T19:11:29.209Z"
   },
   {
    "duration": 5,
    "start_time": "2023-08-09T19:11:29.225Z"
   },
   {
    "duration": 10,
    "start_time": "2023-08-09T19:11:29.232Z"
   },
   {
    "duration": 4,
    "start_time": "2023-08-09T19:11:29.244Z"
   },
   {
    "duration": 60,
    "start_time": "2023-08-09T19:11:29.249Z"
   },
   {
    "duration": 13,
    "start_time": "2023-08-09T19:11:29.311Z"
   },
   {
    "duration": 6,
    "start_time": "2023-08-09T19:11:29.325Z"
   },
   {
    "duration": 18,
    "start_time": "2023-08-09T19:11:29.333Z"
   },
   {
    "duration": 55,
    "start_time": "2023-08-09T19:11:29.352Z"
   },
   {
    "duration": 1635,
    "start_time": "2023-08-09T19:11:29.408Z"
   },
   {
    "duration": 66,
    "start_time": "2023-08-09T19:11:31.045Z"
   },
   {
    "duration": 3,
    "start_time": "2023-08-09T19:11:31.113Z"
   },
   {
    "duration": 58,
    "start_time": "2023-08-09T19:11:31.117Z"
   },
   {
    "duration": 33,
    "start_time": "2023-08-09T19:11:31.176Z"
   },
   {
    "duration": 1818,
    "start_time": "2023-08-09T19:11:31.211Z"
   },
   {
    "duration": 291,
    "start_time": "2023-08-09T19:11:33.031Z"
   },
   {
    "duration": 928,
    "start_time": "2023-08-09T19:11:33.323Z"
   },
   {
    "duration": 2257,
    "start_time": "2023-08-09T19:11:34.252Z"
   },
   {
    "duration": 12,
    "start_time": "2023-08-09T19:11:36.511Z"
   },
   {
    "duration": 22,
    "start_time": "2023-08-09T19:11:36.525Z"
   },
   {
    "duration": 1081,
    "start_time": "2023-08-09T19:11:36.550Z"
   },
   {
    "duration": 1765,
    "start_time": "2023-08-09T19:11:37.635Z"
   },
   {
    "duration": 582,
    "start_time": "2023-08-09T19:11:39.401Z"
   },
   {
    "duration": 15,
    "start_time": "2023-08-09T19:11:39.985Z"
   },
   {
    "duration": 9,
    "start_time": "2023-08-09T19:11:40.002Z"
   },
   {
    "duration": 11,
    "start_time": "2023-08-09T19:11:40.012Z"
   },
   {
    "duration": 20,
    "start_time": "2023-08-09T19:11:40.024Z"
   },
   {
    "duration": 777,
    "start_time": "2023-08-09T19:11:40.046Z"
   },
   {
    "duration": 6,
    "start_time": "2023-08-09T19:11:40.824Z"
   },
   {
    "duration": 10,
    "start_time": "2023-08-09T19:11:40.831Z"
   },
   {
    "duration": 6,
    "start_time": "2023-08-09T19:11:40.843Z"
   },
   {
    "duration": 5,
    "start_time": "2023-08-09T19:11:40.850Z"
   },
   {
    "duration": 5,
    "start_time": "2023-08-09T19:11:40.857Z"
   },
   {
    "duration": 550,
    "start_time": "2023-08-09T19:11:40.896Z"
   },
   {
    "duration": 5,
    "start_time": "2023-08-09T19:11:41.448Z"
   },
   {
    "duration": 10,
    "start_time": "2023-08-09T19:11:41.454Z"
   },
   {
    "duration": 6,
    "start_time": "2023-08-09T19:11:41.466Z"
   },
   {
    "duration": 658,
    "start_time": "2023-08-09T19:11:41.474Z"
   },
   {
    "duration": 6,
    "start_time": "2023-08-09T19:11:42.134Z"
   },
   {
    "duration": 11,
    "start_time": "2023-08-09T19:11:42.141Z"
   },
   {
    "duration": 10,
    "start_time": "2023-08-09T19:11:42.153Z"
   },
   {
    "duration": 570,
    "start_time": "2023-08-09T19:11:42.165Z"
   },
   {
    "duration": 6,
    "start_time": "2023-08-09T19:11:42.737Z"
   },
   {
    "duration": 23014,
    "start_time": "2023-08-09T19:11:42.745Z"
   },
   {
    "duration": 10,
    "start_time": "2023-08-09T19:12:05.761Z"
   },
   {
    "duration": 1823,
    "start_time": "2023-08-09T19:12:05.772Z"
   },
   {
    "duration": 10,
    "start_time": "2023-08-09T19:12:07.597Z"
   },
   {
    "duration": 29,
    "start_time": "2023-08-09T19:12:07.609Z"
   },
   {
    "duration": 15,
    "start_time": "2023-08-09T19:12:07.640Z"
   },
   {
    "duration": 39,
    "start_time": "2023-08-09T19:12:07.657Z"
   },
   {
    "duration": 15,
    "start_time": "2023-08-09T19:12:07.697Z"
   },
   {
    "duration": 12,
    "start_time": "2023-08-09T19:12:07.713Z"
   },
   {
    "duration": 151,
    "start_time": "2023-08-09T19:12:45.403Z"
   },
   {
    "duration": 0,
    "start_time": "2023-08-09T19:12:45.556Z"
   },
   {
    "duration": 0,
    "start_time": "2023-08-09T19:12:45.557Z"
   },
   {
    "duration": 0,
    "start_time": "2023-08-09T19:12:45.558Z"
   },
   {
    "duration": 0,
    "start_time": "2023-08-09T19:12:45.559Z"
   },
   {
    "duration": 1,
    "start_time": "2023-08-09T19:12:45.560Z"
   },
   {
    "duration": 0,
    "start_time": "2023-08-09T19:12:45.562Z"
   },
   {
    "duration": 0,
    "start_time": "2023-08-09T19:12:45.563Z"
   },
   {
    "duration": 2237,
    "start_time": "2023-08-09T19:13:10.667Z"
   },
   {
    "duration": 1853,
    "start_time": "2023-08-09T19:13:12.907Z"
   },
   {
    "duration": 57,
    "start_time": "2023-08-09T19:13:14.762Z"
   },
   {
    "duration": 3,
    "start_time": "2023-08-09T19:13:14.821Z"
   },
   {
    "duration": 24,
    "start_time": "2023-08-09T19:13:14.827Z"
   },
   {
    "duration": 15,
    "start_time": "2023-08-09T19:13:14.853Z"
   },
   {
    "duration": 38,
    "start_time": "2023-08-09T19:13:14.870Z"
   },
   {
    "duration": 5,
    "start_time": "2023-08-09T19:13:14.910Z"
   },
   {
    "duration": 16,
    "start_time": "2023-08-09T19:13:14.917Z"
   },
   {
    "duration": 6,
    "start_time": "2023-08-09T19:13:14.937Z"
   },
   {
    "duration": 65,
    "start_time": "2023-08-09T19:13:14.945Z"
   },
   {
    "duration": 14,
    "start_time": "2023-08-09T19:13:15.012Z"
   },
   {
    "duration": 28,
    "start_time": "2023-08-09T19:13:15.028Z"
   },
   {
    "duration": 22,
    "start_time": "2023-08-09T19:13:15.058Z"
   },
   {
    "duration": 30,
    "start_time": "2023-08-09T19:13:15.082Z"
   },
   {
    "duration": 1774,
    "start_time": "2023-08-09T19:13:15.114Z"
   },
   {
    "duration": 57,
    "start_time": "2023-08-09T19:13:16.894Z"
   },
   {
    "duration": 4,
    "start_time": "2023-08-09T19:13:16.952Z"
   },
   {
    "duration": 47,
    "start_time": "2023-08-09T19:13:16.958Z"
   },
   {
    "duration": 7,
    "start_time": "2023-08-09T19:13:17.007Z"
   },
   {
    "duration": 1800,
    "start_time": "2023-08-09T19:13:17.016Z"
   },
   {
    "duration": 259,
    "start_time": "2023-08-09T19:13:18.818Z"
   },
   {
    "duration": 942,
    "start_time": "2023-08-09T19:13:19.079Z"
   },
   {
    "duration": 2266,
    "start_time": "2023-08-09T19:13:20.023Z"
   },
   {
    "duration": 15,
    "start_time": "2023-08-09T19:13:22.297Z"
   },
   {
    "duration": 13,
    "start_time": "2023-08-09T19:13:22.313Z"
   },
   {
    "duration": 972,
    "start_time": "2023-08-09T19:13:22.327Z"
   },
   {
    "duration": 1736,
    "start_time": "2023-08-09T19:13:23.302Z"
   },
   {
    "duration": 556,
    "start_time": "2023-08-09T19:13:25.039Z"
   },
   {
    "duration": 5,
    "start_time": "2023-08-09T19:13:25.596Z"
   },
   {
    "duration": 8,
    "start_time": "2023-08-09T19:13:25.602Z"
   },
   {
    "duration": 6,
    "start_time": "2023-08-09T19:13:25.611Z"
   },
   {
    "duration": 10,
    "start_time": "2023-08-09T19:13:25.618Z"
   },
   {
    "duration": 840,
    "start_time": "2023-08-09T19:13:25.629Z"
   },
   {
    "duration": 7,
    "start_time": "2023-08-09T19:13:26.471Z"
   },
   {
    "duration": 22,
    "start_time": "2023-08-09T19:13:26.480Z"
   },
   {
    "duration": 10,
    "start_time": "2023-08-09T19:13:26.504Z"
   },
   {
    "duration": 9,
    "start_time": "2023-08-09T19:13:26.515Z"
   },
   {
    "duration": 14,
    "start_time": "2023-08-09T19:13:26.526Z"
   },
   {
    "duration": 629,
    "start_time": "2023-08-09T19:13:26.542Z"
   },
   {
    "duration": 5,
    "start_time": "2023-08-09T19:13:27.173Z"
   },
   {
    "duration": 17,
    "start_time": "2023-08-09T19:13:27.180Z"
   },
   {
    "duration": 7,
    "start_time": "2023-08-09T19:13:27.199Z"
   },
   {
    "duration": 606,
    "start_time": "2023-08-09T19:13:27.208Z"
   },
   {
    "duration": 5,
    "start_time": "2023-08-09T19:13:27.816Z"
   },
   {
    "duration": 7,
    "start_time": "2023-08-09T19:13:27.822Z"
   },
   {
    "duration": 9,
    "start_time": "2023-08-09T19:13:27.831Z"
   },
   {
    "duration": 581,
    "start_time": "2023-08-09T19:13:27.841Z"
   },
   {
    "duration": 5,
    "start_time": "2023-08-09T19:13:28.424Z"
   },
   {
    "duration": 23201,
    "start_time": "2023-08-09T19:13:28.431Z"
   },
   {
    "duration": 10,
    "start_time": "2023-08-09T19:13:51.634Z"
   },
   {
    "duration": 1755,
    "start_time": "2023-08-09T19:13:51.646Z"
   },
   {
    "duration": 13,
    "start_time": "2023-08-09T19:13:53.403Z"
   },
   {
    "duration": 26,
    "start_time": "2023-08-09T19:13:53.418Z"
   },
   {
    "duration": 14,
    "start_time": "2023-08-09T19:13:53.446Z"
   },
   {
    "duration": 41,
    "start_time": "2023-08-09T19:13:53.462Z"
   },
   {
    "duration": 12,
    "start_time": "2023-08-09T19:13:53.505Z"
   },
   {
    "duration": 10,
    "start_time": "2023-08-09T19:13:53.519Z"
   },
   {
    "duration": 19,
    "start_time": "2023-08-09T19:15:44.398Z"
   },
   {
    "duration": 3428,
    "start_time": "2023-08-10T12:51:44.743Z"
   },
   {
    "duration": 1654,
    "start_time": "2023-08-10T12:51:48.173Z"
   },
   {
    "duration": 119,
    "start_time": "2023-08-10T12:51:49.828Z"
   },
   {
    "duration": 3,
    "start_time": "2023-08-10T12:51:49.949Z"
   },
   {
    "duration": 56,
    "start_time": "2023-08-10T12:51:49.953Z"
   },
   {
    "duration": 31,
    "start_time": "2023-08-10T12:51:50.010Z"
   },
   {
    "duration": 21,
    "start_time": "2023-08-10T12:51:50.042Z"
   },
   {
    "duration": 41,
    "start_time": "2023-08-10T12:51:50.065Z"
   },
   {
    "duration": 43,
    "start_time": "2023-08-10T12:51:50.108Z"
   },
   {
    "duration": 61,
    "start_time": "2023-08-10T12:51:50.153Z"
   },
   {
    "duration": 55,
    "start_time": "2023-08-10T12:51:50.216Z"
   },
   {
    "duration": 23,
    "start_time": "2023-08-10T12:51:50.273Z"
   },
   {
    "duration": 18,
    "start_time": "2023-08-10T12:51:50.298Z"
   },
   {
    "duration": 20,
    "start_time": "2023-08-10T12:51:50.318Z"
   },
   {
    "duration": 31,
    "start_time": "2023-08-10T12:51:50.340Z"
   },
   {
    "duration": 1775,
    "start_time": "2023-08-10T12:51:50.378Z"
   },
   {
    "duration": 65,
    "start_time": "2023-08-10T12:51:52.155Z"
   },
   {
    "duration": 3,
    "start_time": "2023-08-10T12:51:52.222Z"
   },
   {
    "duration": 41,
    "start_time": "2023-08-10T12:51:52.226Z"
   },
   {
    "duration": 6,
    "start_time": "2023-08-10T12:51:52.269Z"
   },
   {
    "duration": 1768,
    "start_time": "2023-08-10T12:51:52.281Z"
   },
   {
    "duration": 270,
    "start_time": "2023-08-10T12:51:54.051Z"
   },
   {
    "duration": 899,
    "start_time": "2023-08-10T12:51:54.323Z"
   },
   {
    "duration": 2398,
    "start_time": "2023-08-10T12:51:55.224Z"
   },
   {
    "duration": 11,
    "start_time": "2023-08-10T12:51:57.623Z"
   },
   {
    "duration": 17,
    "start_time": "2023-08-10T12:51:57.636Z"
   },
   {
    "duration": 1046,
    "start_time": "2023-08-10T12:51:57.655Z"
   },
   {
    "duration": 1833,
    "start_time": "2023-08-10T12:51:58.704Z"
   },
   {
    "duration": 642,
    "start_time": "2023-08-10T12:52:00.539Z"
   },
   {
    "duration": 4,
    "start_time": "2023-08-10T12:52:01.183Z"
   },
   {
    "duration": 47,
    "start_time": "2023-08-10T12:52:01.188Z"
   },
   {
    "duration": 49,
    "start_time": "2023-08-10T12:52:01.237Z"
   },
   {
    "duration": 40,
    "start_time": "2023-08-10T12:52:01.294Z"
   },
   {
    "duration": 805,
    "start_time": "2023-08-10T12:52:01.336Z"
   },
   {
    "duration": 4,
    "start_time": "2023-08-10T12:52:02.142Z"
   },
   {
    "duration": 58,
    "start_time": "2023-08-10T12:52:02.148Z"
   },
   {
    "duration": 20,
    "start_time": "2023-08-10T12:52:02.211Z"
   },
   {
    "duration": 32,
    "start_time": "2023-08-10T12:52:02.232Z"
   },
   {
    "duration": 32,
    "start_time": "2023-08-10T12:52:02.266Z"
   },
   {
    "duration": 586,
    "start_time": "2023-08-10T12:52:02.300Z"
   },
   {
    "duration": 8,
    "start_time": "2023-08-10T12:52:02.894Z"
   },
   {
    "duration": 38,
    "start_time": "2023-08-10T12:52:02.909Z"
   },
   {
    "duration": 51,
    "start_time": "2023-08-10T12:52:02.949Z"
   },
   {
    "duration": 704,
    "start_time": "2023-08-10T12:52:03.004Z"
   },
   {
    "duration": 6,
    "start_time": "2023-08-10T12:52:03.711Z"
   },
   {
    "duration": 32,
    "start_time": "2023-08-10T12:52:03.719Z"
   },
   {
    "duration": 22,
    "start_time": "2023-08-10T12:52:03.753Z"
   },
   {
    "duration": 592,
    "start_time": "2023-08-10T12:52:03.778Z"
   },
   {
    "duration": 6,
    "start_time": "2023-08-10T12:52:04.373Z"
   },
   {
    "duration": 17783,
    "start_time": "2023-08-10T12:52:04.380Z"
   },
   {
    "duration": 13,
    "start_time": "2023-08-10T12:52:22.165Z"
   },
   {
    "duration": 1018,
    "start_time": "2023-08-10T12:52:22.180Z"
   },
   {
    "duration": 96,
    "start_time": "2023-08-10T12:52:23.201Z"
   },
   {
    "duration": 35,
    "start_time": "2023-08-10T12:52:23.302Z"
   },
   {
    "duration": 18,
    "start_time": "2023-08-10T12:52:23.339Z"
   },
   {
    "duration": 37,
    "start_time": "2023-08-10T12:52:23.359Z"
   },
   {
    "duration": 16,
    "start_time": "2023-08-10T12:52:23.400Z"
   },
   {
    "duration": 13,
    "start_time": "2023-08-10T12:52:23.417Z"
   },
   {
    "duration": 135,
    "start_time": "2023-08-10T12:54:39.396Z"
   },
   {
    "duration": 2237,
    "start_time": "2023-08-10T12:54:46.963Z"
   },
   {
    "duration": 1597,
    "start_time": "2023-08-10T12:54:49.207Z"
   },
   {
    "duration": 57,
    "start_time": "2023-08-10T12:54:50.806Z"
   },
   {
    "duration": 3,
    "start_time": "2023-08-10T12:54:50.865Z"
   },
   {
    "duration": 50,
    "start_time": "2023-08-10T12:54:50.870Z"
   },
   {
    "duration": 13,
    "start_time": "2023-08-10T12:54:50.921Z"
   },
   {
    "duration": 43,
    "start_time": "2023-08-10T12:54:50.935Z"
   },
   {
    "duration": 31,
    "start_time": "2023-08-10T12:54:50.979Z"
   },
   {
    "duration": 33,
    "start_time": "2023-08-10T12:54:51.012Z"
   },
   {
    "duration": 17,
    "start_time": "2023-08-10T12:54:51.048Z"
   },
   {
    "duration": 66,
    "start_time": "2023-08-10T12:54:51.067Z"
   },
   {
    "duration": 12,
    "start_time": "2023-08-10T12:54:51.134Z"
   },
   {
    "duration": 19,
    "start_time": "2023-08-10T12:54:51.148Z"
   },
   {
    "duration": 40,
    "start_time": "2023-08-10T12:54:51.168Z"
   },
   {
    "duration": 39,
    "start_time": "2023-08-10T12:54:51.210Z"
   },
   {
    "duration": 1754,
    "start_time": "2023-08-10T12:54:51.251Z"
   },
   {
    "duration": 52,
    "start_time": "2023-08-10T12:54:53.006Z"
   },
   {
    "duration": 3,
    "start_time": "2023-08-10T12:54:53.060Z"
   },
   {
    "duration": 56,
    "start_time": "2023-08-10T12:54:53.064Z"
   },
   {
    "duration": 17,
    "start_time": "2023-08-10T12:54:53.121Z"
   },
   {
    "duration": 134,
    "start_time": "2023-08-10T12:54:53.139Z"
   },
   {
    "duration": 0,
    "start_time": "2023-08-10T12:54:53.282Z"
   },
   {
    "duration": 0,
    "start_time": "2023-08-10T12:54:53.282Z"
   },
   {
    "duration": 0,
    "start_time": "2023-08-10T12:54:53.283Z"
   },
   {
    "duration": 0,
    "start_time": "2023-08-10T12:54:53.283Z"
   },
   {
    "duration": 0,
    "start_time": "2023-08-10T12:54:53.284Z"
   },
   {
    "duration": 0,
    "start_time": "2023-08-10T12:54:53.285Z"
   },
   {
    "duration": 0,
    "start_time": "2023-08-10T12:54:53.288Z"
   },
   {
    "duration": 0,
    "start_time": "2023-08-10T12:54:53.288Z"
   },
   {
    "duration": 0,
    "start_time": "2023-08-10T12:54:53.289Z"
   },
   {
    "duration": 0,
    "start_time": "2023-08-10T12:54:53.291Z"
   },
   {
    "duration": 0,
    "start_time": "2023-08-10T12:54:53.292Z"
   },
   {
    "duration": 0,
    "start_time": "2023-08-10T12:54:53.292Z"
   },
   {
    "duration": 0,
    "start_time": "2023-08-10T12:54:53.293Z"
   },
   {
    "duration": 0,
    "start_time": "2023-08-10T12:54:53.294Z"
   },
   {
    "duration": 0,
    "start_time": "2023-08-10T12:54:53.296Z"
   },
   {
    "duration": 0,
    "start_time": "2023-08-10T12:54:53.296Z"
   },
   {
    "duration": 0,
    "start_time": "2023-08-10T12:54:53.297Z"
   },
   {
    "duration": 0,
    "start_time": "2023-08-10T12:54:53.298Z"
   },
   {
    "duration": 0,
    "start_time": "2023-08-10T12:54:53.299Z"
   },
   {
    "duration": 0,
    "start_time": "2023-08-10T12:54:53.300Z"
   },
   {
    "duration": 0,
    "start_time": "2023-08-10T12:54:53.300Z"
   },
   {
    "duration": 0,
    "start_time": "2023-08-10T12:54:53.301Z"
   },
   {
    "duration": 0,
    "start_time": "2023-08-10T12:54:53.302Z"
   },
   {
    "duration": 0,
    "start_time": "2023-08-10T12:54:53.303Z"
   },
   {
    "duration": 0,
    "start_time": "2023-08-10T12:54:53.303Z"
   },
   {
    "duration": 0,
    "start_time": "2023-08-10T12:54:53.305Z"
   },
   {
    "duration": 0,
    "start_time": "2023-08-10T12:54:53.310Z"
   },
   {
    "duration": 0,
    "start_time": "2023-08-10T12:54:53.311Z"
   },
   {
    "duration": 0,
    "start_time": "2023-08-10T12:54:53.312Z"
   },
   {
    "duration": 0,
    "start_time": "2023-08-10T12:54:53.313Z"
   },
   {
    "duration": 0,
    "start_time": "2023-08-10T12:54:53.314Z"
   },
   {
    "duration": 0,
    "start_time": "2023-08-10T12:54:53.315Z"
   },
   {
    "duration": 0,
    "start_time": "2023-08-10T12:54:53.316Z"
   },
   {
    "duration": 0,
    "start_time": "2023-08-10T12:54:53.317Z"
   },
   {
    "duration": 0,
    "start_time": "2023-08-10T12:54:53.318Z"
   },
   {
    "duration": 0,
    "start_time": "2023-08-10T12:54:53.319Z"
   },
   {
    "duration": 0,
    "start_time": "2023-08-10T12:54:53.320Z"
   },
   {
    "duration": 2069,
    "start_time": "2023-08-10T12:55:27.544Z"
   },
   {
    "duration": 80,
    "start_time": "2023-08-10T12:56:17.064Z"
   },
   {
    "duration": 2575,
    "start_time": "2023-08-10T12:56:59.564Z"
   },
   {
    "duration": 1577,
    "start_time": "2023-08-10T12:57:02.142Z"
   },
   {
    "duration": 118,
    "start_time": "2023-08-10T12:57:03.721Z"
   },
   {
    "duration": 3,
    "start_time": "2023-08-10T12:57:03.841Z"
   },
   {
    "duration": 95,
    "start_time": "2023-08-10T12:57:03.847Z"
   },
   {
    "duration": 19,
    "start_time": "2023-08-10T12:57:03.944Z"
   },
   {
    "duration": 24,
    "start_time": "2023-08-10T12:57:03.967Z"
   },
   {
    "duration": 9,
    "start_time": "2023-08-10T12:57:03.993Z"
   },
   {
    "duration": 32,
    "start_time": "2023-08-10T12:57:04.003Z"
   },
   {
    "duration": 25,
    "start_time": "2023-08-10T12:57:04.037Z"
   },
   {
    "duration": 69,
    "start_time": "2023-08-10T12:57:04.063Z"
   },
   {
    "duration": 12,
    "start_time": "2023-08-10T12:57:04.133Z"
   },
   {
    "duration": 9,
    "start_time": "2023-08-10T12:57:04.146Z"
   },
   {
    "duration": 34,
    "start_time": "2023-08-10T12:57:04.158Z"
   },
   {
    "duration": 34,
    "start_time": "2023-08-10T12:57:04.196Z"
   },
   {
    "duration": 1775,
    "start_time": "2023-08-10T12:57:04.231Z"
   },
   {
    "duration": 62,
    "start_time": "2023-08-10T12:57:06.008Z"
   },
   {
    "duration": 7,
    "start_time": "2023-08-10T12:57:06.072Z"
   },
   {
    "duration": 62,
    "start_time": "2023-08-10T12:57:06.081Z"
   },
   {
    "duration": 6,
    "start_time": "2023-08-10T12:57:06.146Z"
   },
   {
    "duration": 1935,
    "start_time": "2023-08-10T12:57:06.155Z"
   },
   {
    "duration": 0,
    "start_time": "2023-08-10T12:57:08.096Z"
   },
   {
    "duration": 0,
    "start_time": "2023-08-10T12:57:08.096Z"
   },
   {
    "duration": 0,
    "start_time": "2023-08-10T12:57:08.097Z"
   },
   {
    "duration": 0,
    "start_time": "2023-08-10T12:57:08.098Z"
   },
   {
    "duration": 0,
    "start_time": "2023-08-10T12:57:08.098Z"
   },
   {
    "duration": 0,
    "start_time": "2023-08-10T12:57:08.099Z"
   },
   {
    "duration": 0,
    "start_time": "2023-08-10T12:57:08.105Z"
   },
   {
    "duration": 0,
    "start_time": "2023-08-10T12:57:08.106Z"
   },
   {
    "duration": 0,
    "start_time": "2023-08-10T12:57:08.107Z"
   },
   {
    "duration": 0,
    "start_time": "2023-08-10T12:57:08.108Z"
   },
   {
    "duration": 0,
    "start_time": "2023-08-10T12:57:08.108Z"
   },
   {
    "duration": 0,
    "start_time": "2023-08-10T12:57:08.109Z"
   },
   {
    "duration": 0,
    "start_time": "2023-08-10T12:57:08.110Z"
   },
   {
    "duration": 0,
    "start_time": "2023-08-10T12:57:08.111Z"
   },
   {
    "duration": 0,
    "start_time": "2023-08-10T12:57:08.112Z"
   },
   {
    "duration": 0,
    "start_time": "2023-08-10T12:57:08.113Z"
   },
   {
    "duration": 0,
    "start_time": "2023-08-10T12:57:08.114Z"
   },
   {
    "duration": 0,
    "start_time": "2023-08-10T12:57:08.118Z"
   },
   {
    "duration": 0,
    "start_time": "2023-08-10T12:57:08.120Z"
   },
   {
    "duration": 0,
    "start_time": "2023-08-10T12:57:08.121Z"
   },
   {
    "duration": 0,
    "start_time": "2023-08-10T12:57:08.122Z"
   },
   {
    "duration": 0,
    "start_time": "2023-08-10T12:57:08.123Z"
   },
   {
    "duration": 0,
    "start_time": "2023-08-10T12:57:08.124Z"
   },
   {
    "duration": 0,
    "start_time": "2023-08-10T12:57:08.125Z"
   },
   {
    "duration": 0,
    "start_time": "2023-08-10T12:57:08.126Z"
   },
   {
    "duration": 0,
    "start_time": "2023-08-10T12:57:08.127Z"
   },
   {
    "duration": 0,
    "start_time": "2023-08-10T12:57:08.128Z"
   },
   {
    "duration": 0,
    "start_time": "2023-08-10T12:57:08.129Z"
   },
   {
    "duration": 0,
    "start_time": "2023-08-10T12:57:08.130Z"
   },
   {
    "duration": 0,
    "start_time": "2023-08-10T12:57:08.131Z"
   },
   {
    "duration": 0,
    "start_time": "2023-08-10T12:57:08.132Z"
   },
   {
    "duration": 0,
    "start_time": "2023-08-10T12:57:08.133Z"
   },
   {
    "duration": 0,
    "start_time": "2023-08-10T12:57:08.134Z"
   },
   {
    "duration": 0,
    "start_time": "2023-08-10T12:57:08.135Z"
   },
   {
    "duration": 0,
    "start_time": "2023-08-10T12:57:08.136Z"
   },
   {
    "duration": 0,
    "start_time": "2023-08-10T12:57:08.137Z"
   },
   {
    "duration": 0,
    "start_time": "2023-08-10T12:57:08.139Z"
   },
   {
    "duration": 5,
    "start_time": "2023-08-10T12:58:02.169Z"
   },
   {
    "duration": 8,
    "start_time": "2023-08-10T12:58:07.304Z"
   },
   {
    "duration": 10267,
    "start_time": "2023-08-10T12:58:55.682Z"
   },
   {
    "duration": 10879,
    "start_time": "2023-08-10T12:59:27.731Z"
   },
   {
    "duration": 10614,
    "start_time": "2023-08-10T12:59:53.540Z"
   },
   {
    "duration": 10897,
    "start_time": "2023-08-10T13:00:04.338Z"
   },
   {
    "duration": 11563,
    "start_time": "2023-08-10T13:00:35.339Z"
   },
   {
    "duration": 2450,
    "start_time": "2023-08-10T13:01:16.405Z"
   },
   {
    "duration": 11736,
    "start_time": "2023-08-10T13:01:27.603Z"
   },
   {
    "duration": 2825,
    "start_time": "2023-08-10T13:03:28.800Z"
   },
   {
    "duration": 1744,
    "start_time": "2023-08-10T13:03:31.628Z"
   },
   {
    "duration": 96,
    "start_time": "2023-08-10T13:03:33.374Z"
   },
   {
    "duration": 21,
    "start_time": "2023-08-10T13:03:33.472Z"
   },
   {
    "duration": 36,
    "start_time": "2023-08-10T13:03:33.504Z"
   },
   {
    "duration": 47,
    "start_time": "2023-08-10T13:03:33.542Z"
   },
   {
    "duration": 40,
    "start_time": "2023-08-10T13:03:33.591Z"
   },
   {
    "duration": 17,
    "start_time": "2023-08-10T13:03:33.635Z"
   },
   {
    "duration": 17,
    "start_time": "2023-08-10T13:03:33.655Z"
   },
   {
    "duration": 36,
    "start_time": "2023-08-10T13:03:33.674Z"
   },
   {
    "duration": 80,
    "start_time": "2023-08-10T13:03:33.711Z"
   },
   {
    "duration": 30,
    "start_time": "2023-08-10T13:03:33.793Z"
   },
   {
    "duration": 23,
    "start_time": "2023-08-10T13:03:33.826Z"
   },
   {
    "duration": 52,
    "start_time": "2023-08-10T13:03:33.857Z"
   },
   {
    "duration": 38,
    "start_time": "2023-08-10T13:03:33.922Z"
   },
   {
    "duration": 2457,
    "start_time": "2023-08-10T13:03:33.962Z"
   },
   {
    "duration": 100,
    "start_time": "2023-08-10T13:03:36.422Z"
   },
   {
    "duration": 11,
    "start_time": "2023-08-10T13:03:36.525Z"
   },
   {
    "duration": 32,
    "start_time": "2023-08-10T13:03:36.538Z"
   },
   {
    "duration": 50,
    "start_time": "2023-08-10T13:03:36.572Z"
   },
   {
    "duration": 5,
    "start_time": "2023-08-10T13:03:36.632Z"
   },
   {
    "duration": 12848,
    "start_time": "2023-08-10T13:03:36.639Z"
   },
   {
    "duration": 3,
    "start_time": "2023-08-10T13:03:49.493Z"
   },
   {
    "duration": 32,
    "start_time": "2023-08-10T13:03:49.501Z"
   },
   {
    "duration": 2728,
    "start_time": "2023-08-10T13:03:49.538Z"
   },
   {
    "duration": 31,
    "start_time": "2023-08-10T13:03:52.268Z"
   },
   {
    "duration": 15,
    "start_time": "2023-08-10T13:03:52.301Z"
   },
   {
    "duration": 1382,
    "start_time": "2023-08-10T13:03:52.323Z"
   },
   {
    "duration": 2056,
    "start_time": "2023-08-10T13:03:53.711Z"
   },
   {
    "duration": 1155,
    "start_time": "2023-08-10T13:03:55.769Z"
   },
   {
    "duration": 5,
    "start_time": "2023-08-10T13:03:56.927Z"
   },
   {
    "duration": 39,
    "start_time": "2023-08-10T13:03:56.937Z"
   },
   {
    "duration": 36,
    "start_time": "2023-08-10T13:03:56.985Z"
   },
   {
    "duration": 40,
    "start_time": "2023-08-10T13:03:57.023Z"
   },
   {
    "duration": 668,
    "start_time": "2023-08-10T13:03:57.065Z"
   },
   {
    "duration": 7,
    "start_time": "2023-08-10T13:03:57.735Z"
   },
   {
    "duration": 112,
    "start_time": "2023-08-10T13:03:57.745Z"
   },
   {
    "duration": 14,
    "start_time": "2023-08-10T13:03:57.859Z"
   },
   {
    "duration": 13,
    "start_time": "2023-08-10T13:03:57.875Z"
   },
   {
    "duration": 18,
    "start_time": "2023-08-10T13:03:57.892Z"
   },
   {
    "duration": 703,
    "start_time": "2023-08-10T13:03:57.918Z"
   },
   {
    "duration": 7,
    "start_time": "2023-08-10T13:03:58.630Z"
   },
   {
    "duration": 13,
    "start_time": "2023-08-10T13:03:58.638Z"
   },
   {
    "duration": 70,
    "start_time": "2023-08-10T13:03:58.652Z"
   },
   {
    "duration": 645,
    "start_time": "2023-08-10T13:03:58.724Z"
   },
   {
    "duration": 24,
    "start_time": "2023-08-10T13:03:59.370Z"
   },
   {
    "duration": 23,
    "start_time": "2023-08-10T13:03:59.405Z"
   },
   {
    "duration": 10,
    "start_time": "2023-08-10T13:03:59.430Z"
   },
   {
    "duration": 677,
    "start_time": "2023-08-10T13:03:59.442Z"
   },
   {
    "duration": 8,
    "start_time": "2023-08-10T13:04:00.121Z"
   },
   {
    "duration": 18996,
    "start_time": "2023-08-10T13:04:00.130Z"
   },
   {
    "duration": 11,
    "start_time": "2023-08-10T13:04:19.129Z"
   },
   {
    "duration": 1236,
    "start_time": "2023-08-10T13:04:19.141Z"
   },
   {
    "duration": 56,
    "start_time": "2023-08-10T13:04:20.385Z"
   },
   {
    "duration": 64,
    "start_time": "2023-08-10T13:04:20.449Z"
   },
   {
    "duration": 37,
    "start_time": "2023-08-10T13:04:20.520Z"
   },
   {
    "duration": 50,
    "start_time": "2023-08-10T13:04:20.559Z"
   },
   {
    "duration": 24,
    "start_time": "2023-08-10T13:04:20.611Z"
   },
   {
    "duration": 13,
    "start_time": "2023-08-10T13:04:20.639Z"
   },
   {
    "duration": 3293,
    "start_time": "2023-08-10T13:04:20.656Z"
   },
   {
    "duration": 14,
    "start_time": "2023-08-10T13:05:52.134Z"
   },
   {
    "duration": 2671,
    "start_time": "2023-08-10T13:06:15.198Z"
   },
   {
    "duration": 1671,
    "start_time": "2023-08-10T13:06:17.871Z"
   },
   {
    "duration": 73,
    "start_time": "2023-08-10T13:06:19.544Z"
   },
   {
    "duration": 5,
    "start_time": "2023-08-10T13:06:19.619Z"
   },
   {
    "duration": 61,
    "start_time": "2023-08-10T13:06:19.626Z"
   },
   {
    "duration": 23,
    "start_time": "2023-08-10T13:06:19.689Z"
   },
   {
    "duration": 18,
    "start_time": "2023-08-10T13:06:19.714Z"
   },
   {
    "duration": 5,
    "start_time": "2023-08-10T13:06:19.734Z"
   },
   {
    "duration": 67,
    "start_time": "2023-08-10T13:06:19.741Z"
   },
   {
    "duration": 6,
    "start_time": "2023-08-10T13:06:19.810Z"
   },
   {
    "duration": 74,
    "start_time": "2023-08-10T13:06:19.818Z"
   },
   {
    "duration": 21,
    "start_time": "2023-08-10T13:06:19.894Z"
   },
   {
    "duration": 6,
    "start_time": "2023-08-10T13:06:19.917Z"
   },
   {
    "duration": 25,
    "start_time": "2023-08-10T13:06:19.925Z"
   },
   {
    "duration": 45,
    "start_time": "2023-08-10T13:06:19.952Z"
   },
   {
    "duration": 2008,
    "start_time": "2023-08-10T13:06:20.000Z"
   },
   {
    "duration": 58,
    "start_time": "2023-08-10T13:06:22.014Z"
   },
   {
    "duration": 23,
    "start_time": "2023-08-10T13:06:22.074Z"
   },
   {
    "duration": 32,
    "start_time": "2023-08-10T13:06:22.099Z"
   },
   {
    "duration": 5,
    "start_time": "2023-08-10T13:06:22.133Z"
   },
   {
    "duration": 7,
    "start_time": "2023-08-10T13:06:22.140Z"
   },
   {
    "duration": 3170,
    "start_time": "2023-08-10T13:06:22.148Z"
   },
   {
    "duration": 329,
    "start_time": "2023-08-10T13:06:25.321Z"
   },
   {
    "duration": 976,
    "start_time": "2023-08-10T13:06:25.652Z"
   },
   {
    "duration": 2828,
    "start_time": "2023-08-10T13:06:26.630Z"
   },
   {
    "duration": 36,
    "start_time": "2023-08-10T13:06:29.460Z"
   },
   {
    "duration": 16,
    "start_time": "2023-08-10T13:06:29.505Z"
   },
   {
    "duration": 1216,
    "start_time": "2023-08-10T13:06:29.523Z"
   },
   {
    "duration": 19272,
    "start_time": "2023-08-10T13:06:30.740Z"
   },
   {
    "duration": 621,
    "start_time": "2023-08-10T13:06:50.016Z"
   },
   {
    "duration": 5,
    "start_time": "2023-08-10T13:06:50.639Z"
   },
   {
    "duration": 24,
    "start_time": "2023-08-10T13:06:50.646Z"
   },
   {
    "duration": 48,
    "start_time": "2023-08-10T13:06:50.672Z"
   },
   {
    "duration": 41,
    "start_time": "2023-08-10T13:06:50.723Z"
   },
   {
    "duration": 756,
    "start_time": "2023-08-10T13:06:50.766Z"
   },
   {
    "duration": 4,
    "start_time": "2023-08-10T13:06:51.524Z"
   },
   {
    "duration": 16,
    "start_time": "2023-08-10T13:06:51.529Z"
   },
   {
    "duration": 5,
    "start_time": "2023-08-10T13:06:51.547Z"
   },
   {
    "duration": 45,
    "start_time": "2023-08-10T13:06:51.554Z"
   },
   {
    "duration": 6,
    "start_time": "2023-08-10T13:06:51.603Z"
   },
   {
    "duration": 552,
    "start_time": "2023-08-10T13:06:51.614Z"
   },
   {
    "duration": 21,
    "start_time": "2023-08-10T13:06:52.168Z"
   },
   {
    "duration": 22,
    "start_time": "2023-08-10T13:06:52.196Z"
   },
   {
    "duration": 5,
    "start_time": "2023-08-10T13:06:52.219Z"
   },
   {
    "duration": 714,
    "start_time": "2023-08-10T13:06:52.225Z"
   },
   {
    "duration": 5,
    "start_time": "2023-08-10T13:06:52.940Z"
   },
   {
    "duration": 11,
    "start_time": "2023-08-10T13:06:52.947Z"
   },
   {
    "duration": 10,
    "start_time": "2023-08-10T13:06:52.959Z"
   },
   {
    "duration": 588,
    "start_time": "2023-08-10T13:06:52.977Z"
   },
   {
    "duration": 20,
    "start_time": "2023-08-10T13:06:53.566Z"
   },
   {
    "duration": 164,
    "start_time": "2023-08-10T13:06:53.588Z"
   },
   {
    "duration": 0,
    "start_time": "2023-08-10T13:06:53.753Z"
   },
   {
    "duration": 0,
    "start_time": "2023-08-10T13:06:53.754Z"
   },
   {
    "duration": 0,
    "start_time": "2023-08-10T13:06:53.755Z"
   },
   {
    "duration": 0,
    "start_time": "2023-08-10T13:06:53.757Z"
   },
   {
    "duration": 0,
    "start_time": "2023-08-10T13:06:53.759Z"
   },
   {
    "duration": 0,
    "start_time": "2023-08-10T13:06:53.760Z"
   },
   {
    "duration": 0,
    "start_time": "2023-08-10T13:06:53.762Z"
   },
   {
    "duration": 0,
    "start_time": "2023-08-10T13:06:53.764Z"
   },
   {
    "duration": 2690,
    "start_time": "2023-08-10T13:07:44.240Z"
   },
   {
    "duration": 1611,
    "start_time": "2023-08-10T13:07:46.932Z"
   },
   {
    "duration": 67,
    "start_time": "2023-08-10T13:07:48.544Z"
   },
   {
    "duration": 3,
    "start_time": "2023-08-10T13:07:48.614Z"
   },
   {
    "duration": 37,
    "start_time": "2023-08-10T13:07:48.618Z"
   },
   {
    "duration": 12,
    "start_time": "2023-08-10T13:07:48.657Z"
   },
   {
    "duration": 17,
    "start_time": "2023-08-10T13:07:48.670Z"
   },
   {
    "duration": 24,
    "start_time": "2023-08-10T13:07:48.689Z"
   },
   {
    "duration": 10,
    "start_time": "2023-08-10T13:07:48.717Z"
   },
   {
    "duration": 15,
    "start_time": "2023-08-10T13:07:48.729Z"
   },
   {
    "duration": 44,
    "start_time": "2023-08-10T13:07:48.746Z"
   },
   {
    "duration": 21,
    "start_time": "2023-08-10T13:07:48.791Z"
   },
   {
    "duration": 10,
    "start_time": "2023-08-10T13:07:48.813Z"
   },
   {
    "duration": 20,
    "start_time": "2023-08-10T13:07:48.825Z"
   },
   {
    "duration": 49,
    "start_time": "2023-08-10T13:07:48.847Z"
   },
   {
    "duration": 2031,
    "start_time": "2023-08-10T13:07:48.898Z"
   },
   {
    "duration": 84,
    "start_time": "2023-08-10T13:07:50.930Z"
   },
   {
    "duration": 4,
    "start_time": "2023-08-10T13:07:51.017Z"
   },
   {
    "duration": 39,
    "start_time": "2023-08-10T13:07:51.022Z"
   },
   {
    "duration": 5,
    "start_time": "2023-08-10T13:07:51.063Z"
   },
   {
    "duration": 50,
    "start_time": "2023-08-10T13:07:51.070Z"
   },
   {
    "duration": 3067,
    "start_time": "2023-08-10T13:07:51.122Z"
   },
   {
    "duration": 327,
    "start_time": "2023-08-10T13:07:54.198Z"
   },
   {
    "duration": 937,
    "start_time": "2023-08-10T13:07:54.526Z"
   },
   {
    "duration": 2884,
    "start_time": "2023-08-10T13:07:55.464Z"
   },
   {
    "duration": 13,
    "start_time": "2023-08-10T13:07:58.349Z"
   },
   {
    "duration": 26,
    "start_time": "2023-08-10T13:07:58.364Z"
   },
   {
    "duration": 1144,
    "start_time": "2023-08-10T13:07:58.399Z"
   },
   {
    "duration": 1995,
    "start_time": "2023-08-10T13:07:59.545Z"
   },
   {
    "duration": 630,
    "start_time": "2023-08-10T13:08:01.542Z"
   },
   {
    "duration": 22,
    "start_time": "2023-08-10T13:08:02.174Z"
   },
   {
    "duration": 21,
    "start_time": "2023-08-10T13:08:02.197Z"
   },
   {
    "duration": 52,
    "start_time": "2023-08-10T13:08:02.220Z"
   },
   {
    "duration": 34,
    "start_time": "2023-08-10T13:08:02.274Z"
   },
   {
    "duration": 639,
    "start_time": "2023-08-10T13:08:02.310Z"
   },
   {
    "duration": 5,
    "start_time": "2023-08-10T13:08:02.950Z"
   },
   {
    "duration": 29,
    "start_time": "2023-08-10T13:08:02.956Z"
   },
   {
    "duration": 28,
    "start_time": "2023-08-10T13:08:02.986Z"
   },
   {
    "duration": 24,
    "start_time": "2023-08-10T13:08:03.015Z"
   },
   {
    "duration": 28,
    "start_time": "2023-08-10T13:08:03.041Z"
   },
   {
    "duration": 826,
    "start_time": "2023-08-10T13:08:03.070Z"
   },
   {
    "duration": 7,
    "start_time": "2023-08-10T13:08:03.899Z"
   },
   {
    "duration": 49,
    "start_time": "2023-08-10T13:08:03.909Z"
   },
   {
    "duration": 50,
    "start_time": "2023-08-10T13:08:03.960Z"
   },
   {
    "duration": 713,
    "start_time": "2023-08-10T13:08:04.012Z"
   },
   {
    "duration": 5,
    "start_time": "2023-08-10T13:08:04.727Z"
   },
   {
    "duration": 38,
    "start_time": "2023-08-10T13:08:04.734Z"
   },
   {
    "duration": 38,
    "start_time": "2023-08-10T13:08:04.776Z"
   },
   {
    "duration": 626,
    "start_time": "2023-08-10T13:08:04.816Z"
   },
   {
    "duration": 6,
    "start_time": "2023-08-10T13:08:05.443Z"
   },
   {
    "duration": 19109,
    "start_time": "2023-08-10T13:08:05.450Z"
   },
   {
    "duration": 24,
    "start_time": "2023-08-10T13:08:24.561Z"
   },
   {
    "duration": 1390,
    "start_time": "2023-08-10T13:08:24.602Z"
   },
   {
    "duration": 20,
    "start_time": "2023-08-10T13:08:26.000Z"
   },
   {
    "duration": 22,
    "start_time": "2023-08-10T13:08:26.022Z"
   },
   {
    "duration": 25,
    "start_time": "2023-08-10T13:08:26.046Z"
   },
   {
    "duration": 35,
    "start_time": "2023-08-10T13:08:26.072Z"
   },
   {
    "duration": 17,
    "start_time": "2023-08-10T13:08:26.109Z"
   },
   {
    "duration": 6,
    "start_time": "2023-08-10T13:08:26.128Z"
   },
   {
    "duration": 692,
    "start_time": "2023-08-10T13:08:53.834Z"
   },
   {
    "duration": 649,
    "start_time": "2023-08-10T13:09:00.332Z"
   },
   {
    "duration": 591,
    "start_time": "2023-08-10T13:09:04.903Z"
   },
   {
    "duration": 583,
    "start_time": "2023-08-10T13:09:09.602Z"
   },
   {
    "duration": 166,
    "start_time": "2023-08-10T13:45:24.872Z"
   },
   {
    "duration": 43,
    "start_time": "2023-08-10T13:45:31.565Z"
   },
   {
    "duration": 24,
    "start_time": "2023-08-10T13:45:39.897Z"
   },
   {
    "duration": 43,
    "start_time": "2023-08-10T13:46:24.159Z"
   },
   {
    "duration": 42,
    "start_time": "2023-08-10T13:46:32.659Z"
   },
   {
    "duration": 898,
    "start_time": "2023-08-10T13:51:51.000Z"
   },
   {
    "duration": 1037,
    "start_time": "2023-08-10T13:51:58.318Z"
   },
   {
    "duration": 865,
    "start_time": "2023-08-10T13:52:41.657Z"
   },
   {
    "duration": 1007,
    "start_time": "2023-08-10T13:52:49.969Z"
   },
   {
    "duration": 1876,
    "start_time": "2023-08-10T13:57:08.650Z"
   },
   {
    "duration": 2000,
    "start_time": "2023-08-10T13:57:20.113Z"
   },
   {
    "duration": 308,
    "start_time": "2023-08-10T14:19:38.668Z"
   },
   {
    "duration": 1814,
    "start_time": "2023-08-10T14:19:49.968Z"
   },
   {
    "duration": 1917,
    "start_time": "2023-08-10T14:19:59.656Z"
   },
   {
    "duration": 780,
    "start_time": "2023-08-10T14:45:09.619Z"
   },
   {
    "duration": 140,
    "start_time": "2023-08-10T15:26:45.815Z"
   },
   {
    "duration": 17,
    "start_time": "2023-08-10T15:26:54.168Z"
   },
   {
    "duration": 262,
    "start_time": "2023-08-10T15:27:08.376Z"
   },
   {
    "duration": 273,
    "start_time": "2023-08-10T15:27:38.565Z"
   },
   {
    "duration": 222,
    "start_time": "2023-08-10T15:27:45.012Z"
   },
   {
    "duration": 233,
    "start_time": "2023-08-10T15:28:07.217Z"
   },
   {
    "duration": 253,
    "start_time": "2023-08-10T15:29:01.304Z"
   },
   {
    "duration": 297,
    "start_time": "2023-08-10T15:31:47.515Z"
   },
   {
    "duration": 20,
    "start_time": "2023-08-10T15:32:05.891Z"
   },
   {
    "duration": 17,
    "start_time": "2023-08-10T15:32:16.688Z"
   },
   {
    "duration": 2230,
    "start_time": "2023-08-10T15:32:49.392Z"
   },
   {
    "duration": 2424,
    "start_time": "2023-08-10T15:52:49.299Z"
   },
   {
    "duration": 1456,
    "start_time": "2023-08-10T15:52:51.725Z"
   },
   {
    "duration": 56,
    "start_time": "2023-08-10T15:52:53.188Z"
   },
   {
    "duration": 3,
    "start_time": "2023-08-10T15:52:53.246Z"
   },
   {
    "duration": 43,
    "start_time": "2023-08-10T15:52:53.251Z"
   },
   {
    "duration": 12,
    "start_time": "2023-08-10T15:52:53.296Z"
   },
   {
    "duration": 27,
    "start_time": "2023-08-10T15:52:53.310Z"
   },
   {
    "duration": 5,
    "start_time": "2023-08-10T15:52:53.339Z"
   },
   {
    "duration": 13,
    "start_time": "2023-08-10T15:52:53.345Z"
   },
   {
    "duration": 6,
    "start_time": "2023-08-10T15:52:53.361Z"
   },
   {
    "duration": 54,
    "start_time": "2023-08-10T15:52:53.369Z"
   },
   {
    "duration": 16,
    "start_time": "2023-08-10T15:52:53.425Z"
   },
   {
    "duration": 6,
    "start_time": "2023-08-10T15:52:53.443Z"
   },
   {
    "duration": 29,
    "start_time": "2023-08-10T15:52:53.450Z"
   },
   {
    "duration": 38,
    "start_time": "2023-08-10T15:52:53.481Z"
   },
   {
    "duration": 1726,
    "start_time": "2023-08-10T15:52:53.521Z"
   },
   {
    "duration": 80,
    "start_time": "2023-08-10T15:52:55.249Z"
   },
   {
    "duration": 4,
    "start_time": "2023-08-10T15:52:55.331Z"
   },
   {
    "duration": 46,
    "start_time": "2023-08-10T15:52:55.337Z"
   },
   {
    "duration": 7,
    "start_time": "2023-08-10T15:52:55.388Z"
   },
   {
    "duration": 15,
    "start_time": "2023-08-10T15:52:55.396Z"
   },
   {
    "duration": 1929,
    "start_time": "2023-08-10T15:52:55.413Z"
   },
   {
    "duration": 372,
    "start_time": "2023-08-10T15:52:57.344Z"
   },
   {
    "duration": 1827,
    "start_time": "2023-08-10T15:52:57.718Z"
   },
   {
    "duration": 2579,
    "start_time": "2023-08-10T15:52:59.547Z"
   },
   {
    "duration": 18,
    "start_time": "2023-08-10T15:53:02.128Z"
   },
   {
    "duration": 26,
    "start_time": "2023-08-10T15:53:02.148Z"
   },
   {
    "duration": 14,
    "start_time": "2023-08-10T15:53:02.185Z"
   },
   {
    "duration": 1178,
    "start_time": "2023-08-10T15:53:02.201Z"
   },
   {
    "duration": 1872,
    "start_time": "2023-08-10T15:53:03.381Z"
   },
   {
    "duration": 633,
    "start_time": "2023-08-10T15:53:05.255Z"
   },
   {
    "duration": 6,
    "start_time": "2023-08-10T15:53:05.890Z"
   },
   {
    "duration": 15,
    "start_time": "2023-08-10T15:53:05.898Z"
   },
   {
    "duration": 18,
    "start_time": "2023-08-10T15:53:05.915Z"
   },
   {
    "duration": 11,
    "start_time": "2023-08-10T15:53:05.935Z"
   },
   {
    "duration": 756,
    "start_time": "2023-08-10T15:53:05.947Z"
   },
   {
    "duration": 5,
    "start_time": "2023-08-10T15:53:06.705Z"
   },
   {
    "duration": 84,
    "start_time": "2023-08-10T15:53:06.711Z"
   },
   {
    "duration": 14,
    "start_time": "2023-08-10T15:53:06.797Z"
   },
   {
    "duration": 9,
    "start_time": "2023-08-10T15:53:06.813Z"
   },
   {
    "duration": 27,
    "start_time": "2023-08-10T15:53:06.824Z"
   },
   {
    "duration": 1010,
    "start_time": "2023-08-10T15:53:06.853Z"
   },
   {
    "duration": 11,
    "start_time": "2023-08-10T15:53:07.865Z"
   },
   {
    "duration": 16,
    "start_time": "2023-08-10T15:53:07.882Z"
   },
   {
    "duration": 13,
    "start_time": "2023-08-10T15:53:07.899Z"
   },
   {
    "duration": 743,
    "start_time": "2023-08-10T15:53:07.913Z"
   },
   {
    "duration": 7,
    "start_time": "2023-08-10T15:53:08.658Z"
   },
   {
    "duration": 12,
    "start_time": "2023-08-10T15:53:08.679Z"
   },
   {
    "duration": 10,
    "start_time": "2023-08-10T15:53:08.695Z"
   },
   {
    "duration": 606,
    "start_time": "2023-08-10T15:53:08.707Z"
   },
   {
    "duration": 6,
    "start_time": "2023-08-10T15:53:09.315Z"
   },
   {
    "duration": 18172,
    "start_time": "2023-08-10T15:53:09.322Z"
   },
   {
    "duration": 10,
    "start_time": "2023-08-10T15:53:27.497Z"
   },
   {
    "duration": 1368,
    "start_time": "2023-08-10T15:53:27.509Z"
   },
   {
    "duration": 16,
    "start_time": "2023-08-10T15:53:28.879Z"
   },
   {
    "duration": 22,
    "start_time": "2023-08-10T15:53:28.897Z"
   },
   {
    "duration": 15,
    "start_time": "2023-08-10T15:53:28.921Z"
   },
   {
    "duration": 50,
    "start_time": "2023-08-10T15:53:28.937Z"
   },
   {
    "duration": 18,
    "start_time": "2023-08-10T15:53:28.989Z"
   },
   {
    "duration": 278,
    "start_time": "2023-08-10T15:53:29.009Z"
   },
   {
    "duration": 7,
    "start_time": "2023-08-10T15:53:29.294Z"
   },
   {
    "duration": 2298,
    "start_time": "2023-08-10T15:54:18.062Z"
   },
   {
    "duration": 1509,
    "start_time": "2023-08-10T15:54:20.363Z"
   },
   {
    "duration": 72,
    "start_time": "2023-08-10T15:54:21.877Z"
   },
   {
    "duration": 2,
    "start_time": "2023-08-10T15:54:21.951Z"
   },
   {
    "duration": 27,
    "start_time": "2023-08-10T15:54:21.955Z"
   },
   {
    "duration": 17,
    "start_time": "2023-08-10T15:54:21.984Z"
   },
   {
    "duration": 14,
    "start_time": "2023-08-10T15:54:22.002Z"
   },
   {
    "duration": 6,
    "start_time": "2023-08-10T15:54:22.018Z"
   },
   {
    "duration": 17,
    "start_time": "2023-08-10T15:54:22.025Z"
   },
   {
    "duration": 34,
    "start_time": "2023-08-10T15:54:22.043Z"
   },
   {
    "duration": 43,
    "start_time": "2023-08-10T15:54:22.083Z"
   },
   {
    "duration": 12,
    "start_time": "2023-08-10T15:54:22.128Z"
   },
   {
    "duration": 6,
    "start_time": "2023-08-10T15:54:22.141Z"
   },
   {
    "duration": 49,
    "start_time": "2023-08-10T15:54:22.151Z"
   },
   {
    "duration": 29,
    "start_time": "2023-08-10T15:54:22.202Z"
   },
   {
    "duration": 1815,
    "start_time": "2023-08-10T15:54:22.233Z"
   },
   {
    "duration": 102,
    "start_time": "2023-08-10T15:54:24.050Z"
   },
   {
    "duration": 5,
    "start_time": "2023-08-10T15:54:24.154Z"
   },
   {
    "duration": 40,
    "start_time": "2023-08-10T15:54:24.161Z"
   },
   {
    "duration": 6,
    "start_time": "2023-08-10T15:54:24.203Z"
   },
   {
    "duration": 7,
    "start_time": "2023-08-10T15:54:24.210Z"
   },
   {
    "duration": 1839,
    "start_time": "2023-08-10T15:54:24.219Z"
   },
   {
    "duration": 347,
    "start_time": "2023-08-10T15:54:26.059Z"
   },
   {
    "duration": 1860,
    "start_time": "2023-08-10T15:54:26.407Z"
   },
   {
    "duration": 2596,
    "start_time": "2023-08-10T15:54:28.268Z"
   },
   {
    "duration": 32,
    "start_time": "2023-08-10T15:54:30.865Z"
   },
   {
    "duration": 19,
    "start_time": "2023-08-10T15:54:30.899Z"
   },
   {
    "duration": 29,
    "start_time": "2023-08-10T15:54:30.920Z"
   },
   {
    "duration": 1080,
    "start_time": "2023-08-10T15:54:30.951Z"
   },
   {
    "duration": 2037,
    "start_time": "2023-08-10T15:54:32.034Z"
   },
   {
    "duration": 626,
    "start_time": "2023-08-10T15:54:34.073Z"
   },
   {
    "duration": 6,
    "start_time": "2023-08-10T15:54:34.701Z"
   },
   {
    "duration": 27,
    "start_time": "2023-08-10T15:54:34.708Z"
   },
   {
    "duration": 29,
    "start_time": "2023-08-10T15:54:34.737Z"
   },
   {
    "duration": 25,
    "start_time": "2023-08-10T15:54:34.768Z"
   },
   {
    "duration": 734,
    "start_time": "2023-08-10T15:54:34.795Z"
   },
   {
    "duration": 4,
    "start_time": "2023-08-10T15:54:35.533Z"
   },
   {
    "duration": 20,
    "start_time": "2023-08-10T15:54:35.539Z"
   },
   {
    "duration": 12,
    "start_time": "2023-08-10T15:54:35.561Z"
   },
   {
    "duration": 6,
    "start_time": "2023-08-10T15:54:35.576Z"
   },
   {
    "duration": 29,
    "start_time": "2023-08-10T15:54:35.589Z"
   },
   {
    "duration": 922,
    "start_time": "2023-08-10T15:54:35.620Z"
   },
   {
    "duration": 5,
    "start_time": "2023-08-10T15:54:36.544Z"
   },
   {
    "duration": 10,
    "start_time": "2023-08-10T15:54:36.551Z"
   },
   {
    "duration": 19,
    "start_time": "2023-08-10T15:54:36.563Z"
   },
   {
    "duration": 609,
    "start_time": "2023-08-10T15:54:36.584Z"
   },
   {
    "duration": 6,
    "start_time": "2023-08-10T15:54:37.195Z"
   },
   {
    "duration": 12,
    "start_time": "2023-08-10T15:54:37.203Z"
   },
   {
    "duration": 16,
    "start_time": "2023-08-10T15:54:37.217Z"
   },
   {
    "duration": 546,
    "start_time": "2023-08-10T15:54:37.235Z"
   },
   {
    "duration": 8,
    "start_time": "2023-08-10T15:54:37.790Z"
   },
   {
    "duration": 19162,
    "start_time": "2023-08-10T15:54:37.800Z"
   },
   {
    "duration": 20,
    "start_time": "2023-08-10T15:54:56.964Z"
   },
   {
    "duration": 1403,
    "start_time": "2023-08-10T15:54:56.986Z"
   },
   {
    "duration": 95,
    "start_time": "2023-08-10T15:54:58.392Z"
   },
   {
    "duration": 24,
    "start_time": "2023-08-10T15:54:58.498Z"
   },
   {
    "duration": 13,
    "start_time": "2023-08-10T15:54:58.524Z"
   },
   {
    "duration": 15,
    "start_time": "2023-08-10T15:54:58.539Z"
   },
   {
    "duration": 15,
    "start_time": "2023-08-10T15:54:58.578Z"
   },
   {
    "duration": 269,
    "start_time": "2023-08-10T15:54:58.595Z"
   },
   {
    "duration": 10,
    "start_time": "2023-08-10T15:54:58.875Z"
   },
   {
    "duration": 49,
    "start_time": "2023-08-11T12:09:17.789Z"
   },
   {
    "duration": 3081,
    "start_time": "2023-08-11T12:09:25.179Z"
   },
   {
    "duration": 1767,
    "start_time": "2023-08-11T12:09:28.264Z"
   },
   {
    "duration": 100,
    "start_time": "2023-08-11T12:09:30.032Z"
   },
   {
    "duration": 4,
    "start_time": "2023-08-11T12:09:30.135Z"
   },
   {
    "duration": 48,
    "start_time": "2023-08-11T12:09:30.141Z"
   },
   {
    "duration": 20,
    "start_time": "2023-08-11T12:09:30.192Z"
   },
   {
    "duration": 35,
    "start_time": "2023-08-11T12:09:30.214Z"
   },
   {
    "duration": 18,
    "start_time": "2023-08-11T12:09:30.251Z"
   },
   {
    "duration": 40,
    "start_time": "2023-08-11T12:09:30.271Z"
   },
   {
    "duration": 30,
    "start_time": "2023-08-11T12:09:30.314Z"
   },
   {
    "duration": 67,
    "start_time": "2023-08-11T12:09:30.345Z"
   },
   {
    "duration": 43,
    "start_time": "2023-08-11T12:09:30.414Z"
   },
   {
    "duration": 33,
    "start_time": "2023-08-11T12:09:30.459Z"
   },
   {
    "duration": 53,
    "start_time": "2023-08-11T12:09:30.494Z"
   },
   {
    "duration": 58,
    "start_time": "2023-08-11T12:09:30.549Z"
   },
   {
    "duration": 1777,
    "start_time": "2023-08-11T12:09:30.609Z"
   },
   {
    "duration": 76,
    "start_time": "2023-08-11T12:09:32.388Z"
   },
   {
    "duration": 5,
    "start_time": "2023-08-11T12:09:32.466Z"
   },
   {
    "duration": 46,
    "start_time": "2023-08-11T12:09:32.473Z"
   },
   {
    "duration": 5,
    "start_time": "2023-08-11T12:09:32.521Z"
   },
   {
    "duration": 26,
    "start_time": "2023-08-11T12:09:32.528Z"
   },
   {
    "duration": 1873,
    "start_time": "2023-08-11T12:09:32.556Z"
   },
   {
    "duration": 350,
    "start_time": "2023-08-11T12:09:34.431Z"
   },
   {
    "duration": 1819,
    "start_time": "2023-08-11T12:09:34.783Z"
   },
   {
    "duration": 2562,
    "start_time": "2023-08-11T12:09:36.603Z"
   },
   {
    "duration": 14,
    "start_time": "2023-08-11T12:09:39.166Z"
   },
   {
    "duration": 63,
    "start_time": "2023-08-11T12:09:39.181Z"
   },
   {
    "duration": 6,
    "start_time": "2023-08-11T12:09:39.249Z"
   },
   {
    "duration": 1000,
    "start_time": "2023-08-11T12:09:39.257Z"
   },
   {
    "duration": 1801,
    "start_time": "2023-08-11T12:09:40.259Z"
   },
   {
    "duration": 22,
    "start_time": "2023-08-11T12:09:42.062Z"
   },
   {
    "duration": 581,
    "start_time": "2023-08-11T12:09:42.086Z"
   },
   {
    "duration": 5,
    "start_time": "2023-08-11T12:09:42.670Z"
   },
   {
    "duration": 6,
    "start_time": "2023-08-11T12:09:42.677Z"
   },
   {
    "duration": 16,
    "start_time": "2023-08-11T12:09:42.685Z"
   },
   {
    "duration": 19,
    "start_time": "2023-08-11T12:09:42.703Z"
   },
   {
    "duration": 659,
    "start_time": "2023-08-11T12:09:42.723Z"
   },
   {
    "duration": 4,
    "start_time": "2023-08-11T12:09:43.384Z"
   },
   {
    "duration": 14,
    "start_time": "2023-08-11T12:09:43.390Z"
   },
   {
    "duration": 6,
    "start_time": "2023-08-11T12:09:43.405Z"
   },
   {
    "duration": 6,
    "start_time": "2023-08-11T12:09:43.413Z"
   },
   {
    "duration": 5,
    "start_time": "2023-08-11T12:09:43.420Z"
   },
   {
    "duration": 903,
    "start_time": "2023-08-11T12:09:43.426Z"
   },
   {
    "duration": 6,
    "start_time": "2023-08-11T12:09:44.330Z"
   },
   {
    "duration": 20,
    "start_time": "2023-08-11T12:09:44.337Z"
   },
   {
    "duration": 5,
    "start_time": "2023-08-11T12:09:44.358Z"
   },
   {
    "duration": 605,
    "start_time": "2023-08-11T12:09:44.365Z"
   },
   {
    "duration": 5,
    "start_time": "2023-08-11T12:09:44.972Z"
   },
   {
    "duration": 7,
    "start_time": "2023-08-11T12:09:44.979Z"
   },
   {
    "duration": 6,
    "start_time": "2023-08-11T12:09:44.987Z"
   },
   {
    "duration": 546,
    "start_time": "2023-08-11T12:09:44.994Z"
   },
   {
    "duration": 6,
    "start_time": "2023-08-11T12:09:45.557Z"
   },
   {
    "duration": 19862,
    "start_time": "2023-08-11T12:09:45.564Z"
   },
   {
    "duration": 11,
    "start_time": "2023-08-11T12:10:05.428Z"
   },
   {
    "duration": 1428,
    "start_time": "2023-08-11T12:10:05.441Z"
   },
   {
    "duration": 17,
    "start_time": "2023-08-11T12:10:06.958Z"
   },
   {
    "duration": 23,
    "start_time": "2023-08-11T12:10:06.977Z"
   },
   {
    "duration": 13,
    "start_time": "2023-08-11T12:10:07.002Z"
   },
   {
    "duration": 43,
    "start_time": "2023-08-11T12:10:07.016Z"
   },
   {
    "duration": 34,
    "start_time": "2023-08-11T12:10:07.061Z"
   },
   {
    "duration": 325,
    "start_time": "2023-08-11T12:10:07.097Z"
   },
   {
    "duration": 7,
    "start_time": "2023-08-11T12:10:07.425Z"
   },
   {
    "duration": 7,
    "start_time": "2023-08-11T12:10:09.541Z"
   },
   {
    "duration": 1060,
    "start_time": "2023-08-11T12:10:17.655Z"
   },
   {
    "duration": 889,
    "start_time": "2023-08-11T12:10:34.503Z"
   },
   {
    "duration": 2239,
    "start_time": "2023-08-11T12:10:41.754Z"
   },
   {
    "duration": 26,
    "start_time": "2023-08-11T12:10:51.448Z"
   },
   {
    "duration": 6,
    "start_time": "2023-08-11T12:10:57.052Z"
   },
   {
    "duration": 7,
    "start_time": "2023-08-11T12:12:48.900Z"
   },
   {
    "duration": 18,
    "start_time": "2023-08-11T12:14:14.527Z"
   },
   {
    "duration": 468,
    "start_time": "2023-08-11T12:14:23.835Z"
   },
   {
    "duration": 155,
    "start_time": "2023-08-11T12:25:47.431Z"
   },
   {
    "duration": 4,
    "start_time": "2023-08-11T12:25:58.778Z"
   },
   {
    "duration": 24,
    "start_time": "2023-08-11T12:26:03.541Z"
   },
   {
    "duration": 93,
    "start_time": "2023-08-11T12:26:09.330Z"
   },
   {
    "duration": 106,
    "start_time": "2023-08-11T12:26:14.093Z"
   },
   {
    "duration": 6,
    "start_time": "2023-08-11T12:26:19.038Z"
   },
   {
    "duration": 31,
    "start_time": "2023-08-11T12:26:27.132Z"
   },
   {
    "duration": 2194,
    "start_time": "2023-08-11T12:26:50.745Z"
   },
   {
    "duration": 1615,
    "start_time": "2023-08-11T12:26:52.942Z"
   },
   {
    "duration": 64,
    "start_time": "2023-08-11T12:26:54.559Z"
   },
   {
    "duration": 3,
    "start_time": "2023-08-11T12:26:54.627Z"
   },
   {
    "duration": 46,
    "start_time": "2023-08-11T12:26:54.633Z"
   },
   {
    "duration": 14,
    "start_time": "2023-08-11T12:26:54.681Z"
   },
   {
    "duration": 23,
    "start_time": "2023-08-11T12:26:54.698Z"
   },
   {
    "duration": 10,
    "start_time": "2023-08-11T12:26:54.723Z"
   },
   {
    "duration": 28,
    "start_time": "2023-08-11T12:26:54.735Z"
   },
   {
    "duration": 7,
    "start_time": "2023-08-11T12:26:54.765Z"
   },
   {
    "duration": 38,
    "start_time": "2023-08-11T12:26:54.774Z"
   },
   {
    "duration": 13,
    "start_time": "2023-08-11T12:26:54.813Z"
   },
   {
    "duration": 36,
    "start_time": "2023-08-11T12:26:54.827Z"
   },
   {
    "duration": 31,
    "start_time": "2023-08-11T12:26:54.867Z"
   },
   {
    "duration": 46,
    "start_time": "2023-08-11T12:26:54.900Z"
   },
   {
    "duration": 1854,
    "start_time": "2023-08-11T12:26:54.948Z"
   },
   {
    "duration": 73,
    "start_time": "2023-08-11T12:26:56.804Z"
   },
   {
    "duration": 5,
    "start_time": "2023-08-11T12:26:56.879Z"
   },
   {
    "duration": 30,
    "start_time": "2023-08-11T12:26:56.886Z"
   },
   {
    "duration": 5,
    "start_time": "2023-08-11T12:26:56.918Z"
   },
   {
    "duration": 9,
    "start_time": "2023-08-11T12:26:56.925Z"
   },
   {
    "duration": 2059,
    "start_time": "2023-08-11T12:26:56.957Z"
   },
   {
    "duration": 412,
    "start_time": "2023-08-11T12:26:59.019Z"
   },
   {
    "duration": 1943,
    "start_time": "2023-08-11T12:26:59.433Z"
   },
   {
    "duration": 2664,
    "start_time": "2023-08-11T12:27:01.378Z"
   },
   {
    "duration": 21,
    "start_time": "2023-08-11T12:27:04.044Z"
   },
   {
    "duration": 17,
    "start_time": "2023-08-11T12:27:04.067Z"
   },
   {
    "duration": 20,
    "start_time": "2023-08-11T12:27:04.087Z"
   },
   {
    "duration": 1943,
    "start_time": "2023-08-11T12:27:04.110Z"
   },
   {
    "duration": 414,
    "start_time": "2023-08-11T12:27:06.055Z"
   },
   {
    "duration": 592,
    "start_time": "2023-08-11T12:27:06.471Z"
   },
   {
    "duration": 6,
    "start_time": "2023-08-11T12:27:07.066Z"
   },
   {
    "duration": 6,
    "start_time": "2023-08-11T12:27:07.074Z"
   },
   {
    "duration": 7,
    "start_time": "2023-08-11T12:27:07.082Z"
   },
   {
    "duration": 10,
    "start_time": "2023-08-11T12:27:07.090Z"
   },
   {
    "duration": 712,
    "start_time": "2023-08-11T12:27:07.101Z"
   },
   {
    "duration": 5,
    "start_time": "2023-08-11T12:27:07.816Z"
   },
   {
    "duration": 25,
    "start_time": "2023-08-11T12:27:07.823Z"
   },
   {
    "duration": 11,
    "start_time": "2023-08-11T12:27:07.850Z"
   },
   {
    "duration": 7,
    "start_time": "2023-08-11T12:27:07.863Z"
   },
   {
    "duration": 5,
    "start_time": "2023-08-11T12:27:07.875Z"
   },
   {
    "duration": 962,
    "start_time": "2023-08-11T12:27:07.882Z"
   },
   {
    "duration": 13,
    "start_time": "2023-08-11T12:27:08.847Z"
   },
   {
    "duration": 7,
    "start_time": "2023-08-11T12:27:08.862Z"
   },
   {
    "duration": 8,
    "start_time": "2023-08-11T12:27:08.871Z"
   },
   {
    "duration": 735,
    "start_time": "2023-08-11T12:27:08.881Z"
   },
   {
    "duration": 7,
    "start_time": "2023-08-11T12:27:09.619Z"
   },
   {
    "duration": 11,
    "start_time": "2023-08-11T12:27:09.628Z"
   },
   {
    "duration": 18,
    "start_time": "2023-08-11T12:27:09.640Z"
   },
   {
    "duration": 598,
    "start_time": "2023-08-11T12:27:09.660Z"
   },
   {
    "duration": 5,
    "start_time": "2023-08-11T12:27:10.260Z"
   },
   {
    "duration": 21266,
    "start_time": "2023-08-11T12:27:10.267Z"
   },
   {
    "duration": 10,
    "start_time": "2023-08-11T12:27:31.535Z"
   },
   {
    "duration": 1416,
    "start_time": "2023-08-11T12:27:31.548Z"
   },
   {
    "duration": 103,
    "start_time": "2023-08-11T12:27:32.965Z"
   },
   {
    "duration": 72,
    "start_time": "2023-08-11T12:27:33.070Z"
   },
   {
    "duration": 20,
    "start_time": "2023-08-11T12:27:33.145Z"
   },
   {
    "duration": 18,
    "start_time": "2023-08-11T12:27:33.167Z"
   },
   {
    "duration": 22,
    "start_time": "2023-08-11T12:27:33.187Z"
   },
   {
    "duration": 39,
    "start_time": "2023-08-11T12:27:33.212Z"
   },
   {
    "duration": 283,
    "start_time": "2023-08-11T12:27:33.253Z"
   },
   {
    "duration": 7,
    "start_time": "2023-08-11T12:27:33.537Z"
   },
   {
    "duration": 32,
    "start_time": "2023-08-11T12:28:25.324Z"
   },
   {
    "duration": 2153,
    "start_time": "2023-08-11T12:28:55.180Z"
   },
   {
    "duration": 1589,
    "start_time": "2023-08-11T12:28:57.336Z"
   },
   {
    "duration": 64,
    "start_time": "2023-08-11T12:28:58.928Z"
   },
   {
    "duration": 4,
    "start_time": "2023-08-11T12:28:58.994Z"
   },
   {
    "duration": 32,
    "start_time": "2023-08-11T12:28:59.001Z"
   },
   {
    "duration": 38,
    "start_time": "2023-08-11T12:28:59.035Z"
   },
   {
    "duration": 22,
    "start_time": "2023-08-11T12:28:59.075Z"
   },
   {
    "duration": 7,
    "start_time": "2023-08-11T12:28:59.099Z"
   },
   {
    "duration": 13,
    "start_time": "2023-08-11T12:28:59.108Z"
   },
   {
    "duration": 7,
    "start_time": "2023-08-11T12:28:59.155Z"
   },
   {
    "duration": 41,
    "start_time": "2023-08-11T12:28:59.164Z"
   },
   {
    "duration": 13,
    "start_time": "2023-08-11T12:28:59.206Z"
   },
   {
    "duration": 6,
    "start_time": "2023-08-11T12:28:59.221Z"
   },
   {
    "duration": 21,
    "start_time": "2023-08-11T12:28:59.256Z"
   },
   {
    "duration": 38,
    "start_time": "2023-08-11T12:28:59.278Z"
   },
   {
    "duration": 1746,
    "start_time": "2023-08-11T12:28:59.318Z"
   },
   {
    "duration": 61,
    "start_time": "2023-08-11T12:29:01.065Z"
   },
   {
    "duration": 3,
    "start_time": "2023-08-11T12:29:01.128Z"
   },
   {
    "duration": 34,
    "start_time": "2023-08-11T12:29:01.157Z"
   },
   {
    "duration": 8,
    "start_time": "2023-08-11T12:29:01.193Z"
   },
   {
    "duration": 35,
    "start_time": "2023-08-11T12:29:01.203Z"
   },
   {
    "duration": 2033,
    "start_time": "2023-08-11T12:29:01.240Z"
   },
   {
    "duration": 355,
    "start_time": "2023-08-11T12:29:03.274Z"
   },
   {
    "duration": 1961,
    "start_time": "2023-08-11T12:29:03.631Z"
   },
   {
    "duration": 2438,
    "start_time": "2023-08-11T12:29:05.594Z"
   },
   {
    "duration": 13,
    "start_time": "2023-08-11T12:29:08.034Z"
   },
   {
    "duration": 15,
    "start_time": "2023-08-11T12:29:08.048Z"
   },
   {
    "duration": 1936,
    "start_time": "2023-08-11T12:29:08.065Z"
   },
   {
    "duration": 460,
    "start_time": "2023-08-11T12:29:10.004Z"
   },
   {
    "duration": 598,
    "start_time": "2023-08-11T12:29:10.466Z"
   },
   {
    "duration": 6,
    "start_time": "2023-08-11T12:29:11.065Z"
   },
   {
    "duration": 6,
    "start_time": "2023-08-11T12:29:11.073Z"
   },
   {
    "duration": 11,
    "start_time": "2023-08-11T12:29:11.081Z"
   },
   {
    "duration": 8,
    "start_time": "2023-08-11T12:29:11.093Z"
   },
   {
    "duration": 696,
    "start_time": "2023-08-11T12:29:11.103Z"
   },
   {
    "duration": 5,
    "start_time": "2023-08-11T12:29:11.801Z"
   },
   {
    "duration": 16,
    "start_time": "2023-08-11T12:29:11.809Z"
   },
   {
    "duration": 7,
    "start_time": "2023-08-11T12:29:11.828Z"
   },
   {
    "duration": 19,
    "start_time": "2023-08-11T12:29:11.837Z"
   },
   {
    "duration": 5,
    "start_time": "2023-08-11T12:29:11.858Z"
   },
   {
    "duration": 890,
    "start_time": "2023-08-11T12:29:11.867Z"
   },
   {
    "duration": 7,
    "start_time": "2023-08-11T12:29:12.770Z"
   },
   {
    "duration": 17,
    "start_time": "2023-08-11T12:29:12.779Z"
   },
   {
    "duration": 6,
    "start_time": "2023-08-11T12:29:12.799Z"
   },
   {
    "duration": 689,
    "start_time": "2023-08-11T12:29:12.807Z"
   },
   {
    "duration": 6,
    "start_time": "2023-08-11T12:29:13.498Z"
   },
   {
    "duration": 6,
    "start_time": "2023-08-11T12:29:13.505Z"
   },
   {
    "duration": 5,
    "start_time": "2023-08-11T12:29:13.513Z"
   },
   {
    "duration": 606,
    "start_time": "2023-08-11T12:29:13.519Z"
   },
   {
    "duration": 6,
    "start_time": "2023-08-11T12:29:14.128Z"
   },
   {
    "duration": 21287,
    "start_time": "2023-08-11T12:29:14.136Z"
   },
   {
    "duration": 12,
    "start_time": "2023-08-11T12:29:35.426Z"
   },
   {
    "duration": 1617,
    "start_time": "2023-08-11T12:29:35.440Z"
   },
   {
    "duration": 14,
    "start_time": "2023-08-11T12:29:37.059Z"
   },
   {
    "duration": 50,
    "start_time": "2023-08-11T12:29:37.075Z"
   },
   {
    "duration": 33,
    "start_time": "2023-08-11T12:29:37.127Z"
   },
   {
    "duration": 14,
    "start_time": "2023-08-11T12:29:37.163Z"
   },
   {
    "duration": 16,
    "start_time": "2023-08-11T12:29:37.179Z"
   },
   {
    "duration": 16,
    "start_time": "2023-08-11T12:29:37.197Z"
   },
   {
    "duration": 314,
    "start_time": "2023-08-11T12:29:37.215Z"
   },
   {
    "duration": 7,
    "start_time": "2023-08-11T12:29:37.531Z"
   },
   {
    "duration": 22,
    "start_time": "2023-08-11T12:30:57.248Z"
   },
   {
    "duration": 16,
    "start_time": "2023-08-11T12:32:53.619Z"
   },
   {
    "duration": 18,
    "start_time": "2023-08-11T12:46:48.664Z"
   }
  ],
  "kernelspec": {
   "display_name": "Python 3 (ipykernel)",
   "language": "python",
   "name": "python3"
  },
  "language_info": {
   "codemirror_mode": {
    "name": "ipython",
    "version": 3
   },
   "file_extension": ".py",
   "mimetype": "text/x-python",
   "name": "python",
   "nbconvert_exporter": "python",
   "pygments_lexer": "ipython3",
   "version": "3.9.12"
  },
  "toc": {
   "base_numbering": 1,
   "nav_menu": {},
   "number_sections": true,
   "sideBar": true,
   "skip_h1_title": true,
   "title_cell": "Table of Contents",
   "title_sidebar": "Contents",
   "toc_cell": false,
   "toc_position": {},
   "toc_section_display": true,
   "toc_window_display": false
  }
 },
 "nbformat": 4,
 "nbformat_minor": 2
}
